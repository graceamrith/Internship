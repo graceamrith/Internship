{
 "cells": [
  {
   "cell_type": "code",
   "execution_count": 1,
   "id": "dd1a87eb",
   "metadata": {},
   "outputs": [],
   "source": [
    "import pandas as pd\n",
    "import requests\n",
    "from bs4 import BeautifulSoup\n",
    "\n",
    "\n"
   ]
  },
  {
   "cell_type": "code",
   "execution_count": 85,
   "id": "02d1b14a",
   "metadata": {},
   "outputs": [],
   "source": [
    "url='https://www.icc-cricket.com/rankings/mens/player-rankings/odi'\n",
    "response=requests.get(url)\n",
    "soup=BeautifulSoup(response.content, 'html.parser')"
   ]
  },
  {
   "cell_type": "code",
   "execution_count": 104,
   "id": "3cf61540",
   "metadata": {},
   "outputs": [
    {
     "data": {
      "text/plain": [
       "'Babar Azam'"
      ]
     },
     "execution_count": 104,
     "metadata": {},
     "output_type": "execute_result"
    }
   ],
   "source": [
    "names=[]\n",
    "first_name=[]\n",
    "first_name_1=soup.find('div', class_=\"rankings-block__banner--name\").text\n",
    "\n",
    "first_name_1"
   ]
  },
  {
   "cell_type": "code",
   "execution_count": 140,
   "id": "b8e681fa",
   "metadata": {},
   "outputs": [],
   "source": [
    "names=[]\n",
    "team=soup.find_all('td', class_=\"table-body__cell name\")\n",
    "for x in range(0,9):\n",
    "    names.append(team[x].get_text().replace(\"\\n\",\"\"))\n",
    "names.insert(0,first_name_1)                                 \n",
    "    \n",
    "    \n",
    "   "
   ]
  },
  {
   "cell_type": "code",
   "execution_count": 141,
   "id": "ff3fd1e2",
   "metadata": {},
   "outputs": [
    {
     "data": {
      "text/plain": [
       "['Babar Azam',\n",
       " 'Virat Kohli',\n",
       " 'Rohit Sharma',\n",
       " 'Ross Taylor',\n",
       " 'Aaron Finch',\n",
       " 'Jonny Bairstow',\n",
       " 'David Warner',\n",
       " 'Shai Hope',\n",
       " 'Kane Williamson',\n",
       " 'Quinton de Kock']"
      ]
     },
     "execution_count": 141,
     "metadata": {},
     "output_type": "execute_result"
    }
   ],
   "source": [
    "names"
   ]
  },
  {
   "cell_type": "code",
   "execution_count": 82,
   "id": "da960df6",
   "metadata": {},
   "outputs": [],
   "source": []
  },
  {
   "cell_type": "code",
   "execution_count": null,
   "id": "3dd2ce98",
   "metadata": {},
   "outputs": [],
   "source": []
  },
  {
   "cell_type": "code",
   "execution_count": 146,
   "id": "6cda281d",
   "metadata": {},
   "outputs": [],
   "source": [
    "first_team=soup.find('div', class_=\"rankings-block__banner--nationality\").text\n",
    "Team=[]  \n",
    "\n",
    "team_name=soup.find_all('span', class_=\"table-body__logo-text\")\n",
    "for x in range(0,9):\n",
    "    Team.append(team_name[x].get_text().replace(\"\\n\",\"\"))\n",
    "Team.insert(0,first_team)\n",
    "    \n",
    "    \n",
    "                                 \n"
   ]
  },
  {
   "cell_type": "code",
   "execution_count": 147,
   "id": "b2434c98",
   "metadata": {},
   "outputs": [
    {
     "data": {
      "text/plain": [
       "['\\n\\nPAK\\n873\\n', 'IND', 'IND', 'NZ', 'AUS', 'ENG', 'AUS', 'WI', 'NZ', 'SA']"
      ]
     },
     "execution_count": 147,
     "metadata": {},
     "output_type": "execute_result"
    }
   ],
   "source": [
    "Team"
   ]
  },
  {
   "cell_type": "code",
   "execution_count": 148,
   "id": "9f3d77ba",
   "metadata": {},
   "outputs": [],
   "source": [
    "\n",
    "rate_one=soup.find('div', class_=\"rankings-block__banner--rating\").text\n",
    "rating=[]\n",
    "Team_rating=soup.findAll('td', class_=\"table-body__cell u-text-right rating\")\n",
    "for x in range(0,9):\n",
    "    rating.append(Team_rating[x].get_text().replace(\"\\n\",\"\"))\n",
    "rating.insert(0,rate_one)\n",
    "    \n",
    "   \n"
   ]
  },
  {
   "cell_type": "code",
   "execution_count": 118,
   "id": "55366c33",
   "metadata": {},
   "outputs": [
    {
     "data": {
      "text/plain": [
       "['873', '844', '813', '801', '779', '775', '762', '758', '754', '747']"
      ]
     },
     "execution_count": 118,
     "metadata": {},
     "output_type": "execute_result"
    }
   ],
   "source": [
    "rating"
   ]
  },
  {
   "cell_type": "code",
   "execution_count": null,
   "id": "8e22db4b",
   "metadata": {},
   "outputs": [],
   "source": []
  },
  {
   "cell_type": "code",
   "execution_count": 134,
   "id": "ccfb4a35",
   "metadata": {},
   "outputs": [],
   "source": [
    "pos_one=soup.find('div',class_='rankings-block__banner--pos').text\n",
    "rank=[]\n",
    "Team_rank=soup.findAll('td',class_='table-body__cell table-body__cell--position u-text-right')\n",
    "for x in range(0,9):\n",
    "    rank.append(Team_rank[x].get_text().replace(\"\\n\",\"\"))\n",
    "rank.insert(0,pos_one)    \n",
    "    \n"
   ]
  },
  {
   "cell_type": "code",
   "execution_count": 149,
   "id": "99e2b114",
   "metadata": {},
   "outputs": [
    {
     "data": {
      "text/plain": [
       "['\\n                        1\\n        \\n',\n",
       " '                                    2        ',\n",
       " '                                    3        ',\n",
       " '                                    4        ',\n",
       " '                                    5        ',\n",
       " '                                    6        ',\n",
       " '                                    7        ',\n",
       " '                                    8        ',\n",
       " '                                    9        ',\n",
       " '                                    10        ']"
      ]
     },
     "execution_count": 149,
     "metadata": {},
     "output_type": "execute_result"
    }
   ],
   "source": [
    "rank"
   ]
  },
  {
   "cell_type": "code",
   "execution_count": 151,
   "id": "822dbe08",
   "metadata": {},
   "outputs": [],
   "source": [
    "data = list(zip(names,Team,rating,rank))"
   ]
  },
  {
   "cell_type": "code",
   "execution_count": 152,
   "id": "9b36f3a7",
   "metadata": {},
   "outputs": [],
   "source": [
    "df = pd.DataFrame(data,columns=['names','Team','rating','rank'])"
   ]
  },
  {
   "cell_type": "code",
   "execution_count": 153,
   "id": "b3697cba",
   "metadata": {},
   "outputs": [
    {
     "data": {
      "text/html": [
       "<div>\n",
       "<style scoped>\n",
       "    .dataframe tbody tr th:only-of-type {\n",
       "        vertical-align: middle;\n",
       "    }\n",
       "\n",
       "    .dataframe tbody tr th {\n",
       "        vertical-align: top;\n",
       "    }\n",
       "\n",
       "    .dataframe thead th {\n",
       "        text-align: right;\n",
       "    }\n",
       "</style>\n",
       "<table border=\"1\" class=\"dataframe\">\n",
       "  <thead>\n",
       "    <tr style=\"text-align: right;\">\n",
       "      <th></th>\n",
       "      <th>names</th>\n",
       "      <th>Team</th>\n",
       "      <th>rating</th>\n",
       "      <th>rank</th>\n",
       "    </tr>\n",
       "  </thead>\n",
       "  <tbody>\n",
       "    <tr>\n",
       "      <th>0</th>\n",
       "      <td>Babar Azam</td>\n",
       "      <td>\\n\\nPAK\\n873\\n</td>\n",
       "      <td>873</td>\n",
       "      <td>\\n                        1\\n        \\n</td>\n",
       "    </tr>\n",
       "    <tr>\n",
       "      <th>1</th>\n",
       "      <td>Virat Kohli</td>\n",
       "      <td>IND</td>\n",
       "      <td>844</td>\n",
       "      <td>2</td>\n",
       "    </tr>\n",
       "    <tr>\n",
       "      <th>2</th>\n",
       "      <td>Rohit Sharma</td>\n",
       "      <td>IND</td>\n",
       "      <td>813</td>\n",
       "      <td>3</td>\n",
       "    </tr>\n",
       "    <tr>\n",
       "      <th>3</th>\n",
       "      <td>Ross Taylor</td>\n",
       "      <td>NZ</td>\n",
       "      <td>801</td>\n",
       "      <td>4</td>\n",
       "    </tr>\n",
       "    <tr>\n",
       "      <th>4</th>\n",
       "      <td>Aaron Finch</td>\n",
       "      <td>AUS</td>\n",
       "      <td>779</td>\n",
       "      <td>5</td>\n",
       "    </tr>\n",
       "    <tr>\n",
       "      <th>5</th>\n",
       "      <td>Jonny Bairstow</td>\n",
       "      <td>ENG</td>\n",
       "      <td>775</td>\n",
       "      <td>6</td>\n",
       "    </tr>\n",
       "    <tr>\n",
       "      <th>6</th>\n",
       "      <td>David Warner</td>\n",
       "      <td>AUS</td>\n",
       "      <td>762</td>\n",
       "      <td>7</td>\n",
       "    </tr>\n",
       "    <tr>\n",
       "      <th>7</th>\n",
       "      <td>Shai Hope</td>\n",
       "      <td>WI</td>\n",
       "      <td>758</td>\n",
       "      <td>8</td>\n",
       "    </tr>\n",
       "    <tr>\n",
       "      <th>8</th>\n",
       "      <td>Kane Williamson</td>\n",
       "      <td>NZ</td>\n",
       "      <td>754</td>\n",
       "      <td>9</td>\n",
       "    </tr>\n",
       "    <tr>\n",
       "      <th>9</th>\n",
       "      <td>Quinton de Kock</td>\n",
       "      <td>SA</td>\n",
       "      <td>747</td>\n",
       "      <td>10</td>\n",
       "    </tr>\n",
       "  </tbody>\n",
       "</table>\n",
       "</div>"
      ],
      "text/plain": [
       "             names            Team rating  \\\n",
       "0       Babar Azam  \\n\\nPAK\\n873\\n    873   \n",
       "1      Virat Kohli             IND    844   \n",
       "2     Rohit Sharma             IND    813   \n",
       "3      Ross Taylor              NZ    801   \n",
       "4      Aaron Finch             AUS    779   \n",
       "5   Jonny Bairstow             ENG    775   \n",
       "6     David Warner             AUS    762   \n",
       "7        Shai Hope              WI    758   \n",
       "8  Kane Williamson              NZ    754   \n",
       "9  Quinton de Kock              SA    747   \n",
       "\n",
       "                                             rank  \n",
       "0         \\n                        1\\n        \\n  \n",
       "1                                       2          \n",
       "2                                       3          \n",
       "3                                       4          \n",
       "4                                       5          \n",
       "5                                       6          \n",
       "6                                       7          \n",
       "7                                       8          \n",
       "8                                       9          \n",
       "9                                      10          "
      ]
     },
     "execution_count": 153,
     "metadata": {},
     "output_type": "execute_result"
    }
   ],
   "source": [
    "df"
   ]
  },
  {
   "cell_type": "code",
   "execution_count": null,
   "id": "3d89cf9b",
   "metadata": {},
   "outputs": [],
   "source": []
  }
 ],
 "metadata": {
  "kernelspec": {
   "display_name": "Python 3",
   "language": "python",
   "name": "python3"
  },
  "language_info": {
   "codemirror_mode": {
    "name": "ipython",
    "version": 3
   },
   "file_extension": ".py",
   "mimetype": "text/x-python",
   "name": "python",
   "nbconvert_exporter": "python",
   "pygments_lexer": "ipython3",
   "version": "3.8.8"
  }
 },
 "nbformat": 4,
 "nbformat_minor": 5
}
