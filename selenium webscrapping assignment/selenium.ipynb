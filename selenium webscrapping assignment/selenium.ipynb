{
 "cells": [
  {
   "cell_type": "code",
   "execution_count": 2,
   "id": "2bab3190",
   "metadata": {},
   "outputs": [
    {
     "name": "stdout",
     "output_type": "stream",
     "text": [
      "Collecting selenium\n",
      "  Downloading selenium-4.0.0-py3-none-any.whl (954 kB)\n",
      "Collecting trio~=0.17\n",
      "  Downloading trio-0.19.0-py3-none-any.whl (356 kB)\n",
      "Collecting trio-websocket~=0.9\n",
      "  Downloading trio_websocket-0.9.2-py3-none-any.whl (16 kB)\n",
      "Requirement already satisfied: urllib3[secure]~=1.26 in c:\\python\\lib\\site-packages (from selenium) (1.26.4)\n",
      "Requirement already satisfied: sortedcontainers in c:\\python\\lib\\site-packages (from trio~=0.17->selenium) (2.3.0)\n",
      "Requirement already satisfied: idna in c:\\python\\lib\\site-packages (from trio~=0.17->selenium) (2.10)\n",
      "Requirement already satisfied: async-generator>=1.9 in c:\\python\\lib\\site-packages (from trio~=0.17->selenium) (1.10)\n",
      "Requirement already satisfied: cffi>=1.14 in c:\\python\\lib\\site-packages (from trio~=0.17->selenium) (1.14.5)\n",
      "Collecting outcome\n",
      "  Downloading outcome-1.1.0-py2.py3-none-any.whl (9.7 kB)\n",
      "Requirement already satisfied: attrs>=19.2.0 in c:\\python\\lib\\site-packages (from trio~=0.17->selenium) (20.3.0)\n",
      "Requirement already satisfied: sniffio in c:\\python\\lib\\site-packages (from trio~=0.17->selenium) (1.2.0)\n",
      "Requirement already satisfied: pycparser in c:\\python\\lib\\site-packages (from cffi>=1.14->trio~=0.17->selenium) (2.20)\n",
      "Collecting wsproto>=0.14\n",
      "  Downloading wsproto-1.0.0-py3-none-any.whl (24 kB)\n",
      "Requirement already satisfied: pyOpenSSL>=0.14 in c:\\python\\lib\\site-packages (from urllib3[secure]~=1.26->selenium) (20.0.1)\n",
      "Requirement already satisfied: cryptography>=1.3.4 in c:\\python\\lib\\site-packages (from urllib3[secure]~=1.26->selenium) (3.4.7)\n",
      "Requirement already satisfied: certifi in c:\\python\\lib\\site-packages (from urllib3[secure]~=1.26->selenium) (2020.12.5)\n",
      "Requirement already satisfied: six>=1.5.2 in c:\\python\\lib\\site-packages (from pyOpenSSL>=0.14->urllib3[secure]~=1.26->selenium) (1.15.0)\n",
      "Collecting h11<1,>=0.9.0\n",
      "  Downloading h11-0.12.0-py3-none-any.whl (54 kB)\n",
      "Installing collected packages: outcome, h11, wsproto, trio, trio-websocket, selenium\n",
      "Successfully installed h11-0.12.0 outcome-1.1.0 selenium-4.0.0 trio-0.19.0 trio-websocket-0.9.2 wsproto-1.0.0\n"
     ]
    }
   ],
   "source": [
    "!pip install selenium"
   ]
  },
  {
   "cell_type": "code",
   "execution_count": 1,
   "id": "604b7528",
   "metadata": {},
   "outputs": [],
   "source": [
    "import selenium\n",
    "import pandas as pd\n",
    "from selenium import webdriver"
   ]
  },
  {
   "cell_type": "markdown",
   "id": "bed3c676",
   "metadata": {},
   "source": [
    "Q1: Write a python program to scrape data for “Data Analyst” Job position in “Bangalore” location. You \n",
    "have to scrape the job-title, job-location, company_name, experience_required. You have to scrape first 10 \n",
    "jobs data. "
   ]
  },
  {
   "cell_type": "code",
   "execution_count": 38,
   "id": "85f701d1",
   "metadata": {},
   "outputs": [
    {
     "name": "stderr",
     "output_type": "stream",
     "text": [
      "<ipython-input-38-41aa7a26a9f8>:2: DeprecationWarning: executable_path has been deprecated, please pass in a Service object\n",
      "  driver=webdriver.Chrome(r\"C:\\Users\\GR20258288\\Downloads\\chromedriver_win32\\chromedriver.exe\")\n"
     ]
    }
   ],
   "source": [
    "#connectig to the webdriver\n",
    "driver=webdriver.Chrome(r\"C:\\Users\\GR20258288\\Downloads\\chromedriver_win32\\chromedriver.exe\")"
   ]
  },
  {
   "cell_type": "code",
   "execution_count": 39,
   "id": "139f222e",
   "metadata": {},
   "outputs": [],
   "source": [
    "driver.get(\"https://www.naukri.com/\")"
   ]
  },
  {
   "cell_type": "code",
   "execution_count": 40,
   "id": "60e70bb6",
   "metadata": {},
   "outputs": [
    {
     "name": "stderr",
     "output_type": "stream",
     "text": [
      "<ipython-input-40-8aad61c92d5c>:2: DeprecationWarning: find_element_by_* commands are deprecated. Please use find_element() instead\n",
      "  search_job=driver.find_element_by_id(\"qsb-keyword-sugg\")\n",
      "<ipython-input-40-8aad61c92d5c>:4: DeprecationWarning: find_element_by_* commands are deprecated. Please use find_element() instead\n",
      "  search_loc=driver.find_element_by_id('qsb-location-sugg')\n",
      "<ipython-input-40-8aad61c92d5c>:6: DeprecationWarning: find_element_by_* commands are deprecated. Please use find_element() instead\n",
      "  search_btn=driver.find_element_by_xpath(\"//div[@class='search-btn']/button\")\n"
     ]
    }
   ],
   "source": [
    "#Finding elements for job search bar\n",
    "search_job=driver.find_element_by_id(\"qsb-keyword-sugg\")\n",
    "search_job.send_keys(\"Data Analyst\")\n",
    "search_loc=driver.find_element_by_id('qsb-location-sugg')\n",
    "search_loc.send_keys(\"Bangalore\")\n",
    "search_btn=driver.find_element_by_xpath(\"//div[@class='search-btn']/button\")\n",
    "search_btn.click()\n",
    "\n"
   ]
  },
  {
   "cell_type": "code",
   "execution_count": 43,
   "id": "a83c8470",
   "metadata": {},
   "outputs": [
    {
     "name": "stderr",
     "output_type": "stream",
     "text": [
      "<ipython-input-43-8dbba81d6cf6>:1: DeprecationWarning: find_elements_by_* commands are deprecated. Please use find_elements() instead\n",
      "  title = driver.find_elements_by_xpath(\"//a[@class='title fw500 ellipsis']\")\n"
     ]
    }
   ],
   "source": [
    "title = driver.find_elements_by_xpath(\"//a[@class='title fw500 ellipsis']\")\n",
    "job_title=[]\n",
    "for i in title[0:10]:\n",
    "    job_title.append(i.text)"
   ]
  },
  {
   "cell_type": "code",
   "execution_count": 44,
   "id": "2ce7f844",
   "metadata": {},
   "outputs": [
    {
     "data": {
      "text/plain": [
       "['Data Analyst',\n",
       " 'Data Analyst',\n",
       " 'Data Analyst',\n",
       " 'Business Data Analyst - Database Design/Mining',\n",
       " 'Power BI - Data Analyst - Biocon Biologics',\n",
       " 'Sr Business Data Analyst',\n",
       " 'Business Data Analyst - MIS & Reporting',\n",
       " 'Data Analyst',\n",
       " 'ID&A - Data Analyst - Informatica MDM',\n",
       " 'Data Analyst']"
      ]
     },
     "execution_count": 44,
     "metadata": {},
     "output_type": "execute_result"
    }
   ],
   "source": [
    "# scrape the job-title, job-location, company_name, experience_required\n",
    "job_title\n"
   ]
  },
  {
   "cell_type": "code",
   "execution_count": 45,
   "id": "8637dba2",
   "metadata": {},
   "outputs": [
    {
     "name": "stderr",
     "output_type": "stream",
     "text": [
      "<ipython-input-45-11cffd4b52f8>:1: DeprecationWarning: find_elements_by_* commands are deprecated. Please use find_elements() instead\n",
      "  location=driver.find_elements_by_xpath(\"//li[@class='fleft grey-text br2 placeHolderLi location']/span[1]\")\n"
     ]
    }
   ],
   "source": [
    "location=driver.find_elements_by_xpath(\"//li[@class='fleft grey-text br2 placeHolderLi location']/span[1]\")\n",
    "job_location=[]\n",
    "for j in location[0:10]:\n",
    "    job_location.append(j.text)\n",
    "    \n",
    "        \n"
   ]
  },
  {
   "cell_type": "code",
   "execution_count": 46,
   "id": "625ce891",
   "metadata": {},
   "outputs": [
    {
     "data": {
      "text/plain": [
       "['Bangalore/Bengaluru',\n",
       " 'Bangalore/Bengaluru',\n",
       " 'Bangalore/Bengaluru',\n",
       " 'Bangalore/Bengaluru',\n",
       " 'Bangalore/Bengaluru',\n",
       " 'Bangalore/Bengaluru',\n",
       " 'Mumbai, Bangalore/Bengaluru',\n",
       " 'Bangalore/Bengaluru',\n",
       " 'Bangalore/Bengaluru',\n",
       " 'Bangalore/Bengaluru']"
      ]
     },
     "execution_count": 46,
     "metadata": {},
     "output_type": "execute_result"
    }
   ],
   "source": [
    "job_location"
   ]
  },
  {
   "cell_type": "code",
   "execution_count": 47,
   "id": "b1d2311c",
   "metadata": {},
   "outputs": [
    {
     "name": "stderr",
     "output_type": "stream",
     "text": [
      "<ipython-input-47-ac806f9690ac>:1: DeprecationWarning: find_elements_by_* commands are deprecated. Please use find_elements() instead\n",
      "  comp_name=driver.find_elements_by_xpath(\"//a[@class='subTitle ellipsis fleft']\")\n"
     ]
    }
   ],
   "source": [
    "comp_name=driver.find_elements_by_xpath(\"//a[@class='subTitle ellipsis fleft']\")\n",
    "company_name=[]\n",
    "for j in comp_name[0:10]:\n",
    "    company_name.append(j.text)\n",
    "    "
   ]
  },
  {
   "cell_type": "code",
   "execution_count": 48,
   "id": "ac0b99af",
   "metadata": {},
   "outputs": [
    {
     "data": {
      "text/plain": [
       "['Applied Materials',\n",
       " 'Shell',\n",
       " 'Shell',\n",
       " 'AugmatrixGo',\n",
       " 'BIOCON BIOLOGICS LIMITED',\n",
       " 'ExecBoardinAsia',\n",
       " 'INTERTRUST GROUP',\n",
       " 'Leap29',\n",
       " 'Shell',\n",
       " 'Capgemini']"
      ]
     },
     "execution_count": 48,
     "metadata": {},
     "output_type": "execute_result"
    }
   ],
   "source": [
    "company_name"
   ]
  },
  {
   "cell_type": "code",
   "execution_count": 49,
   "id": "0f0568f6",
   "metadata": {},
   "outputs": [
    {
     "name": "stderr",
     "output_type": "stream",
     "text": [
      "<ipython-input-49-eb54cc050dd8>:1: DeprecationWarning: find_elements_by_* commands are deprecated. Please use find_elements() instead\n",
      "  experience=driver.find_elements_by_xpath(\"//li[@class='fleft grey-text br2 placeHolderLi experience']/span\")\n"
     ]
    }
   ],
   "source": [
    "experience=driver.find_elements_by_xpath(\"//li[@class='fleft grey-text br2 placeHolderLi experience']/span\")\n",
    "job_exp=[]\n",
    "for j in experience[0:10]:\n",
    "    job_exp.append(j.text)\n",
    "    \n",
    "   "
   ]
  },
  {
   "cell_type": "code",
   "execution_count": 50,
   "id": "22c850d0",
   "metadata": {},
   "outputs": [
    {
     "data": {
      "text/plain": [
       "['0-3 Yrs',\n",
       " '5-8 Yrs',\n",
       " '5-10 Yrs',\n",
       " '2-5 Yrs',\n",
       " '3-8 Yrs',\n",
       " '5-10 Yrs',\n",
       " '3-8 Yrs',\n",
       " '3-8 Yrs',\n",
       " '5-9 Yrs',\n",
       " '2-5 Yrs']"
      ]
     },
     "execution_count": 50,
     "metadata": {},
     "output_type": "execute_result"
    }
   ],
   "source": [
    "job_exp"
   ]
  },
  {
   "cell_type": "code",
   "execution_count": 51,
   "id": "0e1f03c0",
   "metadata": {},
   "outputs": [],
   "source": [
    "data=list(zip(job_title,job_location,job_exp,company_name))"
   ]
  },
  {
   "cell_type": "code",
   "execution_count": 52,
   "id": "a67dd3a6",
   "metadata": {},
   "outputs": [],
   "source": [
    "df=pd.DataFrame(data,columns=['Title','Location','Exp','Name'])"
   ]
  },
  {
   "cell_type": "code",
   "execution_count": 53,
   "id": "b95daa55",
   "metadata": {},
   "outputs": [
    {
     "data": {
      "text/html": [
       "<div>\n",
       "<style scoped>\n",
       "    .dataframe tbody tr th:only-of-type {\n",
       "        vertical-align: middle;\n",
       "    }\n",
       "\n",
       "    .dataframe tbody tr th {\n",
       "        vertical-align: top;\n",
       "    }\n",
       "\n",
       "    .dataframe thead th {\n",
       "        text-align: right;\n",
       "    }\n",
       "</style>\n",
       "<table border=\"1\" class=\"dataframe\">\n",
       "  <thead>\n",
       "    <tr style=\"text-align: right;\">\n",
       "      <th></th>\n",
       "      <th>Title</th>\n",
       "      <th>Location</th>\n",
       "      <th>Exp</th>\n",
       "      <th>Name</th>\n",
       "    </tr>\n",
       "  </thead>\n",
       "  <tbody>\n",
       "    <tr>\n",
       "      <th>0</th>\n",
       "      <td>Data Analyst</td>\n",
       "      <td>Bangalore/Bengaluru</td>\n",
       "      <td>0-3 Yrs</td>\n",
       "      <td>Applied Materials</td>\n",
       "    </tr>\n",
       "    <tr>\n",
       "      <th>1</th>\n",
       "      <td>Data Analyst</td>\n",
       "      <td>Bangalore/Bengaluru</td>\n",
       "      <td>5-8 Yrs</td>\n",
       "      <td>Shell</td>\n",
       "    </tr>\n",
       "    <tr>\n",
       "      <th>2</th>\n",
       "      <td>Data Analyst</td>\n",
       "      <td>Bangalore/Bengaluru</td>\n",
       "      <td>5-10 Yrs</td>\n",
       "      <td>Shell</td>\n",
       "    </tr>\n",
       "    <tr>\n",
       "      <th>3</th>\n",
       "      <td>Business Data Analyst - Database Design/Mining</td>\n",
       "      <td>Bangalore/Bengaluru</td>\n",
       "      <td>2-5 Yrs</td>\n",
       "      <td>AugmatrixGo</td>\n",
       "    </tr>\n",
       "    <tr>\n",
       "      <th>4</th>\n",
       "      <td>Power BI - Data Analyst - Biocon Biologics</td>\n",
       "      <td>Bangalore/Bengaluru</td>\n",
       "      <td>3-8 Yrs</td>\n",
       "      <td>BIOCON BIOLOGICS LIMITED</td>\n",
       "    </tr>\n",
       "    <tr>\n",
       "      <th>5</th>\n",
       "      <td>Sr Business Data Analyst</td>\n",
       "      <td>Bangalore/Bengaluru</td>\n",
       "      <td>5-10 Yrs</td>\n",
       "      <td>ExecBoardinAsia</td>\n",
       "    </tr>\n",
       "    <tr>\n",
       "      <th>6</th>\n",
       "      <td>Business Data Analyst - MIS &amp; Reporting</td>\n",
       "      <td>Mumbai, Bangalore/Bengaluru</td>\n",
       "      <td>3-8 Yrs</td>\n",
       "      <td>INTERTRUST GROUP</td>\n",
       "    </tr>\n",
       "    <tr>\n",
       "      <th>7</th>\n",
       "      <td>Data Analyst</td>\n",
       "      <td>Bangalore/Bengaluru</td>\n",
       "      <td>3-8 Yrs</td>\n",
       "      <td>Leap29</td>\n",
       "    </tr>\n",
       "    <tr>\n",
       "      <th>8</th>\n",
       "      <td>ID&amp;A - Data Analyst - Informatica MDM</td>\n",
       "      <td>Bangalore/Bengaluru</td>\n",
       "      <td>5-9 Yrs</td>\n",
       "      <td>Shell</td>\n",
       "    </tr>\n",
       "    <tr>\n",
       "      <th>9</th>\n",
       "      <td>Data Analyst</td>\n",
       "      <td>Bangalore/Bengaluru</td>\n",
       "      <td>2-5 Yrs</td>\n",
       "      <td>Capgemini</td>\n",
       "    </tr>\n",
       "  </tbody>\n",
       "</table>\n",
       "</div>"
      ],
      "text/plain": [
       "                                            Title  \\\n",
       "0                                    Data Analyst   \n",
       "1                                    Data Analyst   \n",
       "2                                    Data Analyst   \n",
       "3  Business Data Analyst - Database Design/Mining   \n",
       "4      Power BI - Data Analyst - Biocon Biologics   \n",
       "5                        Sr Business Data Analyst   \n",
       "6         Business Data Analyst - MIS & Reporting   \n",
       "7                                    Data Analyst   \n",
       "8           ID&A - Data Analyst - Informatica MDM   \n",
       "9                                    Data Analyst   \n",
       "\n",
       "                      Location       Exp                      Name  \n",
       "0          Bangalore/Bengaluru   0-3 Yrs         Applied Materials  \n",
       "1          Bangalore/Bengaluru   5-8 Yrs                     Shell  \n",
       "2          Bangalore/Bengaluru  5-10 Yrs                     Shell  \n",
       "3          Bangalore/Bengaluru   2-5 Yrs               AugmatrixGo  \n",
       "4          Bangalore/Bengaluru   3-8 Yrs  BIOCON BIOLOGICS LIMITED  \n",
       "5          Bangalore/Bengaluru  5-10 Yrs           ExecBoardinAsia  \n",
       "6  Mumbai, Bangalore/Bengaluru   3-8 Yrs          INTERTRUST GROUP  \n",
       "7          Bangalore/Bengaluru   3-8 Yrs                    Leap29  \n",
       "8          Bangalore/Bengaluru   5-9 Yrs                     Shell  \n",
       "9          Bangalore/Bengaluru   2-5 Yrs                 Capgemini  "
      ]
     },
     "execution_count": 53,
     "metadata": {},
     "output_type": "execute_result"
    }
   ],
   "source": [
    "df"
   ]
  },
  {
   "cell_type": "markdown",
   "id": "8ff50741",
   "metadata": {},
   "source": [
    "2)Write a python program to scrape data for “Data Scientist” Job position in “Bangalore” location. You \n",
    "have to scrape the job-title, job-location, company_name. You have to scrape first 10 jobs data. \n"
   ]
  },
  {
   "cell_type": "code",
   "execution_count": 54,
   "id": "72197068",
   "metadata": {},
   "outputs": [
    {
     "name": "stderr",
     "output_type": "stream",
     "text": [
      "<ipython-input-54-41aa7a26a9f8>:2: DeprecationWarning: executable_path has been deprecated, please pass in a Service object\n",
      "  driver=webdriver.Chrome(r\"C:\\Users\\GR20258288\\Downloads\\chromedriver_win32\\chromedriver.exe\")\n"
     ]
    }
   ],
   "source": [
    "#connectig to the webdriver\n",
    "driver=webdriver.Chrome(r\"C:\\Users\\GR20258288\\Downloads\\chromedriver_win32\\chromedriver.exe\")"
   ]
  },
  {
   "cell_type": "code",
   "execution_count": 55,
   "id": "7a983455",
   "metadata": {},
   "outputs": [],
   "source": [
    "driver.get(\"https://www.naukri.com/\")"
   ]
  },
  {
   "cell_type": "code",
   "execution_count": 56,
   "id": "752c144c",
   "metadata": {},
   "outputs": [
    {
     "name": "stderr",
     "output_type": "stream",
     "text": [
      "<ipython-input-56-929c08d2a316>:2: DeprecationWarning: find_element_by_* commands are deprecated. Please use find_element() instead\n",
      "  search_job=driver.find_element_by_id(\"qsb-keyword-sugg\")\n",
      "<ipython-input-56-929c08d2a316>:4: DeprecationWarning: find_element_by_* commands are deprecated. Please use find_element() instead\n",
      "  search_loc=driver.find_element_by_id('qsb-location-sugg')\n",
      "<ipython-input-56-929c08d2a316>:6: DeprecationWarning: find_element_by_* commands are deprecated. Please use find_element() instead\n",
      "  search_btn=driver.find_element_by_xpath(\"//div[@class='search-btn']/button\")\n"
     ]
    }
   ],
   "source": [
    "\n",
    "#Finding elements for job search bar\n",
    "search_job=driver.find_element_by_id(\"qsb-keyword-sugg\")\n",
    "search_job.send_keys(\"Data scientist\")\n",
    "search_loc=driver.find_element_by_id('qsb-location-sugg')\n",
    "search_loc.send_keys(\"Bangalore\")\n",
    "search_btn=driver.find_element_by_xpath(\"//div[@class='search-btn']/button\")\n",
    "search_btn.click()"
   ]
  },
  {
   "cell_type": "code",
   "execution_count": 57,
   "id": "47c4556d",
   "metadata": {},
   "outputs": [
    {
     "name": "stderr",
     "output_type": "stream",
     "text": [
      "<ipython-input-57-dab5335976d6>:2: DeprecationWarning: find_elements_by_* commands are deprecated. Please use find_elements() instead\n",
      "  title = driver.find_elements_by_xpath(\"//a[@class='title fw500 ellipsis']\")\n"
     ]
    }
   ],
   "source": [
    "#scrap job title\n",
    "title = driver.find_elements_by_xpath(\"//a[@class='title fw500 ellipsis']\")\n",
    "job_title=[]\n",
    "for i in title[0:10]:\n",
    "    job_title.append(i.text)"
   ]
  },
  {
   "cell_type": "code",
   "execution_count": 58,
   "id": "e3c029b3",
   "metadata": {},
   "outputs": [
    {
     "data": {
      "text/plain": [
       "['Data Scientist',\n",
       " 'Senior Data Scientist | Fortune 500 Supermarket Chain',\n",
       " 'Senior Data Scientist',\n",
       " 'Hiring For AI Architect / Lead Data Scientist - Bangalore -Iqvia',\n",
       " 'Data Scientist',\n",
       " 'Senior / Lead Data Scientist',\n",
       " 'Data scientist',\n",
       " 'Data Scientist',\n",
       " 'CN - Strategy - MC - T&O - OA Data Scientist (Advanced Analytics) - 09',\n",
       " 'Data Scientist']"
      ]
     },
     "execution_count": 58,
     "metadata": {},
     "output_type": "execute_result"
    }
   ],
   "source": [
    "job_title\n"
   ]
  },
  {
   "cell_type": "code",
   "execution_count": 61,
   "id": "80740ffb",
   "metadata": {},
   "outputs": [
    {
     "name": "stderr",
     "output_type": "stream",
     "text": [
      "<ipython-input-61-7c86b07361ea>:2: DeprecationWarning: find_elements_by_* commands are deprecated. Please use find_elements() instead\n",
      "  location=driver.find_elements_by_xpath(\"//li[@class='fleft grey-text br2 placeHolderLi location']/span[1]\")\n"
     ]
    }
   ],
   "source": [
    "#scrap job location\n",
    "location=driver.find_elements_by_xpath(\"//li[@class='fleft grey-text br2 placeHolderLi location']/span[1]\")\n",
    "job_location=[]\n",
    "for j in location[0:10]:\n",
    "    job_location.append(j.text)\n",
    "    "
   ]
  },
  {
   "cell_type": "code",
   "execution_count": 62,
   "id": "e42cac22",
   "metadata": {},
   "outputs": [
    {
     "data": {
      "text/plain": [
       "['Bangalore/Bengaluru',\n",
       " 'Bangalore/Bengaluru',\n",
       " 'Hyderabad/Secunderabad, Chennai, Bangalore/Bengaluru',\n",
       " 'Bangalore/Bengaluru',\n",
       " 'Hyderabad/Secunderabad, Pune, Bangalore/Bengaluru',\n",
       " 'Bangalore/Bengaluru',\n",
       " 'Bangalore/Bengaluru',\n",
       " 'Bangalore/Bengaluru',\n",
       " 'Bangalore/Bengaluru',\n",
       " 'Pune, Bangalore/Bengaluru']"
      ]
     },
     "execution_count": 62,
     "metadata": {},
     "output_type": "execute_result"
    }
   ],
   "source": [
    "job_location"
   ]
  },
  {
   "cell_type": "code",
   "execution_count": 63,
   "id": "2e5178e0",
   "metadata": {},
   "outputs": [
    {
     "name": "stderr",
     "output_type": "stream",
     "text": [
      "<ipython-input-63-428355f6ce95>:2: DeprecationWarning: find_elements_by_* commands are deprecated. Please use find_elements() instead\n",
      "  comp_name=driver.find_elements_by_xpath(\"//a[@class='subTitle ellipsis fleft']\")\n"
     ]
    }
   ],
   "source": [
    "#scrap company name\n",
    "comp_name=driver.find_elements_by_xpath(\"//a[@class='subTitle ellipsis fleft']\")\n",
    "company_name=[]\n",
    "for j in comp_name[0:10]:\n",
    "    company_name.append(j.text)"
   ]
  },
  {
   "cell_type": "code",
   "execution_count": 64,
   "id": "bb0ac6e8",
   "metadata": {},
   "outputs": [
    {
     "data": {
      "text/plain": [
       "['Alstom Transport India Ltd.',\n",
       " 'TALENT500 TECH (INDIA) PRIVATE LIMITED',\n",
       " 'Santechture',\n",
       " 'IQVIA RDS India Pvt Ltd',\n",
       " 'SG Analytics Pvt. Ltd.',\n",
       " 'Bukuwarung',\n",
       " 'Superior Group',\n",
       " 'Narayana Hrudayalaya Ltd',\n",
       " 'Accenture',\n",
       " 'Persistent Systems Limited.']"
      ]
     },
     "execution_count": 64,
     "metadata": {},
     "output_type": "execute_result"
    }
   ],
   "source": [
    "company_name"
   ]
  },
  {
   "cell_type": "code",
   "execution_count": 65,
   "id": "a919c41e",
   "metadata": {},
   "outputs": [],
   "source": [
    "data=list(zip(job_title,job_location,company_name))"
   ]
  },
  {
   "cell_type": "code",
   "execution_count": 66,
   "id": "9f9ef31a",
   "metadata": {},
   "outputs": [],
   "source": [
    "df=pd.DataFrame(data,columns=['Title','Location','Name'])"
   ]
  },
  {
   "cell_type": "code",
   "execution_count": 67,
   "id": "4d943874",
   "metadata": {
    "scrolled": true
   },
   "outputs": [
    {
     "data": {
      "text/html": [
       "<div>\n",
       "<style scoped>\n",
       "    .dataframe tbody tr th:only-of-type {\n",
       "        vertical-align: middle;\n",
       "    }\n",
       "\n",
       "    .dataframe tbody tr th {\n",
       "        vertical-align: top;\n",
       "    }\n",
       "\n",
       "    .dataframe thead th {\n",
       "        text-align: right;\n",
       "    }\n",
       "</style>\n",
       "<table border=\"1\" class=\"dataframe\">\n",
       "  <thead>\n",
       "    <tr style=\"text-align: right;\">\n",
       "      <th></th>\n",
       "      <th>Title</th>\n",
       "      <th>Location</th>\n",
       "      <th>Name</th>\n",
       "    </tr>\n",
       "  </thead>\n",
       "  <tbody>\n",
       "    <tr>\n",
       "      <th>0</th>\n",
       "      <td>Data Scientist</td>\n",
       "      <td>Bangalore/Bengaluru</td>\n",
       "      <td>Alstom Transport India Ltd.</td>\n",
       "    </tr>\n",
       "    <tr>\n",
       "      <th>1</th>\n",
       "      <td>Senior Data Scientist | Fortune 500 Supermarke...</td>\n",
       "      <td>Bangalore/Bengaluru</td>\n",
       "      <td>TALENT500 TECH (INDIA) PRIVATE LIMITED</td>\n",
       "    </tr>\n",
       "    <tr>\n",
       "      <th>2</th>\n",
       "      <td>Senior Data Scientist</td>\n",
       "      <td>Hyderabad/Secunderabad, Chennai, Bangalore/Ben...</td>\n",
       "      <td>Santechture</td>\n",
       "    </tr>\n",
       "    <tr>\n",
       "      <th>3</th>\n",
       "      <td>Hiring For AI Architect / Lead Data Scientist ...</td>\n",
       "      <td>Bangalore/Bengaluru</td>\n",
       "      <td>IQVIA RDS India Pvt Ltd</td>\n",
       "    </tr>\n",
       "    <tr>\n",
       "      <th>4</th>\n",
       "      <td>Data Scientist</td>\n",
       "      <td>Hyderabad/Secunderabad, Pune, Bangalore/Bengaluru</td>\n",
       "      <td>SG Analytics Pvt. Ltd.</td>\n",
       "    </tr>\n",
       "    <tr>\n",
       "      <th>5</th>\n",
       "      <td>Senior / Lead Data Scientist</td>\n",
       "      <td>Bangalore/Bengaluru</td>\n",
       "      <td>Bukuwarung</td>\n",
       "    </tr>\n",
       "    <tr>\n",
       "      <th>6</th>\n",
       "      <td>Data scientist</td>\n",
       "      <td>Bangalore/Bengaluru</td>\n",
       "      <td>Superior Group</td>\n",
       "    </tr>\n",
       "    <tr>\n",
       "      <th>7</th>\n",
       "      <td>Data Scientist</td>\n",
       "      <td>Bangalore/Bengaluru</td>\n",
       "      <td>Narayana Hrudayalaya Ltd</td>\n",
       "    </tr>\n",
       "    <tr>\n",
       "      <th>8</th>\n",
       "      <td>CN - Strategy - MC - T&amp;O - OA Data Scientist (...</td>\n",
       "      <td>Bangalore/Bengaluru</td>\n",
       "      <td>Accenture</td>\n",
       "    </tr>\n",
       "    <tr>\n",
       "      <th>9</th>\n",
       "      <td>Data Scientist</td>\n",
       "      <td>Pune, Bangalore/Bengaluru</td>\n",
       "      <td>Persistent Systems Limited.</td>\n",
       "    </tr>\n",
       "  </tbody>\n",
       "</table>\n",
       "</div>"
      ],
      "text/plain": [
       "                                               Title  \\\n",
       "0                                     Data Scientist   \n",
       "1  Senior Data Scientist | Fortune 500 Supermarke...   \n",
       "2                              Senior Data Scientist   \n",
       "3  Hiring For AI Architect / Lead Data Scientist ...   \n",
       "4                                     Data Scientist   \n",
       "5                       Senior / Lead Data Scientist   \n",
       "6                                     Data scientist   \n",
       "7                                     Data Scientist   \n",
       "8  CN - Strategy - MC - T&O - OA Data Scientist (...   \n",
       "9                                     Data Scientist   \n",
       "\n",
       "                                            Location  \\\n",
       "0                                Bangalore/Bengaluru   \n",
       "1                                Bangalore/Bengaluru   \n",
       "2  Hyderabad/Secunderabad, Chennai, Bangalore/Ben...   \n",
       "3                                Bangalore/Bengaluru   \n",
       "4  Hyderabad/Secunderabad, Pune, Bangalore/Bengaluru   \n",
       "5                                Bangalore/Bengaluru   \n",
       "6                                Bangalore/Bengaluru   \n",
       "7                                Bangalore/Bengaluru   \n",
       "8                                Bangalore/Bengaluru   \n",
       "9                          Pune, Bangalore/Bengaluru   \n",
       "\n",
       "                                     Name  \n",
       "0             Alstom Transport India Ltd.  \n",
       "1  TALENT500 TECH (INDIA) PRIVATE LIMITED  \n",
       "2                             Santechture  \n",
       "3                 IQVIA RDS India Pvt Ltd  \n",
       "4                  SG Analytics Pvt. Ltd.  \n",
       "5                              Bukuwarung  \n",
       "6                          Superior Group  \n",
       "7                Narayana Hrudayalaya Ltd  \n",
       "8                               Accenture  \n",
       "9             Persistent Systems Limited.  "
      ]
     },
     "execution_count": 67,
     "metadata": {},
     "output_type": "execute_result"
    }
   ],
   "source": [
    "df"
   ]
  },
  {
   "cell_type": "markdown",
   "id": "e03aafca",
   "metadata": {},
   "source": [
    "Q3: You have to use the location and salary filter. \n",
    "You have to scrape data for “Data Scientist” designation for first 10 job results. \n",
    "You have to scrape the job-title, job-location, company name, experience required. \n",
    "The location filter to be used is “Delhi/NCR” The salary filter to be used is “3-6” lakhs"
   ]
  },
  {
   "cell_type": "code",
   "execution_count": 2,
   "id": "55a207e9",
   "metadata": {},
   "outputs": [
    {
     "name": "stderr",
     "output_type": "stream",
     "text": [
      "<ipython-input-2-41aa7a26a9f8>:2: DeprecationWarning: executable_path has been deprecated, please pass in a Service object\n",
      "  driver=webdriver.Chrome(r\"C:\\Users\\GR20258288\\Downloads\\chromedriver_win32\\chromedriver.exe\")\n"
     ]
    }
   ],
   "source": [
    "#connectig to the webdriver\n",
    "driver=webdriver.Chrome(r\"C:\\Users\\GR20258288\\Downloads\\chromedriver_win32\\chromedriver.exe\")"
   ]
  },
  {
   "cell_type": "code",
   "execution_count": 3,
   "id": "fd448957",
   "metadata": {},
   "outputs": [],
   "source": [
    "driver.get(\"https://www.naukri.com/\")"
   ]
  },
  {
   "cell_type": "code",
   "execution_count": 4,
   "id": "618147e4",
   "metadata": {},
   "outputs": [
    {
     "name": "stderr",
     "output_type": "stream",
     "text": [
      "<ipython-input-4-dc32d3fdaa41>:1: DeprecationWarning: find_element_by_* commands are deprecated. Please use find_element() instead\n",
      "  search_job=driver.find_element_by_id(\"qsb-keyword-sugg\")\n",
      "<ipython-input-4-dc32d3fdaa41>:3: DeprecationWarning: find_element_by_* commands are deprecated. Please use find_element() instead\n",
      "  search_btn=driver.find_element_by_xpath(\"//div[@class='search-btn']/button\")\n"
     ]
    }
   ],
   "source": [
    "search_job=driver.find_element_by_id(\"qsb-keyword-sugg\")\n",
    "search_job.send_keys(\"Data scientist\")\n",
    "search_btn=driver.find_element_by_xpath(\"//div[@class='search-btn']/button\")\n",
    "search_btn.click()"
   ]
  },
  {
   "cell_type": "code",
   "execution_count": 7,
   "id": "2a4ce20e",
   "metadata": {},
   "outputs": [
    {
     "name": "stderr",
     "output_type": "stream",
     "text": [
      "<ipython-input-7-d07354fa2997>:5: DeprecationWarning: find_element_by_* commands are deprecated. Please use find_element() instead\n",
      "  sal_filter = driver.find_element_by_xpath(\"/html/body/div[1]/div[3]/div[2]/section[1]/div[2]/div[4]/div[2]/div[2]/label/i\")\n"
     ]
    }
   ],
   "source": [
    "#select Delhi/NCR filter & select salary filter  \n",
    "                                                              \n",
    "locn_filter = driver.find_element_by_xpath(\"/html/body/div[1]/div[3]/div[2]/section[1]/div[2]/div[3]/div[2]/div[2]/label/i\")\n",
    "\n",
    "sal_filter = driver.find_element_by_xpath(\"/html/body/div[1]/div[3]/div[2]/section[1]/div[2]/div[4]/div[2]/div[2]/label/i\")\n",
    "\n",
    "locn_filter.click()\n",
    "\n",
    "sal_filter.click()       "
   ]
  },
  {
   "cell_type": "code",
   "execution_count": 9,
   "id": "d5b87787",
   "metadata": {},
   "outputs": [
    {
     "name": "stderr",
     "output_type": "stream",
     "text": [
      "<ipython-input-9-dab5335976d6>:2: DeprecationWarning: find_elements_by_* commands are deprecated. Please use find_elements() instead\n",
      "  title = driver.find_elements_by_xpath(\"//a[@class='title fw500 ellipsis']\")\n"
     ]
    }
   ],
   "source": [
    "#scrap job title\n",
    "title = driver.find_elements_by_xpath(\"//a[@class='title fw500 ellipsis']\")\n",
    "job_title=[]\n",
    "for i in title[0:10]:\n",
    "    job_title.append(i.text)"
   ]
  },
  {
   "cell_type": "code",
   "execution_count": 10,
   "id": "5acd341c",
   "metadata": {},
   "outputs": [
    {
     "data": {
      "text/plain": [
       "['Data Scientist',\n",
       " 'Data Scientist / Sr. Data Scientist with Pyspark',\n",
       " 'NLP Data Scientist/Senior NLP Data Scientist',\n",
       " 'Data Scientist/Engineer',\n",
       " 'Data Scientist/Engineer',\n",
       " 'Data Scientist',\n",
       " 'Opportunity For Data Scientist',\n",
       " 'Data Scientist - Python with NLP and ML',\n",
       " 'Data Scientist',\n",
       " 'Data Scientist / Machine Learning']"
      ]
     },
     "execution_count": 10,
     "metadata": {},
     "output_type": "execute_result"
    }
   ],
   "source": [
    "job_title"
   ]
  },
  {
   "cell_type": "code",
   "execution_count": 11,
   "id": "a93593e5",
   "metadata": {},
   "outputs": [
    {
     "name": "stderr",
     "output_type": "stream",
     "text": [
      "<ipython-input-11-1d060fa85e10>:1: DeprecationWarning: find_elements_by_* commands are deprecated. Please use find_elements() instead\n",
      "  location=driver.find_elements_by_xpath(\"//li[@class='fleft grey-text br2 placeHolderLi location']/span[1]\")\n"
     ]
    }
   ],
   "source": [
    "\n",
    "location=driver.find_elements_by_xpath(\"//li[@class='fleft grey-text br2 placeHolderLi location']/span[1]\")\n",
    "job_location=[]\n",
    "for j in location[0:10]:\n",
    "    job_location.append(j.text)"
   ]
  },
  {
   "cell_type": "code",
   "execution_count": 12,
   "id": "1d1d9f05",
   "metadata": {},
   "outputs": [
    {
     "data": {
      "text/plain": [
       "['Kochi/Cochin, Kolkata, Hyderabad/Secunderabad, Pune, Ahmedabad, Chennai, Bangalore/Bengaluru, Delhi / NCR, Mumbai (All Areas)',\n",
       " 'Bangalore/Bengaluru',\n",
       " 'Bangalore/Bengaluru',\n",
       " 'Bangalore/Bengaluru',\n",
       " 'Bangalore/Bengaluru',\n",
       " 'Bangalore/Bengaluru',\n",
       " 'Bangalore/Bengaluru',\n",
       " 'Hyderabad/Secunderabad, Bangalore/Bengaluru',\n",
       " 'Pune, Chennai, Bangalore/Bengaluru',\n",
       " 'Bangalore/Bengaluru']"
      ]
     },
     "execution_count": 12,
     "metadata": {},
     "output_type": "execute_result"
    }
   ],
   "source": [
    "job_location"
   ]
  },
  {
   "cell_type": "code",
   "execution_count": 13,
   "id": "44ef8a74",
   "metadata": {},
   "outputs": [
    {
     "name": "stderr",
     "output_type": "stream",
     "text": [
      "<ipython-input-13-428355f6ce95>:2: DeprecationWarning: find_elements_by_* commands are deprecated. Please use find_elements() instead\n",
      "  comp_name=driver.find_elements_by_xpath(\"//a[@class='subTitle ellipsis fleft']\")\n"
     ]
    }
   ],
   "source": [
    "#scrap company name\n",
    "comp_name=driver.find_elements_by_xpath(\"//a[@class='subTitle ellipsis fleft']\")\n",
    "company_name=[]\n",
    "for j in comp_name[0:10]:\n",
    "    company_name.append(j.text)"
   ]
  },
  {
   "cell_type": "code",
   "execution_count": 14,
   "id": "6dc49419",
   "metadata": {},
   "outputs": [
    {
     "data": {
      "text/plain": [
       "['Think i',\n",
       " 'ENSTRAPP IT SOLUTIONS PRIVATE LIMITED',\n",
       " 'ENSTRAPP IT SOLUTIONS PRIVATE LIMITED',\n",
       " 'Orcapod Consulting Services Private Limited',\n",
       " 'Orcapod Consulting Services Private Limited',\n",
       " 'Vepsun Technologies Private Limited.',\n",
       " 'Firstsource Solutions Limited',\n",
       " 'OpsMx',\n",
       " 'SamarthJobs Management Consultants',\n",
       " 'Augusta Infotech']"
      ]
     },
     "execution_count": 14,
     "metadata": {},
     "output_type": "execute_result"
    }
   ],
   "source": [
    "company_name"
   ]
  },
  {
   "cell_type": "code",
   "execution_count": 15,
   "id": "44b71641",
   "metadata": {},
   "outputs": [
    {
     "name": "stderr",
     "output_type": "stream",
     "text": [
      "<ipython-input-15-543a7daf9c57>:1: DeprecationWarning: find_elements_by_* commands are deprecated. Please use find_elements() instead\n",
      "  experience=driver.find_elements_by_xpath(\"//li[@class='fleft grey-text br2 placeHolderLi experience']/span\")\n"
     ]
    }
   ],
   "source": [
    "experience=driver.find_elements_by_xpath(\"//li[@class='fleft grey-text br2 placeHolderLi experience']/span\")\n",
    "job_exp=[]\n",
    "for j in experience[0:10]:\n",
    "    job_exp.append(j.text)"
   ]
  },
  {
   "cell_type": "code",
   "execution_count": 16,
   "id": "5da017fd",
   "metadata": {},
   "outputs": [
    {
     "data": {
      "text/plain": [
       "['0-2 Yrs',\n",
       " '3-8 Yrs',\n",
       " '3-8 Yrs',\n",
       " '5-10 Yrs',\n",
       " '5-10 Yrs',\n",
       " '2-5 Yrs',\n",
       " '3-8 Yrs',\n",
       " '3-6 Yrs',\n",
       " '2-7 Yrs',\n",
       " '2-7 Yrs']"
      ]
     },
     "execution_count": 16,
     "metadata": {},
     "output_type": "execute_result"
    }
   ],
   "source": [
    "job_exp"
   ]
  },
  {
   "cell_type": "code",
   "execution_count": 17,
   "id": "24e66db6",
   "metadata": {},
   "outputs": [],
   "source": [
    "data=list(zip(job_title,job_location,job_exp,company_name))"
   ]
  },
  {
   "cell_type": "code",
   "execution_count": 18,
   "id": "ac15db3d",
   "metadata": {},
   "outputs": [],
   "source": [
    "df=pd.DataFrame(data,columns=['Title','Location','Exp','Name'])"
   ]
  },
  {
   "cell_type": "code",
   "execution_count": 19,
   "id": "7a1f5e11",
   "metadata": {},
   "outputs": [
    {
     "data": {
      "text/html": [
       "<div>\n",
       "<style scoped>\n",
       "    .dataframe tbody tr th:only-of-type {\n",
       "        vertical-align: middle;\n",
       "    }\n",
       "\n",
       "    .dataframe tbody tr th {\n",
       "        vertical-align: top;\n",
       "    }\n",
       "\n",
       "    .dataframe thead th {\n",
       "        text-align: right;\n",
       "    }\n",
       "</style>\n",
       "<table border=\"1\" class=\"dataframe\">\n",
       "  <thead>\n",
       "    <tr style=\"text-align: right;\">\n",
       "      <th></th>\n",
       "      <th>Title</th>\n",
       "      <th>Location</th>\n",
       "      <th>Exp</th>\n",
       "      <th>Name</th>\n",
       "    </tr>\n",
       "  </thead>\n",
       "  <tbody>\n",
       "    <tr>\n",
       "      <th>0</th>\n",
       "      <td>Data Scientist</td>\n",
       "      <td>Kochi/Cochin, Kolkata, Hyderabad/Secunderabad,...</td>\n",
       "      <td>0-2 Yrs</td>\n",
       "      <td>Think i</td>\n",
       "    </tr>\n",
       "    <tr>\n",
       "      <th>1</th>\n",
       "      <td>Data Scientist / Sr. Data Scientist with Pyspark</td>\n",
       "      <td>Bangalore/Bengaluru</td>\n",
       "      <td>3-8 Yrs</td>\n",
       "      <td>ENSTRAPP IT SOLUTIONS PRIVATE LIMITED</td>\n",
       "    </tr>\n",
       "    <tr>\n",
       "      <th>2</th>\n",
       "      <td>NLP Data Scientist/Senior NLP Data Scientist</td>\n",
       "      <td>Bangalore/Bengaluru</td>\n",
       "      <td>3-8 Yrs</td>\n",
       "      <td>ENSTRAPP IT SOLUTIONS PRIVATE LIMITED</td>\n",
       "    </tr>\n",
       "    <tr>\n",
       "      <th>3</th>\n",
       "      <td>Data Scientist/Engineer</td>\n",
       "      <td>Bangalore/Bengaluru</td>\n",
       "      <td>5-10 Yrs</td>\n",
       "      <td>Orcapod Consulting Services Private Limited</td>\n",
       "    </tr>\n",
       "    <tr>\n",
       "      <th>4</th>\n",
       "      <td>Data Scientist/Engineer</td>\n",
       "      <td>Bangalore/Bengaluru</td>\n",
       "      <td>5-10 Yrs</td>\n",
       "      <td>Orcapod Consulting Services Private Limited</td>\n",
       "    </tr>\n",
       "    <tr>\n",
       "      <th>5</th>\n",
       "      <td>Data Scientist</td>\n",
       "      <td>Bangalore/Bengaluru</td>\n",
       "      <td>2-5 Yrs</td>\n",
       "      <td>Vepsun Technologies Private Limited.</td>\n",
       "    </tr>\n",
       "    <tr>\n",
       "      <th>6</th>\n",
       "      <td>Opportunity For Data Scientist</td>\n",
       "      <td>Bangalore/Bengaluru</td>\n",
       "      <td>3-8 Yrs</td>\n",
       "      <td>Firstsource Solutions Limited</td>\n",
       "    </tr>\n",
       "    <tr>\n",
       "      <th>7</th>\n",
       "      <td>Data Scientist - Python with NLP and ML</td>\n",
       "      <td>Hyderabad/Secunderabad, Bangalore/Bengaluru</td>\n",
       "      <td>3-6 Yrs</td>\n",
       "      <td>OpsMx</td>\n",
       "    </tr>\n",
       "    <tr>\n",
       "      <th>8</th>\n",
       "      <td>Data Scientist</td>\n",
       "      <td>Pune, Chennai, Bangalore/Bengaluru</td>\n",
       "      <td>2-7 Yrs</td>\n",
       "      <td>SamarthJobs Management Consultants</td>\n",
       "    </tr>\n",
       "    <tr>\n",
       "      <th>9</th>\n",
       "      <td>Data Scientist / Machine Learning</td>\n",
       "      <td>Bangalore/Bengaluru</td>\n",
       "      <td>2-7 Yrs</td>\n",
       "      <td>Augusta Infotech</td>\n",
       "    </tr>\n",
       "  </tbody>\n",
       "</table>\n",
       "</div>"
      ],
      "text/plain": [
       "                                              Title  \\\n",
       "0                                    Data Scientist   \n",
       "1  Data Scientist / Sr. Data Scientist with Pyspark   \n",
       "2      NLP Data Scientist/Senior NLP Data Scientist   \n",
       "3                           Data Scientist/Engineer   \n",
       "4                           Data Scientist/Engineer   \n",
       "5                                    Data Scientist   \n",
       "6                    Opportunity For Data Scientist   \n",
       "7           Data Scientist - Python with NLP and ML   \n",
       "8                                    Data Scientist   \n",
       "9                 Data Scientist / Machine Learning   \n",
       "\n",
       "                                            Location       Exp  \\\n",
       "0  Kochi/Cochin, Kolkata, Hyderabad/Secunderabad,...   0-2 Yrs   \n",
       "1                                Bangalore/Bengaluru   3-8 Yrs   \n",
       "2                                Bangalore/Bengaluru   3-8 Yrs   \n",
       "3                                Bangalore/Bengaluru  5-10 Yrs   \n",
       "4                                Bangalore/Bengaluru  5-10 Yrs   \n",
       "5                                Bangalore/Bengaluru   2-5 Yrs   \n",
       "6                                Bangalore/Bengaluru   3-8 Yrs   \n",
       "7        Hyderabad/Secunderabad, Bangalore/Bengaluru   3-6 Yrs   \n",
       "8                 Pune, Chennai, Bangalore/Bengaluru   2-7 Yrs   \n",
       "9                                Bangalore/Bengaluru   2-7 Yrs   \n",
       "\n",
       "                                          Name  \n",
       "0                                      Think i  \n",
       "1        ENSTRAPP IT SOLUTIONS PRIVATE LIMITED  \n",
       "2        ENSTRAPP IT SOLUTIONS PRIVATE LIMITED  \n",
       "3  Orcapod Consulting Services Private Limited  \n",
       "4  Orcapod Consulting Services Private Limited  \n",
       "5         Vepsun Technologies Private Limited.  \n",
       "6                Firstsource Solutions Limited  \n",
       "7                                        OpsMx  \n",
       "8           SamarthJobs Management Consultants  \n",
       "9                             Augusta Infotech  "
      ]
     },
     "execution_count": 19,
     "metadata": {},
     "output_type": "execute_result"
    }
   ],
   "source": [
    "df"
   ]
  },
  {
   "cell_type": "markdown",
   "id": "92b8da2e",
   "metadata": {},
   "source": [
    "Q4: Scrape data of first 100 sunglasses listings on flipkart.com. You have to scrape four attributes: \n",
    "1. Brand \n",
    "2. Product Description \n",
    "3. Price"
   ]
  },
  {
   "cell_type": "code",
   "execution_count": 89,
   "id": "7cf9d8bf",
   "metadata": {},
   "outputs": [],
   "source": [
    "import selenium\n",
    "import pandas as pd\n",
    "from selenium import webdriver\n",
    "from selenium.webdriver.common.keys import Keys\n",
    "import warnings\n",
    "warnings.filterwarnings('ignore')"
   ]
  },
  {
   "cell_type": "code",
   "execution_count": 90,
   "id": "92d56793",
   "metadata": {},
   "outputs": [],
   "source": [
    "#connectig to the webdriver\n",
    "driver=webdriver.Chrome(r\"C:\\Users\\Grace Amirtham\\Downloads\\chromedriver_win32\\chromedriver.exe\")\n"
   ]
  },
  {
   "cell_type": "code",
   "execution_count": 91,
   "id": "49fdb64a",
   "metadata": {},
   "outputs": [],
   "source": [
    "driver.get(\"https://www.flipkart.com/\")"
   ]
  },
  {
   "cell_type": "code",
   "execution_count": 92,
   "id": "75b894cf",
   "metadata": {},
   "outputs": [],
   "source": [
    "#search sunglasses \n",
    "search_prod = driver.find_element_by_xpath(\"/html/body/div[1]/div/div[1]/div[1]/div[2]/div[2]/form/div/div/input\")\n",
    "search_prod.send_keys('Sunglasses')\n",
    "search_icon = driver.find_element_by_xpath(\"//button[@class='L0Z3Pu']\")\n",
    "search_icon.click()\n",
    "\n"
   ]
  },
  {
   "cell_type": "code",
   "execution_count": 93,
   "id": "80839b1b",
   "metadata": {},
   "outputs": [],
   "source": [
    "title = driver.find_elements_by_xpath(\"//div[@class='_2WkVRV']\")\n",
    "sunglass=[]\n",
    "for i in title:\n",
    "    sunglass.append(i.text)"
   ]
  },
  {
   "cell_type": "code",
   "execution_count": 94,
   "id": "abf4ee36",
   "metadata": {},
   "outputs": [
    {
     "data": {
      "text/plain": [
       "['ROZZETTA CRAFT',\n",
       " 'Fravy',\n",
       " 'SUNBEE',\n",
       " 'Fastrack',\n",
       " 'Elligator',\n",
       " 'SHAAH COLLECTIONS',\n",
       " 'PIRASO',\n",
       " 'elegante',\n",
       " 'SHAAH COLLECTIONS',\n",
       " 'kingsunglasses',\n",
       " 'kingsunglasses',\n",
       " 'Fravy',\n",
       " 'PIRASO',\n",
       " 'PHENOMENAL',\n",
       " 'hipe',\n",
       " 'VINCENT CHASE',\n",
       " 'Rich Club',\n",
       " 'GANSTA',\n",
       " 'New Specs',\n",
       " 'ROYAL SON',\n",
       " 'PIRASO',\n",
       " 'New Specs',\n",
       " 'ROZZETTA CRAFT',\n",
       " 'ROZZETTA CRAFT',\n",
       " 'Elligator',\n",
       " 'ROYAL SON',\n",
       " 'NuVew',\n",
       " 'AISLIN',\n",
       " 'PHENOMENAL',\n",
       " 'Fastrack',\n",
       " 'Fastrack',\n",
       " 'AISLIN',\n",
       " 'HIPPON',\n",
       " 'SUNBEE',\n",
       " 'Fastrack',\n",
       " 'VILLAIN',\n",
       " 'PIRASO',\n",
       " 'Lee Topper',\n",
       " 'GANSTA',\n",
       " 'NuVew']"
      ]
     },
     "execution_count": 94,
     "metadata": {},
     "output_type": "execute_result"
    }
   ],
   "source": [
    "sunglass\n",
    "    "
   ]
  },
  {
   "cell_type": "code",
   "execution_count": 95,
   "id": "a565dda7",
   "metadata": {},
   "outputs": [],
   "source": [
    "#Description of Sunglass\n",
    "Desc= driver.find_elements_by_xpath(\"//a[@class='IRpwTa']\")\n",
    "Description=[]\n",
    "for i in Desc:\n",
    "    Description.append(i.text)"
   ]
  },
  {
   "cell_type": "code",
   "execution_count": 96,
   "id": "7c5cc1bc",
   "metadata": {},
   "outputs": [
    {
     "data": {
      "text/plain": [
       "['UV Protection, Gradient Retro Square Sunglasses (Free S...',\n",
       " 'UV Protection, Others Retro Square Sunglasses (Free Siz...',\n",
       " 'UV Protection, Polarized, Mirrored Round Sunglasses (Fr...',\n",
       " 'UV Protection Rectangular Sunglasses (Free Size)',\n",
       " 'UV Protection Round Sunglasses (54)',\n",
       " 'UV Protection, Polarized, Mirrored Rectangular Sunglass...',\n",
       " 'UV Protection Aviator Sunglasses (54)',\n",
       " 'UV Protection Oval Sunglasses (Free Size)',\n",
       " 'UV Protection, Polarized, Mirrored Rectangular Sunglass...',\n",
       " 'UV Protection Round Sunglasses (54)',\n",
       " 'Mirrored, UV Protection Wayfarer Sunglasses (Free Size)',\n",
       " 'UV Protection, Gradient, Night Vision Retro Square Sung...',\n",
       " 'UV Protection Aviator Sunglasses (54)',\n",
       " 'UV Protection Retro Square Sunglasses (Free Size)',\n",
       " 'Mirrored, UV Protection, Gradient Round Sunglasses (55)',\n",
       " 'UV Protection, Polarized Round Sunglasses (Free Size)',\n",
       " 'Polarized Round Sunglasses (48)',\n",
       " 'UV Protection Aviator Sunglasses (57)',\n",
       " 'UV Protection Rectangular Sunglasses (Free Size)',\n",
       " 'Polarized, UV Protection, Gradient Over-sized, Butterfl...',\n",
       " 'UV Protection Aviator Sunglasses (54)',\n",
       " 'Mirrored, UV Protection, Riding Glasses, Others Round S...',\n",
       " 'UV Protection Retro Square Sunglasses (Free Size)',\n",
       " 'UV Protection, Gradient Retro Square Sunglasses (Free S...',\n",
       " 'UV Protection Round Sunglasses (55)',\n",
       " 'Mirrored Aviator Sunglasses (55)',\n",
       " 'UV Protection, Night Vision, Riding Glasses Sports Sung...',\n",
       " 'UV Protection, Gradient Oval Sunglasses (58)',\n",
       " 'UV Protection, Mirrored Retro Square Sunglasses (53)',\n",
       " 'Gradient, UV Protection Wayfarer Sunglasses (Free Size)',\n",
       " 'UV Protection Aviator Sunglasses (Free Size)',\n",
       " 'UV Protection, Gradient Butterfly, Wayfarer Sunglasses ...',\n",
       " 'UV Protection Wayfarer Sunglasses (55)',\n",
       " 'UV Protection, Polarized, Mirrored Wayfarer Sunglasses ...',\n",
       " 'UV Protection Wayfarer Sunglasses (Free Size)',\n",
       " 'Others Wayfarer Sunglasses (Free Size)',\n",
       " 'UV Protection Aviator Sunglasses (58)',\n",
       " 'Riding Glasses, Night Vision Wrap-around Sunglasses (Fr...',\n",
       " 'UV Protection, Riding Glasses Wayfarer Sunglasses (53)',\n",
       " 'UV Protection Sports Sunglasses (73)']"
      ]
     },
     "execution_count": 96,
     "metadata": {},
     "output_type": "execute_result"
    }
   ],
   "source": [
    "Description"
   ]
  },
  {
   "cell_type": "code",
   "execution_count": 97,
   "id": "0e7c351f",
   "metadata": {},
   "outputs": [],
   "source": [
    "#cost\n",
    "cost= driver.find_elements_by_xpath(\"//div[@class='_30jeq3']\")\n",
    "price=[]\n",
    "for i in cost:\n",
    "    price.append(i.text)"
   ]
  },
  {
   "cell_type": "code",
   "execution_count": 98,
   "id": "3c761bd6",
   "metadata": {},
   "outputs": [
    {
     "data": {
      "text/plain": [
       "['₹349',\n",
       " '₹260',\n",
       " '₹276',\n",
       " '₹639',\n",
       " '₹248',\n",
       " '₹177',\n",
       " '₹200',\n",
       " '₹359',\n",
       " '₹189',\n",
       " '₹189',\n",
       " '₹259',\n",
       " '₹305',\n",
       " '₹187',\n",
       " '₹329',\n",
       " '₹189',\n",
       " '₹1,415',\n",
       " '₹189',\n",
       " '₹269',\n",
       " '₹259',\n",
       " '₹1,234',\n",
       " '₹187',\n",
       " '₹269',\n",
       " '₹499',\n",
       " '₹349',\n",
       " '₹239',\n",
       " '₹359',\n",
       " '₹270',\n",
       " '₹498',\n",
       " '₹311',\n",
       " '₹509',\n",
       " '₹689',\n",
       " '₹516',\n",
       " '₹231',\n",
       " '₹215',\n",
       " '₹759',\n",
       " '₹549',\n",
       " '₹299',\n",
       " '₹276',\n",
       " '₹198',\n",
       " '₹330']"
      ]
     },
     "execution_count": 98,
     "metadata": {},
     "output_type": "execute_result"
    }
   ],
   "source": [
    "price"
   ]
  },
  {
   "cell_type": "code",
   "execution_count": 99,
   "id": "ada3cb64",
   "metadata": {},
   "outputs": [],
   "source": [
    "\n",
    "#offer\n",
    "Off= driver.find_elements_by_xpath(\"//div[@class='_3Ay6Sb']\")\n",
    "offer=[]\n",
    "for i in Off:\n",
    "    offer.append(i.text)\n"
   ]
  },
  {
   "cell_type": "code",
   "execution_count": 100,
   "id": "675d1f60",
   "metadata": {},
   "outputs": [
    {
     "data": {
      "text/plain": [
       "['82% off',\n",
       " '82% off',\n",
       " '83% off',\n",
       " '20% off',\n",
       " '90% off',\n",
       " '89% off',\n",
       " '87% off',\n",
       " '76% off',\n",
       " '81% off',\n",
       " '82% off',\n",
       " '87% off',\n",
       " '84% off',\n",
       " '88% off',\n",
       " '83% off',\n",
       " '87% off',\n",
       " '29% off',\n",
       " '62% off',\n",
       " '86% off',\n",
       " '87% off',\n",
       " '58% off',\n",
       " '88% off',\n",
       " '83% off',\n",
       " '77% off',\n",
       " '82% off',\n",
       " '88% off',\n",
       " '76% off',\n",
       " '65% off',\n",
       " '67% off',\n",
       " '84% off',\n",
       " '36% off',\n",
       " '23% off',\n",
       " '66% off',\n",
       " '80% off',\n",
       " '78% off',\n",
       " '15% off',\n",
       " '45% off',\n",
       " '88% off',\n",
       " '88% off',\n",
       " '88% off',\n",
       " '73% off']"
      ]
     },
     "execution_count": 100,
     "metadata": {},
     "output_type": "execute_result"
    }
   ],
   "source": [
    "offer"
   ]
  },
  {
   "cell_type": "code",
   "execution_count": 101,
   "id": "cd64b83b",
   "metadata": {},
   "outputs": [],
   "source": [
    "#navigating to the next page\n",
    "next=driver.find_elements_by_xpath(\"//a[@class='_1LKTO3']\")[-1].click()"
   ]
  },
  {
   "cell_type": "code",
   "execution_count": 102,
   "id": "50536384",
   "metadata": {},
   "outputs": [],
   "source": [
    "#sunglasses in the next page\n",
    "title1 = driver.find_elements_by_xpath(\"//div[@class='_2WkVRV']\")\n",
    "sunglass1=[]\n",
    "for i in title1:\n",
    "    sunglass1.append(i.text)\n",
    "    "
   ]
  },
  {
   "cell_type": "code",
   "execution_count": 104,
   "id": "85cb2de9",
   "metadata": {},
   "outputs": [
    {
     "data": {
      "text/plain": [
       "['Fastrack',\n",
       " 'ROZZETTA CRAFT',\n",
       " 'Silver Kartz',\n",
       " 'VILLAIN',\n",
       " 'ROYAL SON',\n",
       " 'SHAAH COLLECTIONS',\n",
       " 'hipe',\n",
       " 'NuVew',\n",
       " 'Elligator',\n",
       " 'kingsunglasses',\n",
       " 'povty',\n",
       " 'AISLIN',\n",
       " 'kingsunglasses',\n",
       " 'elegante',\n",
       " 'PHENOMENAL',\n",
       " 'ROYAL SON',\n",
       " 'kingsunglasses',\n",
       " 'Elligator',\n",
       " 'PIRASO',\n",
       " 'AISLIN',\n",
       " 'agera',\n",
       " 'PIRASO',\n",
       " 'hipe',\n",
       " 'ROZZETTA CRAFT',\n",
       " 'Elligator',\n",
       " 'PIRASO',\n",
       " 'hipe',\n",
       " 'AISLIN',\n",
       " 'Elligator',\n",
       " 'kingsunglasses',\n",
       " 'kingsunglasses',\n",
       " 'ROZZETTA CRAFT',\n",
       " 'Rich Club',\n",
       " 'Singco India',\n",
       " 'PHENOMENAL',\n",
       " 'VAST',\n",
       " 'kingsunglasses',\n",
       " 'NuVew',\n",
       " 'DEIXELS',\n",
       " 'ROYAL SON']"
      ]
     },
     "execution_count": 104,
     "metadata": {},
     "output_type": "execute_result"
    }
   ],
   "source": [
    "sunglass1"
   ]
  },
  {
   "cell_type": "code",
   "execution_count": 105,
   "id": "8d5056de",
   "metadata": {},
   "outputs": [],
   "source": [
    "#Description in the next page\n",
    "Desc1= driver.find_elements_by_xpath(\"//a[@class='IRpwTa']\")\n",
    "Description1=[]\n",
    "for i in Desc1:\n",
    "    Description1.append(i.text)"
   ]
  },
  {
   "cell_type": "code",
   "execution_count": 106,
   "id": "027f73b5",
   "metadata": {},
   "outputs": [
    {
     "data": {
      "text/plain": [
       "['UV Protection Wayfarer Sunglasses (57)',\n",
       " 'UV Protection, Gradient Rectangular Sunglasses (Free Si...',\n",
       " 'UV Protection Wayfarer Sunglasses (Free Size)',\n",
       " 'Others Retro Square Sunglasses (Free Size)',\n",
       " 'UV Protection Rectangular Sunglasses (58)',\n",
       " 'UV Protection Round Sunglasses (Free Size)',\n",
       " 'UV Protection, Gradient, Mirrored, Riding Glasses Aviat...',\n",
       " 'UV Protection Round, Shield Sunglasses (53)',\n",
       " 'UV Protection Aviator Sunglasses (55)',\n",
       " 'UV Protection Rectangular Sunglasses (55)',\n",
       " 'UV Protection Retro Square Sunglasses (Free Size)',\n",
       " 'Polarized, UV Protection, Mirrored Wayfarer, Rectangula...',\n",
       " 'Mirrored, UV Protection Wayfarer Sunglasses (Free Size)',\n",
       " 'Mirrored Round Sunglasses (Free Size)',\n",
       " 'UV Protection, Mirrored Retro Square Sunglasses (Free S...',\n",
       " 'UV Protection Rectangular Sunglasses (50)',\n",
       " 'UV Protection, Mirrored Round Sunglasses (Free Size)',\n",
       " 'UV Protection, Riding Glasses Rectangular, Retro Square...',\n",
       " 'UV Protection, Polarized Aviator Sunglasses (32)',\n",
       " 'Polarized, UV Protection Wayfarer Sunglasses (56)',\n",
       " 'Gradient Aviator Sunglasses (55)',\n",
       " 'UV Protection Butterfly Sunglasses (65)',\n",
       " 'UV Protection, Night Vision, Gradient, Mirrored Round, ...',\n",
       " 'UV Protection, Gradient Retro Square Sunglasses (46)',\n",
       " 'UV Protection, Riding Glasses Rectangular, Retro Square...',\n",
       " 'UV Protection Wayfarer Sunglasses (32)',\n",
       " 'UV Protection, Night Vision, Riding Glasses, Gradient, ...',\n",
       " 'UV Protection, Gradient Cat-eye Sunglasses (58)',\n",
       " 'UV Protection Round Sunglasses (54)',\n",
       " 'Mirrored, UV Protection Wayfarer Sunglasses (53)',\n",
       " 'UV Protection Rectangular Sunglasses (55)',\n",
       " 'UV Protection, Gradient Retro Square Sunglasses (Free S...',\n",
       " 'Polarized Round Sunglasses (48)',\n",
       " 'Riding Glasses, UV Protection, Others Aviator Sunglasse...',\n",
       " 'UV Protection, Mirrored Retro Square Sunglasses (53)',\n",
       " 'Night Vision, Riding Glasses, UV Protection Wrap-around...',\n",
       " 'UV Protection Round Sunglasses (Free Size)',\n",
       " 'UV Protection, Night Vision, Riding Glasses Sports Sung...',\n",
       " 'Polarized, UV Protection, Riding Glasses Wayfarer Sungl...',\n",
       " 'UV Protection, Gradient Butterfly Sunglasses (52)']"
      ]
     },
     "execution_count": 106,
     "metadata": {},
     "output_type": "execute_result"
    }
   ],
   "source": [
    "Description1"
   ]
  },
  {
   "cell_type": "code",
   "execution_count": 107,
   "id": "80e524c8",
   "metadata": {},
   "outputs": [],
   "source": [
    "#cost of sunglasses in the next page\n",
    "cost1= driver.find_elements_by_xpath(\"//div[@class='_30jeq3']\")\n",
    "price1=[]\n",
    "for i in cost1:\n",
    "    price1.append(i.text)"
   ]
  },
  {
   "cell_type": "code",
   "execution_count": 108,
   "id": "22281ec3",
   "metadata": {},
   "outputs": [
    {
     "data": {
      "text/plain": [
       "['₹499',\n",
       " '₹383',\n",
       " '₹246',\n",
       " '₹549',\n",
       " '₹449',\n",
       " '₹296',\n",
       " '₹209',\n",
       " '₹185',\n",
       " '₹294',\n",
       " '₹259',\n",
       " '₹319',\n",
       " '₹1,135',\n",
       " '₹259',\n",
       " '₹340',\n",
       " '₹329',\n",
       " '₹569',\n",
       " '₹249',\n",
       " '₹318',\n",
       " '₹164',\n",
       " '₹1,135',\n",
       " '₹196',\n",
       " '₹336',\n",
       " '₹189',\n",
       " '₹349',\n",
       " '₹276',\n",
       " '₹187',\n",
       " '₹189',\n",
       " '₹485',\n",
       " '₹275',\n",
       " '₹299',\n",
       " '₹169',\n",
       " '₹349',\n",
       " '₹179',\n",
       " '₹252',\n",
       " '₹311',\n",
       " '₹799',\n",
       " '₹299',\n",
       " '₹272',\n",
       " '₹249',\n",
       " '₹664']"
      ]
     },
     "execution_count": 108,
     "metadata": {},
     "output_type": "execute_result"
    }
   ],
   "source": [
    "price1"
   ]
  },
  {
   "cell_type": "code",
   "execution_count": 109,
   "id": "209b8544",
   "metadata": {},
   "outputs": [],
   "source": [
    "#offer of the product in the nex page\n",
    "Off1= driver.find_elements_by_xpath(\"//div[@class='_3Ay6Sb']\")\n",
    "offer1=[]\n",
    "for i in Off1:\n",
    "    offer1.append(i.text)"
   ]
  },
  {
   "cell_type": "code",
   "execution_count": 110,
   "id": "77a7e1f3",
   "metadata": {},
   "outputs": [
    {
     "data": {
      "text/plain": [
       "['37% off',\n",
       " '80% off',\n",
       " '83% off',\n",
       " '26% off',\n",
       " '70% off',\n",
       " '82% off',\n",
       " '79% off',\n",
       " '81% off',\n",
       " '88% off',\n",
       " '82% off',\n",
       " '68% off',\n",
       " '73% off',\n",
       " '82% off',\n",
       " '82% off',\n",
       " '83% off',\n",
       " '71% off',\n",
       " '85% off',\n",
       " '78% off',\n",
       " '89% off',\n",
       " '73% off',\n",
       " '82% off',\n",
       " '87% off',\n",
       " '81% off',\n",
       " '82% off',\n",
       " '81% off',\n",
       " '88% off',\n",
       " '85% off',\n",
       " '68% off',\n",
       " '78% off',\n",
       " '85% off',\n",
       " '86% off',\n",
       " '82% off',\n",
       " '64% off',\n",
       " '83% off',\n",
       " '84% off',\n",
       " '73% off',\n",
       " '81% off',\n",
       " '65% off',\n",
       " '58% off',\n",
       " '66% off']"
      ]
     },
     "execution_count": 110,
     "metadata": {},
     "output_type": "execute_result"
    }
   ],
   "source": [
    "offer1"
   ]
  },
  {
   "cell_type": "code",
   "execution_count": 111,
   "id": "859bfbdf",
   "metadata": {},
   "outputs": [],
   "source": [
    "#Navigating to the next page\n",
    "next=driver.find_elements_by_xpath(\"//a[@class='_1LKTO3']\")[-1].click()"
   ]
  },
  {
   "cell_type": "code",
   "execution_count": 112,
   "id": "284f5a1c",
   "metadata": {},
   "outputs": [],
   "source": [
    "#Name of the product\n",
    "title2 = driver.find_elements_by_xpath(\"//div[@class='_2WkVRV']\")\n",
    "sunglass2=[]\n",
    "for i in title2[0:20]:\n",
    "    sunglass2.append(i.text)"
   ]
  },
  {
   "cell_type": "code",
   "execution_count": null,
   "id": "f4d3531a",
   "metadata": {},
   "outputs": [],
   "source": []
  },
  {
   "cell_type": "code",
   "execution_count": 114,
   "id": "bf8ba704",
   "metadata": {},
   "outputs": [
    {
     "data": {
      "text/plain": [
       "['ROYAL SON',\n",
       " 'ROYAL SON',\n",
       " 'SRPM',\n",
       " 'AISLIN',\n",
       " 'PIRASO',\n",
       " 'ROYAL SON',\n",
       " 'Elligator',\n",
       " 'NuVew',\n",
       " 'Singco India',\n",
       " 'Elligator',\n",
       " 'PIRASO',\n",
       " 'AISLIN',\n",
       " 'kingsunglasses',\n",
       " 'ROZZETTA CRAFT',\n",
       " 'MAXX',\n",
       " 'AISLIN',\n",
       " 'PHENOMENAL',\n",
       " 'GANSTA',\n",
       " 'Fastrack',\n",
       " 'AISLIN']"
      ]
     },
     "execution_count": 114,
     "metadata": {},
     "output_type": "execute_result"
    }
   ],
   "source": [
    "sunglass2"
   ]
  },
  {
   "cell_type": "code",
   "execution_count": 115,
   "id": "f92bb828",
   "metadata": {},
   "outputs": [],
   "source": [
    "#Description of the product\n",
    "Desc2= driver.find_elements_by_xpath(\"//a[@class='IRpwTa']\")\n",
    "Description2=[]\n",
    "for i in Desc2[0:20]:\n",
    "    Description2.append(i.text)"
   ]
  },
  {
   "cell_type": "code",
   "execution_count": 116,
   "id": "b0566cd2",
   "metadata": {},
   "outputs": [
    {
     "data": {
      "text/plain": [
       "['UV Protection Round Sunglasses (50)',\n",
       " 'Polarized Rectangular Sunglasses (65)',\n",
       " 'UV Protection Wayfarer Sunglasses (53)',\n",
       " 'UV Protection Wayfarer Sunglasses (55)',\n",
       " 'UV Protection Aviator Sunglasses (54)',\n",
       " 'UV Protection Rectangular Sunglasses (Free Size)',\n",
       " 'UV Protection, Riding Glasses Rectangular, Retro Square...',\n",
       " 'UV Protection, Gradient, Night Vision, Mirrored Aviator...',\n",
       " 'UV Protection, Riding Glasses, Others Aviator, Wayfarer...',\n",
       " 'Mirrored Round Sunglasses (53)',\n",
       " 'UV Protection Aviator Sunglasses (58)',\n",
       " 'Polarized, UV Protection Wayfarer, Rectangular Sunglass...',\n",
       " 'UV Protection, Mirrored Round Sunglasses (54)',\n",
       " 'UV Protection, Gradient Retro Square Sunglasses (Free S...',\n",
       " 'UV Protection Aviator Sunglasses (Free Size)',\n",
       " 'UV Protection, Mirrored Wayfarer, Rectangular Sunglasse...',\n",
       " 'UV Protection Round Sunglasses (53)',\n",
       " 'UV Protection, Mirrored Wayfarer Sunglasses (53)',\n",
       " 'Gradient, UV Protection Wayfarer Sunglasses (Free Size)',\n",
       " 'Polarized, UV Protection Wayfarer Sunglasses (52)']"
      ]
     },
     "execution_count": 116,
     "metadata": {},
     "output_type": "execute_result"
    }
   ],
   "source": [
    "Description2"
   ]
  },
  {
   "cell_type": "code",
   "execution_count": 117,
   "id": "ee9ccdd9",
   "metadata": {},
   "outputs": [],
   "source": [
    "#cost of the product\n",
    "cost2= driver.find_elements_by_xpath(\"//div[@class='_30jeq3']\")\n",
    "price2=[]\n",
    "for i in cost2[0:20]:\n",
    "    price2.append(i.text)"
   ]
  },
  {
   "cell_type": "code",
   "execution_count": 118,
   "id": "92f4b058",
   "metadata": {},
   "outputs": [
    {
     "data": {
      "text/plain": [
       "['₹359',\n",
       " '₹664',\n",
       " '₹220',\n",
       " '₹421',\n",
       " '₹189',\n",
       " '₹449',\n",
       " '₹332',\n",
       " '₹365',\n",
       " '₹229',\n",
       " '₹263',\n",
       " '₹299',\n",
       " '₹1,085',\n",
       " '₹219',\n",
       " '₹349',\n",
       " '₹175',\n",
       " '₹1,045',\n",
       " '₹249',\n",
       " '₹196',\n",
       " '₹659',\n",
       " '₹1,125']"
      ]
     },
     "execution_count": 118,
     "metadata": {},
     "output_type": "execute_result"
    }
   ],
   "source": [
    "price2"
   ]
  },
  {
   "cell_type": "code",
   "execution_count": 119,
   "id": "9d93c3d0",
   "metadata": {},
   "outputs": [],
   "source": [
    "#offer on the product\n",
    "Off2= driver.find_elements_by_xpath(\"//div[@class='_3Ay6Sb']\")\n",
    "offer2=[]\n",
    "for i in Off2[0:20]:\n",
    "    offer2.append(i.text)"
   ]
  },
  {
   "cell_type": "code",
   "execution_count": 120,
   "id": "7509fd70",
   "metadata": {},
   "outputs": [
    {
     "data": {
      "text/plain": [
       "['76% off',\n",
       " '66% off',\n",
       " '77% off',\n",
       " '80% off',\n",
       " '88% off',\n",
       " '70% off',\n",
       " '77% off',\n",
       " '68% off',\n",
       " '67% off',\n",
       " '89% off',\n",
       " '88% off',\n",
       " '72% off',\n",
       " '81% off',\n",
       " '82% off',\n",
       " '80% off',\n",
       " '73% off',\n",
       " '89% off',\n",
       " '80% off',\n",
       " '17% off',\n",
       " '73% off']"
      ]
     },
     "execution_count": 120,
     "metadata": {},
     "output_type": "execute_result"
    }
   ],
   "source": [
    "offer2"
   ]
  },
  {
   "cell_type": "code",
   "execution_count": 121,
   "id": "41a01ec0",
   "metadata": {},
   "outputs": [
    {
     "data": {
      "text/plain": [
       "['ROZZETTA CRAFT',\n",
       " 'Fravy',\n",
       " 'SUNBEE',\n",
       " 'Fastrack',\n",
       " 'Elligator',\n",
       " 'SHAAH COLLECTIONS',\n",
       " 'PIRASO',\n",
       " 'elegante',\n",
       " 'SHAAH COLLECTIONS',\n",
       " 'kingsunglasses',\n",
       " 'kingsunglasses',\n",
       " 'Fravy',\n",
       " 'PIRASO',\n",
       " 'PHENOMENAL',\n",
       " 'hipe',\n",
       " 'VINCENT CHASE',\n",
       " 'Rich Club',\n",
       " 'GANSTA',\n",
       " 'New Specs',\n",
       " 'ROYAL SON',\n",
       " 'PIRASO',\n",
       " 'New Specs',\n",
       " 'ROZZETTA CRAFT',\n",
       " 'ROZZETTA CRAFT',\n",
       " 'Elligator',\n",
       " 'ROYAL SON',\n",
       " 'NuVew',\n",
       " 'AISLIN',\n",
       " 'PHENOMENAL',\n",
       " 'Fastrack',\n",
       " 'Fastrack',\n",
       " 'AISLIN',\n",
       " 'HIPPON',\n",
       " 'SUNBEE',\n",
       " 'Fastrack',\n",
       " 'VILLAIN',\n",
       " 'PIRASO',\n",
       " 'Lee Topper',\n",
       " 'GANSTA',\n",
       " 'NuVew',\n",
       " 'Fastrack',\n",
       " 'ROZZETTA CRAFT',\n",
       " 'Silver Kartz',\n",
       " 'VILLAIN',\n",
       " 'ROYAL SON',\n",
       " 'SHAAH COLLECTIONS',\n",
       " 'hipe',\n",
       " 'NuVew',\n",
       " 'Elligator',\n",
       " 'kingsunglasses',\n",
       " 'povty',\n",
       " 'AISLIN',\n",
       " 'kingsunglasses',\n",
       " 'elegante',\n",
       " 'PHENOMENAL',\n",
       " 'ROYAL SON',\n",
       " 'kingsunglasses',\n",
       " 'Elligator',\n",
       " 'PIRASO',\n",
       " 'AISLIN',\n",
       " 'agera',\n",
       " 'PIRASO',\n",
       " 'hipe',\n",
       " 'ROZZETTA CRAFT',\n",
       " 'Elligator',\n",
       " 'PIRASO',\n",
       " 'hipe',\n",
       " 'AISLIN',\n",
       " 'Elligator',\n",
       " 'kingsunglasses',\n",
       " 'kingsunglasses',\n",
       " 'ROZZETTA CRAFT',\n",
       " 'Rich Club',\n",
       " 'Singco India',\n",
       " 'PHENOMENAL',\n",
       " 'VAST',\n",
       " 'kingsunglasses',\n",
       " 'NuVew',\n",
       " 'DEIXELS',\n",
       " 'ROYAL SON',\n",
       " 'ROYAL SON',\n",
       " 'ROYAL SON',\n",
       " 'SRPM',\n",
       " 'AISLIN',\n",
       " 'PIRASO',\n",
       " 'ROYAL SON',\n",
       " 'Elligator',\n",
       " 'NuVew',\n",
       " 'Singco India',\n",
       " 'Elligator',\n",
       " 'PIRASO',\n",
       " 'AISLIN',\n",
       " 'kingsunglasses',\n",
       " 'ROZZETTA CRAFT',\n",
       " 'MAXX',\n",
       " 'AISLIN',\n",
       " 'PHENOMENAL',\n",
       " 'GANSTA',\n",
       " 'Fastrack',\n",
       " 'AISLIN']"
      ]
     },
     "execution_count": 121,
     "metadata": {},
     "output_type": "execute_result"
    }
   ],
   "source": [
    "#creating a list\n",
    "sunglass.extend(sunglass1)\n",
    "sunglass.extend(sunglass2)\n",
    "sunglass"
   ]
  },
  {
   "cell_type": "code",
   "execution_count": 124,
   "id": "2be7968a",
   "metadata": {},
   "outputs": [
    {
     "data": {
      "text/plain": [
       "['UV Protection, Gradient Retro Square Sunglasses (Free S...',\n",
       " 'UV Protection, Others Retro Square Sunglasses (Free Siz...',\n",
       " 'UV Protection, Polarized, Mirrored Round Sunglasses (Fr...',\n",
       " 'UV Protection Rectangular Sunglasses (Free Size)',\n",
       " 'UV Protection Round Sunglasses (54)',\n",
       " 'UV Protection, Polarized, Mirrored Rectangular Sunglass...',\n",
       " 'UV Protection Aviator Sunglasses (54)',\n",
       " 'UV Protection Oval Sunglasses (Free Size)',\n",
       " 'UV Protection, Polarized, Mirrored Rectangular Sunglass...',\n",
       " 'UV Protection Round Sunglasses (54)',\n",
       " 'Mirrored, UV Protection Wayfarer Sunglasses (Free Size)',\n",
       " 'UV Protection, Gradient, Night Vision Retro Square Sung...',\n",
       " 'UV Protection Aviator Sunglasses (54)',\n",
       " 'UV Protection Retro Square Sunglasses (Free Size)',\n",
       " 'Mirrored, UV Protection, Gradient Round Sunglasses (55)',\n",
       " 'UV Protection, Polarized Round Sunglasses (Free Size)',\n",
       " 'Polarized Round Sunglasses (48)',\n",
       " 'UV Protection Aviator Sunglasses (57)',\n",
       " 'UV Protection Rectangular Sunglasses (Free Size)',\n",
       " 'Polarized, UV Protection, Gradient Over-sized, Butterfl...',\n",
       " 'UV Protection Aviator Sunglasses (54)',\n",
       " 'Mirrored, UV Protection, Riding Glasses, Others Round S...',\n",
       " 'UV Protection Retro Square Sunglasses (Free Size)',\n",
       " 'UV Protection, Gradient Retro Square Sunglasses (Free S...',\n",
       " 'UV Protection Round Sunglasses (55)',\n",
       " 'Mirrored Aviator Sunglasses (55)',\n",
       " 'UV Protection, Night Vision, Riding Glasses Sports Sung...',\n",
       " 'UV Protection, Gradient Oval Sunglasses (58)',\n",
       " 'UV Protection, Mirrored Retro Square Sunglasses (53)',\n",
       " 'Gradient, UV Protection Wayfarer Sunglasses (Free Size)',\n",
       " 'UV Protection Aviator Sunglasses (Free Size)',\n",
       " 'UV Protection, Gradient Butterfly, Wayfarer Sunglasses ...',\n",
       " 'UV Protection Wayfarer Sunglasses (55)',\n",
       " 'UV Protection, Polarized, Mirrored Wayfarer Sunglasses ...',\n",
       " 'UV Protection Wayfarer Sunglasses (Free Size)',\n",
       " 'Others Wayfarer Sunglasses (Free Size)',\n",
       " 'UV Protection Aviator Sunglasses (58)',\n",
       " 'Riding Glasses, Night Vision Wrap-around Sunglasses (Fr...',\n",
       " 'UV Protection, Riding Glasses Wayfarer Sunglasses (53)',\n",
       " 'UV Protection Sports Sunglasses (73)',\n",
       " 'UV Protection Wayfarer Sunglasses (57)',\n",
       " 'UV Protection, Gradient Rectangular Sunglasses (Free Si...',\n",
       " 'UV Protection Wayfarer Sunglasses (Free Size)',\n",
       " 'Others Retro Square Sunglasses (Free Size)',\n",
       " 'UV Protection Rectangular Sunglasses (58)',\n",
       " 'UV Protection Round Sunglasses (Free Size)',\n",
       " 'UV Protection, Gradient, Mirrored, Riding Glasses Aviat...',\n",
       " 'UV Protection Round, Shield Sunglasses (53)',\n",
       " 'UV Protection Aviator Sunglasses (55)',\n",
       " 'UV Protection Rectangular Sunglasses (55)',\n",
       " 'UV Protection Retro Square Sunglasses (Free Size)',\n",
       " 'Polarized, UV Protection, Mirrored Wayfarer, Rectangula...',\n",
       " 'Mirrored, UV Protection Wayfarer Sunglasses (Free Size)',\n",
       " 'Mirrored Round Sunglasses (Free Size)',\n",
       " 'UV Protection, Mirrored Retro Square Sunglasses (Free S...',\n",
       " 'UV Protection Rectangular Sunglasses (50)',\n",
       " 'UV Protection, Mirrored Round Sunglasses (Free Size)',\n",
       " 'UV Protection, Riding Glasses Rectangular, Retro Square...',\n",
       " 'UV Protection, Polarized Aviator Sunglasses (32)',\n",
       " 'Polarized, UV Protection Wayfarer Sunglasses (56)',\n",
       " 'Gradient Aviator Sunglasses (55)',\n",
       " 'UV Protection Butterfly Sunglasses (65)',\n",
       " 'UV Protection, Night Vision, Gradient, Mirrored Round, ...',\n",
       " 'UV Protection, Gradient Retro Square Sunglasses (46)',\n",
       " 'UV Protection, Riding Glasses Rectangular, Retro Square...',\n",
       " 'UV Protection Wayfarer Sunglasses (32)',\n",
       " 'UV Protection, Night Vision, Riding Glasses, Gradient, ...',\n",
       " 'UV Protection, Gradient Cat-eye Sunglasses (58)',\n",
       " 'UV Protection Round Sunglasses (54)',\n",
       " 'Mirrored, UV Protection Wayfarer Sunglasses (53)',\n",
       " 'UV Protection Rectangular Sunglasses (55)',\n",
       " 'UV Protection, Gradient Retro Square Sunglasses (Free S...',\n",
       " 'Polarized Round Sunglasses (48)',\n",
       " 'Riding Glasses, UV Protection, Others Aviator Sunglasse...',\n",
       " 'UV Protection, Mirrored Retro Square Sunglasses (53)',\n",
       " 'Night Vision, Riding Glasses, UV Protection Wrap-around...',\n",
       " 'UV Protection Round Sunglasses (Free Size)',\n",
       " 'UV Protection, Night Vision, Riding Glasses Sports Sung...',\n",
       " 'Polarized, UV Protection, Riding Glasses Wayfarer Sungl...',\n",
       " 'UV Protection, Gradient Butterfly Sunglasses (52)',\n",
       " 'UV Protection Round Sunglasses (50)',\n",
       " 'Polarized Rectangular Sunglasses (65)',\n",
       " 'UV Protection Wayfarer Sunglasses (53)',\n",
       " 'UV Protection Wayfarer Sunglasses (55)',\n",
       " 'UV Protection Aviator Sunglasses (54)',\n",
       " 'UV Protection Rectangular Sunglasses (Free Size)',\n",
       " 'UV Protection, Riding Glasses Rectangular, Retro Square...',\n",
       " 'UV Protection, Gradient, Night Vision, Mirrored Aviator...',\n",
       " 'UV Protection, Riding Glasses, Others Aviator, Wayfarer...',\n",
       " 'Mirrored Round Sunglasses (53)',\n",
       " 'UV Protection Aviator Sunglasses (58)',\n",
       " 'Polarized, UV Protection Wayfarer, Rectangular Sunglass...',\n",
       " 'UV Protection, Mirrored Round Sunglasses (54)',\n",
       " 'UV Protection, Gradient Retro Square Sunglasses (Free S...',\n",
       " 'UV Protection Aviator Sunglasses (Free Size)',\n",
       " 'UV Protection, Mirrored Wayfarer, Rectangular Sunglasse...',\n",
       " 'UV Protection Round Sunglasses (53)',\n",
       " 'UV Protection, Mirrored Wayfarer Sunglasses (53)',\n",
       " 'Gradient, UV Protection Wayfarer Sunglasses (Free Size)',\n",
       " 'Polarized, UV Protection Wayfarer Sunglasses (52)',\n",
       " 'UV Protection Wayfarer Sunglasses (57)',\n",
       " 'UV Protection, Gradient Rectangular Sunglasses (Free Si...',\n",
       " 'UV Protection Wayfarer Sunglasses (Free Size)',\n",
       " 'Others Retro Square Sunglasses (Free Size)',\n",
       " 'UV Protection Rectangular Sunglasses (58)',\n",
       " 'UV Protection Round Sunglasses (Free Size)',\n",
       " 'UV Protection, Gradient, Mirrored, Riding Glasses Aviat...',\n",
       " 'UV Protection Round, Shield Sunglasses (53)',\n",
       " 'UV Protection Aviator Sunglasses (55)',\n",
       " 'UV Protection Rectangular Sunglasses (55)',\n",
       " 'UV Protection Retro Square Sunglasses (Free Size)',\n",
       " 'Polarized, UV Protection, Mirrored Wayfarer, Rectangula...',\n",
       " 'Mirrored, UV Protection Wayfarer Sunglasses (Free Size)',\n",
       " 'Mirrored Round Sunglasses (Free Size)',\n",
       " 'UV Protection, Mirrored Retro Square Sunglasses (Free S...',\n",
       " 'UV Protection Rectangular Sunglasses (50)',\n",
       " 'UV Protection, Mirrored Round Sunglasses (Free Size)',\n",
       " 'UV Protection, Riding Glasses Rectangular, Retro Square...',\n",
       " 'UV Protection, Polarized Aviator Sunglasses (32)',\n",
       " 'Polarized, UV Protection Wayfarer Sunglasses (56)',\n",
       " 'Gradient Aviator Sunglasses (55)',\n",
       " 'UV Protection Butterfly Sunglasses (65)',\n",
       " 'UV Protection, Night Vision, Gradient, Mirrored Round, ...',\n",
       " 'UV Protection, Gradient Retro Square Sunglasses (46)',\n",
       " 'UV Protection, Riding Glasses Rectangular, Retro Square...',\n",
       " 'UV Protection Wayfarer Sunglasses (32)',\n",
       " 'UV Protection, Night Vision, Riding Glasses, Gradient, ...',\n",
       " 'UV Protection, Gradient Cat-eye Sunglasses (58)',\n",
       " 'UV Protection Round Sunglasses (54)',\n",
       " 'Mirrored, UV Protection Wayfarer Sunglasses (53)',\n",
       " 'UV Protection Rectangular Sunglasses (55)',\n",
       " 'UV Protection, Gradient Retro Square Sunglasses (Free S...',\n",
       " 'Polarized Round Sunglasses (48)',\n",
       " 'Riding Glasses, UV Protection, Others Aviator Sunglasse...',\n",
       " 'UV Protection, Mirrored Retro Square Sunglasses (53)',\n",
       " 'Night Vision, Riding Glasses, UV Protection Wrap-around...',\n",
       " 'UV Protection Round Sunglasses (Free Size)',\n",
       " 'UV Protection, Night Vision, Riding Glasses Sports Sung...',\n",
       " 'Polarized, UV Protection, Riding Glasses Wayfarer Sungl...',\n",
       " 'UV Protection, Gradient Butterfly Sunglasses (52)',\n",
       " 'UV Protection Round Sunglasses (50)',\n",
       " 'Polarized Rectangular Sunglasses (65)',\n",
       " 'UV Protection Wayfarer Sunglasses (53)',\n",
       " 'UV Protection Wayfarer Sunglasses (55)',\n",
       " 'UV Protection Aviator Sunglasses (54)',\n",
       " 'UV Protection Rectangular Sunglasses (Free Size)',\n",
       " 'UV Protection, Riding Glasses Rectangular, Retro Square...',\n",
       " 'UV Protection, Gradient, Night Vision, Mirrored Aviator...',\n",
       " 'UV Protection, Riding Glasses, Others Aviator, Wayfarer...',\n",
       " 'Mirrored Round Sunglasses (53)',\n",
       " 'UV Protection Aviator Sunglasses (58)',\n",
       " 'Polarized, UV Protection Wayfarer, Rectangular Sunglass...',\n",
       " 'UV Protection, Mirrored Round Sunglasses (54)',\n",
       " 'UV Protection, Gradient Retro Square Sunglasses (Free S...',\n",
       " 'UV Protection Aviator Sunglasses (Free Size)',\n",
       " 'UV Protection, Mirrored Wayfarer, Rectangular Sunglasse...',\n",
       " 'UV Protection Round Sunglasses (53)',\n",
       " 'UV Protection, Mirrored Wayfarer Sunglasses (53)',\n",
       " 'Gradient, UV Protection Wayfarer Sunglasses (Free Size)',\n",
       " 'Polarized, UV Protection Wayfarer Sunglasses (52)']"
      ]
     },
     "execution_count": 124,
     "metadata": {},
     "output_type": "execute_result"
    }
   ],
   "source": [
    "Description.extend(Description1)\n",
    "Description.extend(Description2)\n",
    "Description"
   ]
  },
  {
   "cell_type": "code",
   "execution_count": 35,
   "id": "527115f6",
   "metadata": {},
   "outputs": [
    {
     "data": {
      "text/plain": [
       "['₹758',\n",
       " '₹689',\n",
       " '₹276',\n",
       " '₹513',\n",
       " '₹264',\n",
       " '₹200',\n",
       " '₹177',\n",
       " '₹1,059',\n",
       " '₹188',\n",
       " '₹254',\n",
       " '₹200',\n",
       " '₹733',\n",
       " '₹189',\n",
       " '₹189',\n",
       " '₹259',\n",
       " '₹503',\n",
       " '₹231',\n",
       " '₹329',\n",
       " '₹499',\n",
       " '₹1,115',\n",
       " '₹189',\n",
       " '₹259',\n",
       " '₹294',\n",
       " '₹822',\n",
       " '₹270',\n",
       " '₹246',\n",
       " '₹239',\n",
       " '₹738',\n",
       " '₹296',\n",
       " '₹179',\n",
       " '₹269',\n",
       " '₹689',\n",
       " '₹383',\n",
       " '₹215',\n",
       " '₹209',\n",
       " '₹689',\n",
       " '₹332',\n",
       " '₹200',\n",
       " '₹311',\n",
       " '₹426',\n",
       " '₹569',\n",
       " '₹209',\n",
       " '₹329',\n",
       " '₹513',\n",
       " '₹359',\n",
       " '₹758',\n",
       " '₹249',\n",
       " '₹758',\n",
       " '₹220',\n",
       " '₹279',\n",
       " '₹509',\n",
       " '₹689',\n",
       " '₹287',\n",
       " '₹219',\n",
       " '₹319',\n",
       " '₹1,059',\n",
       " '₹325',\n",
       " '₹196',\n",
       " '₹263',\n",
       " '₹733',\n",
       " '₹259',\n",
       " '₹259',\n",
       " '₹276',\n",
       " '₹503',\n",
       " '₹359',\n",
       " '₹175',\n",
       " '₹332',\n",
       " '₹1,115',\n",
       " '₹426',\n",
       " '₹329',\n",
       " '₹226',\n",
       " '₹822',\n",
       " '₹189',\n",
       " '₹340',\n",
       " '₹200',\n",
       " '₹738',\n",
       " '₹449',\n",
       " '₹449',\n",
       " '₹189',\n",
       " '₹689',\n",
       " '₹499',\n",
       " '₹166',\n",
       " '₹260',\n",
       " '₹359',\n",
       " '₹311',\n",
       " '₹296',\n",
       " '₹189',\n",
       " '₹339',\n",
       " '₹224',\n",
       " '₹359',\n",
       " '₹179',\n",
       " '₹289',\n",
       " '₹299',\n",
       " '₹255',\n",
       " '₹284',\n",
       " '₹664',\n",
       " '₹319',\n",
       " '₹467',\n",
       " '₹296',\n",
       " '₹655']"
      ]
     },
     "execution_count": 35,
     "metadata": {},
     "output_type": "execute_result"
    }
   ],
   "source": [
    "price.extend(price1)\n",
    "price.extend(price2)\n",
    "price"
   ]
  },
  {
   "cell_type": "code",
   "execution_count": 123,
   "id": "44952cb8",
   "metadata": {},
   "outputs": [
    {
     "data": {
      "text/plain": [
       "['82% off',\n",
       " '82% off',\n",
       " '83% off',\n",
       " '20% off',\n",
       " '90% off',\n",
       " '89% off',\n",
       " '87% off',\n",
       " '76% off',\n",
       " '81% off',\n",
       " '82% off',\n",
       " '87% off',\n",
       " '84% off',\n",
       " '88% off',\n",
       " '83% off',\n",
       " '87% off',\n",
       " '29% off',\n",
       " '62% off',\n",
       " '86% off',\n",
       " '87% off',\n",
       " '58% off',\n",
       " '88% off',\n",
       " '83% off',\n",
       " '77% off',\n",
       " '82% off',\n",
       " '88% off',\n",
       " '76% off',\n",
       " '65% off',\n",
       " '67% off',\n",
       " '84% off',\n",
       " '36% off',\n",
       " '23% off',\n",
       " '66% off',\n",
       " '80% off',\n",
       " '78% off',\n",
       " '15% off',\n",
       " '45% off',\n",
       " '88% off',\n",
       " '88% off',\n",
       " '88% off',\n",
       " '73% off',\n",
       " '37% off',\n",
       " '80% off',\n",
       " '83% off',\n",
       " '26% off',\n",
       " '70% off',\n",
       " '82% off',\n",
       " '79% off',\n",
       " '81% off',\n",
       " '88% off',\n",
       " '82% off',\n",
       " '68% off',\n",
       " '73% off',\n",
       " '82% off',\n",
       " '82% off',\n",
       " '83% off',\n",
       " '71% off',\n",
       " '85% off',\n",
       " '78% off',\n",
       " '89% off',\n",
       " '73% off',\n",
       " '82% off',\n",
       " '87% off',\n",
       " '81% off',\n",
       " '82% off',\n",
       " '81% off',\n",
       " '88% off',\n",
       " '85% off',\n",
       " '68% off',\n",
       " '78% off',\n",
       " '85% off',\n",
       " '86% off',\n",
       " '82% off',\n",
       " '64% off',\n",
       " '83% off',\n",
       " '84% off',\n",
       " '73% off',\n",
       " '81% off',\n",
       " '65% off',\n",
       " '58% off',\n",
       " '66% off',\n",
       " '76% off',\n",
       " '66% off',\n",
       " '77% off',\n",
       " '80% off',\n",
       " '88% off',\n",
       " '70% off',\n",
       " '77% off',\n",
       " '68% off',\n",
       " '67% off',\n",
       " '89% off',\n",
       " '88% off',\n",
       " '72% off',\n",
       " '81% off',\n",
       " '82% off',\n",
       " '80% off',\n",
       " '73% off',\n",
       " '89% off',\n",
       " '80% off',\n",
       " '17% off',\n",
       " '73% off']"
      ]
     },
     "execution_count": 123,
     "metadata": {},
     "output_type": "execute_result"
    }
   ],
   "source": [
    "offer.extend(offer1)\n",
    "offer.extend(offer2)\n",
    "offer"
   ]
  },
  {
   "cell_type": "code",
   "execution_count": 37,
   "id": "7977c208",
   "metadata": {},
   "outputs": [],
   "source": [
    "data=list(zip(sunglass,Description,price,offer))"
   ]
  },
  {
   "cell_type": "code",
   "execution_count": 38,
   "id": "206f737a",
   "metadata": {},
   "outputs": [],
   "source": [
    "df=pd.DataFrame(data,columns=['Sunglass','Description','Price','Offer'])"
   ]
  },
  {
   "cell_type": "code",
   "execution_count": 39,
   "id": "9e7fce8c",
   "metadata": {},
   "outputs": [
    {
     "data": {
      "text/html": [
       "<div>\n",
       "<style scoped>\n",
       "    .dataframe tbody tr th:only-of-type {\n",
       "        vertical-align: middle;\n",
       "    }\n",
       "\n",
       "    .dataframe tbody tr th {\n",
       "        vertical-align: top;\n",
       "    }\n",
       "\n",
       "    .dataframe thead th {\n",
       "        text-align: right;\n",
       "    }\n",
       "</style>\n",
       "<table border=\"1\" class=\"dataframe\">\n",
       "  <thead>\n",
       "    <tr style=\"text-align: right;\">\n",
       "      <th></th>\n",
       "      <th>Sunglass</th>\n",
       "      <th>Description</th>\n",
       "      <th>Price</th>\n",
       "      <th>Offer</th>\n",
       "    </tr>\n",
       "  </thead>\n",
       "  <tbody>\n",
       "    <tr>\n",
       "      <th>0</th>\n",
       "      <td>Fastrack</td>\n",
       "      <td>UV Protection Wayfarer Sunglasses (Free Size)</td>\n",
       "      <td>₹758</td>\n",
       "      <td>15% off</td>\n",
       "    </tr>\n",
       "    <tr>\n",
       "      <th>1</th>\n",
       "      <td>Fastrack</td>\n",
       "      <td>UV Protection Wayfarer Sunglasses (Free Size)</td>\n",
       "      <td>₹689</td>\n",
       "      <td>23% off</td>\n",
       "    </tr>\n",
       "    <tr>\n",
       "      <th>2</th>\n",
       "      <td>SUNBEE</td>\n",
       "      <td>UV Protection, Polarized, Mirrored Round Sungl...</td>\n",
       "      <td>₹276</td>\n",
       "      <td>83% off</td>\n",
       "    </tr>\n",
       "    <tr>\n",
       "      <th>3</th>\n",
       "      <td>Fastrack</td>\n",
       "      <td>UV Protection Rectangular Sunglasses (Free Size)</td>\n",
       "      <td>₹513</td>\n",
       "      <td>35% off</td>\n",
       "    </tr>\n",
       "    <tr>\n",
       "      <th>4</th>\n",
       "      <td>Elligator</td>\n",
       "      <td>UV Protection Round Sunglasses (54)</td>\n",
       "      <td>₹264</td>\n",
       "      <td>89% off</td>\n",
       "    </tr>\n",
       "    <tr>\n",
       "      <th>...</th>\n",
       "      <td>...</td>\n",
       "      <td>...</td>\n",
       "      <td>...</td>\n",
       "      <td>...</td>\n",
       "    </tr>\n",
       "    <tr>\n",
       "      <th>95</th>\n",
       "      <td>ROYAL SON</td>\n",
       "      <td>Polarized, UV Protection Rectangular Sunglasse...</td>\n",
       "      <td>₹664</td>\n",
       "      <td>55% off</td>\n",
       "    </tr>\n",
       "    <tr>\n",
       "      <th>96</th>\n",
       "      <td>Elligator</td>\n",
       "      <td>UV Protection Wayfarer Sunglasses (53)</td>\n",
       "      <td>₹319</td>\n",
       "      <td>90% off</td>\n",
       "    </tr>\n",
       "    <tr>\n",
       "      <th>97</th>\n",
       "      <td>PETER JONES</td>\n",
       "      <td>Night Vision, Riding Glasses, UV Protection Wr...</td>\n",
       "      <td>₹467</td>\n",
       "      <td>68% off</td>\n",
       "    </tr>\n",
       "    <tr>\n",
       "      <th>98</th>\n",
       "      <td>GANSTA</td>\n",
       "      <td>UV Protection, Gradient Wayfarer Sunglasses (53)</td>\n",
       "      <td>₹296</td>\n",
       "      <td>85% off</td>\n",
       "    </tr>\n",
       "    <tr>\n",
       "      <th>99</th>\n",
       "      <td>Fastrack</td>\n",
       "      <td>Gradient, UV Protection Wayfarer Sunglasses (F...</td>\n",
       "      <td>₹655</td>\n",
       "      <td>18% off</td>\n",
       "    </tr>\n",
       "  </tbody>\n",
       "</table>\n",
       "<p>100 rows × 4 columns</p>\n",
       "</div>"
      ],
      "text/plain": [
       "       Sunglass                                        Description Price  \\\n",
       "0      Fastrack      UV Protection Wayfarer Sunglasses (Free Size)  ₹758   \n",
       "1      Fastrack      UV Protection Wayfarer Sunglasses (Free Size)  ₹689   \n",
       "2        SUNBEE  UV Protection, Polarized, Mirrored Round Sungl...  ₹276   \n",
       "3      Fastrack   UV Protection Rectangular Sunglasses (Free Size)  ₹513   \n",
       "4     Elligator                UV Protection Round Sunglasses (54)  ₹264   \n",
       "..          ...                                                ...   ...   \n",
       "95    ROYAL SON  Polarized, UV Protection Rectangular Sunglasse...  ₹664   \n",
       "96    Elligator             UV Protection Wayfarer Sunglasses (53)  ₹319   \n",
       "97  PETER JONES  Night Vision, Riding Glasses, UV Protection Wr...  ₹467   \n",
       "98       GANSTA   UV Protection, Gradient Wayfarer Sunglasses (53)  ₹296   \n",
       "99     Fastrack  Gradient, UV Protection Wayfarer Sunglasses (F...  ₹655   \n",
       "\n",
       "      Offer  \n",
       "0   15% off  \n",
       "1   23% off  \n",
       "2   83% off  \n",
       "3   35% off  \n",
       "4   89% off  \n",
       "..      ...  \n",
       "95  55% off  \n",
       "96  90% off  \n",
       "97  68% off  \n",
       "98  85% off  \n",
       "99  18% off  \n",
       "\n",
       "[100 rows x 4 columns]"
      ]
     },
     "execution_count": 39,
     "metadata": {},
     "output_type": "execute_result"
    }
   ],
   "source": [
    "df"
   ]
  },
  {
   "cell_type": "markdown",
   "id": "d5995fff",
   "metadata": {},
   "source": [
    "Q5: Scrape 100 reviews data from flipkart.com for iphone11 phone. Y"
   ]
  },
  {
   "cell_type": "code",
   "execution_count": 125,
   "id": "814541e2",
   "metadata": {},
   "outputs": [],
   "source": [
    "import selenium\n",
    "import pandas as pd\n",
    "from selenium import webdriver\n",
    "from selenium.webdriver.common.keys import Keys\n",
    "import warnings\n",
    "warnings.filterwarnings('ignore')"
   ]
  },
  {
   "cell_type": "code",
   "execution_count": 126,
   "id": "6f2fbd5c",
   "metadata": {},
   "outputs": [],
   "source": [
    "driver=webdriver.Chrome(r\"C:\\Users\\Grace Amirtham\\Downloads\\chromedriver_win32\\chromedriver.exe\")\n",
    "driver.get(\"https://www.flipkart.com/apple-iphone-11-black-64-gb-includes-%20earpods-power%02adapter/p/itm0f37c2240b217?pid=MOBFKCTSVZAXUHGR&lid=LSTMOBFKC%20TSVZAXUHGREPBFGI&marketplace.\")"
   ]
  },
  {
   "cell_type": "code",
   "execution_count": 132,
   "id": "81532a22",
   "metadata": {},
   "outputs": [],
   "source": [
    "#Phone rating\n",
    "Rating = driver.find_elements_by_xpath(\"//div[@class='_3LWZlK _1BLPMq']\")\n",
    "Phone_rating=[]\n",
    "for i in Rating:\n",
    "    Phone_rating.append(i.text)"
   ]
  },
  {
   "cell_type": "code",
   "execution_count": 133,
   "id": "e4a49dfc",
   "metadata": {},
   "outputs": [
    {
     "data": {
      "text/plain": [
       "['5', '5', '5', '5', '5', '5', '5', '4', '5', '5']"
      ]
     },
     "execution_count": 133,
     "metadata": {},
     "output_type": "execute_result"
    }
   ],
   "source": [
    "Phone_rating"
   ]
  },
  {
   "cell_type": "code",
   "execution_count": 135,
   "id": "94913fe8",
   "metadata": {},
   "outputs": [],
   "source": [
    "#Review summary\n",
    "Summary = driver.find_elements_by_xpath(\"//p[@class='_2-N8zT']\")\n",
    "Review_summary=[]\n",
    "for i in Summary:\n",
    "    Review_summary.append(i.text)"
   ]
  },
  {
   "cell_type": "code",
   "execution_count": 136,
   "id": "6534cb83",
   "metadata": {},
   "outputs": [
    {
     "data": {
      "text/plain": [
       "['Brilliant',\n",
       " 'Simply awesome',\n",
       " 'Perfect product!',\n",
       " 'Worth every penny',\n",
       " 'Fabulous!',\n",
       " 'Best in the market!',\n",
       " 'Great product',\n",
       " 'Good choice',\n",
       " 'Worth every penny',\n",
       " 'Highly recommended']"
      ]
     },
     "execution_count": 136,
     "metadata": {},
     "output_type": "execute_result"
    }
   ],
   "source": [
    "Review_summary"
   ]
  },
  {
   "cell_type": "code",
   "execution_count": 137,
   "id": "9bac2ecc",
   "metadata": {},
   "outputs": [],
   "source": [
    "#Full review\n",
    "Review = driver.find_elements_by_xpath(\"//div[@class='t-ZTKy']\")\n",
    "Full_review=[]\n",
    "for i in Review:\n",
    "    Full_review.append(i.text)"
   ]
  },
  {
   "cell_type": "code",
   "execution_count": 138,
   "id": "5553a89d",
   "metadata": {},
   "outputs": [
    {
     "data": {
      "text/plain": [
       "['The Best Phone for the Money\\n\\nThe iPhone 11 offers superb cameras, a more durable design and excellent battery life for an affordable price.\\n\\nCompelling ultra-wide camera\\nNew Night mode is excellent\\nLong battery life',\n",
       " 'Really satisfied with the Product I received... It’s totally genuine and the packaging was also really good so if ur planning to buy just go for it.',\n",
       " 'Amazing phone with great cameras and better battery which gives you the best performance. I just love the camera .',\n",
       " 'Previously I was using one plus 3t it was a great phone\\nAnd then I decided to upgrade I am stuck between Samsung s10 plus or iPhone 11\\nI have seen the specs and everything were good except the display it’s somewhere between 720-1080 and it’s not even an amoled it’s an LCD display\\nBut I decided to go with iPhone because I have never used an IOS device I have Been an android user from the past 9 years I ordered IPhone 11 (128gb) product red\\nMy experience after using 3 weeks\\n1. The delivery ...\\nREAD MORE',\n",
       " 'This is my first iOS phone. I am very happy with this product. Very much satisfied with this. I love this phone.',\n",
       " 'Great iPhone very snappy experience as apple kind. Upgraded from iPhone 7.\\nPros\\n-Camera top class\\n- Battery top performed\\n-Chipset no need to say as apple kind\\n-Security as you expect from apple\\n- Display super bright industry leading colour\\naccuracy and super responsive\\n-Build quality as expect from apple sturdy\\npremium durable beautiful stylish.\\n-Os most stable os in smartphone industry\\n\\nCons\\n-No 5G\\n-Display is not based on OLED technology\\n-Charger headphones and 1 apple stic...\\nREAD MORE',\n",
       " 'Amazing Powerful and Durable Gadget.\\n\\nI’m am very happy with the camera picture quality, Amazing face id unlocked in dark room, Strong battery with perfect screen size as you can carry easily in pocket. This is my third iPhone.\\n\\nI shifted from android Samsung Note series to iPhone because of the strong build quality and peace of mind for next 3-4 years.\\n\\nDon’t think to much just go for it and I suggest you to go for minimum 128gb variant or more 256gb.\\n\\nI’ve attached my puppy pics and no fi...\\nREAD MORE',\n",
       " 'So far it’s been an AMAZING experience coming back to iOS after nearly a decade but it’s not as versatile as android though phone is sturdy dropped it accidentally a couple of times and nothing happened fortunately camera is awesome',\n",
       " 'i11 is worthy to buy, too much happy with the product. Thank u flipkart I received the item on time..loved it..',\n",
       " 'iphone 11 is a very good phone to buy only if you can compromise for the display. The display on this is device is pretty good but you can get other options with better displays in this price segment.\\nIf you can survive with an HD+ LCD panel with thicker bezels and a notch up top then this is a very good phone for you.\\nCameras are awesome, battery backup excellent, great performance and a decent premium look. Good job Apple !']"
      ]
     },
     "execution_count": 138,
     "metadata": {},
     "output_type": "execute_result"
    }
   ],
   "source": [
    "Full_review"
   ]
  },
  {
   "cell_type": "code",
   "execution_count": 140,
   "id": "6457db0c",
   "metadata": {},
   "outputs": [],
   "source": [
    "#Navigating to the next page\n",
    "next=driver.find_elements_by_xpath(\"//a[@class='_1LKTO3']\")[-1].click()"
   ]
  },
  {
   "cell_type": "code",
   "execution_count": 141,
   "id": "475fda7b",
   "metadata": {},
   "outputs": [],
   "source": [
    "#Phone rating on next page\n",
    "Rating1 = driver.find_elements_by_xpath(\"//div[@class='_3LWZlK _1BLPMq']\")\n",
    "Phone_rating1=[]\n",
    "for i in Rating1:\n",
    "    Phone_rating1.append(i.text)"
   ]
  },
  {
   "cell_type": "code",
   "execution_count": 142,
   "id": "f071b1c8",
   "metadata": {},
   "outputs": [
    {
     "data": {
      "text/plain": [
       "['5', '5', '5', '5', '5', '5', '5', '5', '5', '5']"
      ]
     },
     "execution_count": 142,
     "metadata": {},
     "output_type": "execute_result"
    }
   ],
   "source": [
    "Phone_rating1"
   ]
  },
  {
   "cell_type": "code",
   "execution_count": 143,
   "id": "3074e8e0",
   "metadata": {},
   "outputs": [],
   "source": [
    "#Phone summary on next page\n",
    "Summary1 = driver.find_elements_by_xpath(\"//p[@class='_2-N8zT']\")\n",
    "Review_summary1=[]\n",
    "for i in Summary1:\n",
    "    Review_summary1.append(i.text)"
   ]
  },
  {
   "cell_type": "code",
   "execution_count": 144,
   "id": "215e8c1d",
   "metadata": {},
   "outputs": [
    {
     "data": {
      "text/plain": [
       "['Highly recommended',\n",
       " 'Perfect product!',\n",
       " 'Perfect product!',\n",
       " 'Classy product',\n",
       " 'Simply awesome',\n",
       " 'Worth every penny',\n",
       " 'Perfect product!',\n",
       " 'Highly recommended',\n",
       " 'Worth every penny',\n",
       " 'Worth every penny']"
      ]
     },
     "execution_count": 144,
     "metadata": {},
     "output_type": "execute_result"
    }
   ],
   "source": [
    "Review_summary1"
   ]
  },
  {
   "cell_type": "code",
   "execution_count": 145,
   "id": "feeabc91",
   "metadata": {},
   "outputs": [],
   "source": [
    "#Phone full review on next page\n",
    "Review1 = driver.find_elements_by_xpath(\"//div[@class='t-ZTKy']\")\n",
    "Full_review1=[]\n",
    "for i in Review1:\n",
    "    Full_review1.append(i.text)"
   ]
  },
  {
   "cell_type": "code",
   "execution_count": 146,
   "id": "b0b995bc",
   "metadata": {},
   "outputs": [
    {
     "data": {
      "text/plain": [
       "['What a camera .....just awesome ..you can feel this iPhone just awesome . Good for gaming also ...try pubg in hd it’s just wow',\n",
       " 'It’s a must buy who is looking for an upgrade from previous generation of iPhones. If you are using XR then still you can hold on for sometime and upgrade to 2020 model else this phone is a must buy . Camera quality is amazing and wide angle is something to count upon. Performance wise it’s amazing and feels premium while holding in hand. So a big YES for this device. Go for 128 GB variant as the 4K videos will occupy lots of space and the storage can get over very quickly. Try to buy it with...\\nREAD MORE',\n",
       " 'Value for money❤️❤️\\nIts awesome mobile phone in the world ...\\nDisplay was very good and bright ..\\nTrust me freinds you r never regret after Buying..\\nJust go for it....\\nI love this phone and i switch to iphone x to 11',\n",
       " 'Totally in love with this ❤ the camera quality is amazing just love it 😘😘😘 itsss dammnnnnnn amazing... Must buy iPhone 11 this is my best experience ever ☀👌👌🧡🧡🧡🧡🧡 thanku apple ❤',\n",
       " 'Excellent camera, good performance, no lag. The lcd display is also good.. but difference come when we watch movie in prime and Netflix, the colours are not vibrant.. as we see in amoled display.. and the charger in box is of 5 watts.. takes more than 3 hours to charge from 0 to 100.. so guys be prepare to buy 18 watts charger . Finally I am an android user, it was my first Iapple phone, I promise u guys the iOS is so smooth.. overall the phone is damn good.... close eyes to buy it.. thanks t...\\nREAD MORE',\n",
       " 'Best budget Iphone till date ❤️ go for it guys without second thought. Let me explain you guys about Camera, Display, battery, and performance.\\n\\nCamera: at this price range there is no comparison of camera, you’ll love the picture quality as well as video quality. I am a Vlogger I wanted an iPhone with 4k video by front camera and I got this phone and I am more than happy 😃\\n\\nBattery: I use this phone roughly as I am active social media person and I have a youtube channel. so the battery ba...\\nREAD MORE',\n",
       " \"Iphone is just awesome.. battery backup is very very nice.. continuously for 10 hours we can use it.camera is just awesome.. display is just fab.i love it alot..i had to wait 15 days for it as i pre ordered it..overalll it's worth the price..these all images are clicked by my iPhone..and i love it.\",\n",
       " \"It's my first time to use iOS phone and I am loving my upgradation 😍😍 I love the color, I love the assebility of the phone....I need to learn more about its functionality, but as far as I have seen, it's quite easy and it has a lot of functions to work on, specially if you are a content writer or a blogger you get a lot of content creation platforms and they are really amazing.\\n\\nThis phone not only for good quality photography but a lot of other task too.😍💯\",\n",
       " 'It’s been almost a month since I have been using this phone. I upgraded from an iPhone 8. The main issue with my 8 was battery and this phone is just awesome when it comes to battery. It lasts a day and a half for me with my regular use , internet connected always with 4g\\nCan’t move forward without saying this. Battery of this phone is a life saver when I am traveling or at work when I don’t get the option to charge\\nCamera is superb. Front cam selfies and back cam photos are just awesome.\\n...\\nREAD MORE',\n",
       " 'Smooth like butter, camera like fantabulous, sound is crystal clear & its red color is damn attractive, i am just loving it. Must buy if you love photography.\\n\\nLucky to get it in sale, thank you Flipkart.']"
      ]
     },
     "execution_count": 146,
     "metadata": {},
     "output_type": "execute_result"
    }
   ],
   "source": [
    "Full_review1"
   ]
  },
  {
   "cell_type": "code",
   "execution_count": 147,
   "id": "cdde5ddf",
   "metadata": {},
   "outputs": [],
   "source": [
    "#Navigating to the next page\n",
    "next=driver.find_elements_by_xpath(\"//a[@class='_1LKTO3']\")[-1].click()"
   ]
  },
  {
   "cell_type": "code",
   "execution_count": 148,
   "id": "ee8f3f59",
   "metadata": {},
   "outputs": [],
   "source": [
    "Rating2 = driver.find_elements_by_xpath(\"//div[@class='_3LWZlK _1BLPMq']\")\n",
    "Phone_rating2=[]\n",
    "for i in Rating2:\n",
    "    Phone_rating2.append(i.text)"
   ]
  },
  {
   "cell_type": "code",
   "execution_count": 149,
   "id": "c1fc5c37",
   "metadata": {},
   "outputs": [
    {
     "data": {
      "text/plain": [
       "['5', '5', '4', '5', '5', '5', '5', '5', '4', '5']"
      ]
     },
     "execution_count": 149,
     "metadata": {},
     "output_type": "execute_result"
    }
   ],
   "source": [
    "Phone_rating2"
   ]
  },
  {
   "cell_type": "code",
   "execution_count": 150,
   "id": "82eaffa8",
   "metadata": {},
   "outputs": [],
   "source": [
    "Summary2 = driver.find_elements_by_xpath(\"//p[@class='_2-N8zT']\")\n",
    "Review_summary2=[]\n",
    "for i in Summary2:\n",
    "    Review_summary2.append(i.text)"
   ]
  },
  {
   "cell_type": "code",
   "execution_count": 151,
   "id": "4d46a762",
   "metadata": {},
   "outputs": [
    {
     "data": {
      "text/plain": [
       "['Terrific',\n",
       " 'Wonderful',\n",
       " 'Nice product',\n",
       " 'Perfect product!',\n",
       " 'Brilliant',\n",
       " 'Classy product',\n",
       " 'Must buy!',\n",
       " 'Perfect product!',\n",
       " 'Good choice',\n",
       " 'Wonderful']"
      ]
     },
     "execution_count": 151,
     "metadata": {},
     "output_type": "execute_result"
    }
   ],
   "source": [
    "Review_summary2"
   ]
  },
  {
   "cell_type": "code",
   "execution_count": 152,
   "id": "9bda39c9",
   "metadata": {},
   "outputs": [],
   "source": [
    "Review2 = driver.find_elements_by_xpath(\"//div[@class='t-ZTKy']\")\n",
    "Full_review2=[]\n",
    "for i in Review2:\n",
    "    Full_review2.append(i.text)"
   ]
  },
  {
   "cell_type": "code",
   "execution_count": 153,
   "id": "69577cf5",
   "metadata": {},
   "outputs": [
    {
     "data": {
      "text/plain": [
       "['Really worth of money. i just love it. It is the best phone ever.',\n",
       " 'This is my first ever I phone. Before this I was using my google nexus 5. But moving from android to iOS is a great experience. It’s worth at this price. I will highly recommend it if you want to move to iOS. The best part of this phone is it’s camera and it’s battery life. This two things have won my heart. I loved it. Happy to have it in my hand. Still exploring its features. And can’t forget to mention Flipkart service. Very prompt service and fast delivery.',\n",
       " 'Awesome Phone. Slightly high price but worth. Better than iPhone XR.\\nCamera is superb and wide angle camera is very clear.\\n12MP selfie camera is also very good.\\nA13 Chip gives a very good and smooth performance.',\n",
       " 'Battery backup is extraordinary, camera is decent & performance offered by A13 bionic is awsome. The display is good in practical usage like the visibility of display is very good in direct sun light compare to pro models. Iam extremely satisfied for the money I spent.',\n",
       " 'I have migrated from OP 7pro... and trust me, iPhone 11 is totally worth it.. following are the reasons:-\\n1)there is ABSOLUTELY NO ISSUE WITH THE DISPLAY... its crisp, sharp and I found it to be much much better than OP7 pro. Netflix, Prime video all run crisply... you won’t miss a thing. True Tone works flawlessly...the display brightness is perfect. OP have not calibrated their screens properly.\\n2) iPhone 11 series have really good cameras... others have spoken in depth about them.\\n3) bat...\\nREAD MORE',\n",
       " 'Superb Product !!!\\nA big and worthy upgrade from mi 3S to iphone 11 .\\nTotally loved it !',\n",
       " 'It’s an amazing product from apple and the camera is simply superb. Phone is faster.Night shot is simply superb and detailing and colour differentiation from camera is an added advantage\\n\\nThis review I have written from iPhone 11 only and I am glad to say outside.\\n\\nCons wise if we see HD+ display only, no battery percentage indicator as in older iPhone 8.\\nNo assistive touch control button in it\\nNo oleophobic coating on back panel glass and finger prints are visible but since I bought mint gr...\\nREAD MORE',\n",
       " 'After 1 month use I found camera quality best compared to my previous Samsung note 10+.Display not good as note 10 also charging too slow.Apple should add fast charger like 11 plus and pro.Best phone for daily use',\n",
       " 'Looking so good 👍 😍 super 👌 stylish 😎 phone\\nClean box 📦 good 👍 delivery 👌 fast delivery\\nOriginal box Original iphone 📱 👌 😍😍😍',\n",
       " 'I just directly switch from iphone 6s to iphone 11 .The best premium smartphone I recommend to everyone. Excellent quality and colors the iphone have in 11 series.\\nCamera quality is just awesome and the major feel when we hold in our hands. The sound quality and volume is also higher then the previous models.\\nI will recommend to buy iphone 11 instead of pro models , there is nothing much difference as this model contains everything which fulfill our needs.\\n\\nOnly one thing that I dislike abo...\\nREAD MORE']"
      ]
     },
     "execution_count": 153,
     "metadata": {},
     "output_type": "execute_result"
    }
   ],
   "source": [
    "Full_review2"
   ]
  },
  {
   "cell_type": "code",
   "execution_count": 154,
   "id": "e863eabe",
   "metadata": {},
   "outputs": [],
   "source": [
    "next=driver.find_elements_by_xpath(\"//a[@class='_1LKTO3']\")[-1].click()"
   ]
  },
  {
   "cell_type": "code",
   "execution_count": 155,
   "id": "c70fb5b4",
   "metadata": {},
   "outputs": [],
   "source": [
    "Rating3 = driver.find_elements_by_xpath(\"//div[@class='_3LWZlK _1BLPMq']\")\n",
    "Phone_rating3=[]\n",
    "for i in Rating3:\n",
    "    Phone_rating3.append(i.text)"
   ]
  },
  {
   "cell_type": "code",
   "execution_count": 156,
   "id": "891f0c9e",
   "metadata": {},
   "outputs": [
    {
     "data": {
      "text/plain": [
       "['5', '5', '5', '5', '5', '5', '5', '4', '5']"
      ]
     },
     "execution_count": 156,
     "metadata": {},
     "output_type": "execute_result"
    }
   ],
   "source": [
    "Phone_rating3"
   ]
  },
  {
   "cell_type": "code",
   "execution_count": 157,
   "id": "9cbec9b2",
   "metadata": {},
   "outputs": [],
   "source": [
    "Summary3 = driver.find_elements_by_xpath(\"//p[@class='_2-N8zT']\")\n",
    "Review_summary3=[]\n",
    "for i in Summary3:\n",
    "    Review_summary3.append(i.text)"
   ]
  },
  {
   "cell_type": "code",
   "execution_count": 158,
   "id": "b6ae3b66",
   "metadata": {},
   "outputs": [
    {
     "data": {
      "text/plain": [
       "['Terrific purchase',\n",
       " 'Simply awesome',\n",
       " 'Great product',\n",
       " 'Terrific purchase',\n",
       " 'Mind-blowing purchase',\n",
       " 'Excellent',\n",
       " 'Simply awesome',\n",
       " 'Good quality product',\n",
       " 'Very poor',\n",
       " 'Classy product']"
      ]
     },
     "execution_count": 158,
     "metadata": {},
     "output_type": "execute_result"
    }
   ],
   "source": [
    "Review_summary3"
   ]
  },
  {
   "cell_type": "code",
   "execution_count": 159,
   "id": "ed74478c",
   "metadata": {},
   "outputs": [],
   "source": [
    "Review3 = driver.find_elements_by_xpath(\"//div[@class='t-ZTKy']\")\n",
    "Full_review3=[]\n",
    "for i in Review3:\n",
    "    Full_review3.append(i.text)"
   ]
  },
  {
   "cell_type": "code",
   "execution_count": 160,
   "id": "ff862a11",
   "metadata": {},
   "outputs": [
    {
     "data": {
      "text/plain": [
       "['Upgraded from iphone 6 to 11 best phone for iphone users battery is much better than other iphones camera is awesome love to use it.camera is so clear in night.',\n",
       " \"It's very high performances devise i am like the service of flipkart delevary very fast and packing very nice perfect phone\",\n",
       " 'Well you all know the specifications . One of a kind. Best iPhone till date. Many enhancements to the camera app with many options. Love the glass body with matte finish in the lens area on the back. Lovely colours to choose from. Best battery in an iPhone till date, enough to last more than a day in normal usage. I tested my iPhone 11 battery and lasted for than 24 hours after full charge still with 30% battery charge left. Watched movies for some time. Normal usage on calls, browsing, musi...\\nREAD MORE',\n",
       " 'The built quality is not very premium.\\nThe battery back is great .\\nThe LCD panel is not so sharp but the brightness level is very High .\\nCamera is super duper awesome.\\nThe red colour which people think is bright is actually very soothing and excellent colour to choose from .\\nThe A13 Bionic chip is really a flagship processor and can beat any phone which even has 12 gb ram .\\nCamera module is very great and looks very stylish.',\n",
       " 'This will help you more. See if you are planning to buy iPhone 11. I will say. Yes. But there are some plans I just want to disclose before you buy. 1) If you are an existing iPhone X/XS/XS Max/ XR user, better you guys do not think it to buy. You guys have more or less better gadget. 2) If you are an android user and planning to buy premium phone. I will suggest them to please buy iPhone instead of buying an Android. I bet you will never go back to android after using IOS. Now I want to shar...\\nREAD MORE',\n",
       " 'Amazing camera and feel super machine I am not describe my feeling but this is amazing Phone I am so lucky I have this',\n",
       " 'Really good actually this is my first apple product am using its really awesome performance wise excellent. Am really happy with this iphone11',\n",
       " 'it is very good at performance. Camera is best like before and very smooth response even in water. Don’t buy 12 mini buy iPhone 11 , it is far better than 12 mini believe me ! Have a nice day \\uf8ff ☺️',\n",
       " 'Reviewing again after 5 months. At the beginning the battery and performance was good but it degraded soon. Also I was facing heating issues. The mobile will heat up like a stove sometimes. You cannot even play Pubg even in low settings properly, performance is not a problem but heating is. Also if you play that game for 10 mins the brightness will be automatically down due to over heating even when the auto brightness is set to off. This will not be solved even if u manually increase the bri...\\nREAD MORE',\n",
       " 'We are on apple ecosystem for almost eight years now with couple of iPads and iPhones, including Xr.\\n\\nBought iPhone 11 as a gift to my daughter who loves it. We chose for a purple coloured one. Believe me it is gorgeous and towards the lighter shade. Dazzling and brilliant!\\n\\nThe phone is great and does excellent RAM management like any other Apple device.\\n\\nThe screen, though a LCD and lesser ppi as compared to other flagship phones of competitor brands, is a delight to watch with perfect re...\\nREAD MORE']"
      ]
     },
     "execution_count": 160,
     "metadata": {},
     "output_type": "execute_result"
    }
   ],
   "source": [
    "Full_review3"
   ]
  },
  {
   "cell_type": "code",
   "execution_count": 161,
   "id": "5ded74f5",
   "metadata": {},
   "outputs": [],
   "source": [
    "next=driver.find_elements_by_xpath(\"//a[@class='_1LKTO3']\")[-1].click()"
   ]
  },
  {
   "cell_type": "code",
   "execution_count": 162,
   "id": "e0a7abb7",
   "metadata": {},
   "outputs": [],
   "source": [
    "Rating4 = driver.find_elements_by_xpath(\"//div[@class='_3LWZlK _1BLPMq']\")\n",
    "Phone_rating4=[]\n",
    "for i in Rating4:\n",
    "    Phone_rating4.append(i.text)"
   ]
  },
  {
   "cell_type": "code",
   "execution_count": 163,
   "id": "1ac354e1",
   "metadata": {},
   "outputs": [
    {
     "data": {
      "text/plain": [
       "['5', '5', '5', '5', '5', '5', '5', '4', '5', '5']"
      ]
     },
     "execution_count": 163,
     "metadata": {},
     "output_type": "execute_result"
    }
   ],
   "source": [
    "Phone_rating4"
   ]
  },
  {
   "cell_type": "code",
   "execution_count": 164,
   "id": "2e09117f",
   "metadata": {},
   "outputs": [],
   "source": [
    "Summary4 = driver.find_elements_by_xpath(\"//p[@class='_2-N8zT']\")\n",
    "Review_summary4=[]\n",
    "for i in Summary4:\n",
    "    Review_summary4.append(i.text)"
   ]
  },
  {
   "cell_type": "code",
   "execution_count": 165,
   "id": "ff873013",
   "metadata": {},
   "outputs": [
    {
     "data": {
      "text/plain": [
       "['Perfect product!',\n",
       " 'Must buy!',\n",
       " 'Fabulous!',\n",
       " 'Mind-blowing purchase',\n",
       " 'Mind-blowing purchase',\n",
       " 'Wonderful',\n",
       " 'Great product',\n",
       " 'Very Good',\n",
       " 'Classy product',\n",
       " 'Perfect product!']"
      ]
     },
     "execution_count": 165,
     "metadata": {},
     "output_type": "execute_result"
    }
   ],
   "source": [
    "Review_summary4"
   ]
  },
  {
   "cell_type": "code",
   "execution_count": 166,
   "id": "d74bec98",
   "metadata": {},
   "outputs": [],
   "source": [
    "Review4 = driver.find_elements_by_xpath(\"//div[@class='t-ZTKy']\")\n",
    "Full_review4=[]\n",
    "for i in Review4:\n",
    "    Full_review4.append(i.text)"
   ]
  },
  {
   "cell_type": "code",
   "execution_count": 167,
   "id": "6ad5631b",
   "metadata": {},
   "outputs": [
    {
     "data": {
      "text/plain": [
       "['It is just awesome mobile for this price from Apple,\\n\\nAfter 10 days review\\n\\nBattery enough for 1 day even 24*7 Internet will be on and mostly internet usage\\n\\nCamera is just awesome cool , android 64 MP is equal to this just 12 MP\\n\\nA13 Bionic chip will give more high performance without hanging\\n\\nAudio stereo speakers will give Dolby atoms sound with crystal clear\\n\\nVideo recording is like cinematic shots of every sec can be a 4K 60fps. Just awesome this phone\\niPhone 11 loved one',\n",
       " 'Best Apple iPhone that i have bought at a very reasonable price, camera quality is next level just awesome n of superior quality android phones not even close(RIP) to that and also battery is really good but packaging by Flipkart of iPhone was very poor of such a expensive product, firstly im bit worried about the quality of product if i purchased it through online how was the product but i think now this was mine best decision to bought it through Flipkart online because i got genuine Apple...\\nREAD MORE',\n",
       " \"I can say I'm damn impressed with iPhone 11. As they says iPhone 11 have the toughest glass ever in the smartphone which you'll find on the front and back and it's totally smooth. The fit and finish is full apple quality - there's no sense that any cheaping out has happened in the construction. Without saying it's camera features this review won't complete. The iPhone 11 has a dual camera system, consisting of a wide angle len's that's pretty much same as found on the iPhone XR last year, but...\\nREAD MORE\",\n",
       " 'Best Quality Product OF iPhone Series , Sound Quality & Camera quality is very awesome, Battery Life is very Sufficient for 24 hr Backup With Full Internet Access , I love this this Product too much , It is very fast & making me Very fast in all my daily Routine\\nHighlights;\\n1.Camera: 5 STAR\\n2.Video Recording: 5 star\\n3.Night mODE sHOOTING & Camera:4 star\\n4. Audio Quality: Awesome\\n5. Battery : 5 Star\\n6. Touch:5 Star\\n7. Processor: Very Fast\\nThe M...\\nREAD MORE',\n",
       " 'First thanks to Flipkart for this amazing deal and phone is outstanding. I upgraded from iPhone 7 and this is like very big upgrade. But the packaging was very basic I expected a good packaging as they only wrapped one layer of bubble wrap which I don’t think is enough to protect this expensive phone. And I recommend this phone and seller as well.\\n\\nAnd I’m posting this review after using it for 4 days.',\n",
       " 'Superfast delivery by Flipkart. Thanks.\\n\\n1. iPhone 11 is a pretty solid phone for the money you are paying.\\n2. All the bad reviews about the display is confusing. It’s not that bad.\\n3. I switched from a Oneplus 7t. I have no complaints about the display quality of iPhone. Yes, it’s not OLED, so, we are missing on the deep blacks. But that’s it. It is a very colour accurate display. Gets adequately bright and I could not find any pixelation.\\n4. Performance is one of the best, if not best, in ...\\nREAD MORE',\n",
       " \"Again back to apple iphone after a gap of 2-3 years. It's pleasure to use iOS and the quality product by Apple. Iphone 11 still works like a beast in 2021 also. It really capable of doing day to day usage as well as hard core gaming. Battery is awesome. I'm really too much satisfied with it. Apart fto the very gorgious IPS LCD (AMOLED will be better) everything is mind boggling. Iphone💕.\",\n",
       " 'impressive super phone and best in class camera ,sound and face unlock is super fast just see and phone is unlock and fast in daily apps use',\n",
       " 'Well while switching from android to iOS the first thing you need to be careful about is that you will loose all your whatsapp chat backups as both are different operating systems. Camera clarity is awesome and though being an lcd screen clarity and resolution is good. Battery backup is also good unlike previous gen iPhone. So far the experience is good will Padre after a few months of usage.\\n\\nP.S the black is more of a dark grey shade and not jet black',\n",
       " 'In love with this iphone great performance,camera ,battery everything. Go for it have a uncompareble battery backup, no doubts in iPhone camera here You can see the picture which is shot on my iPhone In love with this iphone great performance,camera ,battery everything. Go for it have a uncompareble battery backup, no doubts in iPhone camera here You can see the picture which is shot on my iPhone In love with this iphone great performance,camera ,battery everything. Go for it have a uncompare...\\nREAD MORE']"
      ]
     },
     "execution_count": 167,
     "metadata": {},
     "output_type": "execute_result"
    }
   ],
   "source": [
    "Full_review4"
   ]
  },
  {
   "cell_type": "code",
   "execution_count": 168,
   "id": "d7208f41",
   "metadata": {},
   "outputs": [],
   "source": [
    "next=driver.find_elements_by_xpath(\"//a[@class='_1LKTO3']\")[-1].click()"
   ]
  },
  {
   "cell_type": "code",
   "execution_count": 169,
   "id": "09b279bd",
   "metadata": {},
   "outputs": [],
   "source": [
    "Rating5 = driver.find_elements_by_xpath(\"//div[@class='_3LWZlK _1BLPMq']\")\n",
    "Phone_rating5=[]\n",
    "for i in Rating5:\n",
    "    Phone_rating5.append(i.text)"
   ]
  },
  {
   "cell_type": "code",
   "execution_count": 170,
   "id": "1d633cfe",
   "metadata": {},
   "outputs": [
    {
     "data": {
      "text/plain": [
       "['5', '5', '4', '5', '5', '5', '5', '5', '5', '5']"
      ]
     },
     "execution_count": 170,
     "metadata": {},
     "output_type": "execute_result"
    }
   ],
   "source": [
    "Phone_rating5"
   ]
  },
  {
   "cell_type": "code",
   "execution_count": 171,
   "id": "76bfd65e",
   "metadata": {},
   "outputs": [],
   "source": [
    "Summary5 = driver.find_elements_by_xpath(\"//p[@class='_2-N8zT']\")\n",
    "Review_summary5=[]\n",
    "for i in Summary5:\n",
    "    Review_summary5.append(i.text)"
   ]
  },
  {
   "cell_type": "code",
   "execution_count": 172,
   "id": "858c1621",
   "metadata": {},
   "outputs": [
    {
     "data": {
      "text/plain": [
       "['Just wow!',\n",
       " 'Awesome',\n",
       " 'Pretty good',\n",
       " 'Terrific purchase',\n",
       " 'Awesome',\n",
       " 'Classy product',\n",
       " 'Brilliant',\n",
       " 'Terrific',\n",
       " 'Perfect product!',\n",
       " 'Awesome']"
      ]
     },
     "execution_count": 172,
     "metadata": {},
     "output_type": "execute_result"
    }
   ],
   "source": [
    "Review_summary5"
   ]
  },
  {
   "cell_type": "code",
   "execution_count": 173,
   "id": "fbcbdaad",
   "metadata": {},
   "outputs": [],
   "source": [
    "Review5 = driver.find_elements_by_xpath(\"//div[@class='t-ZTKy']\")\n",
    "Full_review5=[]\n",
    "for i in Review5:\n",
    "    Full_review5.append(i.text)"
   ]
  },
  {
   "cell_type": "code",
   "execution_count": 175,
   "id": "054fe17a",
   "metadata": {},
   "outputs": [
    {
     "data": {
      "text/plain": [
       "['Best in class. Battery backup is good especially when you play games like Pubg COD. But it is sort of heavy when you hold in hands. Portrait mode is best to click pictures. Stage light effect is awesome. Try to click photos outside in nature because photos inside home or room will not give you the quality in any phone even in DSLR.',\n",
       " 'Very excited to have this phone. This phone has the real power unlike the android phones having SD 855 . The battery life is very good and the camera quality is excellent as comapred to redmi and other phones except google pixel. I M enjoying every single bit of it. Would recommed only if you have the budget.',\n",
       " 'I was using Iphone 6s and also Oneplus 6t. Both mobiles were perfectly alright in Photos, gaming, and smooth interface . My 6s mobile getting battery issue. thought upgrade to 11. Really like this mobile of its Internal storage (compare to 6s) , camera and its touch feeling. Its a worth buying mobile for me.',\n",
       " 'Its Very awesome product working and good camera quality and all about best product and also flipkart is very great deal and offer nice price',\n",
       " 'I am using this phone for 5 days and its one of the best camera out there ❤️ the screen is not oled and i am coming from iphone xs so its little bit not up to the mark i would say\\nBut overall value for money💕😍the battery back up is far better than my iphone xs and its worth in my apple ecosystem💫❤️if u are an apple User and have the eco system then go for it❤️though i will be getting the new iphone but its pretty good💫',\n",
       " 'Best and amazing product.....phone looks so premium.... battary is also good as expected .... Wide angle camera is so addictive ...if you are a IOS lover....then this phone will be the best choice for you all!!💯🔥',\n",
       " 'Excellent camera and display touching very nice and smooth very improvement against iPhone XR and new processor is very fast',\n",
       " \"I got this beast today. And I must say the picture quality of its camera is awesome. Both the cameras works fine.\\n\\nAs for as the processing is concerned, it runs without any lag. You can play and do whatever you want without a glitch.\\n\\nThe battery runs for a day with medium and high workload.\\n\\nThe display is good and the speakers are working fine.\\n\\nThe earphones doesn't have any base and you can use it for calling mostly.\\n\\nThe charging time is approximately for 90 minutes for full charging...\\nREAD MORE\",\n",
       " 'Awesome purchase. Amazing phone with good battery backup. It’s a top notch device. White colour looks amazing. Phone has a few extra feature than iPhone XR. Overall, this is value for money',\n",
       " 'Always love the apple products, upgraded from old iPhone 6S plus to this after having my first baby. I just love to click baby’s photos with it. Overall I just love this phone. Battery back up is okay, sound quality is good. Haven’t tested yet waterproof yet. Only one thing I hate is apple could have given charger & headphones in box.']"
      ]
     },
     "execution_count": 175,
     "metadata": {},
     "output_type": "execute_result"
    }
   ],
   "source": [
    "Full_review5"
   ]
  },
  {
   "cell_type": "code",
   "execution_count": 176,
   "id": "2ed0c0bb",
   "metadata": {},
   "outputs": [],
   "source": [
    "next=driver.find_elements_by_xpath(\"//a[@class='_1LKTO3']\")[-1].click()"
   ]
  },
  {
   "cell_type": "code",
   "execution_count": 177,
   "id": "d2f08a4a",
   "metadata": {},
   "outputs": [],
   "source": [
    "Rating6 = driver.find_elements_by_xpath(\"//div[@class='_3LWZlK _1BLPMq']\")\n",
    "Phone_rating6=[]\n",
    "for i in Rating6:\n",
    "    Phone_rating6.append(i.text)"
   ]
  },
  {
   "cell_type": "code",
   "execution_count": 178,
   "id": "4bd1646b",
   "metadata": {},
   "outputs": [
    {
     "data": {
      "text/plain": [
       "['5', '5', '5', '5', '4', '5', '5', '5', '4']"
      ]
     },
     "execution_count": 178,
     "metadata": {},
     "output_type": "execute_result"
    }
   ],
   "source": [
    "Phone_rating6"
   ]
  },
  {
   "cell_type": "code",
   "execution_count": 179,
   "id": "e745be7a",
   "metadata": {},
   "outputs": [],
   "source": [
    "Summary6 = driver.find_elements_by_xpath(\"//p[@class='_2-N8zT']\")\n",
    "Review_summary6=[]\n",
    "for i in Summary6:\n",
    "    Review_summary6.append(i.text)"
   ]
  },
  {
   "cell_type": "code",
   "execution_count": 180,
   "id": "aefbfc3d",
   "metadata": {},
   "outputs": [
    {
     "data": {
      "text/plain": [
       "['Perfect product!',\n",
       " 'Very poor',\n",
       " 'Fabulous!',\n",
       " 'Excellent',\n",
       " 'Must buy!',\n",
       " 'Value-for-money',\n",
       " 'Best in the market!',\n",
       " 'Brilliant',\n",
       " 'Terrific purchase',\n",
       " 'Good quality product']"
      ]
     },
     "execution_count": 180,
     "metadata": {},
     "output_type": "execute_result"
    }
   ],
   "source": [
    "Review_summary6"
   ]
  },
  {
   "cell_type": "code",
   "execution_count": 181,
   "id": "a10b6e1c",
   "metadata": {},
   "outputs": [],
   "source": [
    "Review6 = driver.find_elements_by_xpath(\"//div[@class='t-ZTKy']\")\n",
    "Full_review6=[]\n",
    "for i in Review6:\n",
    "    Full_review6.append(i.text)"
   ]
  },
  {
   "cell_type": "code",
   "execution_count": 182,
   "id": "2e487e72",
   "metadata": {},
   "outputs": [
    {
     "data": {
      "text/plain": [
       "['Value for money\\n5 star rating\\nExcellent camera\\nBattery backup full day in single charge.\\n\\nTougher and water resistant design, glossy back.\\nThe screen has excellent brightness and contrast.\\nApple A13 Bionic is the fastest smartphone chip on the planet.\\nExcellent battery life, fast charging support.\\nStereo speakers with great quality.',\n",
       " 'Please DONT buy from here,\\n\\nI purchased Apple iPhone 11. with an exchange of IPhone 7, the exchange did not go well, iPhone 7 had a small scratch out side screen which i could never identify till date, but the FLIPKART person could, so he reduced 50% from exchange rate. I decided not to trade in, but paid money.\\n\\niPhone 11 Detail Below\\n---------------------------------------------\\nIt came with no charging, then i have put for charging, it took lot of time for charging, the phone also showe...\\nREAD MORE',\n",
       " 'awesome phone to have. it has got many smart features apart from mind blowing looks, camera, display, battery and sound. have fallen in love with this phone. must buy phone if you have got enough money. thanks to flipkart and apple of course..',\n",
       " 'Its a fabulous mobile look awesome performance unbeaten camera like dslr battery good i think this is a beast of mobile',\n",
       " 'Dear friends... I want to share my experience with you about this amazing I phone 11....this is my first iPhone and special things about this mobile is it has great camera, battery backup and awesome display.... I mean everything is perfect.loved it 👍👍👍',\n",
       " \"Just got this iphone 11\\nAnd it is most powerful mobile phone I have used ever\\n\\nSo,go for it if you want a phone with best specification like camera,battery backup,display, A13 bionic chip\\n\\nThat's my review about this phone but yours can be differ from me....\",\n",
       " \"The best all rounder iphone. Flipkart is doing a great job. They're delivery services are blazing fast. I got delivery on the same day. Genuine Apple Product. Working great. Talking about review There's no need of review for iphones. They're simply the best.\",\n",
       " 'Amazing phone and on great deal I received with super fast delivery by Flipkart...',\n",
       " 'finally an iPhone with very nice battery backup. update from iPhone 7 and happy to have it. camera is not up to the mark in low light but overall a recommended phone if your budget allows 😀',\n",
       " \"I'm switching this phone to oppo reno 10x zoom\\nIt's really impressive\\nRarely I'm missing smooth display touch response like oppo reno but\\nI really loved it.\\nCamera really impressive\"]"
      ]
     },
     "execution_count": 182,
     "metadata": {},
     "output_type": "execute_result"
    }
   ],
   "source": [
    "Full_review6"
   ]
  },
  {
   "cell_type": "code",
   "execution_count": 183,
   "id": "952b8b8f",
   "metadata": {},
   "outputs": [],
   "source": [
    "next=driver.find_elements_by_xpath(\"//a[@class='_1LKTO3']\")[-1].click()"
   ]
  },
  {
   "cell_type": "code",
   "execution_count": 184,
   "id": "e65fc0ec",
   "metadata": {},
   "outputs": [],
   "source": [
    "Rating7 = driver.find_elements_by_xpath(\"//div[@class='_3LWZlK _1BLPMq']\")\n",
    "Phone_rating7=[]\n",
    "for i in Rating7:\n",
    "    Phone_rating7.append(i.text)\n"
   ]
  },
  {
   "cell_type": "code",
   "execution_count": 185,
   "id": "23768e30",
   "metadata": {},
   "outputs": [
    {
     "data": {
      "text/plain": [
       "['5', '5', '5', '4', '5', '5', '5', '5', '5']"
      ]
     },
     "execution_count": 185,
     "metadata": {},
     "output_type": "execute_result"
    }
   ],
   "source": [
    "Phone_rating7"
   ]
  },
  {
   "cell_type": "code",
   "execution_count": 186,
   "id": "36581abd",
   "metadata": {},
   "outputs": [],
   "source": [
    "Summary7 = driver.find_elements_by_xpath(\"//p[@class='_2-N8zT']\")\n",
    "Review_summary7=[]\n",
    "for i in Summary7:\n",
    "    Review_summary7.append(i.text)\n"
   ]
  },
  {
   "cell_type": "code",
   "execution_count": 187,
   "id": "aa325a7f",
   "metadata": {},
   "outputs": [
    {
     "data": {
      "text/plain": [
       "['Best in the market!',\n",
       " 'Perfect product!',\n",
       " 'Awesome',\n",
       " 'Value-for-money',\n",
       " 'Just wow!',\n",
       " 'Worthless',\n",
       " 'Super!',\n",
       " 'Classy product',\n",
       " 'Must buy!',\n",
       " 'Excellent']"
      ]
     },
     "execution_count": 187,
     "metadata": {},
     "output_type": "execute_result"
    }
   ],
   "source": [
    "Review_summary7"
   ]
  },
  {
   "cell_type": "code",
   "execution_count": 188,
   "id": "fe7409bd",
   "metadata": {},
   "outputs": [],
   "source": [
    "Review7 = driver.find_elements_by_xpath(\"//div[@class='t-ZTKy']\")\n",
    "Full_review7=[]\n",
    "for i in Review7:\n",
    "    Full_review7.append(i.text)"
   ]
  },
  {
   "cell_type": "code",
   "execution_count": 189,
   "id": "4a3e82eb",
   "metadata": {},
   "outputs": [
    {
     "data": {
      "text/plain": [
       "['Damn this phone is a blast . Upgraded from android to ios and is a duperb experience. Battery backup is top notch and display also pretty good',\n",
       " 'Worth the money’ starting first from its performance it beats out all phones , second the smoothness of camera is awesome, contrast ratio is much than expected. Price will not matter if u r a quality person, if not other phones are available with better discount',\n",
       " 'I dreamt about this day from a long time.... Getting an iPhone with my own money.... Super happy and worth spending every penny',\n",
       " \"I'm Really happy with the product\\nDelivery was fast as well\\n..it was a gift for my sister and she loved it so much.\",\n",
       " 'Great iphone.\\nI am writing this review after 2 months of usage.\\nCamera is excellent, especially the nightmode\\nDisplay perfect\\nBattery backup awesome\\nSound quality very good\\nOverall Apple gives you a perfect iphone in this range.\\nReally in love with iPhone 11',\n",
       " \"Phone is awesome no doubt. But Camera & Display is not great. Performance is mind blowing.\\nBut the phone is heating too much when charging or when you regularly used. It's experience after using 1 week. It's heating extrem when I play PUBG for 30 minutes.\\nGo for iPhone 11 pro or 12. Otherwise go for Android phone you will get much better phone in less price.\",\n",
       " 'Did an upgrade from 6s plus to iphone 11.\\nAo far the experience is well and good. Felt smoother than 6s plus. The camera quality is superb. Battery backup is descent. Not a heavy user, and gets power more than a day. Go for it if you need an alrounder iphone in a competitve price.',\n",
       " 'Gifted my man on his 30th birthday 🎂 He loves it.. Him happy so i am more than happy 😍😘❤️🥰',\n",
       " 'I rate this product 5* as it has got amazing user experience with the best performing A13 bionic processor. The screen responds and graphics rendering is top notch. With casual gaming and internet browsing, the battery lasts for approx. 1 day. Camera is very good. You will fall in love with the portrait mode. You can call me a loyal Apple customer or whatever but I won’t stop praising the products and overall experience. That user experience matters and is worth every penny you pay.\\n\\nBelow ar...\\nREAD MORE',\n",
       " \"It was amazing experience for me. Honestly i am using iPhone first time so I don't have that much past experience about that. But after using 7 days this mobile i want to give some honest feedback.\\n1- Display 9 out of 10\\n2- Camera 9.5 out of 10\\n3- Battery 7 out of 10\\n4- Performance 9.5 out of 10\\n5- Features & Functions 10 out of 10\\n6- Outer looks and colour 10 out of 10\\nRest i think i will understand after using this for few months.\\nI will highly recommend you guys if you have budget then you...\\nREAD MORE\"]"
      ]
     },
     "execution_count": 189,
     "metadata": {},
     "output_type": "execute_result"
    }
   ],
   "source": [
    "Full_review7"
   ]
  },
  {
   "cell_type": "code",
   "execution_count": 190,
   "id": "0c65a0d7",
   "metadata": {},
   "outputs": [],
   "source": [
    "next=driver.find_elements_by_xpath(\"//a[@class='_1LKTO3']\")[-1].click()"
   ]
  },
  {
   "cell_type": "code",
   "execution_count": 191,
   "id": "03e31b0c",
   "metadata": {},
   "outputs": [],
   "source": [
    "Rating8 = driver.find_elements_by_xpath(\"//div[@class='_3LWZlK _1BLPMq']\")\n",
    "Phone_rating8=[]\n",
    "for i in Rating8:\n",
    "    Phone_rating8.append(i.text)\n"
   ]
  },
  {
   "cell_type": "code",
   "execution_count": 192,
   "id": "4b12ef6c",
   "metadata": {},
   "outputs": [
    {
     "data": {
      "text/plain": [
       "['4', '5', '5', '5', '5', '5', '5', '5', '5', '5']"
      ]
     },
     "execution_count": 192,
     "metadata": {},
     "output_type": "execute_result"
    }
   ],
   "source": [
    "Phone_rating8"
   ]
  },
  {
   "cell_type": "code",
   "execution_count": 193,
   "id": "01a82113",
   "metadata": {},
   "outputs": [],
   "source": [
    "Summary8 = driver.find_elements_by_xpath(\"//p[@class='_2-N8zT']\")\n",
    "Review_summary8=[]\n",
    "for i in Summary8:\n",
    "    Review_summary8.append(i.text)\n"
   ]
  },
  {
   "cell_type": "code",
   "execution_count": 194,
   "id": "e71a6a62",
   "metadata": {},
   "outputs": [
    {
     "data": {
      "text/plain": [
       "['Nice product',\n",
       " 'Mind-blowing purchase',\n",
       " 'Wonderful',\n",
       " 'Terrific',\n",
       " 'Excellent',\n",
       " 'Mind-blowing purchase',\n",
       " 'Highly recommended',\n",
       " 'Worth every penny',\n",
       " 'Fabulous!',\n",
       " 'Brilliant']"
      ]
     },
     "execution_count": 194,
     "metadata": {},
     "output_type": "execute_result"
    }
   ],
   "source": [
    "Review_summary8"
   ]
  },
  {
   "cell_type": "code",
   "execution_count": 195,
   "id": "b37b6a2a",
   "metadata": {},
   "outputs": [],
   "source": [
    "Review8 = driver.find_elements_by_xpath(\"//div[@class='t-ZTKy']\")\n",
    "Full_review8=[]\n",
    "for i in Review8:\n",
    "    Full_review8.append(i.text)"
   ]
  },
  {
   "cell_type": "code",
   "execution_count": 196,
   "id": "3fb066de",
   "metadata": {},
   "outputs": [
    {
     "data": {
      "text/plain": [
       "[\"If you are looking for a premium phone under 55k, this is the one for you.Got the iPhone 11 during the Republic day sale. Performance is top notch in this price range. Camera's do a perfect job in taking good quality photos and videos. Battery backup too is satisfactory. Writing this review after using for a week. Any further observations would be updated.\",\n",
       " 'awesome Phone Smooth Touch Too good Sexyy looks one word Awesome',\n",
       " 'Super and marvellous phone look very cute and nice sound. I love this phone i think white is good colur.Excellent camer 5*😍😘♥️♥️',\n",
       " 'I bought iPhone 11 On March 2021, And I am Writing this review after using the phone for 4 Months. I would Say Everything is fine, Top Performance, Nice Camera as Anyone would Expect from any series of iPhone but when the Question comes to Battery it is complicated. The Battery is fully optimised and it comes 3110 mAh capacity but the problem is with the charger. Honestly Apple Removed charger from in Box items in the name of Environment and they are also forcing us to buy any 20W PD 3rd part...\\nREAD MORE',\n",
       " \"Just go for it.\\nThis phone is really amazing. I ordered it for my wife and we click photos on this thing which are better than dslr. I own OnePlus 6t but it's camera sucks. iPhone is really amazing when it comes to camera. It's worth spending 50k on this. Cons- only display is lcd. While using u don't feel it but if u compare with other phone then u can see difference quite easily.\\nChanging from Android to iphone is bit difficult coz most of things u don't know but I liked it. Some of the a...\\nREAD MORE\",\n",
       " 'Absolutely powerful gadget. Loved it’s look! Soo glassy and classy. I would definitely recommend this model of Apple. Only disappointed with the 5W charger, one should purchase an 18W adapter for fast charging. Though battery backup is great. Bought it in September 2020, reviewing after so long so I’m gonna put the genuine review here.✅',\n",
       " 'Thanks Flipkart For this amazing deal! I had a dream of owning a iphone since i had known about.\\nIm very happy with my purchase & it is totally worth it.\\nAmazing experience all over !!\\n\\nAnyone who’s thinking of buying it in 2021, i would simply say go for it without any second thoughts ❤️',\n",
       " 'Here is the thing\\n\\nThe only reason why you should buy this phone is for the camera, iOS, and if you have headaches looking at AMOLED display.\\n\\nI’m not an avid gamer but watch a lot of movies on smartphone. However, my migraine attacks increased considerably after using AMOLED Smartphone. That’s why I made a calculated decision to buy iPhone 11. It has the best LCD display and the blacks, though not as natural as an AMOLED, is better than some of the other smartphones.\\n\\nAdding to this the ste...\\nREAD MORE',\n",
       " 'Everything is perfect pictures come out so clearly and at first I wasn’t sure when I got it then when I started to use it and get the hang of it it was amazing!! I can’t wait to see what the next future phones will be like. The screen display on this bad boy are unbelievable they are so clear and never fail me. The performance is super cool there is a lot of cool features as well I like this phone because I feel that it is easy to use and one of my favorite things about this phone is the Face...\\nREAD MORE',\n",
       " 'A wort full value for money decision it’s . Simply go for it in 2021 its still a good decision . Awesome camera , Super smothered performance, Heck of build quality. And Most important it protects your privacy.']"
      ]
     },
     "execution_count": 196,
     "metadata": {},
     "output_type": "execute_result"
    }
   ],
   "source": [
    "Full_review8"
   ]
  },
  {
   "cell_type": "code",
   "execution_count": 197,
   "id": "db21a6ed",
   "metadata": {},
   "outputs": [],
   "source": [
    "next=driver.find_elements_by_xpath(\"//a[@class='_1LKTO3']\")[-1].click()"
   ]
  },
  {
   "cell_type": "code",
   "execution_count": 198,
   "id": "73d5e4d3",
   "metadata": {},
   "outputs": [],
   "source": [
    "Rating9 = driver.find_elements_by_xpath(\"//div[@class='_3LWZlK _1BLPMq']\")\n",
    "Phone_rating9=[]\n",
    "for i in Rating9:\n",
    "    Phone_rating9.append(i.text)"
   ]
  },
  {
   "cell_type": "code",
   "execution_count": 199,
   "id": "5903effd",
   "metadata": {},
   "outputs": [
    {
     "data": {
      "text/plain": [
       "['5', '4', '5', '5', '5', '5', '5', '5', '5', '3']"
      ]
     },
     "execution_count": 199,
     "metadata": {},
     "output_type": "execute_result"
    }
   ],
   "source": [
    "Phone_rating9"
   ]
  },
  {
   "cell_type": "code",
   "execution_count": 200,
   "id": "865f7e1b",
   "metadata": {},
   "outputs": [],
   "source": [
    "Summary9 = driver.find_elements_by_xpath(\"//p[@class='_2-N8zT']\")\n",
    "Review_summary9=[]\n",
    "for i in Summary9:\n",
    "    Review_summary9.append(i.text)"
   ]
  },
  {
   "cell_type": "code",
   "execution_count": 201,
   "id": "65a62fb4",
   "metadata": {},
   "outputs": [
    {
     "data": {
      "text/plain": [
       "['Worth every penny',\n",
       " 'Pretty good',\n",
       " 'Fabulous!',\n",
       " 'Mind-blowing purchase',\n",
       " 'Excellent',\n",
       " 'Super!',\n",
       " 'Just wow!',\n",
       " 'Terrific purchase',\n",
       " 'Awesome',\n",
       " 'Decent product']"
      ]
     },
     "execution_count": 201,
     "metadata": {},
     "output_type": "execute_result"
    }
   ],
   "source": [
    "Review_summary9"
   ]
  },
  {
   "cell_type": "code",
   "execution_count": 202,
   "id": "24439238",
   "metadata": {},
   "outputs": [],
   "source": [
    "Review9 = driver.find_elements_by_xpath(\"//div[@class='t-ZTKy']\")\n",
    "Full_review9=[]\n",
    "for i in Review9:\n",
    "    Full_review9.append(i.text)"
   ]
  },
  {
   "cell_type": "code",
   "execution_count": 203,
   "id": "231a505a",
   "metadata": {},
   "outputs": [
    {
     "data": {
      "text/plain": [
       "['Undoubtedly Iphone 11 is the most successful model till now and its performance is extraordinary and the security features are very impressive, display is more vibrant sound quality Camera Quality 5*****, but Iphone should add accessories too and act like scrooge.',\n",
       " \"I've used this phone for over a month now and here are my takeaways.\\nI would like to first talk about the best things about this phone and then the cons of it.\\n\\nPros:\\nThis phone is a performance beast. It handles large games and applications effortlessly and you won't find any stutters or lags while playing graphic intensive games like pubg, cod , mortal kombat and asphalt.\\n\\nThis phone has only 4gb ram and yet the ram management is amazing, it can keep 3 heavy games in memory without reload...\\nREAD MORE\",\n",
       " 'I purchased the iPhone 11 a month back. I must say Apple has impressed me yet again . I have been an Apple user for past 5 years . The phone is power packed with amazing features . What impressed me the most was the battery backup the phone offers . Battery can easily run upto 1.5 days in single charge with moderate to\\nHeavy usage . If you’re looking for a value for money device , I don’t see any other phone in the price range which can match the iPhone 11 .\\nOne thing I didn’t like was that ...\\nREAD MORE',\n",
       " 'Excellent camera 📸 And Display touching very Nice And Smooth and very improvement against\\nI phone 11 and new processor is very fast',\n",
       " 'A perfect phone and a good battery super camera and the sound is dynamic overall the phone is perfect for upgrading from lower iPhone model to iPhone 11',\n",
       " 'This is my first ever iPhone.\\nAnd I truly don’t regret switching to IOS from my Android.\\n\\nIt is easily an alternative to a DSLR camera.\\nIf you’re obsessed with photos and videos, just don’t think twice or don’t compare to other androids(Samsung S10 lite or OnePlus 8/8T), as it’s far better from them in every field.\\nComparing will only make you confused.\\n\\nI am getting an average Screen on Time of around 10 hours with 30 percent left. I haven’t let my device discharged below 30 % as it aff...\\nREAD MORE',\n",
       " 'The ultimate performance\\nCamera is superb\\nThe battery backup also very good i never saw iphone gives this much of battery backup\\nIf any one wana buy iphone 11 definitely i will recommend this mobile\\nIt has the better battery and powerfull processer peak performance glorious camera and the display also 100% high quality lcd display if u had money for for 12 if u dont wana invest much money on that then go for iphone 11 it has maximum same specs only main difference between the 12 and 11 is...\\nREAD MORE',\n",
       " 'I use a Note10+ and have been using both iOS and Android devices.\\n\\nCamera has really good features and portraits are super good, better than Samsung flagship. Overall camera setup can still be enhanced and hopeful for better upgrades on software in next release\\n\\nOperating system is quite a breeze and user experience of daily usage is very high as compared to Android. I moved to iOS very swiftly in 2 days for all my office work from Note10+\\n\\nBattery holds up quite well with 4 hrs of call and ...\\nREAD MORE',\n",
       " 'The phone is completely good\\nAs far as camera Apple is king of it\\nAnd its a beast in performance\\nAnd the battery is pretty good too',\n",
       " 'Everything u ll like it when u use this iPhone. Simple changes only not many to lower models but it’s nice to use. Little heavy compared to previous models like 7,8']"
      ]
     },
     "execution_count": 203,
     "metadata": {},
     "output_type": "execute_result"
    }
   ],
   "source": [
    "Full_review9"
   ]
  },
  {
   "cell_type": "code",
   "execution_count": 204,
   "id": "bd5eb80b",
   "metadata": {},
   "outputs": [
    {
     "data": {
      "text/plain": [
       "['5',\n",
       " '5',\n",
       " '5',\n",
       " '5',\n",
       " '5',\n",
       " '5',\n",
       " '5',\n",
       " '4',\n",
       " '5',\n",
       " '5',\n",
       " '5',\n",
       " '5',\n",
       " '5',\n",
       " '5',\n",
       " '5',\n",
       " '5',\n",
       " '5',\n",
       " '5',\n",
       " '5',\n",
       " '5',\n",
       " '5',\n",
       " '5',\n",
       " '4',\n",
       " '5',\n",
       " '5',\n",
       " '5',\n",
       " '5',\n",
       " '5',\n",
       " '4',\n",
       " '5',\n",
       " '5',\n",
       " '5',\n",
       " '5',\n",
       " '5',\n",
       " '5',\n",
       " '5',\n",
       " '5',\n",
       " '4',\n",
       " '5',\n",
       " '5',\n",
       " '5',\n",
       " '5',\n",
       " '5',\n",
       " '5',\n",
       " '5',\n",
       " '5',\n",
       " '4',\n",
       " '5',\n",
       " '5',\n",
       " '5',\n",
       " '5',\n",
       " '4',\n",
       " '5',\n",
       " '5',\n",
       " '5',\n",
       " '5',\n",
       " '5',\n",
       " '5',\n",
       " '5',\n",
       " '5',\n",
       " '5',\n",
       " '5',\n",
       " '5',\n",
       " '4',\n",
       " '5',\n",
       " '5',\n",
       " '5',\n",
       " '4',\n",
       " '5',\n",
       " '5',\n",
       " '5',\n",
       " '4',\n",
       " '5',\n",
       " '5',\n",
       " '5',\n",
       " '5',\n",
       " '5',\n",
       " '4',\n",
       " '5',\n",
       " '5',\n",
       " '5',\n",
       " '5',\n",
       " '5',\n",
       " '5',\n",
       " '5',\n",
       " '5',\n",
       " '5',\n",
       " '5',\n",
       " '4',\n",
       " '5',\n",
       " '5',\n",
       " '5',\n",
       " '5',\n",
       " '5',\n",
       " '5',\n",
       " '5',\n",
       " '3']"
      ]
     },
     "execution_count": 204,
     "metadata": {},
     "output_type": "execute_result"
    }
   ],
   "source": [
    "Phone_rating.extend(Phone_rating1)\n",
    "Phone_rating.extend(Phone_rating2)\n",
    "Phone_rating.extend(Phone_rating3)\n",
    "Phone_rating.extend(Phone_rating4)\n",
    "Phone_rating.extend(Phone_rating5)\n",
    "Phone_rating.extend(Phone_rating6)\n",
    "Phone_rating.extend(Phone_rating7)\n",
    "Phone_rating.extend(Phone_rating8)\n",
    "Phone_rating.extend(Phone_rating9)\n",
    "Phone_rating"
   ]
  },
  {
   "cell_type": "code",
   "execution_count": 205,
   "id": "fafce45b",
   "metadata": {},
   "outputs": [
    {
     "data": {
      "text/plain": [
       "['Brilliant',\n",
       " 'Simply awesome',\n",
       " 'Perfect product!',\n",
       " 'Worth every penny',\n",
       " 'Fabulous!',\n",
       " 'Best in the market!',\n",
       " 'Great product',\n",
       " 'Good choice',\n",
       " 'Worth every penny',\n",
       " 'Highly recommended',\n",
       " 'Highly recommended',\n",
       " 'Perfect product!',\n",
       " 'Perfect product!',\n",
       " 'Classy product',\n",
       " 'Simply awesome',\n",
       " 'Worth every penny',\n",
       " 'Perfect product!',\n",
       " 'Highly recommended',\n",
       " 'Worth every penny',\n",
       " 'Worth every penny',\n",
       " 'Terrific',\n",
       " 'Wonderful',\n",
       " 'Nice product',\n",
       " 'Perfect product!',\n",
       " 'Brilliant',\n",
       " 'Classy product',\n",
       " 'Must buy!',\n",
       " 'Perfect product!',\n",
       " 'Good choice',\n",
       " 'Wonderful',\n",
       " 'Terrific purchase',\n",
       " 'Simply awesome',\n",
       " 'Great product',\n",
       " 'Terrific purchase',\n",
       " 'Mind-blowing purchase',\n",
       " 'Excellent',\n",
       " 'Simply awesome',\n",
       " 'Good quality product',\n",
       " 'Very poor',\n",
       " 'Classy product',\n",
       " 'Perfect product!',\n",
       " 'Must buy!',\n",
       " 'Fabulous!',\n",
       " 'Mind-blowing purchase',\n",
       " 'Mind-blowing purchase',\n",
       " 'Wonderful',\n",
       " 'Great product',\n",
       " 'Very Good',\n",
       " 'Classy product',\n",
       " 'Perfect product!',\n",
       " 'Just wow!',\n",
       " 'Awesome',\n",
       " 'Pretty good',\n",
       " 'Terrific purchase',\n",
       " 'Awesome',\n",
       " 'Classy product',\n",
       " 'Brilliant',\n",
       " 'Terrific',\n",
       " 'Perfect product!',\n",
       " 'Awesome',\n",
       " 'Perfect product!',\n",
       " 'Very poor',\n",
       " 'Fabulous!',\n",
       " 'Excellent',\n",
       " 'Must buy!',\n",
       " 'Value-for-money',\n",
       " 'Best in the market!',\n",
       " 'Brilliant',\n",
       " 'Terrific purchase',\n",
       " 'Good quality product',\n",
       " 'Best in the market!',\n",
       " 'Perfect product!',\n",
       " 'Awesome',\n",
       " 'Value-for-money',\n",
       " 'Just wow!',\n",
       " 'Worthless',\n",
       " 'Super!',\n",
       " 'Classy product',\n",
       " 'Must buy!',\n",
       " 'Excellent',\n",
       " 'Nice product',\n",
       " 'Mind-blowing purchase',\n",
       " 'Wonderful',\n",
       " 'Terrific',\n",
       " 'Excellent',\n",
       " 'Mind-blowing purchase',\n",
       " 'Highly recommended',\n",
       " 'Worth every penny',\n",
       " 'Fabulous!',\n",
       " 'Brilliant',\n",
       " 'Worth every penny',\n",
       " 'Pretty good',\n",
       " 'Fabulous!',\n",
       " 'Mind-blowing purchase',\n",
       " 'Excellent',\n",
       " 'Super!',\n",
       " 'Just wow!',\n",
       " 'Terrific purchase',\n",
       " 'Awesome',\n",
       " 'Decent product']"
      ]
     },
     "execution_count": 205,
     "metadata": {},
     "output_type": "execute_result"
    }
   ],
   "source": [
    "Review_summary.extend(Review_summary1)\n",
    "Review_summary.extend(Review_summary2)\n",
    "Review_summary.extend(Review_summary3)\n",
    "Review_summary.extend(Review_summary4)\n",
    "Review_summary.extend(Review_summary5)\n",
    "Review_summary.extend(Review_summary6)\n",
    "Review_summary.extend(Review_summary7)\n",
    "Review_summary.extend(Review_summary8)\n",
    "Review_summary.extend(Review_summary9)\n",
    "Review_summary"
   ]
  },
  {
   "cell_type": "code",
   "execution_count": 206,
   "id": "a92965b0",
   "metadata": {},
   "outputs": [
    {
     "data": {
      "text/plain": [
       "['The Best Phone for the Money\\n\\nThe iPhone 11 offers superb cameras, a more durable design and excellent battery life for an affordable price.\\n\\nCompelling ultra-wide camera\\nNew Night mode is excellent\\nLong battery life',\n",
       " 'Really satisfied with the Product I received... It’s totally genuine and the packaging was also really good so if ur planning to buy just go for it.',\n",
       " 'Amazing phone with great cameras and better battery which gives you the best performance. I just love the camera .',\n",
       " 'Previously I was using one plus 3t it was a great phone\\nAnd then I decided to upgrade I am stuck between Samsung s10 plus or iPhone 11\\nI have seen the specs and everything were good except the display it’s somewhere between 720-1080 and it’s not even an amoled it’s an LCD display\\nBut I decided to go with iPhone because I have never used an IOS device I have Been an android user from the past 9 years I ordered IPhone 11 (128gb) product red\\nMy experience after using 3 weeks\\n1. The delivery ...\\nREAD MORE',\n",
       " 'This is my first iOS phone. I am very happy with this product. Very much satisfied with this. I love this phone.',\n",
       " 'Great iPhone very snappy experience as apple kind. Upgraded from iPhone 7.\\nPros\\n-Camera top class\\n- Battery top performed\\n-Chipset no need to say as apple kind\\n-Security as you expect from apple\\n- Display super bright industry leading colour\\naccuracy and super responsive\\n-Build quality as expect from apple sturdy\\npremium durable beautiful stylish.\\n-Os most stable os in smartphone industry\\n\\nCons\\n-No 5G\\n-Display is not based on OLED technology\\n-Charger headphones and 1 apple stic...\\nREAD MORE',\n",
       " 'Amazing Powerful and Durable Gadget.\\n\\nI’m am very happy with the camera picture quality, Amazing face id unlocked in dark room, Strong battery with perfect screen size as you can carry easily in pocket. This is my third iPhone.\\n\\nI shifted from android Samsung Note series to iPhone because of the strong build quality and peace of mind for next 3-4 years.\\n\\nDon’t think to much just go for it and I suggest you to go for minimum 128gb variant or more 256gb.\\n\\nI’ve attached my puppy pics and no fi...\\nREAD MORE',\n",
       " 'So far it’s been an AMAZING experience coming back to iOS after nearly a decade but it’s not as versatile as android though phone is sturdy dropped it accidentally a couple of times and nothing happened fortunately camera is awesome',\n",
       " 'i11 is worthy to buy, too much happy with the product. Thank u flipkart I received the item on time..loved it..',\n",
       " 'iphone 11 is a very good phone to buy only if you can compromise for the display. The display on this is device is pretty good but you can get other options with better displays in this price segment.\\nIf you can survive with an HD+ LCD panel with thicker bezels and a notch up top then this is a very good phone for you.\\nCameras are awesome, battery backup excellent, great performance and a decent premium look. Good job Apple !',\n",
       " 'What a camera .....just awesome ..you can feel this iPhone just awesome . Good for gaming also ...try pubg in hd it’s just wow',\n",
       " 'It’s a must buy who is looking for an upgrade from previous generation of iPhones. If you are using XR then still you can hold on for sometime and upgrade to 2020 model else this phone is a must buy . Camera quality is amazing and wide angle is something to count upon. Performance wise it’s amazing and feels premium while holding in hand. So a big YES for this device. Go for 128 GB variant as the 4K videos will occupy lots of space and the storage can get over very quickly. Try to buy it with...\\nREAD MORE',\n",
       " 'Value for money❤️❤️\\nIts awesome mobile phone in the world ...\\nDisplay was very good and bright ..\\nTrust me freinds you r never regret after Buying..\\nJust go for it....\\nI love this phone and i switch to iphone x to 11',\n",
       " 'Totally in love with this ❤ the camera quality is amazing just love it 😘😘😘 itsss dammnnnnnn amazing... Must buy iPhone 11 this is my best experience ever ☀👌👌🧡🧡🧡🧡🧡 thanku apple ❤',\n",
       " 'Excellent camera, good performance, no lag. The lcd display is also good.. but difference come when we watch movie in prime and Netflix, the colours are not vibrant.. as we see in amoled display.. and the charger in box is of 5 watts.. takes more than 3 hours to charge from 0 to 100.. so guys be prepare to buy 18 watts charger . Finally I am an android user, it was my first Iapple phone, I promise u guys the iOS is so smooth.. overall the phone is damn good.... close eyes to buy it.. thanks t...\\nREAD MORE',\n",
       " 'Best budget Iphone till date ❤️ go for it guys without second thought. Let me explain you guys about Camera, Display, battery, and performance.\\n\\nCamera: at this price range there is no comparison of camera, you’ll love the picture quality as well as video quality. I am a Vlogger I wanted an iPhone with 4k video by front camera and I got this phone and I am more than happy 😃\\n\\nBattery: I use this phone roughly as I am active social media person and I have a youtube channel. so the battery ba...\\nREAD MORE',\n",
       " \"Iphone is just awesome.. battery backup is very very nice.. continuously for 10 hours we can use it.camera is just awesome.. display is just fab.i love it alot..i had to wait 15 days for it as i pre ordered it..overalll it's worth the price..these all images are clicked by my iPhone..and i love it.\",\n",
       " \"It's my first time to use iOS phone and I am loving my upgradation 😍😍 I love the color, I love the assebility of the phone....I need to learn more about its functionality, but as far as I have seen, it's quite easy and it has a lot of functions to work on, specially if you are a content writer or a blogger you get a lot of content creation platforms and they are really amazing.\\n\\nThis phone not only for good quality photography but a lot of other task too.😍💯\",\n",
       " 'It’s been almost a month since I have been using this phone. I upgraded from an iPhone 8. The main issue with my 8 was battery and this phone is just awesome when it comes to battery. It lasts a day and a half for me with my regular use , internet connected always with 4g\\nCan’t move forward without saying this. Battery of this phone is a life saver when I am traveling or at work when I don’t get the option to charge\\nCamera is superb. Front cam selfies and back cam photos are just awesome.\\n...\\nREAD MORE',\n",
       " 'Smooth like butter, camera like fantabulous, sound is crystal clear & its red color is damn attractive, i am just loving it. Must buy if you love photography.\\n\\nLucky to get it in sale, thank you Flipkart.',\n",
       " 'Really worth of money. i just love it. It is the best phone ever.',\n",
       " 'This is my first ever I phone. Before this I was using my google nexus 5. But moving from android to iOS is a great experience. It’s worth at this price. I will highly recommend it if you want to move to iOS. The best part of this phone is it’s camera and it’s battery life. This two things have won my heart. I loved it. Happy to have it in my hand. Still exploring its features. And can’t forget to mention Flipkart service. Very prompt service and fast delivery.',\n",
       " 'Awesome Phone. Slightly high price but worth. Better than iPhone XR.\\nCamera is superb and wide angle camera is very clear.\\n12MP selfie camera is also very good.\\nA13 Chip gives a very good and smooth performance.',\n",
       " 'Battery backup is extraordinary, camera is decent & performance offered by A13 bionic is awsome. The display is good in practical usage like the visibility of display is very good in direct sun light compare to pro models. Iam extremely satisfied for the money I spent.',\n",
       " 'I have migrated from OP 7pro... and trust me, iPhone 11 is totally worth it.. following are the reasons:-\\n1)there is ABSOLUTELY NO ISSUE WITH THE DISPLAY... its crisp, sharp and I found it to be much much better than OP7 pro. Netflix, Prime video all run crisply... you won’t miss a thing. True Tone works flawlessly...the display brightness is perfect. OP have not calibrated their screens properly.\\n2) iPhone 11 series have really good cameras... others have spoken in depth about them.\\n3) bat...\\nREAD MORE',\n",
       " 'Superb Product !!!\\nA big and worthy upgrade from mi 3S to iphone 11 .\\nTotally loved it !',\n",
       " 'It’s an amazing product from apple and the camera is simply superb. Phone is faster.Night shot is simply superb and detailing and colour differentiation from camera is an added advantage\\n\\nThis review I have written from iPhone 11 only and I am glad to say outside.\\n\\nCons wise if we see HD+ display only, no battery percentage indicator as in older iPhone 8.\\nNo assistive touch control button in it\\nNo oleophobic coating on back panel glass and finger prints are visible but since I bought mint gr...\\nREAD MORE',\n",
       " 'After 1 month use I found camera quality best compared to my previous Samsung note 10+.Display not good as note 10 also charging too slow.Apple should add fast charger like 11 plus and pro.Best phone for daily use',\n",
       " 'Looking so good 👍 😍 super 👌 stylish 😎 phone\\nClean box 📦 good 👍 delivery 👌 fast delivery\\nOriginal box Original iphone 📱 👌 😍😍😍',\n",
       " 'I just directly switch from iphone 6s to iphone 11 .The best premium smartphone I recommend to everyone. Excellent quality and colors the iphone have in 11 series.\\nCamera quality is just awesome and the major feel when we hold in our hands. The sound quality and volume is also higher then the previous models.\\nI will recommend to buy iphone 11 instead of pro models , there is nothing much difference as this model contains everything which fulfill our needs.\\n\\nOnly one thing that I dislike abo...\\nREAD MORE',\n",
       " 'Upgraded from iphone 6 to 11 best phone for iphone users battery is much better than other iphones camera is awesome love to use it.camera is so clear in night.',\n",
       " \"It's very high performances devise i am like the service of flipkart delevary very fast and packing very nice perfect phone\",\n",
       " 'Well you all know the specifications . One of a kind. Best iPhone till date. Many enhancements to the camera app with many options. Love the glass body with matte finish in the lens area on the back. Lovely colours to choose from. Best battery in an iPhone till date, enough to last more than a day in normal usage. I tested my iPhone 11 battery and lasted for than 24 hours after full charge still with 30% battery charge left. Watched movies for some time. Normal usage on calls, browsing, musi...\\nREAD MORE',\n",
       " 'The built quality is not very premium.\\nThe battery back is great .\\nThe LCD panel is not so sharp but the brightness level is very High .\\nCamera is super duper awesome.\\nThe red colour which people think is bright is actually very soothing and excellent colour to choose from .\\nThe A13 Bionic chip is really a flagship processor and can beat any phone which even has 12 gb ram .\\nCamera module is very great and looks very stylish.',\n",
       " 'This will help you more. See if you are planning to buy iPhone 11. I will say. Yes. But there are some plans I just want to disclose before you buy. 1) If you are an existing iPhone X/XS/XS Max/ XR user, better you guys do not think it to buy. You guys have more or less better gadget. 2) If you are an android user and planning to buy premium phone. I will suggest them to please buy iPhone instead of buying an Android. I bet you will never go back to android after using IOS. Now I want to shar...\\nREAD MORE',\n",
       " 'Amazing camera and feel super machine I am not describe my feeling but this is amazing Phone I am so lucky I have this',\n",
       " 'Really good actually this is my first apple product am using its really awesome performance wise excellent. Am really happy with this iphone11',\n",
       " 'it is very good at performance. Camera is best like before and very smooth response even in water. Don’t buy 12 mini buy iPhone 11 , it is far better than 12 mini believe me ! Have a nice day \\uf8ff ☺️',\n",
       " 'Reviewing again after 5 months. At the beginning the battery and performance was good but it degraded soon. Also I was facing heating issues. The mobile will heat up like a stove sometimes. You cannot even play Pubg even in low settings properly, performance is not a problem but heating is. Also if you play that game for 10 mins the brightness will be automatically down due to over heating even when the auto brightness is set to off. This will not be solved even if u manually increase the bri...\\nREAD MORE',\n",
       " 'We are on apple ecosystem for almost eight years now with couple of iPads and iPhones, including Xr.\\n\\nBought iPhone 11 as a gift to my daughter who loves it. We chose for a purple coloured one. Believe me it is gorgeous and towards the lighter shade. Dazzling and brilliant!\\n\\nThe phone is great and does excellent RAM management like any other Apple device.\\n\\nThe screen, though a LCD and lesser ppi as compared to other flagship phones of competitor brands, is a delight to watch with perfect re...\\nREAD MORE',\n",
       " 'It is just awesome mobile for this price from Apple,\\n\\nAfter 10 days review\\n\\nBattery enough for 1 day even 24*7 Internet will be on and mostly internet usage\\n\\nCamera is just awesome cool , android 64 MP is equal to this just 12 MP\\n\\nA13 Bionic chip will give more high performance without hanging\\n\\nAudio stereo speakers will give Dolby atoms sound with crystal clear\\n\\nVideo recording is like cinematic shots of every sec can be a 4K 60fps. Just awesome this phone\\niPhone 11 loved one',\n",
       " 'Best Apple iPhone that i have bought at a very reasonable price, camera quality is next level just awesome n of superior quality android phones not even close(RIP) to that and also battery is really good but packaging by Flipkart of iPhone was very poor of such a expensive product, firstly im bit worried about the quality of product if i purchased it through online how was the product but i think now this was mine best decision to bought it through Flipkart online because i got genuine Apple...\\nREAD MORE',\n",
       " \"I can say I'm damn impressed with iPhone 11. As they says iPhone 11 have the toughest glass ever in the smartphone which you'll find on the front and back and it's totally smooth. The fit and finish is full apple quality - there's no sense that any cheaping out has happened in the construction. Without saying it's camera features this review won't complete. The iPhone 11 has a dual camera system, consisting of a wide angle len's that's pretty much same as found on the iPhone XR last year, but...\\nREAD MORE\",\n",
       " 'Best Quality Product OF iPhone Series , Sound Quality & Camera quality is very awesome, Battery Life is very Sufficient for 24 hr Backup With Full Internet Access , I love this this Product too much , It is very fast & making me Very fast in all my daily Routine\\nHighlights;\\n1.Camera: 5 STAR\\n2.Video Recording: 5 star\\n3.Night mODE sHOOTING & Camera:4 star\\n4. Audio Quality: Awesome\\n5. Battery : 5 Star\\n6. Touch:5 Star\\n7. Processor: Very Fast\\nThe M...\\nREAD MORE',\n",
       " 'First thanks to Flipkart for this amazing deal and phone is outstanding. I upgraded from iPhone 7 and this is like very big upgrade. But the packaging was very basic I expected a good packaging as they only wrapped one layer of bubble wrap which I don’t think is enough to protect this expensive phone. And I recommend this phone and seller as well.\\n\\nAnd I’m posting this review after using it for 4 days.',\n",
       " 'Superfast delivery by Flipkart. Thanks.\\n\\n1. iPhone 11 is a pretty solid phone for the money you are paying.\\n2. All the bad reviews about the display is confusing. It’s not that bad.\\n3. I switched from a Oneplus 7t. I have no complaints about the display quality of iPhone. Yes, it’s not OLED, so, we are missing on the deep blacks. But that’s it. It is a very colour accurate display. Gets adequately bright and I could not find any pixelation.\\n4. Performance is one of the best, if not best, in ...\\nREAD MORE',\n",
       " \"Again back to apple iphone after a gap of 2-3 years. It's pleasure to use iOS and the quality product by Apple. Iphone 11 still works like a beast in 2021 also. It really capable of doing day to day usage as well as hard core gaming. Battery is awesome. I'm really too much satisfied with it. Apart fto the very gorgious IPS LCD (AMOLED will be better) everything is mind boggling. Iphone💕.\",\n",
       " 'impressive super phone and best in class camera ,sound and face unlock is super fast just see and phone is unlock and fast in daily apps use',\n",
       " 'Well while switching from android to iOS the first thing you need to be careful about is that you will loose all your whatsapp chat backups as both are different operating systems. Camera clarity is awesome and though being an lcd screen clarity and resolution is good. Battery backup is also good unlike previous gen iPhone. So far the experience is good will Padre after a few months of usage.\\n\\nP.S the black is more of a dark grey shade and not jet black',\n",
       " 'In love with this iphone great performance,camera ,battery everything. Go for it have a uncompareble battery backup, no doubts in iPhone camera here You can see the picture which is shot on my iPhone In love with this iphone great performance,camera ,battery everything. Go for it have a uncompareble battery backup, no doubts in iPhone camera here You can see the picture which is shot on my iPhone In love with this iphone great performance,camera ,battery everything. Go for it have a uncompare...\\nREAD MORE',\n",
       " 'Best in class. Battery backup is good especially when you play games like Pubg COD. But it is sort of heavy when you hold in hands. Portrait mode is best to click pictures. Stage light effect is awesome. Try to click photos outside in nature because photos inside home or room will not give you the quality in any phone even in DSLR.',\n",
       " 'Very excited to have this phone. This phone has the real power unlike the android phones having SD 855 . The battery life is very good and the camera quality is excellent as comapred to redmi and other phones except google pixel. I M enjoying every single bit of it. Would recommed only if you have the budget.',\n",
       " 'I was using Iphone 6s and also Oneplus 6t. Both mobiles were perfectly alright in Photos, gaming, and smooth interface . My 6s mobile getting battery issue. thought upgrade to 11. Really like this mobile of its Internal storage (compare to 6s) , camera and its touch feeling. Its a worth buying mobile for me.',\n",
       " 'Its Very awesome product working and good camera quality and all about best product and also flipkart is very great deal and offer nice price',\n",
       " 'I am using this phone for 5 days and its one of the best camera out there ❤️ the screen is not oled and i am coming from iphone xs so its little bit not up to the mark i would say\\nBut overall value for money💕😍the battery back up is far better than my iphone xs and its worth in my apple ecosystem💫❤️if u are an apple User and have the eco system then go for it❤️though i will be getting the new iphone but its pretty good💫',\n",
       " 'Best and amazing product.....phone looks so premium.... battary is also good as expected .... Wide angle camera is so addictive ...if you are a IOS lover....then this phone will be the best choice for you all!!💯🔥',\n",
       " 'Excellent camera and display touching very nice and smooth very improvement against iPhone XR and new processor is very fast',\n",
       " \"I got this beast today. And I must say the picture quality of its camera is awesome. Both the cameras works fine.\\n\\nAs for as the processing is concerned, it runs without any lag. You can play and do whatever you want without a glitch.\\n\\nThe battery runs for a day with medium and high workload.\\n\\nThe display is good and the speakers are working fine.\\n\\nThe earphones doesn't have any base and you can use it for calling mostly.\\n\\nThe charging time is approximately for 90 minutes for full charging...\\nREAD MORE\",\n",
       " 'Awesome purchase. Amazing phone with good battery backup. It’s a top notch device. White colour looks amazing. Phone has a few extra feature than iPhone XR. Overall, this is value for money',\n",
       " 'Always love the apple products, upgraded from old iPhone 6S plus to this after having my first baby. I just love to click baby’s photos with it. Overall I just love this phone. Battery back up is okay, sound quality is good. Haven’t tested yet waterproof yet. Only one thing I hate is apple could have given charger & headphones in box.',\n",
       " 'Value for money\\n5 star rating\\nExcellent camera\\nBattery backup full day in single charge.\\n\\nTougher and water resistant design, glossy back.\\nThe screen has excellent brightness and contrast.\\nApple A13 Bionic is the fastest smartphone chip on the planet.\\nExcellent battery life, fast charging support.\\nStereo speakers with great quality.',\n",
       " 'Please DONT buy from here,\\n\\nI purchased Apple iPhone 11. with an exchange of IPhone 7, the exchange did not go well, iPhone 7 had a small scratch out side screen which i could never identify till date, but the FLIPKART person could, so he reduced 50% from exchange rate. I decided not to trade in, but paid money.\\n\\niPhone 11 Detail Below\\n---------------------------------------------\\nIt came with no charging, then i have put for charging, it took lot of time for charging, the phone also showe...\\nREAD MORE',\n",
       " 'awesome phone to have. it has got many smart features apart from mind blowing looks, camera, display, battery and sound. have fallen in love with this phone. must buy phone if you have got enough money. thanks to flipkart and apple of course..',\n",
       " 'Its a fabulous mobile look awesome performance unbeaten camera like dslr battery good i think this is a beast of mobile',\n",
       " 'Dear friends... I want to share my experience with you about this amazing I phone 11....this is my first iPhone and special things about this mobile is it has great camera, battery backup and awesome display.... I mean everything is perfect.loved it 👍👍👍',\n",
       " \"Just got this iphone 11\\nAnd it is most powerful mobile phone I have used ever\\n\\nSo,go for it if you want a phone with best specification like camera,battery backup,display, A13 bionic chip\\n\\nThat's my review about this phone but yours can be differ from me....\",\n",
       " \"The best all rounder iphone. Flipkart is doing a great job. They're delivery services are blazing fast. I got delivery on the same day. Genuine Apple Product. Working great. Talking about review There's no need of review for iphones. They're simply the best.\",\n",
       " 'Amazing phone and on great deal I received with super fast delivery by Flipkart...',\n",
       " 'finally an iPhone with very nice battery backup. update from iPhone 7 and happy to have it. camera is not up to the mark in low light but overall a recommended phone if your budget allows 😀',\n",
       " \"I'm switching this phone to oppo reno 10x zoom\\nIt's really impressive\\nRarely I'm missing smooth display touch response like oppo reno but\\nI really loved it.\\nCamera really impressive\",\n",
       " 'Damn this phone is a blast . Upgraded from android to ios and is a duperb experience. Battery backup is top notch and display also pretty good',\n",
       " 'Worth the money’ starting first from its performance it beats out all phones , second the smoothness of camera is awesome, contrast ratio is much than expected. Price will not matter if u r a quality person, if not other phones are available with better discount',\n",
       " 'I dreamt about this day from a long time.... Getting an iPhone with my own money.... Super happy and worth spending every penny',\n",
       " \"I'm Really happy with the product\\nDelivery was fast as well\\n..it was a gift for my sister and she loved it so much.\",\n",
       " 'Great iphone.\\nI am writing this review after 2 months of usage.\\nCamera is excellent, especially the nightmode\\nDisplay perfect\\nBattery backup awesome\\nSound quality very good\\nOverall Apple gives you a perfect iphone in this range.\\nReally in love with iPhone 11',\n",
       " \"Phone is awesome no doubt. But Camera & Display is not great. Performance is mind blowing.\\nBut the phone is heating too much when charging or when you regularly used. It's experience after using 1 week. It's heating extrem when I play PUBG for 30 minutes.\\nGo for iPhone 11 pro or 12. Otherwise go for Android phone you will get much better phone in less price.\",\n",
       " 'Did an upgrade from 6s plus to iphone 11.\\nAo far the experience is well and good. Felt smoother than 6s plus. The camera quality is superb. Battery backup is descent. Not a heavy user, and gets power more than a day. Go for it if you need an alrounder iphone in a competitve price.',\n",
       " 'Gifted my man on his 30th birthday 🎂 He loves it.. Him happy so i am more than happy 😍😘❤️🥰',\n",
       " 'I rate this product 5* as it has got amazing user experience with the best performing A13 bionic processor. The screen responds and graphics rendering is top notch. With casual gaming and internet browsing, the battery lasts for approx. 1 day. Camera is very good. You will fall in love with the portrait mode. You can call me a loyal Apple customer or whatever but I won’t stop praising the products and overall experience. That user experience matters and is worth every penny you pay.\\n\\nBelow ar...\\nREAD MORE',\n",
       " \"It was amazing experience for me. Honestly i am using iPhone first time so I don't have that much past experience about that. But after using 7 days this mobile i want to give some honest feedback.\\n1- Display 9 out of 10\\n2- Camera 9.5 out of 10\\n3- Battery 7 out of 10\\n4- Performance 9.5 out of 10\\n5- Features & Functions 10 out of 10\\n6- Outer looks and colour 10 out of 10\\nRest i think i will understand after using this for few months.\\nI will highly recommend you guys if you have budget then you...\\nREAD MORE\",\n",
       " \"If you are looking for a premium phone under 55k, this is the one for you.Got the iPhone 11 during the Republic day sale. Performance is top notch in this price range. Camera's do a perfect job in taking good quality photos and videos. Battery backup too is satisfactory. Writing this review after using for a week. Any further observations would be updated.\",\n",
       " 'awesome Phone Smooth Touch Too good Sexyy looks one word Awesome',\n",
       " 'Super and marvellous phone look very cute and nice sound. I love this phone i think white is good colur.Excellent camer 5*😍😘♥️♥️',\n",
       " 'I bought iPhone 11 On March 2021, And I am Writing this review after using the phone for 4 Months. I would Say Everything is fine, Top Performance, Nice Camera as Anyone would Expect from any series of iPhone but when the Question comes to Battery it is complicated. The Battery is fully optimised and it comes 3110 mAh capacity but the problem is with the charger. Honestly Apple Removed charger from in Box items in the name of Environment and they are also forcing us to buy any 20W PD 3rd part...\\nREAD MORE',\n",
       " \"Just go for it.\\nThis phone is really amazing. I ordered it for my wife and we click photos on this thing which are better than dslr. I own OnePlus 6t but it's camera sucks. iPhone is really amazing when it comes to camera. It's worth spending 50k on this. Cons- only display is lcd. While using u don't feel it but if u compare with other phone then u can see difference quite easily.\\nChanging from Android to iphone is bit difficult coz most of things u don't know but I liked it. Some of the a...\\nREAD MORE\",\n",
       " 'Absolutely powerful gadget. Loved it’s look! Soo glassy and classy. I would definitely recommend this model of Apple. Only disappointed with the 5W charger, one should purchase an 18W adapter for fast charging. Though battery backup is great. Bought it in September 2020, reviewing after so long so I’m gonna put the genuine review here.✅',\n",
       " 'Thanks Flipkart For this amazing deal! I had a dream of owning a iphone since i had known about.\\nIm very happy with my purchase & it is totally worth it.\\nAmazing experience all over !!\\n\\nAnyone who’s thinking of buying it in 2021, i would simply say go for it without any second thoughts ❤️',\n",
       " 'Here is the thing\\n\\nThe only reason why you should buy this phone is for the camera, iOS, and if you have headaches looking at AMOLED display.\\n\\nI’m not an avid gamer but watch a lot of movies on smartphone. However, my migraine attacks increased considerably after using AMOLED Smartphone. That’s why I made a calculated decision to buy iPhone 11. It has the best LCD display and the blacks, though not as natural as an AMOLED, is better than some of the other smartphones.\\n\\nAdding to this the ste...\\nREAD MORE',\n",
       " 'Everything is perfect pictures come out so clearly and at first I wasn’t sure when I got it then when I started to use it and get the hang of it it was amazing!! I can’t wait to see what the next future phones will be like. The screen display on this bad boy are unbelievable they are so clear and never fail me. The performance is super cool there is a lot of cool features as well I like this phone because I feel that it is easy to use and one of my favorite things about this phone is the Face...\\nREAD MORE',\n",
       " 'A wort full value for money decision it’s . Simply go for it in 2021 its still a good decision . Awesome camera , Super smothered performance, Heck of build quality. And Most important it protects your privacy.',\n",
       " 'Undoubtedly Iphone 11 is the most successful model till now and its performance is extraordinary and the security features are very impressive, display is more vibrant sound quality Camera Quality 5*****, but Iphone should add accessories too and act like scrooge.',\n",
       " \"I've used this phone for over a month now and here are my takeaways.\\nI would like to first talk about the best things about this phone and then the cons of it.\\n\\nPros:\\nThis phone is a performance beast. It handles large games and applications effortlessly and you won't find any stutters or lags while playing graphic intensive games like pubg, cod , mortal kombat and asphalt.\\n\\nThis phone has only 4gb ram and yet the ram management is amazing, it can keep 3 heavy games in memory without reload...\\nREAD MORE\",\n",
       " 'I purchased the iPhone 11 a month back. I must say Apple has impressed me yet again . I have been an Apple user for past 5 years . The phone is power packed with amazing features . What impressed me the most was the battery backup the phone offers . Battery can easily run upto 1.5 days in single charge with moderate to\\nHeavy usage . If you’re looking for a value for money device , I don’t see any other phone in the price range which can match the iPhone 11 .\\nOne thing I didn’t like was that ...\\nREAD MORE',\n",
       " 'Excellent camera 📸 And Display touching very Nice And Smooth and very improvement against\\nI phone 11 and new processor is very fast',\n",
       " 'A perfect phone and a good battery super camera and the sound is dynamic overall the phone is perfect for upgrading from lower iPhone model to iPhone 11',\n",
       " 'This is my first ever iPhone.\\nAnd I truly don’t regret switching to IOS from my Android.\\n\\nIt is easily an alternative to a DSLR camera.\\nIf you’re obsessed with photos and videos, just don’t think twice or don’t compare to other androids(Samsung S10 lite or OnePlus 8/8T), as it’s far better from them in every field.\\nComparing will only make you confused.\\n\\nI am getting an average Screen on Time of around 10 hours with 30 percent left. I haven’t let my device discharged below 30 % as it aff...\\nREAD MORE',\n",
       " 'The ultimate performance\\nCamera is superb\\nThe battery backup also very good i never saw iphone gives this much of battery backup\\nIf any one wana buy iphone 11 definitely i will recommend this mobile\\nIt has the better battery and powerfull processer peak performance glorious camera and the display also 100% high quality lcd display if u had money for for 12 if u dont wana invest much money on that then go for iphone 11 it has maximum same specs only main difference between the 12 and 11 is...\\nREAD MORE',\n",
       " 'I use a Note10+ and have been using both iOS and Android devices.\\n\\nCamera has really good features and portraits are super good, better than Samsung flagship. Overall camera setup can still be enhanced and hopeful for better upgrades on software in next release\\n\\nOperating system is quite a breeze and user experience of daily usage is very high as compared to Android. I moved to iOS very swiftly in 2 days for all my office work from Note10+\\n\\nBattery holds up quite well with 4 hrs of call and ...\\nREAD MORE',\n",
       " 'The phone is completely good\\nAs far as camera Apple is king of it\\nAnd its a beast in performance\\nAnd the battery is pretty good too',\n",
       " 'Everything u ll like it when u use this iPhone. Simple changes only not many to lower models but it’s nice to use. Little heavy compared to previous models like 7,8']"
      ]
     },
     "execution_count": 206,
     "metadata": {},
     "output_type": "execute_result"
    }
   ],
   "source": [
    "Full_review.extend(Full_review1)\n",
    "Full_review.extend(Full_review2)\n",
    "Full_review.extend(Full_review3)\n",
    "Full_review.extend(Full_review4)\n",
    "Full_review.extend(Full_review5)\n",
    "Full_review.extend(Full_review6)\n",
    "Full_review.extend(Full_review7)\n",
    "Full_review.extend(Full_review8)\n",
    "Full_review.extend(Full_review9)\n",
    "Full_review"
   ]
  },
  {
   "cell_type": "code",
   "execution_count": 208,
   "id": "99f53ffe",
   "metadata": {},
   "outputs": [
    {
     "data": {
      "text/html": [
       "<div>\n",
       "<style scoped>\n",
       "    .dataframe tbody tr th:only-of-type {\n",
       "        vertical-align: middle;\n",
       "    }\n",
       "\n",
       "    .dataframe tbody tr th {\n",
       "        vertical-align: top;\n",
       "    }\n",
       "\n",
       "    .dataframe thead th {\n",
       "        text-align: right;\n",
       "    }\n",
       "</style>\n",
       "<table border=\"1\" class=\"dataframe\">\n",
       "  <thead>\n",
       "    <tr style=\"text-align: right;\">\n",
       "      <th></th>\n",
       "      <th>Phone_rating</th>\n",
       "      <th>Review_summary</th>\n",
       "      <th>Full_review</th>\n",
       "    </tr>\n",
       "  </thead>\n",
       "  <tbody>\n",
       "    <tr>\n",
       "      <th>0</th>\n",
       "      <td>5</td>\n",
       "      <td>Brilliant</td>\n",
       "      <td>The Best Phone for the Money\\n\\nThe iPhone 11 ...</td>\n",
       "    </tr>\n",
       "    <tr>\n",
       "      <th>1</th>\n",
       "      <td>5</td>\n",
       "      <td>Simply awesome</td>\n",
       "      <td>Really satisfied with the Product I received.....</td>\n",
       "    </tr>\n",
       "    <tr>\n",
       "      <th>2</th>\n",
       "      <td>5</td>\n",
       "      <td>Perfect product!</td>\n",
       "      <td>Amazing phone with great cameras and better ba...</td>\n",
       "    </tr>\n",
       "    <tr>\n",
       "      <th>3</th>\n",
       "      <td>5</td>\n",
       "      <td>Worth every penny</td>\n",
       "      <td>Previously I was using one plus 3t it was a gr...</td>\n",
       "    </tr>\n",
       "    <tr>\n",
       "      <th>4</th>\n",
       "      <td>5</td>\n",
       "      <td>Fabulous!</td>\n",
       "      <td>This is my first iOS phone. I am very happy wi...</td>\n",
       "    </tr>\n",
       "    <tr>\n",
       "      <th>...</th>\n",
       "      <td>...</td>\n",
       "      <td>...</td>\n",
       "      <td>...</td>\n",
       "    </tr>\n",
       "    <tr>\n",
       "      <th>92</th>\n",
       "      <td>5</td>\n",
       "      <td>Fabulous!</td>\n",
       "      <td>I purchased the iPhone 11 a month back. I must...</td>\n",
       "    </tr>\n",
       "    <tr>\n",
       "      <th>93</th>\n",
       "      <td>5</td>\n",
       "      <td>Mind-blowing purchase</td>\n",
       "      <td>Excellent camera 📸 And Display touching very N...</td>\n",
       "    </tr>\n",
       "    <tr>\n",
       "      <th>94</th>\n",
       "      <td>5</td>\n",
       "      <td>Excellent</td>\n",
       "      <td>A perfect phone and a good battery super camer...</td>\n",
       "    </tr>\n",
       "    <tr>\n",
       "      <th>95</th>\n",
       "      <td>5</td>\n",
       "      <td>Super!</td>\n",
       "      <td>This is my first ever iPhone.\\nAnd I truly don...</td>\n",
       "    </tr>\n",
       "    <tr>\n",
       "      <th>96</th>\n",
       "      <td>3</td>\n",
       "      <td>Just wow!</td>\n",
       "      <td>The ultimate performance\\nCamera is superb\\nTh...</td>\n",
       "    </tr>\n",
       "  </tbody>\n",
       "</table>\n",
       "<p>97 rows × 3 columns</p>\n",
       "</div>"
      ],
      "text/plain": [
       "   Phone_rating         Review_summary  \\\n",
       "0             5              Brilliant   \n",
       "1             5         Simply awesome   \n",
       "2             5       Perfect product!   \n",
       "3             5      Worth every penny   \n",
       "4             5              Fabulous!   \n",
       "..          ...                    ...   \n",
       "92            5              Fabulous!   \n",
       "93            5  Mind-blowing purchase   \n",
       "94            5              Excellent   \n",
       "95            5                 Super!   \n",
       "96            3              Just wow!   \n",
       "\n",
       "                                          Full_review  \n",
       "0   The Best Phone for the Money\\n\\nThe iPhone 11 ...  \n",
       "1   Really satisfied with the Product I received.....  \n",
       "2   Amazing phone with great cameras and better ba...  \n",
       "3   Previously I was using one plus 3t it was a gr...  \n",
       "4   This is my first iOS phone. I am very happy wi...  \n",
       "..                                                ...  \n",
       "92  I purchased the iPhone 11 a month back. I must...  \n",
       "93  Excellent camera 📸 And Display touching very N...  \n",
       "94  A perfect phone and a good battery super camer...  \n",
       "95  This is my first ever iPhone.\\nAnd I truly don...  \n",
       "96  The ultimate performance\\nCamera is superb\\nTh...  \n",
       "\n",
       "[97 rows x 3 columns]"
      ]
     },
     "execution_count": 208,
     "metadata": {},
     "output_type": "execute_result"
    }
   ],
   "source": [
    "data=list(zip(Phone_rating,Review_summary,Full_review))\n",
    "\n",
    "df=pd.DataFrame(data,columns=['Phone_rating','Review_summary','Full_review'])\n",
    "df"
   ]
  },
  {
   "cell_type": "markdown",
   "id": "bf3c08d2",
   "metadata": {},
   "source": [
    "Q6: Scrape data for first 100 sneakers you find when you visit flipkart.com and search for “sneakers” in the \n",
    "search field. \n",
    "You have to scrape 4 attributes of each sneaker: \n",
    "1. Brand \n",
    "2. Product Description \n",
    "3. Pric"
   ]
  },
  {
   "cell_type": "code",
   "execution_count": 18,
   "id": "b8a2d9f5",
   "metadata": {},
   "outputs": [],
   "source": [
    "import selenium\n",
    "import pandas as pd\n",
    "from selenium import webdriver\n",
    "from selenium.webdriver.common.keys import Keys\n",
    "import warnings\n",
    "warnings.filterwarnings('ignore')"
   ]
  },
  {
   "cell_type": "code",
   "execution_count": 64,
   "id": "a7716857",
   "metadata": {},
   "outputs": [],
   "source": [
    "driver=webdriver.Chrome(r\"C:\\Users\\Grace Amirtham\\Downloads\\chromedriver_win32\\chromedriver.exe\")\n",
    "driver.get(\"https://www.flipkart.com/\")"
   ]
  },
  {
   "cell_type": "code",
   "execution_count": 65,
   "id": "6609b23c",
   "metadata": {},
   "outputs": [],
   "source": [
    "#searching sneakers\n",
    "search_prod = driver.find_element_by_xpath(\"/html/body/div[1]/div/div[1]/div[1]/div[2]/div[2]/form/div/div/input\")\n",
    "\n",
    "search_prod.send_keys('Sneakers')\n",
    "\n",
    "search_icon = driver.find_element_by_xpath(\"//button[@class='L0Z3Pu']\")\n",
    "\n",
    "search_icon.click()\n"
   ]
  },
  {
   "cell_type": "code",
   "execution_count": 66,
   "id": "981b48c5",
   "metadata": {},
   "outputs": [],
   "source": [
    "#Title \n",
    "title = driver.find_elements_by_xpath(\"//div[@class='_2WkVRV']\")\n",
    "Name=[]\n",
    "for i in title:\n",
    "    Name.append(i.text)"
   ]
  },
  {
   "cell_type": "code",
   "execution_count": 67,
   "id": "daebf845",
   "metadata": {},
   "outputs": [
    {
     "data": {
      "text/plain": [
       "['Chevit',\n",
       " 'PUMA',\n",
       " 'Numenzo',\n",
       " 'Magnolia',\n",
       " 'SCATCHITE',\n",
       " 'CALCADOS',\n",
       " 'Kreverse',\n",
       " 'KNIGHT WALKERS',\n",
       " 'D-SNEAKERZ',\n",
       " 'BRUTON',\n",
       " 'Numenzo',\n",
       " 'PUMA',\n",
       " 'ASIAN',\n",
       " 'Robbie jones',\n",
       " 'BIRDE',\n",
       " 'PUMA',\n",
       " 'FOOTGRAB',\n",
       " 'Arohi',\n",
       " 'Wlinzak',\n",
       " 'Vigglo Fashion',\n",
       " 'PACIFIER',\n",
       " 'Robbie jones',\n",
       " 'Chevit',\n",
       " 'Vigglo Fashion',\n",
       " 'T-ROCK',\n",
       " 'Labbin',\n",
       " 'Clymb',\n",
       " 'Vigglo Fashion',\n",
       " 'Kreverse',\n",
       " 'Kraasa',\n",
       " 'SPARX',\n",
       " 'SUSON',\n",
       " 'Robbie jones',\n",
       " 'Robbie jones',\n",
       " 'Robbie jones',\n",
       " 'believe',\n",
       " 'HOC',\n",
       " 'Shoes Bank',\n",
       " 'Rzisbo',\n",
       " 'Chevit']"
      ]
     },
     "execution_count": 67,
     "metadata": {},
     "output_type": "execute_result"
    }
   ],
   "source": [
    "Name"
   ]
  },
  {
   "cell_type": "code",
   "execution_count": 68,
   "id": "c9f81d59",
   "metadata": {},
   "outputs": [],
   "source": [
    "#Description of the product\n",
    "Desc= driver.find_elements_by_xpath(\"//a[@class='IRpwTa']\")\n",
    "Description=[]\n",
    "for i in Desc:\n",
    "    Description.append(i.text)"
   ]
  },
  {
   "cell_type": "code",
   "execution_count": 69,
   "id": "96033fab",
   "metadata": {},
   "outputs": [
    {
     "data": {
      "text/plain": [
       "['Unique & Perfect Collection Combo Pack of 02 Shoes for ...',\n",
       " 'Sneakers For Men',\n",
       " 'Sneakers For Men',\n",
       " 'Sneakers Sneakers For Men',\n",
       " 'Sneakers For Men',\n",
       " \"Casual , Partywear Sneakers Shoes For Men's And Boys Wh...\",\n",
       " 'Modern & Trendy Collection Combo Pack of 02 Shoes for M...',\n",
       " 'Numenzo Black Sneaker For Men Sneakers For Men',\n",
       " 'Serve Pro Lite Sneakers For Men',\n",
       " 'Skypy-31 Walking Shoes,Training Shoes,Sneakers,Loafers,...',\n",
       " 'Casual Sneakers Shoes For Men Sneakers For Men',\n",
       " 'Sports Running Shoes Sneakers For Men',\n",
       " 'Puma Smash Vulc Sneakers For Men',\n",
       " 'White Boots || High Tops || Sneakers For Men',\n",
       " 'Sneakers For Men',\n",
       " 'White casual shoes for men party wear sneaker dress siz...',\n",
       " 'Sneakers For Men',\n",
       " 'Sneakers For Men',\n",
       " 'Super Stylish & Trendy Combo Pack of 02 Pairs Sneakers ...',\n",
       " 'Synthetic Leather Casual Partywear Wedding Sneakers Sho...',\n",
       " 'Casual Sneakers White Shoes For Men And Boys Sneakers F...',\n",
       " 'Mesh Sports/Walking Shoes/Outdoor Ultra Lightweight Run...',\n",
       " 'Sneakers For Men',\n",
       " 'Series 7 Sneakers For Men',\n",
       " 'Men White Sneakers Sneakers For Men',\n",
       " 'Gym/Walking/Running Sneakers For Men',\n",
       " 'Sneakers For Men',\n",
       " 'Sneakers For Men',\n",
       " 'Sneakers For Men',\n",
       " 'Luxury Fashionable Breathable Casual Sneakers Shoes For...',\n",
       " \"White Sneaker For Men's/Boy's Sneakers For Men\",\n",
       " 'Sneakers For Men',\n",
       " \"Men's Combo Pack of 02 Shoes for Men Casual Sneakers Ou...\"]"
      ]
     },
     "execution_count": 69,
     "metadata": {},
     "output_type": "execute_result"
    }
   ],
   "source": [
    "Description"
   ]
  },
  {
   "cell_type": "code",
   "execution_count": 70,
   "id": "2cc7e986",
   "metadata": {},
   "outputs": [],
   "source": [
    "#price\n",
    "cost= driver.find_elements_by_xpath(\"//div[@class='_30jeq3']\")\n",
    "price=[]\n",
    "for i in cost:\n",
    "    price.append(i.text)"
   ]
  },
  {
   "cell_type": "code",
   "execution_count": 71,
   "id": "c363c2c8",
   "metadata": {},
   "outputs": [
    {
     "data": {
      "text/plain": [
       "['₹599',\n",
       " '₹7,649',\n",
       " '₹479',\n",
       " '₹398',\n",
       " '₹398',\n",
       " '₹899',\n",
       " '₹199',\n",
       " '₹599',\n",
       " '₹348',\n",
       " '₹474',\n",
       " '₹499',\n",
       " '₹3,819',\n",
       " '₹399',\n",
       " '₹399',\n",
       " '₹299',\n",
       " '₹2,659',\n",
       " '₹649',\n",
       " '₹458',\n",
       " '₹499',\n",
       " '₹420',\n",
       " '₹499',\n",
       " '₹499',\n",
       " '₹699',\n",
       " '₹420',\n",
       " '₹399',\n",
       " '₹399',\n",
       " '₹259',\n",
       " '₹440',\n",
       " '₹245',\n",
       " '₹499',\n",
       " '₹674',\n",
       " '₹399',\n",
       " '₹499',\n",
       " '₹499',\n",
       " '₹499',\n",
       " '₹499',\n",
       " '₹449',\n",
       " '₹345',\n",
       " '₹549',\n",
       " '₹735']"
      ]
     },
     "execution_count": 71,
     "metadata": {},
     "output_type": "execute_result"
    }
   ],
   "source": [
    "price"
   ]
  },
  {
   "cell_type": "code",
   "execution_count": 72,
   "id": "304eb380",
   "metadata": {},
   "outputs": [],
   "source": [
    "next=driver.find_elements_by_xpath(\"//a[@class='_1LKTO3']\")[-1].click()"
   ]
  },
  {
   "cell_type": "code",
   "execution_count": 73,
   "id": "6e9e7df6",
   "metadata": {},
   "outputs": [],
   "source": [
    "title1 = driver.find_elements_by_xpath(\"//div[@class='_2WkVRV']\")\n",
    "Name1=[]\n",
    "for i in title1:\n",
    "    Name1.append(i.text)"
   ]
  },
  {
   "cell_type": "code",
   "execution_count": 74,
   "id": "cb87ba75",
   "metadata": {},
   "outputs": [
    {
     "data": {
      "text/plain": [
       "['India hub',\n",
       " 'BRUTON',\n",
       " 'RapidBox',\n",
       " 'aadi',\n",
       " 'BRUTON',\n",
       " 'Robbie jones',\n",
       " 'SPARX',\n",
       " 'Extoes',\n",
       " 'BIRDE',\n",
       " 'Chevit',\n",
       " 'BRUTON',\n",
       " 'aadi',\n",
       " 'Jabra',\n",
       " 'mannu',\n",
       " 'HOC',\n",
       " 'Chevit',\n",
       " 'RODDICK SHOES',\n",
       " 'Kraasa',\n",
       " 'luxury fashion',\n",
       " 'Bucik',\n",
       " 'STRANGER BROTHERS',\n",
       " 'Stefano Rads',\n",
       " 'PEHANOSA',\n",
       " 'PUMA',\n",
       " 'ganpati traders',\n",
       " 'HRX by Hrithik Roshan',\n",
       " 'Chevit',\n",
       " 'NIKE',\n",
       " 'LuvShus',\n",
       " 'D-SNEAKERZ',\n",
       " 'mannu',\n",
       " 'EEKEN',\n",
       " 'High Steps',\n",
       " 'believe',\n",
       " 'BIRDE',\n",
       " 'Chevit',\n",
       " 'ASIAN',\n",
       " 'Lee Won',\n",
       " 'India hub',\n",
       " \"Neeman's\"]"
      ]
     },
     "execution_count": 74,
     "metadata": {},
     "output_type": "execute_result"
    }
   ],
   "source": [
    "Name1"
   ]
  },
  {
   "cell_type": "code",
   "execution_count": 75,
   "id": "1f652af8",
   "metadata": {},
   "outputs": [],
   "source": [
    "Desc1= driver.find_elements_by_xpath(\"//a[@class='IRpwTa']\")\n",
    "Description1=[]\n",
    "for i in Desc1:\n",
    "    Description1.append(i.text)"
   ]
  },
  {
   "cell_type": "code",
   "execution_count": 76,
   "id": "4c6ff9cd",
   "metadata": {},
   "outputs": [
    {
     "data": {
      "text/plain": [
       "['Fashionable casual sneakers shoes Sneakers For Men',\n",
       " 'Combo Pack Of 2 Latest Stylish Casual Shoes for Men Lac...',\n",
       " 'Sneakers For Men',\n",
       " 'Modern Trendy Sneakers Shoes Sneakers For Men',\n",
       " 'Casual Sneakers Green Shoes For Men And Boys Sneakers F...',\n",
       " 'Canvas Casual Partywear Outdoor Sneakers Shoes For Mens...',\n",
       " 'Relaxed Attractive Combo pack of 4 Sneakers For Men',\n",
       " 'Birde Trendy Casual Shoes Sneakers For Men',\n",
       " 'Perfect & Affordable Combo Pack of 02 Pairs Sneakers Ou...',\n",
       " 'Combo Pack Of 4 Casual Shoes Loafer Shoes Sneakers For ...',\n",
       " 'Sneakers For Men',\n",
       " 'Perfect Sports Shoes for Running Training Hiking Footba...',\n",
       " 'Luxury Fashionable Breathable Casual Sneakers Shoes For...',\n",
       " 'Luxury Fashionable Breathable White shoes for men Sneak...',\n",
       " '171 Smart Tan Lace-Ups Casuals for Men Sneakers For Men',\n",
       " 'Fashion Outdoor Canvas Casual Light Weight Lace-up Even...',\n",
       " 'Shark-41 Sneakers For Men',\n",
       " 'New Collection Pair of Stylish Shoe Sneakers For Men',\n",
       " 'Walking/Stylish/Casual Sneakers Sneakers For Men',\n",
       " 'Sneakers For Men',\n",
       " 'Sneaker for men Sneakers For Men',\n",
       " 'Sports Shoes Sneakers For Men',\n",
       " 'Smart Casuals Canvas Shoes Combo pack of 2 Sneakers For...',\n",
       " 'SB CHECK SOLAR CNVS Sneakers For Men',\n",
       " 'Men Casual Shoe New Trend With Fashion Panda Desgined L...',\n",
       " \"Casual , Partywear Sneakers Shoes For Men's And Boys Wh...\",\n",
       " 'High-end PU Sneakers Fashion CasualSports comfortable B...',\n",
       " 'Casual Canvas Chain Sneakers Canvas Sneakers For Men',\n",
       " 'Sneakers for men(black_6) Sneakers For Men',\n",
       " 'Trendy Casual Shoes Sneakers For Men',\n",
       " 'Smart Casuals Canvas Shoes Combo pack of 2 Sneakers For...',\n",
       " 'Skypy-31 Walking Shoes,Training Shoes,Sneakers,Loafers,...',\n",
       " 'Sneakers For Men']"
      ]
     },
     "execution_count": 76,
     "metadata": {},
     "output_type": "execute_result"
    }
   ],
   "source": [
    "Description1"
   ]
  },
  {
   "cell_type": "code",
   "execution_count": 77,
   "id": "992b95f9",
   "metadata": {},
   "outputs": [],
   "source": [
    "cost1= driver.find_elements_by_xpath(\"//div[@class='_30jeq3']\")\n",
    "price1=[]\n",
    "for i in cost1:\n",
    "    price1.append(i.text)"
   ]
  },
  {
   "cell_type": "code",
   "execution_count": 78,
   "id": "23d9da56",
   "metadata": {},
   "outputs": [
    {
     "data": {
      "text/plain": [
       "['₹499',\n",
       " '₹592',\n",
       " '₹640',\n",
       " '₹398',\n",
       " '₹299',\n",
       " '₹499',\n",
       " '₹689',\n",
       " '₹698',\n",
       " '₹299',\n",
       " '₹599',\n",
       " '₹666',\n",
       " '₹473',\n",
       " '₹259',\n",
       " '₹429',\n",
       " '₹449',\n",
       " '₹249',\n",
       " '₹474',\n",
       " '₹499',\n",
       " '₹499',\n",
       " '₹699',\n",
       " '₹429',\n",
       " '₹242',\n",
       " '₹499',\n",
       " '₹7,649',\n",
       " '₹225',\n",
       " '₹1,139',\n",
       " '₹399',\n",
       " '₹1,925',\n",
       " '₹442',\n",
       " '₹384',\n",
       " '₹429',\n",
       " '₹1,279',\n",
       " '₹449',\n",
       " '₹499',\n",
       " '₹299',\n",
       " '₹399',\n",
       " '₹399',\n",
       " '₹331',\n",
       " '₹499',\n",
       " '₹2,399']"
      ]
     },
     "execution_count": 78,
     "metadata": {},
     "output_type": "execute_result"
    }
   ],
   "source": [
    "price1"
   ]
  },
  {
   "cell_type": "code",
   "execution_count": 79,
   "id": "9192d5b2",
   "metadata": {},
   "outputs": [],
   "source": [
    "next=driver.find_elements_by_xpath(\"//a[@class='_1LKTO3']\")[-1].click()"
   ]
  },
  {
   "cell_type": "code",
   "execution_count": 80,
   "id": "ca72e71c",
   "metadata": {},
   "outputs": [],
   "source": [
    "title2 = driver.find_elements_by_xpath(\"//div[@class='_2WkVRV']\")\n",
    "Name2=[]\n",
    "for i in title2:\n",
    "    Name2.append(i.text)"
   ]
  },
  {
   "cell_type": "code",
   "execution_count": 81,
   "id": "69672ccd",
   "metadata": {},
   "outputs": [
    {
     "data": {
      "text/plain": [
       "['EZBRA',\n",
       " 'PEXLO',\n",
       " 'SPARX',\n",
       " 'Durcus',\n",
       " 'BIRDE',\n",
       " 'zovim',\n",
       " 'bluemaker',\n",
       " 'Extoes',\n",
       " 'Absolute comfort',\n",
       " 'FEWROK',\n",
       " 'KNIGHT WALKERS',\n",
       " 'PUMA',\n",
       " 'FEWROK',\n",
       " 'RODDICK SHOES',\n",
       " 'SCATCHITE',\n",
       " 'PUMA',\n",
       " 'ASIAN',\n",
       " 'Chevit',\n",
       " 'BIRDE',\n",
       " 'Oxelo',\n",
       " 'DRESTA',\n",
       " 'Echor',\n",
       " 'bluemaker',\n",
       " 'Chevit',\n",
       " 'RODDICK SHOES',\n",
       " 'HRX by Hrithik Roshan',\n",
       " 'PUMA',\n",
       " 'Chevit',\n",
       " 'Robbie jones',\n",
       " 'SPARX',\n",
       " 'FOOTGRAB',\n",
       " 'Chevit',\n",
       " 'PUMA',\n",
       " 'PUMA',\n",
       " 'India hub',\n",
       " 'PUMA',\n",
       " 'SPARX',\n",
       " 'Robbie jones',\n",
       " 'Zorth',\n",
       " 'PUMA']"
      ]
     },
     "execution_count": 81,
     "metadata": {},
     "output_type": "execute_result"
    }
   ],
   "source": [
    "Name2"
   ]
  },
  {
   "cell_type": "code",
   "execution_count": 82,
   "id": "2397451d",
   "metadata": {},
   "outputs": [],
   "source": [
    "Desc2= driver.find_elements_by_xpath(\"//a[@class='IRpwTa']\")\n",
    "Description2=[]\n",
    "for i in Desc2:\n",
    "    Description2.append(i.text)"
   ]
  },
  {
   "cell_type": "code",
   "execution_count": 83,
   "id": "fe43200e",
   "metadata": {},
   "outputs": [
    {
     "data": {
      "text/plain": [
       "[\"Men's Casual Shoes Combo Pack of 02 Sneakers For Men\",\n",
       " 'SM-322 Sneakers For Men',\n",
       " 'Sneakers For Men',\n",
       " 'Sneakers For Men',\n",
       " 'jeans shoes for men boy Sneakers For Men',\n",
       " 'casual for men (beige 06) Sneakers For Men',\n",
       " 'Relaxed Attractive Combo pack of 3 Sneakers For Men',\n",
       " 'Sneakers For Men',\n",
       " 'Puma Wired Cage Sneakers For Men',\n",
       " 'Sneakers For Men',\n",
       " 'Puma Smash Vulc Sneakers For Men',\n",
       " 'Skypy-31 Walking Shoes,Training Shoes,Sneakers,Loafers,...',\n",
       " '516 Sneakers For Men',\n",
       " 'Birde Trendy Casual Shoes Sneakers For Men',\n",
       " \"Original Luxury Branded Fashionable Men's Casual Walkin...\",\n",
       " \"Men's Sneakers Walking Shoes - Lightweight Classic Whit...\",\n",
       " 'casual for men (blue 06) Sneakers For Men',\n",
       " '168 Smart Red Lace-Ups Casuals for Men Sneakers For Men',\n",
       " 'Fashion Outdoor Canvas Casual Light Weight Lace-up Even...',\n",
       " 'Sneakers For Men',\n",
       " 'Neptune IDP Sneakers For Men',\n",
       " 'Perfect & Affordable Combo Pack of 02 Pairs Sneakers Ou...',\n",
       " 'Sneakers For Men',\n",
       " 'SD-323 Sneakers For Men',\n",
       " '170 Smart Grey Lace-Ups Casuals for Men Sneakers For Me...',\n",
       " 'Lazy Knit Slip On IDP Sneakers For Men',\n",
       " 'Puma Wired Cage Sneakers For Men',\n",
       " 'Fashionable sneaker casual shoes Sneakers For Men',\n",
       " 'Shuffle Sneakers For Men',\n",
       " 'SM-162 Sneakers For Men',\n",
       " 'Casual Sneakers Green Shoes For Men And Boys Sneakers F...',\n",
       " 'Sneakers For Men',\n",
       " 'Wired SlipOn Sneakers For Men']"
      ]
     },
     "execution_count": 83,
     "metadata": {},
     "output_type": "execute_result"
    }
   ],
   "source": [
    "Description2"
   ]
  },
  {
   "cell_type": "code",
   "execution_count": 84,
   "id": "6de36b53",
   "metadata": {},
   "outputs": [],
   "source": [
    "cost2= driver.find_elements_by_xpath(\"//div[@class='_30jeq3']\")\n",
    "price2=[]\n",
    "for i in cost2:\n",
    "    price2.append(i.text)"
   ]
  },
  {
   "cell_type": "code",
   "execution_count": 85,
   "id": "d5327806",
   "metadata": {},
   "outputs": [
    {
     "data": {
      "text/plain": [
       "['₹343',\n",
       " '₹619',\n",
       " '₹882',\n",
       " '₹699',\n",
       " '₹259',\n",
       " '₹459',\n",
       " '₹499',\n",
       " '₹729',\n",
       " '₹166',\n",
       " '₹429',\n",
       " '₹599',\n",
       " '₹1,399',\n",
       " '₹499',\n",
       " '₹474',\n",
       " '₹398',\n",
       " '₹2,849',\n",
       " '₹399',\n",
       " '₹347',\n",
       " '₹299',\n",
       " '₹1,499',\n",
       " '₹499',\n",
       " '₹499',\n",
       " '₹499',\n",
       " '₹249',\n",
       " '₹474',\n",
       " '₹1,364',\n",
       " '₹1,599',\n",
       " '₹599',\n",
       " '₹499',\n",
       " '₹637',\n",
       " '₹649',\n",
       " '₹299',\n",
       " '₹1,259',\n",
       " '₹1,719',\n",
       " '₹499',\n",
       " '₹4,249',\n",
       " '₹803',\n",
       " '₹499',\n",
       " '₹435',\n",
       " '₹1,949']"
      ]
     },
     "execution_count": 85,
     "metadata": {},
     "output_type": "execute_result"
    }
   ],
   "source": [
    "price2"
   ]
  },
  {
   "cell_type": "code",
   "execution_count": 86,
   "id": "b17c7266",
   "metadata": {},
   "outputs": [],
   "source": [
    "next=driver.find_elements_by_xpath(\"//a[@class='_1LKTO3']\")[-1].click()"
   ]
  },
  {
   "cell_type": "code",
   "execution_count": 87,
   "id": "01638c87",
   "metadata": {},
   "outputs": [],
   "source": [
    "title3 = driver.find_elements_by_xpath(\"//div[@class='_2WkVRV']\")\n",
    "Name3=[]\n",
    "for i in title3[0:6]:\n",
    "    Name3.append(i.text)"
   ]
  },
  {
   "cell_type": "code",
   "execution_count": 88,
   "id": "80fe7b27",
   "metadata": {},
   "outputs": [
    {
     "data": {
      "text/plain": [
       "['Zorth',\n",
       " 'Robbie jones',\n",
       " 'PUMA',\n",
       " 'LEE COOPER',\n",
       " 'HRX by Hrithik Roshan',\n",
       " 'Echor']"
      ]
     },
     "execution_count": 88,
     "metadata": {},
     "output_type": "execute_result"
    }
   ],
   "source": [
    "Name3"
   ]
  },
  {
   "cell_type": "code",
   "execution_count": 89,
   "id": "7eec870f",
   "metadata": {},
   "outputs": [],
   "source": [
    "Desc3= driver.find_elements_by_xpath(\"//a[@class='IRpwTa']\")\n",
    "Description3=[]\n",
    "for i in Desc3[0:6]:\n",
    "    Description3.append(i.text)"
   ]
  },
  {
   "cell_type": "code",
   "execution_count": 90,
   "id": "b20b47d4",
   "metadata": {},
   "outputs": [
    {
     "data": {
      "text/plain": [
       "['Sneakers For Men',\n",
       " 'Casual Sneakers White Shoes For Men Sneakers For Men',\n",
       " 'Sneakers For Men',\n",
       " 'Hrithik Roshan Men White Textured Sneakers Sneakers For...',\n",
       " \"Echor Men's Sneakers Fashion Lightweight Running Shoes ...\",\n",
       " 'Wired Sneakers For Men']"
      ]
     },
     "execution_count": 90,
     "metadata": {},
     "output_type": "execute_result"
    }
   ],
   "source": [
    "Description3"
   ]
  },
  {
   "cell_type": "code",
   "execution_count": 91,
   "id": "4bded26a",
   "metadata": {},
   "outputs": [],
   "source": [
    "cost3= driver.find_elements_by_xpath(\"//div[@class='_30jeq3']\")\n",
    "price3=[]\n",
    "for i in cost3[0:6]:\n",
    "    price3.append(i.text)"
   ]
  },
  {
   "cell_type": "code",
   "execution_count": 92,
   "id": "acb64959",
   "metadata": {},
   "outputs": [
    {
     "data": {
      "text/plain": [
       "['₹435', '₹499', '₹2,199', '₹2,099', '₹1,574', '₹499']"
      ]
     },
     "execution_count": 92,
     "metadata": {},
     "output_type": "execute_result"
    }
   ],
   "source": [
    "price3"
   ]
  },
  {
   "cell_type": "code",
   "execution_count": 94,
   "id": "e245b58d",
   "metadata": {},
   "outputs": [
    {
     "data": {
      "text/plain": [
       "['Chevit',\n",
       " 'PUMA',\n",
       " 'Numenzo',\n",
       " 'Magnolia',\n",
       " 'SCATCHITE',\n",
       " 'CALCADOS',\n",
       " 'Kreverse',\n",
       " 'KNIGHT WALKERS',\n",
       " 'D-SNEAKERZ',\n",
       " 'BRUTON',\n",
       " 'Numenzo',\n",
       " 'PUMA',\n",
       " 'ASIAN',\n",
       " 'Robbie jones',\n",
       " 'BIRDE',\n",
       " 'PUMA',\n",
       " 'FOOTGRAB',\n",
       " 'Arohi',\n",
       " 'Wlinzak',\n",
       " 'Vigglo Fashion',\n",
       " 'PACIFIER',\n",
       " 'Robbie jones',\n",
       " 'Chevit',\n",
       " 'Vigglo Fashion',\n",
       " 'T-ROCK',\n",
       " 'Labbin',\n",
       " 'Clymb',\n",
       " 'Vigglo Fashion',\n",
       " 'Kreverse',\n",
       " 'Kraasa',\n",
       " 'SPARX',\n",
       " 'SUSON',\n",
       " 'Robbie jones',\n",
       " 'Robbie jones',\n",
       " 'Robbie jones',\n",
       " 'believe',\n",
       " 'HOC',\n",
       " 'Shoes Bank',\n",
       " 'Rzisbo',\n",
       " 'Chevit',\n",
       " 'India hub',\n",
       " 'BRUTON',\n",
       " 'RapidBox',\n",
       " 'aadi',\n",
       " 'BRUTON',\n",
       " 'Robbie jones',\n",
       " 'SPARX',\n",
       " 'Extoes',\n",
       " 'BIRDE',\n",
       " 'Chevit',\n",
       " 'BRUTON',\n",
       " 'aadi',\n",
       " 'Jabra',\n",
       " 'mannu',\n",
       " 'HOC',\n",
       " 'Chevit',\n",
       " 'RODDICK SHOES',\n",
       " 'Kraasa',\n",
       " 'luxury fashion',\n",
       " 'Bucik',\n",
       " 'STRANGER BROTHERS',\n",
       " 'Stefano Rads',\n",
       " 'PEHANOSA',\n",
       " 'PUMA',\n",
       " 'ganpati traders',\n",
       " 'HRX by Hrithik Roshan',\n",
       " 'Chevit',\n",
       " 'NIKE',\n",
       " 'LuvShus',\n",
       " 'D-SNEAKERZ',\n",
       " 'mannu',\n",
       " 'EEKEN',\n",
       " 'High Steps',\n",
       " 'believe',\n",
       " 'BIRDE',\n",
       " 'Chevit',\n",
       " 'ASIAN',\n",
       " 'Lee Won',\n",
       " 'India hub',\n",
       " \"Neeman's\",\n",
       " 'EZBRA',\n",
       " 'PEXLO',\n",
       " 'SPARX',\n",
       " 'Durcus',\n",
       " 'BIRDE',\n",
       " 'zovim',\n",
       " 'bluemaker',\n",
       " 'Extoes',\n",
       " 'Absolute comfort',\n",
       " 'FEWROK',\n",
       " 'KNIGHT WALKERS',\n",
       " 'PUMA',\n",
       " 'FEWROK',\n",
       " 'RODDICK SHOES',\n",
       " 'SCATCHITE',\n",
       " 'PUMA',\n",
       " 'ASIAN',\n",
       " 'Chevit',\n",
       " 'BIRDE',\n",
       " 'Oxelo',\n",
       " 'DRESTA',\n",
       " 'Echor',\n",
       " 'bluemaker',\n",
       " 'Chevit',\n",
       " 'RODDICK SHOES',\n",
       " 'HRX by Hrithik Roshan',\n",
       " 'PUMA',\n",
       " 'Chevit',\n",
       " 'Robbie jones',\n",
       " 'SPARX',\n",
       " 'FOOTGRAB',\n",
       " 'Chevit',\n",
       " 'PUMA',\n",
       " 'PUMA',\n",
       " 'India hub',\n",
       " 'PUMA',\n",
       " 'SPARX',\n",
       " 'Robbie jones',\n",
       " 'Zorth',\n",
       " 'PUMA',\n",
       " 'Zorth',\n",
       " 'Robbie jones',\n",
       " 'PUMA',\n",
       " 'LEE COOPER',\n",
       " 'HRX by Hrithik Roshan',\n",
       " 'Echor',\n",
       " 'India hub',\n",
       " 'BRUTON',\n",
       " 'RapidBox',\n",
       " 'aadi',\n",
       " 'BRUTON',\n",
       " 'Robbie jones',\n",
       " 'SPARX',\n",
       " 'Extoes',\n",
       " 'BIRDE',\n",
       " 'Chevit',\n",
       " 'BRUTON',\n",
       " 'aadi',\n",
       " 'Jabra',\n",
       " 'mannu',\n",
       " 'HOC',\n",
       " 'Chevit',\n",
       " 'RODDICK SHOES',\n",
       " 'Kraasa',\n",
       " 'luxury fashion',\n",
       " 'Bucik',\n",
       " 'STRANGER BROTHERS',\n",
       " 'Stefano Rads',\n",
       " 'PEHANOSA',\n",
       " 'PUMA',\n",
       " 'ganpati traders',\n",
       " 'HRX by Hrithik Roshan',\n",
       " 'Chevit',\n",
       " 'NIKE',\n",
       " 'LuvShus',\n",
       " 'D-SNEAKERZ',\n",
       " 'mannu',\n",
       " 'EEKEN',\n",
       " 'High Steps',\n",
       " 'believe',\n",
       " 'BIRDE',\n",
       " 'Chevit',\n",
       " 'ASIAN',\n",
       " 'Lee Won',\n",
       " 'India hub',\n",
       " \"Neeman's\",\n",
       " 'EZBRA',\n",
       " 'PEXLO',\n",
       " 'SPARX',\n",
       " 'Durcus',\n",
       " 'BIRDE',\n",
       " 'zovim',\n",
       " 'bluemaker',\n",
       " 'Extoes',\n",
       " 'Absolute comfort',\n",
       " 'FEWROK',\n",
       " 'KNIGHT WALKERS',\n",
       " 'PUMA',\n",
       " 'FEWROK',\n",
       " 'RODDICK SHOES',\n",
       " 'SCATCHITE',\n",
       " 'PUMA',\n",
       " 'ASIAN',\n",
       " 'Chevit',\n",
       " 'BIRDE',\n",
       " 'Oxelo',\n",
       " 'DRESTA',\n",
       " 'Echor',\n",
       " 'bluemaker',\n",
       " 'Chevit',\n",
       " 'RODDICK SHOES',\n",
       " 'HRX by Hrithik Roshan',\n",
       " 'PUMA',\n",
       " 'Chevit',\n",
       " 'Robbie jones',\n",
       " 'SPARX',\n",
       " 'FOOTGRAB',\n",
       " 'Chevit',\n",
       " 'PUMA',\n",
       " 'PUMA',\n",
       " 'India hub',\n",
       " 'PUMA',\n",
       " 'SPARX',\n",
       " 'Robbie jones',\n",
       " 'Zorth',\n",
       " 'PUMA']"
      ]
     },
     "execution_count": 94,
     "metadata": {},
     "output_type": "execute_result"
    }
   ],
   "source": [
    "Name.extend(Name1)\n",
    "Name.extend(Name2)\n",
    "\n",
    "Name"
   ]
  },
  {
   "cell_type": "code",
   "execution_count": 61,
   "id": "7e765c33",
   "metadata": {},
   "outputs": [
    {
     "data": {
      "text/plain": [
       "['Sneakers For Men',\n",
       " 'Sneakers Sneakers For Men',\n",
       " 'Sneakers For Men',\n",
       " 'Unique & Perfect Collection Combo Pack of 02 Shoes for ...',\n",
       " \"Casual , Partywear Sneakers Shoes For Men's And Boys Wh...\",\n",
       " 'Modern & Trendy Collection Combo Pack of 02 Shoes for M...',\n",
       " 'Numenzo Black Sneaker For Men Sneakers For Men',\n",
       " 'Sneakers For Men',\n",
       " 'Skypy-31 Walking Shoes,Training Shoes,Sneakers,Loafers,...',\n",
       " 'Casual Sneakers Shoes For Men Sneakers For Men',\n",
       " 'Sports Running Shoes Sneakers For Men',\n",
       " 'Serve Pro Lite Sneakers For Men',\n",
       " 'White Boots || High Tops || Sneakers For Men',\n",
       " 'Sneakers For Men',\n",
       " 'Sneakers For Men',\n",
       " 'Sneakers For Men',\n",
       " 'Sneakers For Men',\n",
       " 'Super Stylish & Trendy Combo Pack of 02 Pairs Sneakers ...',\n",
       " 'Synthetic Leather Casual Partywear Wedding Sneakers Sho...',\n",
       " 'Casual Sneakers White Shoes For Men And Boys Sneakers F...',\n",
       " 'Mesh Sports/Walking Shoes/Outdoor Ultra Lightweight Run...',\n",
       " 'White casual shoes for men party wear sneaker dress siz...',\n",
       " 'Sneakers For Men',\n",
       " 'Series 7 Sneakers For Men',\n",
       " 'Men White Sneakers Sneakers For Men',\n",
       " 'Sneakers For Men',\n",
       " 'Sneakers For Men',\n",
       " 'Luxury Fashionable Breathable Casual Sneakers Shoes For...',\n",
       " \"Men's Combo Pack of 02 Shoes for Men Casual Sneakers Ou...\",\n",
       " 'Sneakers For Men',\n",
       " \"White Sneaker For Men's/Boy's Sneakers For Men\",\n",
       " 'Sneakers For Men',\n",
       " 'Fashionable casual sneakers shoes Sneakers For Men',\n",
       " 'Combo Pack Of 2 Latest Stylish Casual Shoes for Men Lac...',\n",
       " 'Modern Trendy Sneakers Shoes Sneakers For Men',\n",
       " 'Casual Sneakers Green Shoes For Men And Boys Sneakers F...',\n",
       " 'Canvas Casual Partywear Outdoor Sneakers Shoes For Mens...',\n",
       " 'Fashion Outdoor Canvas Casual Light Weight Lace-up Even...',\n",
       " 'Birde Trendy Casual Shoes Sneakers For Men',\n",
       " 'Perfect & Affordable Combo Pack of 02 Pairs Sneakers Ou...',\n",
       " 'Unique & Perfect Collection Combo Pack of 02 Shoes for ...',\n",
       " 'Luxury Fashionable Breathable White shoes for men Sneak...',\n",
       " 'Combo Pack Of 4 Casual Shoes Loafer Shoes Sneakers For ...',\n",
       " 'Luxury Fashionable Breathable Casual Sneakers Shoes For...',\n",
       " 'Sneakers For Men',\n",
       " 'Perfect Sports Shoes for Running Training Hiking Footba...',\n",
       " 'Shark-41 Sneakers For Men',\n",
       " 'Sneakers For Men',\n",
       " \"White Sneaker For Men's/Boy's Sneakers For Men\",\n",
       " 'New Collection Pair of Stylish Shoe Sneakers For Men',\n",
       " 'Sneakers For Men',\n",
       " 'Sneakers For Men',\n",
       " 'Sneaker for men Sneakers For Men',\n",
       " 'Sports Shoes Sneakers For Men',\n",
       " 'High-end PU Sneakers Fashion CasualSports comfortable B...',\n",
       " 'Men Casual Shoe New Trend With Fashion Panda Desgined L...',\n",
       " \"Casual , Partywear Sneakers Shoes For Men's And Boys Wh...\",\n",
       " 'Smart Casuals Canvas Shoes Combo pack of 2 Sneakers For...',\n",
       " 'Casual Canvas Chain Sneakers Canvas Sneakers For Men',\n",
       " 'Sneakers for men(black_6) Sneakers For Men',\n",
       " 'Serve Pro Lite Sneakers For Men',\n",
       " 'Skypy-31 Walking Shoes,Training Shoes,Sneakers,Loafers,...',\n",
       " 'Trendy Casual Shoes Sneakers For Men',\n",
       " 'Sneakers For Men',\n",
       " 'SM-322 Sneakers For Men',\n",
       " \"Men's Combo Pack of 02 Shoes for Men Casual Sneakers Ou...\",\n",
       " \"Men's Casual Shoes Combo Pack of 02 Sneakers For Men\",\n",
       " 'Sneakers For Men',\n",
       " 'jeans shoes for men boy Sneakers For Men',\n",
       " 'casual for men (beige 06) Sneakers For Men',\n",
       " 'Sneakers For Men',\n",
       " '516 Sneakers For Men',\n",
       " '171 Smart Tan Lace-Ups Casuals for Men Sneakers For Men',\n",
       " 'Sneakers For Men',\n",
       " 'Skypy-31 Walking Shoes,Training Shoes,Sneakers,Loafers,...',\n",
       " 'Birde Trendy Casual Shoes Sneakers For Men',\n",
       " \"Original Luxury Branded Fashionable Men's Casual Walkin...\",\n",
       " 'Fashion Outdoor Canvas Casual Light Weight Lace-up Even...',\n",
       " 'Super Stylish & Trendy Combo Pack of 02 Pairs Sneakers ...',\n",
       " 'casual for men (blue 06) Sneakers For Men',\n",
       " \"Men's Sneakers Walking Shoes - Lightweight Classic Whit...\",\n",
       " 'Neptune IDP Sneakers For Men',\n",
       " 'SB CHECK SOLAR CNVS Sneakers For Men',\n",
       " 'Sneakers For Men',\n",
       " 'Sneakers For Men',\n",
       " 'Smart Casuals Canvas Shoes Combo pack of 2 Sneakers For...',\n",
       " 'SD-323 Sneakers For Men',\n",
       " 'Lazy Knit Slip On IDP Sneakers For Men',\n",
       " 'Puma Wired Cage Sneakers For Men',\n",
       " 'Fashionable sneaker casual shoes Sneakers For Men',\n",
       " 'SM-162 Sneakers For Men',\n",
       " 'Sneakers For Men',\n",
       " 'Perfect & Affordable Combo Pack of 02 Pairs Sneakers Ou...',\n",
       " 'Fashionable casual sneakers shoes Sneakers For Men',\n",
       " 'Combo Pack Of 2 Latest Stylish Casual Shoes for Men Lac...',\n",
       " 'Modern Trendy Sneakers Shoes Sneakers For Men',\n",
       " 'Casual Sneakers Green Shoes For Men And Boys Sneakers F...',\n",
       " 'Canvas Casual Partywear Outdoor Sneakers Shoes For Mens...',\n",
       " 'Fashion Outdoor Canvas Casual Light Weight Lace-up Even...',\n",
       " 'Birde Trendy Casual Shoes Sneakers For Men',\n",
       " 'Perfect & Affordable Combo Pack of 02 Pairs Sneakers Ou...',\n",
       " 'Unique & Perfect Collection Combo Pack of 02 Shoes for ...',\n",
       " 'Luxury Fashionable Breathable White shoes for men Sneak...',\n",
       " 'Combo Pack Of 4 Casual Shoes Loafer Shoes Sneakers For ...',\n",
       " 'Luxury Fashionable Breathable Casual Sneakers Shoes For...',\n",
       " 'Sneakers For Men',\n",
       " 'Perfect Sports Shoes for Running Training Hiking Footba...',\n",
       " 'Shark-41 Sneakers For Men',\n",
       " 'Sneakers For Men',\n",
       " \"White Sneaker For Men's/Boy's Sneakers For Men\",\n",
       " 'New Collection Pair of Stylish Shoe Sneakers For Men',\n",
       " 'Sneakers For Men',\n",
       " 'Sneakers For Men',\n",
       " 'Sneaker for men Sneakers For Men',\n",
       " 'Sports Shoes Sneakers For Men',\n",
       " 'High-end PU Sneakers Fashion CasualSports comfortable B...',\n",
       " 'Men Casual Shoe New Trend With Fashion Panda Desgined L...',\n",
       " \"Casual , Partywear Sneakers Shoes For Men's And Boys Wh...\",\n",
       " 'Smart Casuals Canvas Shoes Combo pack of 2 Sneakers For...',\n",
       " 'Casual Canvas Chain Sneakers Canvas Sneakers For Men',\n",
       " 'Sneakers for men(black_6) Sneakers For Men',\n",
       " 'Serve Pro Lite Sneakers For Men',\n",
       " 'Skypy-31 Walking Shoes,Training Shoes,Sneakers,Loafers,...',\n",
       " 'Trendy Casual Shoes Sneakers For Men',\n",
       " 'Sneakers For Men',\n",
       " 'SM-322 Sneakers For Men',\n",
       " \"Men's Combo Pack of 02 Shoes for Men Casual Sneakers Ou...\",\n",
       " \"Men's Casual Shoes Combo Pack of 02 Sneakers For Men\",\n",
       " 'Sneakers For Men',\n",
       " 'jeans shoes for men boy Sneakers For Men',\n",
       " 'casual for men (beige 06) Sneakers For Men',\n",
       " 'Sneakers For Men',\n",
       " '516 Sneakers For Men',\n",
       " '171 Smart Tan Lace-Ups Casuals for Men Sneakers For Men',\n",
       " 'Sneakers For Men',\n",
       " 'Skypy-31 Walking Shoes,Training Shoes,Sneakers,Loafers,...',\n",
       " 'Birde Trendy Casual Shoes Sneakers For Men',\n",
       " \"Original Luxury Branded Fashionable Men's Casual Walkin...\",\n",
       " 'Fashion Outdoor Canvas Casual Light Weight Lace-up Even...',\n",
       " 'Super Stylish & Trendy Combo Pack of 02 Pairs Sneakers ...',\n",
       " 'casual for men (blue 06) Sneakers For Men',\n",
       " \"Men's Sneakers Walking Shoes - Lightweight Classic Whit...\",\n",
       " 'Neptune IDP Sneakers For Men',\n",
       " 'SB CHECK SOLAR CNVS Sneakers For Men',\n",
       " 'Sneakers For Men',\n",
       " 'Sneakers For Men',\n",
       " 'Smart Casuals Canvas Shoes Combo pack of 2 Sneakers For...',\n",
       " 'SD-323 Sneakers For Men',\n",
       " 'Lazy Knit Slip On IDP Sneakers For Men',\n",
       " 'Puma Wired Cage Sneakers For Men',\n",
       " 'Fashionable sneaker casual shoes Sneakers For Men',\n",
       " 'SM-162 Sneakers For Men',\n",
       " 'Sneakers For Men',\n",
       " 'Perfect & Affordable Combo Pack of 02 Pairs Sneakers Ou...',\n",
       " 'Casual Sneakers Green Shoes For Men And Boys Sneakers F...',\n",
       " 'Sneakers For Men',\n",
       " 'Wired Sneakers For Men',\n",
       " 'Casual Sneakers White Shoes For Men Sneakers For Men',\n",
       " 'Hrithik Roshan Men White Textured Sneakers Sneakers For...',\n",
       " \"Echor Men's Sneakers Fashion Lightweight Running Shoes ...\",\n",
       " 'Fashionable casual sneakers shoes Sneakers For Men',\n",
       " 'Combo Pack Of 2 Latest Stylish Casual Shoes for Men Lac...',\n",
       " 'Modern Trendy Sneakers Shoes Sneakers For Men',\n",
       " 'Casual Sneakers Green Shoes For Men And Boys Sneakers F...',\n",
       " 'Canvas Casual Partywear Outdoor Sneakers Shoes For Mens...',\n",
       " 'Fashion Outdoor Canvas Casual Light Weight Lace-up Even...',\n",
       " 'Birde Trendy Casual Shoes Sneakers For Men',\n",
       " 'Perfect & Affordable Combo Pack of 02 Pairs Sneakers Ou...',\n",
       " 'Unique & Perfect Collection Combo Pack of 02 Shoes for ...',\n",
       " 'Luxury Fashionable Breathable White shoes for men Sneak...',\n",
       " 'Combo Pack Of 4 Casual Shoes Loafer Shoes Sneakers For ...',\n",
       " 'Luxury Fashionable Breathable Casual Sneakers Shoes For...',\n",
       " 'Sneakers For Men',\n",
       " 'Perfect Sports Shoes for Running Training Hiking Footba...',\n",
       " 'Shark-41 Sneakers For Men',\n",
       " 'Sneakers For Men',\n",
       " \"White Sneaker For Men's/Boy's Sneakers For Men\",\n",
       " 'New Collection Pair of Stylish Shoe Sneakers For Men',\n",
       " 'Sneakers For Men',\n",
       " 'Sneakers For Men',\n",
       " 'Sneaker for men Sneakers For Men',\n",
       " 'Sports Shoes Sneakers For Men',\n",
       " 'High-end PU Sneakers Fashion CasualSports comfortable B...',\n",
       " 'Men Casual Shoe New Trend With Fashion Panda Desgined L...',\n",
       " \"Casual , Partywear Sneakers Shoes For Men's And Boys Wh...\",\n",
       " 'Smart Casuals Canvas Shoes Combo pack of 2 Sneakers For...',\n",
       " 'Casual Canvas Chain Sneakers Canvas Sneakers For Men',\n",
       " 'Sneakers for men(black_6) Sneakers For Men',\n",
       " 'Serve Pro Lite Sneakers For Men',\n",
       " 'Skypy-31 Walking Shoes,Training Shoes,Sneakers,Loafers,...',\n",
       " 'Trendy Casual Shoes Sneakers For Men',\n",
       " 'Sneakers For Men',\n",
       " 'SM-322 Sneakers For Men',\n",
       " \"Men's Combo Pack of 02 Shoes for Men Casual Sneakers Ou...\",\n",
       " \"Men's Casual Shoes Combo Pack of 02 Sneakers For Men\",\n",
       " 'Sneakers For Men',\n",
       " 'jeans shoes for men boy Sneakers For Men',\n",
       " 'casual for men (beige 06) Sneakers For Men',\n",
       " 'Sneakers For Men',\n",
       " '516 Sneakers For Men',\n",
       " '171 Smart Tan Lace-Ups Casuals for Men Sneakers For Men',\n",
       " 'Sneakers For Men',\n",
       " 'Skypy-31 Walking Shoes,Training Shoes,Sneakers,Loafers,...',\n",
       " 'Birde Trendy Casual Shoes Sneakers For Men',\n",
       " \"Original Luxury Branded Fashionable Men's Casual Walkin...\",\n",
       " 'Fashion Outdoor Canvas Casual Light Weight Lace-up Even...',\n",
       " 'Super Stylish & Trendy Combo Pack of 02 Pairs Sneakers ...',\n",
       " 'casual for men (blue 06) Sneakers For Men',\n",
       " \"Men's Sneakers Walking Shoes - Lightweight Classic Whit...\",\n",
       " 'Neptune IDP Sneakers For Men',\n",
       " 'SB CHECK SOLAR CNVS Sneakers For Men',\n",
       " 'Sneakers For Men',\n",
       " 'Sneakers For Men',\n",
       " 'Smart Casuals Canvas Shoes Combo pack of 2 Sneakers For...',\n",
       " 'SD-323 Sneakers For Men',\n",
       " 'Lazy Knit Slip On IDP Sneakers For Men',\n",
       " 'Puma Wired Cage Sneakers For Men',\n",
       " 'Fashionable sneaker casual shoes Sneakers For Men',\n",
       " 'SM-162 Sneakers For Men',\n",
       " 'Sneakers For Men',\n",
       " 'Perfect & Affordable Combo Pack of 02 Pairs Sneakers Ou...']"
      ]
     },
     "execution_count": 61,
     "metadata": {},
     "output_type": "execute_result"
    }
   ],
   "source": [
    "Description.extend(Description1)\n",
    "Description.extend(Description2)\n",
    "\n",
    "Description"
   ]
  },
  {
   "cell_type": "code",
   "execution_count": 62,
   "id": "df67f75f",
   "metadata": {},
   "outputs": [
    {
     "data": {
      "text/plain": [
       "['₹499',\n",
       " '₹7,649',\n",
       " '₹479',\n",
       " '₹398',\n",
       " '₹398',\n",
       " '₹899',\n",
       " '₹199',\n",
       " '₹599',\n",
       " '₹348',\n",
       " '₹474',\n",
       " '₹499',\n",
       " '₹699',\n",
       " '₹399',\n",
       " '₹399',\n",
       " '₹299',\n",
       " '₹3,819',\n",
       " '₹649',\n",
       " '₹499',\n",
       " '₹499',\n",
       " '₹599',\n",
       " '₹458',\n",
       " '₹499',\n",
       " '₹699',\n",
       " '₹1,279',\n",
       " '₹399',\n",
       " '₹399',\n",
       " '₹259',\n",
       " '₹420',\n",
       " '₹245',\n",
       " '₹499',\n",
       " '₹674',\n",
       " '₹420',\n",
       " '₹499',\n",
       " '₹499',\n",
       " '₹449',\n",
       " '₹735',\n",
       " '₹499',\n",
       " '₹345',\n",
       " '₹549',\n",
       " '₹499',\n",
       " '₹499',\n",
       " '₹592',\n",
       " '₹640',\n",
       " '₹499',\n",
       " '₹299',\n",
       " '₹499',\n",
       " '₹674',\n",
       " '₹7,649',\n",
       " '₹474',\n",
       " '₹299',\n",
       " '₹599',\n",
       " '₹599',\n",
       " '₹449',\n",
       " '₹666',\n",
       " '₹429',\n",
       " '₹599',\n",
       " '₹259',\n",
       " '₹499',\n",
       " '₹499',\n",
       " '₹345',\n",
       " '₹499',\n",
       " '₹429',\n",
       " '₹242',\n",
       " '₹699',\n",
       " '₹499',\n",
       " '₹225',\n",
       " '₹1,139',\n",
       " '₹499',\n",
       " '₹429',\n",
       " '₹442',\n",
       " '₹384',\n",
       " '₹499',\n",
       " '₹399',\n",
       " '₹449',\n",
       " '₹499',\n",
       " '₹3,819',\n",
       " '₹399',\n",
       " '₹299',\n",
       " '₹343',\n",
       " '₹499',\n",
       " '₹343',\n",
       " '₹499',\n",
       " '₹882',\n",
       " '₹735',\n",
       " '₹619',\n",
       " '₹259',\n",
       " '₹331',\n",
       " '₹256',\n",
       " '₹459',\n",
       " '₹166',\n",
       " '₹499',\n",
       " '₹256',\n",
       " '₹429',\n",
       " '₹599',\n",
       " '₹347',\n",
       " '₹249',\n",
       " '₹398',\n",
       " '₹474',\n",
       " '₹399',\n",
       " '₹7,649',\n",
       " '₹299',\n",
       " '₹499',\n",
       " '₹474',\n",
       " '₹699',\n",
       " '₹499',\n",
       " '₹499',\n",
       " '₹1,599',\n",
       " '₹1,925',\n",
       " '₹499',\n",
       " '₹1,364',\n",
       " '₹649',\n",
       " '₹399',\n",
       " '₹637',\n",
       " '₹1,259',\n",
       " '₹1,719',\n",
       " '₹2,399',\n",
       " '₹499',\n",
       " '₹803',\n",
       " '₹435',\n",
       " '₹599',\n",
       " '₹499',\n",
       " '₹592',\n",
       " '₹640',\n",
       " '₹499',\n",
       " '₹299',\n",
       " '₹499',\n",
       " '₹674',\n",
       " '₹7,649',\n",
       " '₹474',\n",
       " '₹299',\n",
       " '₹599',\n",
       " '₹599',\n",
       " '₹449',\n",
       " '₹666',\n",
       " '₹429',\n",
       " '₹599',\n",
       " '₹259',\n",
       " '₹499',\n",
       " '₹499',\n",
       " '₹345',\n",
       " '₹499',\n",
       " '₹429',\n",
       " '₹242',\n",
       " '₹699',\n",
       " '₹499',\n",
       " '₹225',\n",
       " '₹1,139',\n",
       " '₹499',\n",
       " '₹429',\n",
       " '₹442',\n",
       " '₹384',\n",
       " '₹499',\n",
       " '₹399',\n",
       " '₹449',\n",
       " '₹499',\n",
       " '₹3,819',\n",
       " '₹399',\n",
       " '₹299',\n",
       " '₹343',\n",
       " '₹499',\n",
       " '₹343',\n",
       " '₹499',\n",
       " '₹882',\n",
       " '₹735',\n",
       " '₹619',\n",
       " '₹259',\n",
       " '₹331',\n",
       " '₹256',\n",
       " '₹459',\n",
       " '₹166',\n",
       " '₹499',\n",
       " '₹256',\n",
       " '₹429',\n",
       " '₹599',\n",
       " '₹347',\n",
       " '₹249',\n",
       " '₹398',\n",
       " '₹474',\n",
       " '₹399',\n",
       " '₹7,649',\n",
       " '₹299',\n",
       " '₹499',\n",
       " '₹474',\n",
       " '₹699',\n",
       " '₹499',\n",
       " '₹499',\n",
       " '₹1,599',\n",
       " '₹1,925',\n",
       " '₹499',\n",
       " '₹1,364',\n",
       " '₹649',\n",
       " '₹399',\n",
       " '₹637',\n",
       " '₹1,259',\n",
       " '₹1,719',\n",
       " '₹2,399',\n",
       " '₹499',\n",
       " '₹803',\n",
       " '₹435',\n",
       " '₹599',\n",
       " '₹499',\n",
       " '₹435',\n",
       " '₹2,199',\n",
       " '₹1,399',\n",
       " '₹499',\n",
       " '₹1,574',\n",
       " '₹499',\n",
       " '₹592',\n",
       " '₹640',\n",
       " '₹499',\n",
       " '₹299',\n",
       " '₹499',\n",
       " '₹674',\n",
       " '₹7,649',\n",
       " '₹474',\n",
       " '₹299',\n",
       " '₹599',\n",
       " '₹599',\n",
       " '₹449',\n",
       " '₹666',\n",
       " '₹429',\n",
       " '₹599',\n",
       " '₹259',\n",
       " '₹499',\n",
       " '₹499',\n",
       " '₹345',\n",
       " '₹499',\n",
       " '₹429',\n",
       " '₹242',\n",
       " '₹699',\n",
       " '₹499',\n",
       " '₹225',\n",
       " '₹1,139',\n",
       " '₹499',\n",
       " '₹429',\n",
       " '₹442',\n",
       " '₹384',\n",
       " '₹499',\n",
       " '₹399',\n",
       " '₹449',\n",
       " '₹499',\n",
       " '₹3,819',\n",
       " '₹399',\n",
       " '₹299',\n",
       " '₹343',\n",
       " '₹499',\n",
       " '₹343',\n",
       " '₹499',\n",
       " '₹882',\n",
       " '₹735',\n",
       " '₹619',\n",
       " '₹259',\n",
       " '₹331',\n",
       " '₹256',\n",
       " '₹459',\n",
       " '₹166',\n",
       " '₹499',\n",
       " '₹256',\n",
       " '₹429',\n",
       " '₹599',\n",
       " '₹347',\n",
       " '₹249',\n",
       " '₹398',\n",
       " '₹474',\n",
       " '₹399',\n",
       " '₹7,649',\n",
       " '₹299',\n",
       " '₹499',\n",
       " '₹474',\n",
       " '₹699',\n",
       " '₹499',\n",
       " '₹499',\n",
       " '₹1,599',\n",
       " '₹1,925',\n",
       " '₹499',\n",
       " '₹1,364',\n",
       " '₹649',\n",
       " '₹399',\n",
       " '₹637',\n",
       " '₹1,259',\n",
       " '₹1,719',\n",
       " '₹2,399',\n",
       " '₹499',\n",
       " '₹803',\n",
       " '₹435',\n",
       " '₹599']"
      ]
     },
     "execution_count": 62,
     "metadata": {},
     "output_type": "execute_result"
    }
   ],
   "source": [
    "price.extend(price1)\n",
    "price.extend(price2)\n",
    "\n",
    "price"
   ]
  },
  {
   "cell_type": "markdown",
   "id": "6684c52f",
   "metadata": {},
   "source": [
    "q7)Go to Mynthra.com and scrap the data as per the question"
   ]
  },
  {
   "cell_type": "code",
   "execution_count": 149,
   "id": "cabe7f1e",
   "metadata": {},
   "outputs": [],
   "source": [
    "import selenium\n",
    "import pandas as pd\n",
    "from selenium import webdriver\n",
    "from selenium.webdriver.common.keys import Keys\n",
    "import warnings\n",
    "warnings.filterwarnings('ignore')"
   ]
  },
  {
   "cell_type": "code",
   "execution_count": 235,
   "id": "5ac5eef1",
   "metadata": {},
   "outputs": [],
   "source": [
    "driver=webdriver.Chrome(r\"C:\\Users\\Grace Amirtham\\Downloads\\chromedriver_win32\\chromedriver.exe\")"
   ]
  },
  {
   "cell_type": "code",
   "execution_count": 237,
   "id": "1ae41f2d",
   "metadata": {},
   "outputs": [],
   "source": [
    "driver.get(\"https://www.myntra.com/shoes\")"
   ]
  },
  {
   "cell_type": "code",
   "execution_count": 238,
   "id": "95b6e6a6",
   "metadata": {},
   "outputs": [],
   "source": [
    "#set price and colour filter\n",
    "\n",
    "\n",
    "colour_filter = driver.find_element_by_xpath(\"/html/body/div[2]/div/div[1]/main/div[3]/div[1]/section/div/div[6]/ul/li[1]/label/div\")\n",
    "\n",
    "colour_filter.click()"
   ]
  },
  {
   "cell_type": "code",
   "execution_count": 240,
   "id": "40f06701",
   "metadata": {},
   "outputs": [],
   "source": [
    "price_filter = driver.find_element_by_xpath(\"/html/body/div[2]/div/div[1]/main/div[3]/div[1]/section/div/div[5]/ul/li[2]/label/div\")\n",
    "\n",
    "price_filter.click()"
   ]
  },
  {
   "cell_type": "code",
   "execution_count": 241,
   "id": "bee5fb6a",
   "metadata": {},
   "outputs": [],
   "source": [
    "title = driver.find_elements_by_xpath(\"//h3[@class='product-brand']\")\n",
    "shoes=[]\n",
    "for i in title:\n",
    "    shoes.append(i.text)"
   ]
  },
  {
   "cell_type": "code",
   "execution_count": 242,
   "id": "353607a4",
   "metadata": {},
   "outputs": [
    {
     "data": {
      "text/plain": [
       "['Nike',\n",
       " 'Hush Puppies',\n",
       " 'Puma',\n",
       " 'Puma',\n",
       " 'ASICS',\n",
       " 'Hush Puppies',\n",
       " 'Nike',\n",
       " 'Puma',\n",
       " 'Puma',\n",
       " 'Nike',\n",
       " 'Calvin Klein',\n",
       " 'PUMA Motorsport',\n",
       " 'Hush Puppies',\n",
       " 'Calvin Klein',\n",
       " 'Calvin Klein',\n",
       " 'Calvin Klein',\n",
       " 'Puma',\n",
       " 'ASICS',\n",
       " 'Bugatti',\n",
       " 'Calvin Klein',\n",
       " 'Hush Puppies',\n",
       " 'Hush Puppies',\n",
       " 'UNDER ARMOUR',\n",
       " 'Calvin Klein',\n",
       " 'Saint G',\n",
       " 'Puma',\n",
       " 'Puma',\n",
       " 'DAVINCHI',\n",
       " 'UNDER ARMOUR',\n",
       " 'Ruosh',\n",
       " 'Calvin Klein',\n",
       " 'Saint G',\n",
       " 'Bugatti',\n",
       " 'PUMA Motorsport',\n",
       " 'J.FONTINI',\n",
       " 'ASICS',\n",
       " 'ASICS',\n",
       " 'Puma',\n",
       " 'Hush Puppies',\n",
       " 'DAVINCHI',\n",
       " 'Ruosh',\n",
       " 'Tommy Hilfiger',\n",
       " 'DAVINCHI',\n",
       " 'Pavers England',\n",
       " 'Saint G',\n",
       " 'Ruosh',\n",
       " 'Bugatti',\n",
       " 'Bugatti',\n",
       " 'Saint G',\n",
       " 'Geox']"
      ]
     },
     "execution_count": 242,
     "metadata": {},
     "output_type": "execute_result"
    }
   ],
   "source": [
    "shoes"
   ]
  },
  {
   "cell_type": "code",
   "execution_count": 243,
   "id": "6e5a3aad",
   "metadata": {},
   "outputs": [],
   "source": [
    "Desc= driver.find_elements_by_xpath(\"//h4[@class='product-product']\")\n",
    "Description=[]\n",
    "for i in Desc:\n",
    "    Description.append(i.text)"
   ]
  },
  {
   "cell_type": "code",
   "execution_count": 244,
   "id": "7f0592d5",
   "metadata": {},
   "outputs": [
    {
     "data": {
      "text/plain": [
       "['Men Zoom Span 4 Running Shoes',\n",
       " 'Men Solid Leather Formal Slip-Ons',\n",
       " 'Men Jamming 2.0 Running Shoes',\n",
       " 'Men Deviate Nitro Running Shoe',\n",
       " 'Men Black Running Sports Shoes',\n",
       " 'Men Formal Derbys',\n",
       " 'Men FLIGHT LEGACY Sneakers',\n",
       " 'Men Running Shoes',\n",
       " 'Men Velocity Nitro Running',\n",
       " \"Men BlazerLow '77 Sneakers\",\n",
       " 'Men Mid-Top Runner Sneakers',\n",
       " 'Unisex FerrariRS-Fast Sneakers',\n",
       " 'Men Solid Leather Formal Derbys',\n",
       " 'Men Solid Low Top LTH Sneakers',\n",
       " 'Men Solid Mid-Top Sneakers',\n",
       " 'Men Textured Leather Sneaker',\n",
       " 'Women Magnify Nitro Shoes',\n",
       " 'Men Running Shoes',\n",
       " 'Men Walking Shoes',\n",
       " 'Men UV MONO Leather Sneakers',\n",
       " 'Men Solid Leather Formal Slip-Ons',\n",
       " 'Men Leather Slip-On Sneakers',\n",
       " 'Women Charged Vantage ClrShft',\n",
       " 'Men Mid-Top Runner Sneakers',\n",
       " 'Men Mid-Top Chelsea Boots',\n",
       " 'Women Deviate Nitro Running',\n",
       " 'Unisex RS-Z BP Sneakers',\n",
       " 'Ustraa black',\n",
       " 'Women Charged Bandit 6 Running',\n",
       " 'Men Solid Leather Formal Oxfords',\n",
       " 'Men Solid Leather Sneakers',\n",
       " 'Women Leather Heeled Boots',\n",
       " 'Men Leather Flat Boots',\n",
       " 'Unisex BMW RS-Connect Sneakers',\n",
       " 'Men Black Leather Loafers',\n",
       " 'Men Colourblocked PU Sneakers',\n",
       " 'Skycourt Sneakers',\n",
       " 'Unisex Textured Sneakers',\n",
       " 'Men Solid Formal Slip-Ons',\n",
       " 'Men Textured Formal Leather Loafers',\n",
       " 'Men Textured Derbys',\n",
       " 'Women Leather Block Pumps',\n",
       " 'Men Textured Formal Leather Oxfords',\n",
       " 'Men Textured Leather Formal Derbys',\n",
       " 'Women Leather Heeled Boots',\n",
       " 'Men Formal Leather Brogues',\n",
       " 'Men Solid Casual Sneakers',\n",
       " 'Leather Block Heeled Boots',\n",
       " 'Women Leather Heeled Boots',\n",
       " 'Women Leather Pumps']"
      ]
     },
     "execution_count": 244,
     "metadata": {},
     "output_type": "execute_result"
    }
   ],
   "source": [
    "Description"
   ]
  },
  {
   "cell_type": "code",
   "execution_count": 245,
   "id": "9ac51870",
   "metadata": {},
   "outputs": [],
   "source": [
    "cost= driver.find_elements_by_xpath(\"//div[@class='product-price']\")\n",
    "price=[]\n",
    "for i in cost:\n",
    "    price.append(i.text)"
   ]
  },
  {
   "cell_type": "code",
   "execution_count": 246,
   "id": "906436c8",
   "metadata": {},
   "outputs": [
    {
     "data": {
      "text/plain": [
       "['Rs. 7195',\n",
       " 'Rs. 8099Rs. 8999(10% OFF)',\n",
       " 'Rs. 11049Rs. 12999(15% OFF)',\n",
       " 'Rs. 11249Rs. 14999(25% OFF)',\n",
       " 'Rs. 7999',\n",
       " 'Rs. 8999Rs. 9999(10% OFF)',\n",
       " 'Rs. 7995',\n",
       " 'Rs. 8449Rs. 12999(35% OFF)',\n",
       " 'Rs. 9349Rs. 10999(15% OFF)',\n",
       " 'Rs. 7195',\n",
       " 'Rs. 8249Rs. 10999(25% OFF)',\n",
       " 'Rs. 7499Rs. 9999(25% OFF)',\n",
       " 'Rs. 8999Rs. 9999(10% OFF)',\n",
       " 'Rs. 8999',\n",
       " 'Rs. 10599',\n",
       " 'Rs. 9999',\n",
       " 'Rs. 9099Rs. 12999(30% OFF)',\n",
       " 'Rs. 7999',\n",
       " 'Rs. 8999',\n",
       " 'Rs. 8999',\n",
       " 'Rs. 8999Rs. 9999(10% OFF)',\n",
       " 'Rs. 7999Rs. 9999(20% OFF)',\n",
       " 'Rs. 7999',\n",
       " 'Rs. 8249Rs. 10999(25% OFF)',\n",
       " 'Rs. 10900',\n",
       " 'Rs. 8249Rs. 14999(45% OFF)',\n",
       " 'Rs. 7499Rs. 9999(25% OFF)',\n",
       " 'Rs. 8990',\n",
       " 'Rs. 8999',\n",
       " 'Rs. 13490',\n",
       " 'Rs. 9999',\n",
       " 'Rs. 11000',\n",
       " 'Rs. 8999',\n",
       " 'Rs. 8499Rs. 9999(15% OFF)',\n",
       " 'Rs. 8490',\n",
       " 'Rs. 9999',\n",
       " 'Rs. 7999',\n",
       " 'Rs. 8499Rs. 9999(15% OFF)',\n",
       " 'Rs. 8999Rs. 9999(10% OFF)',\n",
       " 'Rs. 8990',\n",
       " 'Rs. 8990',\n",
       " 'Rs. 7999',\n",
       " 'Rs. 7990',\n",
       " 'Rs. 8999',\n",
       " 'Rs. 13900',\n",
       " 'Rs. 7490',\n",
       " 'Rs. 7199Rs. 8999(20% OFF)',\n",
       " 'Rs. 9999',\n",
       " 'Rs. 9500',\n",
       " 'Rs. 8999']"
      ]
     },
     "execution_count": 246,
     "metadata": {},
     "output_type": "execute_result"
    }
   ],
   "source": [
    "price"
   ]
  },
  {
   "cell_type": "code",
   "execution_count": 247,
   "id": "3b4142c4",
   "metadata": {},
   "outputs": [],
   "source": [
    "next=driver.find_elements_by_xpath(\"//li[@class='pagination-next']\")[-1].click()"
   ]
  },
  {
   "cell_type": "code",
   "execution_count": 248,
   "id": "9f473575",
   "metadata": {},
   "outputs": [],
   "source": [
    "title1 = driver.find_elements_by_xpath(\"//h3[@class='product-brand']\")\n",
    "shoes1=[]\n",
    "for i in title1:\n",
    "    shoes1.append(i.text)"
   ]
  },
  {
   "cell_type": "code",
   "execution_count": 249,
   "id": "94b2725f",
   "metadata": {},
   "outputs": [
    {
     "data": {
      "text/plain": [
       "['Geox',\n",
       " 'Saint G',\n",
       " 'Saint G',\n",
       " 'Tommy Hilfiger',\n",
       " 'Sole To Soul',\n",
       " 'Tommy Hilfiger',\n",
       " 'ASICS',\n",
       " 'Cole Haan',\n",
       " 'UNDER ARMOUR',\n",
       " 'UNDER ARMOUR',\n",
       " 'Puma',\n",
       " 'Puma',\n",
       " 'Puma',\n",
       " 'Geox',\n",
       " 'Tommy Hilfiger',\n",
       " 'Cole Haan',\n",
       " 'Cole Haan',\n",
       " 'Geox',\n",
       " 'ASICS',\n",
       " 'Puma',\n",
       " 'J.FONTINI',\n",
       " 'J.FONTINI',\n",
       " 'Geox',\n",
       " 'Hush Puppies',\n",
       " 'Ruosh',\n",
       " 'KLEAT',\n",
       " 'J.FONTINI',\n",
       " 'Hush Puppies',\n",
       " 'Puma',\n",
       " 'DAVINCHI',\n",
       " 'DAVINCHI',\n",
       " 'Geox',\n",
       " 'Tommy Hilfiger',\n",
       " 'ECCO',\n",
       " 'DAVINCHI',\n",
       " 'KLEAT',\n",
       " 'J.FONTINI',\n",
       " 'DAVINCHI',\n",
       " 'Regal',\n",
       " 'Calvin Klein',\n",
       " 'KLEAT',\n",
       " 'Geox',\n",
       " 'Puma',\n",
       " 'Saint G',\n",
       " 'Bugatti',\n",
       " 'Geox',\n",
       " 'Saint G',\n",
       " 'Saint G',\n",
       " 'Saint G']"
      ]
     },
     "execution_count": 249,
     "metadata": {},
     "output_type": "execute_result"
    }
   ],
   "source": [
    "shoes1"
   ]
  },
  {
   "cell_type": "code",
   "execution_count": 250,
   "id": "b7a7e056",
   "metadata": {},
   "outputs": [],
   "source": [
    "Desc1= driver.find_elements_by_xpath(\"//h4[@class='product-product']\")\n",
    "Description1=[]\n",
    "for i in Desc1:\n",
    "    Description1.append(i.text)"
   ]
  },
  {
   "cell_type": "code",
   "execution_count": 251,
   "id": "047038ab",
   "metadata": {},
   "outputs": [
    {
     "data": {
      "text/plain": [
       "['Women Leather Pumps',\n",
       " 'Leather Block Heeled Boots',\n",
       " 'Leather Kitten Heeled Boots',\n",
       " 'Women Leather Pumps',\n",
       " 'Block Heeled Boots',\n",
       " 'Women Textured Pumps',\n",
       " 'Women Running Shoes',\n",
       " 'Women Woven Design Sneakers',\n",
       " 'Women Charged Impulse Shft',\n",
       " 'Women Charged Rogue 2.5ClrSft',\n",
       " 'Women Eternity NITRO Shoes',\n",
       " 'Women Liberate NITRO Running',\n",
       " 'Women Velocity NITRO Runners',\n",
       " 'Men Woven Design Sneakers',\n",
       " 'Women ELEVATED Leather Sneaker',\n",
       " 'Men Lightweight Brogues',\n",
       " 'Men GENERATION ZEROGRAND STITCHLITE',\n",
       " 'Men Leather Mid-Top Flat Boots',\n",
       " 'Men DS LIGHT X-FLY 4 Running',\n",
       " 'Women PRONOUNCE May Sneakers',\n",
       " 'Men Textured Leather Loafers',\n",
       " 'Men Textured Leather Loafers',\n",
       " 'Men Leather Formal Slip-Ons',\n",
       " 'Men Leather Derbys',\n",
       " 'Men Solid Leather Formal Monks',\n",
       " 'Men Woven Design Loafers',\n",
       " 'Men Solid Loafers',\n",
       " 'Men Solid Leather Formal Derbys',\n",
       " 'Men Magnify Nitro Running',\n",
       " 'Solid Leather Formal Shoes',\n",
       " 'Men Formal Leather Slip-Ons',\n",
       " 'Men Leather Flat Boots',\n",
       " 'Men Lightweight Sneakers',\n",
       " 'Women Leather Sneakers',\n",
       " 'Solid Slip On Shoes',\n",
       " 'Men Woven Design Sneakers',\n",
       " 'Men Textured Leather Formal Loafers',\n",
       " 'Men Solid Leather Formal Derbys',\n",
       " 'Men Solid Leather Formal Monks',\n",
       " 'Men Solid Suede Sneakers',\n",
       " 'Men Suede Flat Boots',\n",
       " 'Women Leather Pumps',\n",
       " 'Men Electrify Nitro Running',\n",
       " 'Men Leather Chelsea Boots',\n",
       " 'Men Black Walking Shoes',\n",
       " 'Women Quilted Leather Pumps',\n",
       " 'Women Leather Heeled Boots',\n",
       " 'Women Heeled Boots',\n",
       " 'Women Leather Heeled Boots']"
      ]
     },
     "execution_count": 251,
     "metadata": {},
     "output_type": "execute_result"
    }
   ],
   "source": [
    "Description1"
   ]
  },
  {
   "cell_type": "code",
   "execution_count": 252,
   "id": "1f32dd31",
   "metadata": {},
   "outputs": [],
   "source": [
    "cost1= driver.find_elements_by_xpath(\"//div[@class='product-price']\")\n",
    "price1=[]\n",
    "for i in cost1:\n",
    "    price1.append(i.text)"
   ]
  },
  {
   "cell_type": "code",
   "execution_count": 253,
   "id": "34e5eede",
   "metadata": {},
   "outputs": [
    {
     "data": {
      "text/plain": [
       "['Rs. 8999',\n",
       " 'Rs. 8900',\n",
       " 'Rs. 8900',\n",
       " 'Rs. 7999',\n",
       " 'Rs. 7590Rs. 7990(5% OFF)',\n",
       " 'Rs. 7599',\n",
       " 'Rs. 7199Rs. 8999(20% OFF)',\n",
       " 'Rs. 8999Rs. 14999(40% OFF)',\n",
       " 'Rs. 7499',\n",
       " 'Rs. 7999',\n",
       " 'Rs. 9099Rs. 12999(30% OFF)',\n",
       " 'Rs. 7499Rs. 9999(25% OFF)',\n",
       " 'Rs. 8249Rs. 10999(25% OFF)',\n",
       " 'Rs. 10499',\n",
       " 'Rs. 7599',\n",
       " 'Rs. 12799Rs. 15999(20% OFF)',\n",
       " 'Rs. 9599Rs. 11999(20% OFF)',\n",
       " 'Rs. 12999',\n",
       " 'Rs. 7699Rs. 10999(30% OFF)',\n",
       " 'Rs. 7499Rs. 9999(25% OFF)',\n",
       " 'Rs. 7990',\n",
       " 'Rs. 7990',\n",
       " 'Rs. 8999',\n",
       " 'Rs. 7199Rs. 7999(10% OFF)',\n",
       " 'Rs. 8990',\n",
       " 'Rs. 7999',\n",
       " 'Rs. 8990',\n",
       " 'Rs. 7199Rs. 8999(20% OFF)',\n",
       " 'Rs. 9099Rs. 12999(30% OFF)',\n",
       " 'Rs. 7990',\n",
       " 'Rs. 8990',\n",
       " 'Rs. 11999',\n",
       " 'Rs. 7999',\n",
       " 'Rs. 9999',\n",
       " 'Rs. 7990',\n",
       " 'Rs. 7999',\n",
       " 'Rs. 8990',\n",
       " 'Rs. 8990',\n",
       " 'Rs. 8990',\n",
       " 'Rs. 7999',\n",
       " 'Rs. 8999',\n",
       " 'Rs. 9999',\n",
       " 'Rs. 7499Rs. 9999(25% OFF)',\n",
       " 'Rs. 11900',\n",
       " 'Rs. 8999',\n",
       " 'Rs. 8999',\n",
       " 'Rs. 8900',\n",
       " 'Rs. 9500',\n",
       " 'Rs. 9500']"
      ]
     },
     "execution_count": 253,
     "metadata": {},
     "output_type": "execute_result"
    }
   ],
   "source": [
    "price1"
   ]
  },
  {
   "cell_type": "code",
   "execution_count": 258,
   "id": "c165eaf6",
   "metadata": {},
   "outputs": [],
   "source": [
    "next=driver.find_elements_by_xpath(\"//li[@class='pagination-next']\")[-1].click()"
   ]
  },
  {
   "cell_type": "code",
   "execution_count": 265,
   "id": "38fd42b7",
   "metadata": {},
   "outputs": [],
   "source": [
    "title2 = driver.find_elements_by_xpath(\"//h3[@class='product-brand']\")\n",
    "shoes2=[]\n",
    "for i in title2[0:1]:\n",
    "    shoes2.append(i.text)"
   ]
  },
  {
   "cell_type": "code",
   "execution_count": 266,
   "id": "17006fa1",
   "metadata": {},
   "outputs": [
    {
     "data": {
      "text/plain": [
       "['KLEAT']"
      ]
     },
     "execution_count": 266,
     "metadata": {},
     "output_type": "execute_result"
    }
   ],
   "source": [
    "shoes2"
   ]
  },
  {
   "cell_type": "code",
   "execution_count": 267,
   "id": "aea4e5d5",
   "metadata": {},
   "outputs": [],
   "source": [
    "Desc2= driver.find_elements_by_xpath(\"//h4[@class='product-product']\")\n",
    "Description2=[]\n",
    "for i in Desc2[0:1]:\n",
    "    Description2.append(i.text)"
   ]
  },
  {
   "cell_type": "code",
   "execution_count": 268,
   "id": "9e074944",
   "metadata": {},
   "outputs": [
    {
     "data": {
      "text/plain": [
       "['Men Solid Brogues']"
      ]
     },
     "execution_count": 268,
     "metadata": {},
     "output_type": "execute_result"
    }
   ],
   "source": [
    "Description2"
   ]
  },
  {
   "cell_type": "code",
   "execution_count": 270,
   "id": "cbca10c9",
   "metadata": {},
   "outputs": [],
   "source": [
    "cost2= driver.find_elements_by_xpath(\"//div[@class='product-price']\")\n",
    "price2=[]\n",
    "for i in cost2[0:1]:\n",
    "    price2.append(i.text)"
   ]
  },
  {
   "cell_type": "code",
   "execution_count": 271,
   "id": "52100b67",
   "metadata": {},
   "outputs": [
    {
     "data": {
      "text/plain": [
       "['Rs. 7999']"
      ]
     },
     "execution_count": 271,
     "metadata": {},
     "output_type": "execute_result"
    }
   ],
   "source": [
    "price2"
   ]
  },
  {
   "cell_type": "code",
   "execution_count": 272,
   "id": "1028f406",
   "metadata": {},
   "outputs": [
    {
     "data": {
      "text/plain": [
       "['Nike',\n",
       " 'Hush Puppies',\n",
       " 'Puma',\n",
       " 'Puma',\n",
       " 'ASICS',\n",
       " 'Hush Puppies',\n",
       " 'Nike',\n",
       " 'Puma',\n",
       " 'Puma',\n",
       " 'Nike',\n",
       " 'Calvin Klein',\n",
       " 'PUMA Motorsport',\n",
       " 'Hush Puppies',\n",
       " 'Calvin Klein',\n",
       " 'Calvin Klein',\n",
       " 'Calvin Klein',\n",
       " 'Puma',\n",
       " 'ASICS',\n",
       " 'Bugatti',\n",
       " 'Calvin Klein',\n",
       " 'Hush Puppies',\n",
       " 'Hush Puppies',\n",
       " 'UNDER ARMOUR',\n",
       " 'Calvin Klein',\n",
       " 'Saint G',\n",
       " 'Puma',\n",
       " 'Puma',\n",
       " 'DAVINCHI',\n",
       " 'UNDER ARMOUR',\n",
       " 'Ruosh',\n",
       " 'Calvin Klein',\n",
       " 'Saint G',\n",
       " 'Bugatti',\n",
       " 'PUMA Motorsport',\n",
       " 'J.FONTINI',\n",
       " 'ASICS',\n",
       " 'ASICS',\n",
       " 'Puma',\n",
       " 'Hush Puppies',\n",
       " 'DAVINCHI',\n",
       " 'Ruosh',\n",
       " 'Tommy Hilfiger',\n",
       " 'DAVINCHI',\n",
       " 'Pavers England',\n",
       " 'Saint G',\n",
       " 'Ruosh',\n",
       " 'Bugatti',\n",
       " 'Bugatti',\n",
       " 'Saint G',\n",
       " 'Geox',\n",
       " 'Geox',\n",
       " 'Saint G',\n",
       " 'Saint G',\n",
       " 'Tommy Hilfiger',\n",
       " 'Sole To Soul',\n",
       " 'Tommy Hilfiger',\n",
       " 'ASICS',\n",
       " 'Cole Haan',\n",
       " 'UNDER ARMOUR',\n",
       " 'UNDER ARMOUR',\n",
       " 'Puma',\n",
       " 'Puma',\n",
       " 'Puma',\n",
       " 'Geox',\n",
       " 'Tommy Hilfiger',\n",
       " 'Cole Haan',\n",
       " 'Cole Haan',\n",
       " 'Geox',\n",
       " 'ASICS',\n",
       " 'Puma',\n",
       " 'J.FONTINI',\n",
       " 'J.FONTINI',\n",
       " 'Geox',\n",
       " 'Hush Puppies',\n",
       " 'Ruosh',\n",
       " 'KLEAT',\n",
       " 'J.FONTINI',\n",
       " 'Hush Puppies',\n",
       " 'Puma',\n",
       " 'DAVINCHI',\n",
       " 'DAVINCHI',\n",
       " 'Geox',\n",
       " 'Tommy Hilfiger',\n",
       " 'ECCO',\n",
       " 'DAVINCHI',\n",
       " 'KLEAT',\n",
       " 'J.FONTINI',\n",
       " 'DAVINCHI',\n",
       " 'Regal',\n",
       " 'Calvin Klein',\n",
       " 'KLEAT',\n",
       " 'Geox',\n",
       " 'Puma',\n",
       " 'Saint G',\n",
       " 'Bugatti',\n",
       " 'Geox',\n",
       " 'Saint G',\n",
       " 'Saint G',\n",
       " 'Saint G',\n",
       " 'Geox',\n",
       " 'Saint G',\n",
       " 'Saint G',\n",
       " 'Tommy Hilfiger',\n",
       " 'Sole To Soul',\n",
       " 'Tommy Hilfiger',\n",
       " 'ASICS',\n",
       " 'Cole Haan',\n",
       " 'UNDER ARMOUR',\n",
       " 'UNDER ARMOUR',\n",
       " 'Puma',\n",
       " 'Puma',\n",
       " 'Puma',\n",
       " 'Geox',\n",
       " 'Tommy Hilfiger',\n",
       " 'Cole Haan',\n",
       " 'Cole Haan',\n",
       " 'Geox',\n",
       " 'ASICS',\n",
       " 'Puma',\n",
       " 'J.FONTINI',\n",
       " 'J.FONTINI',\n",
       " 'Geox',\n",
       " 'Hush Puppies',\n",
       " 'Ruosh',\n",
       " 'KLEAT',\n",
       " 'J.FONTINI',\n",
       " 'Hush Puppies',\n",
       " 'Puma',\n",
       " 'DAVINCHI',\n",
       " 'DAVINCHI',\n",
       " 'Geox',\n",
       " 'Tommy Hilfiger',\n",
       " 'ECCO',\n",
       " 'DAVINCHI',\n",
       " 'KLEAT',\n",
       " 'J.FONTINI',\n",
       " 'DAVINCHI',\n",
       " 'Regal',\n",
       " 'Calvin Klein',\n",
       " 'KLEAT',\n",
       " 'Geox',\n",
       " 'Puma',\n",
       " 'Saint G',\n",
       " 'Bugatti',\n",
       " 'Geox',\n",
       " 'Saint G',\n",
       " 'Saint G',\n",
       " 'Saint G',\n",
       " 'KLEAT']"
      ]
     },
     "execution_count": 272,
     "metadata": {},
     "output_type": "execute_result"
    }
   ],
   "source": [
    "shoes.extend(shoes1)\n",
    "shoes.extend(shoes2)\n",
    "shoes"
   ]
  },
  {
   "cell_type": "code",
   "execution_count": 273,
   "id": "378a4716",
   "metadata": {},
   "outputs": [
    {
     "data": {
      "text/plain": [
       "['Men Zoom Span 4 Running Shoes',\n",
       " 'Men Solid Leather Formal Slip-Ons',\n",
       " 'Men Jamming 2.0 Running Shoes',\n",
       " 'Men Deviate Nitro Running Shoe',\n",
       " 'Men Black Running Sports Shoes',\n",
       " 'Men Formal Derbys',\n",
       " 'Men FLIGHT LEGACY Sneakers',\n",
       " 'Men Running Shoes',\n",
       " 'Men Velocity Nitro Running',\n",
       " \"Men BlazerLow '77 Sneakers\",\n",
       " 'Men Mid-Top Runner Sneakers',\n",
       " 'Unisex FerrariRS-Fast Sneakers',\n",
       " 'Men Solid Leather Formal Derbys',\n",
       " 'Men Solid Low Top LTH Sneakers',\n",
       " 'Men Solid Mid-Top Sneakers',\n",
       " 'Men Textured Leather Sneaker',\n",
       " 'Women Magnify Nitro Shoes',\n",
       " 'Men Running Shoes',\n",
       " 'Men Walking Shoes',\n",
       " 'Men UV MONO Leather Sneakers',\n",
       " 'Men Solid Leather Formal Slip-Ons',\n",
       " 'Men Leather Slip-On Sneakers',\n",
       " 'Women Charged Vantage ClrShft',\n",
       " 'Men Mid-Top Runner Sneakers',\n",
       " 'Men Mid-Top Chelsea Boots',\n",
       " 'Women Deviate Nitro Running',\n",
       " 'Unisex RS-Z BP Sneakers',\n",
       " 'Ustraa black',\n",
       " 'Women Charged Bandit 6 Running',\n",
       " 'Men Solid Leather Formal Oxfords',\n",
       " 'Men Solid Leather Sneakers',\n",
       " 'Women Leather Heeled Boots',\n",
       " 'Men Leather Flat Boots',\n",
       " 'Unisex BMW RS-Connect Sneakers',\n",
       " 'Men Black Leather Loafers',\n",
       " 'Men Colourblocked PU Sneakers',\n",
       " 'Skycourt Sneakers',\n",
       " 'Unisex Textured Sneakers',\n",
       " 'Men Solid Formal Slip-Ons',\n",
       " 'Men Textured Formal Leather Loafers',\n",
       " 'Men Textured Derbys',\n",
       " 'Women Leather Block Pumps',\n",
       " 'Men Textured Formal Leather Oxfords',\n",
       " 'Men Textured Leather Formal Derbys',\n",
       " 'Women Leather Heeled Boots',\n",
       " 'Men Formal Leather Brogues',\n",
       " 'Men Solid Casual Sneakers',\n",
       " 'Leather Block Heeled Boots',\n",
       " 'Women Leather Heeled Boots',\n",
       " 'Women Leather Pumps',\n",
       " 'Women Leather Pumps',\n",
       " 'Leather Block Heeled Boots',\n",
       " 'Leather Kitten Heeled Boots',\n",
       " 'Women Leather Pumps',\n",
       " 'Block Heeled Boots',\n",
       " 'Women Textured Pumps',\n",
       " 'Women Running Shoes',\n",
       " 'Women Woven Design Sneakers',\n",
       " 'Women Charged Impulse Shft',\n",
       " 'Women Charged Rogue 2.5ClrSft',\n",
       " 'Women Eternity NITRO Shoes',\n",
       " 'Women Liberate NITRO Running',\n",
       " 'Women Velocity NITRO Runners',\n",
       " 'Men Woven Design Sneakers',\n",
       " 'Women ELEVATED Leather Sneaker',\n",
       " 'Men Lightweight Brogues',\n",
       " 'Men GENERATION ZEROGRAND STITCHLITE',\n",
       " 'Men Leather Mid-Top Flat Boots',\n",
       " 'Men DS LIGHT X-FLY 4 Running',\n",
       " 'Women PRONOUNCE May Sneakers',\n",
       " 'Men Textured Leather Loafers',\n",
       " 'Men Textured Leather Loafers',\n",
       " 'Men Leather Formal Slip-Ons',\n",
       " 'Men Leather Derbys',\n",
       " 'Men Solid Leather Formal Monks',\n",
       " 'Men Woven Design Loafers',\n",
       " 'Men Solid Loafers',\n",
       " 'Men Solid Leather Formal Derbys',\n",
       " 'Men Magnify Nitro Running',\n",
       " 'Solid Leather Formal Shoes',\n",
       " 'Men Formal Leather Slip-Ons',\n",
       " 'Men Leather Flat Boots',\n",
       " 'Men Lightweight Sneakers',\n",
       " 'Women Leather Sneakers',\n",
       " 'Solid Slip On Shoes',\n",
       " 'Men Woven Design Sneakers',\n",
       " 'Men Textured Leather Formal Loafers',\n",
       " 'Men Solid Leather Formal Derbys',\n",
       " 'Men Solid Leather Formal Monks',\n",
       " 'Men Solid Suede Sneakers',\n",
       " 'Men Suede Flat Boots',\n",
       " 'Women Leather Pumps',\n",
       " 'Men Electrify Nitro Running',\n",
       " 'Men Leather Chelsea Boots',\n",
       " 'Men Black Walking Shoes',\n",
       " 'Women Quilted Leather Pumps',\n",
       " 'Women Leather Heeled Boots',\n",
       " 'Women Heeled Boots',\n",
       " 'Women Leather Heeled Boots',\n",
       " 'Women Leather Pumps',\n",
       " 'Leather Block Heeled Boots',\n",
       " 'Leather Kitten Heeled Boots',\n",
       " 'Women Leather Pumps',\n",
       " 'Block Heeled Boots',\n",
       " 'Women Textured Pumps',\n",
       " 'Women Running Shoes',\n",
       " 'Women Woven Design Sneakers',\n",
       " 'Women Charged Impulse Shft',\n",
       " 'Women Charged Rogue 2.5ClrSft',\n",
       " 'Women Eternity NITRO Shoes',\n",
       " 'Women Liberate NITRO Running',\n",
       " 'Women Velocity NITRO Runners',\n",
       " 'Men Woven Design Sneakers',\n",
       " 'Women ELEVATED Leather Sneaker',\n",
       " 'Men Lightweight Brogues',\n",
       " 'Men GENERATION ZEROGRAND STITCHLITE',\n",
       " 'Men Leather Mid-Top Flat Boots',\n",
       " 'Men DS LIGHT X-FLY 4 Running',\n",
       " 'Women PRONOUNCE May Sneakers',\n",
       " 'Men Textured Leather Loafers',\n",
       " 'Men Textured Leather Loafers',\n",
       " 'Men Leather Formal Slip-Ons',\n",
       " 'Men Leather Derbys',\n",
       " 'Men Solid Leather Formal Monks',\n",
       " 'Men Woven Design Loafers',\n",
       " 'Men Solid Loafers',\n",
       " 'Men Solid Leather Formal Derbys',\n",
       " 'Men Magnify Nitro Running',\n",
       " 'Solid Leather Formal Shoes',\n",
       " 'Men Formal Leather Slip-Ons',\n",
       " 'Men Leather Flat Boots',\n",
       " 'Men Lightweight Sneakers',\n",
       " 'Women Leather Sneakers',\n",
       " 'Solid Slip On Shoes',\n",
       " 'Men Woven Design Sneakers',\n",
       " 'Men Textured Leather Formal Loafers',\n",
       " 'Men Solid Leather Formal Derbys',\n",
       " 'Men Solid Leather Formal Monks',\n",
       " 'Men Solid Suede Sneakers',\n",
       " 'Men Suede Flat Boots',\n",
       " 'Women Leather Pumps',\n",
       " 'Men Electrify Nitro Running',\n",
       " 'Men Leather Chelsea Boots',\n",
       " 'Men Black Walking Shoes',\n",
       " 'Women Quilted Leather Pumps',\n",
       " 'Women Leather Heeled Boots',\n",
       " 'Women Heeled Boots',\n",
       " 'Women Leather Heeled Boots',\n",
       " 'Men Solid Brogues']"
      ]
     },
     "execution_count": 273,
     "metadata": {},
     "output_type": "execute_result"
    }
   ],
   "source": [
    "Description.extend(Description1)\n",
    "Description.extend(Description2)\n",
    "Description"
   ]
  },
  {
   "cell_type": "code",
   "execution_count": 274,
   "id": "4ae66a19",
   "metadata": {},
   "outputs": [
    {
     "data": {
      "text/plain": [
       "['Rs. 7195',\n",
       " 'Rs. 8099Rs. 8999(10% OFF)',\n",
       " 'Rs. 11049Rs. 12999(15% OFF)',\n",
       " 'Rs. 11249Rs. 14999(25% OFF)',\n",
       " 'Rs. 7999',\n",
       " 'Rs. 8999Rs. 9999(10% OFF)',\n",
       " 'Rs. 7995',\n",
       " 'Rs. 8449Rs. 12999(35% OFF)',\n",
       " 'Rs. 9349Rs. 10999(15% OFF)',\n",
       " 'Rs. 7195',\n",
       " 'Rs. 8249Rs. 10999(25% OFF)',\n",
       " 'Rs. 7499Rs. 9999(25% OFF)',\n",
       " 'Rs. 8999Rs. 9999(10% OFF)',\n",
       " 'Rs. 8999',\n",
       " 'Rs. 10599',\n",
       " 'Rs. 9999',\n",
       " 'Rs. 9099Rs. 12999(30% OFF)',\n",
       " 'Rs. 7999',\n",
       " 'Rs. 8999',\n",
       " 'Rs. 8999',\n",
       " 'Rs. 8999Rs. 9999(10% OFF)',\n",
       " 'Rs. 7999Rs. 9999(20% OFF)',\n",
       " 'Rs. 7999',\n",
       " 'Rs. 8249Rs. 10999(25% OFF)',\n",
       " 'Rs. 10900',\n",
       " 'Rs. 8249Rs. 14999(45% OFF)',\n",
       " 'Rs. 7499Rs. 9999(25% OFF)',\n",
       " 'Rs. 8990',\n",
       " 'Rs. 8999',\n",
       " 'Rs. 13490',\n",
       " 'Rs. 9999',\n",
       " 'Rs. 11000',\n",
       " 'Rs. 8999',\n",
       " 'Rs. 8499Rs. 9999(15% OFF)',\n",
       " 'Rs. 8490',\n",
       " 'Rs. 9999',\n",
       " 'Rs. 7999',\n",
       " 'Rs. 8499Rs. 9999(15% OFF)',\n",
       " 'Rs. 8999Rs. 9999(10% OFF)',\n",
       " 'Rs. 8990',\n",
       " 'Rs. 8990',\n",
       " 'Rs. 7999',\n",
       " 'Rs. 7990',\n",
       " 'Rs. 8999',\n",
       " 'Rs. 13900',\n",
       " 'Rs. 7490',\n",
       " 'Rs. 7199Rs. 8999(20% OFF)',\n",
       " 'Rs. 9999',\n",
       " 'Rs. 9500',\n",
       " 'Rs. 8999',\n",
       " 'Rs. 8999',\n",
       " 'Rs. 8900',\n",
       " 'Rs. 8900',\n",
       " 'Rs. 7999',\n",
       " 'Rs. 7590Rs. 7990(5% OFF)',\n",
       " 'Rs. 7599',\n",
       " 'Rs. 7199Rs. 8999(20% OFF)',\n",
       " 'Rs. 8999Rs. 14999(40% OFF)',\n",
       " 'Rs. 7499',\n",
       " 'Rs. 7999',\n",
       " 'Rs. 9099Rs. 12999(30% OFF)',\n",
       " 'Rs. 7499Rs. 9999(25% OFF)',\n",
       " 'Rs. 8249Rs. 10999(25% OFF)',\n",
       " 'Rs. 10499',\n",
       " 'Rs. 7599',\n",
       " 'Rs. 12799Rs. 15999(20% OFF)',\n",
       " 'Rs. 9599Rs. 11999(20% OFF)',\n",
       " 'Rs. 12999',\n",
       " 'Rs. 7699Rs. 10999(30% OFF)',\n",
       " 'Rs. 7499Rs. 9999(25% OFF)',\n",
       " 'Rs. 7990',\n",
       " 'Rs. 7990',\n",
       " 'Rs. 8999',\n",
       " 'Rs. 7199Rs. 7999(10% OFF)',\n",
       " 'Rs. 8990',\n",
       " 'Rs. 7999',\n",
       " 'Rs. 8990',\n",
       " 'Rs. 7199Rs. 8999(20% OFF)',\n",
       " 'Rs. 9099Rs. 12999(30% OFF)',\n",
       " 'Rs. 7990',\n",
       " 'Rs. 8990',\n",
       " 'Rs. 11999',\n",
       " 'Rs. 7999',\n",
       " 'Rs. 9999',\n",
       " 'Rs. 7990',\n",
       " 'Rs. 7999',\n",
       " 'Rs. 8990',\n",
       " 'Rs. 8990',\n",
       " 'Rs. 8990',\n",
       " 'Rs. 7999',\n",
       " 'Rs. 8999',\n",
       " 'Rs. 9999',\n",
       " 'Rs. 7499Rs. 9999(25% OFF)',\n",
       " 'Rs. 11900',\n",
       " 'Rs. 8999',\n",
       " 'Rs. 8999',\n",
       " 'Rs. 8900',\n",
       " 'Rs. 9500',\n",
       " 'Rs. 9500',\n",
       " 'Rs. 8999',\n",
       " 'Rs. 8900',\n",
       " 'Rs. 8900',\n",
       " 'Rs. 7999',\n",
       " 'Rs. 7590Rs. 7990(5% OFF)',\n",
       " 'Rs. 7599',\n",
       " 'Rs. 7199Rs. 8999(20% OFF)',\n",
       " 'Rs. 8999Rs. 14999(40% OFF)',\n",
       " 'Rs. 7499',\n",
       " 'Rs. 7999',\n",
       " 'Rs. 9099Rs. 12999(30% OFF)',\n",
       " 'Rs. 7499Rs. 9999(25% OFF)',\n",
       " 'Rs. 8249Rs. 10999(25% OFF)',\n",
       " 'Rs. 10499',\n",
       " 'Rs. 7599',\n",
       " 'Rs. 12799Rs. 15999(20% OFF)',\n",
       " 'Rs. 9599Rs. 11999(20% OFF)',\n",
       " 'Rs. 12999',\n",
       " 'Rs. 7699Rs. 10999(30% OFF)',\n",
       " 'Rs. 7499Rs. 9999(25% OFF)',\n",
       " 'Rs. 7990',\n",
       " 'Rs. 7990',\n",
       " 'Rs. 8999',\n",
       " 'Rs. 7199Rs. 7999(10% OFF)',\n",
       " 'Rs. 8990',\n",
       " 'Rs. 7999',\n",
       " 'Rs. 8990',\n",
       " 'Rs. 7199Rs. 8999(20% OFF)',\n",
       " 'Rs. 9099Rs. 12999(30% OFF)',\n",
       " 'Rs. 7990',\n",
       " 'Rs. 8990',\n",
       " 'Rs. 11999',\n",
       " 'Rs. 7999',\n",
       " 'Rs. 9999',\n",
       " 'Rs. 7990',\n",
       " 'Rs. 7999',\n",
       " 'Rs. 8990',\n",
       " 'Rs. 8990',\n",
       " 'Rs. 8990',\n",
       " 'Rs. 7999',\n",
       " 'Rs. 8999',\n",
       " 'Rs. 9999',\n",
       " 'Rs. 7499Rs. 9999(25% OFF)',\n",
       " 'Rs. 11900',\n",
       " 'Rs. 8999',\n",
       " 'Rs. 8999',\n",
       " 'Rs. 8900',\n",
       " 'Rs. 9500',\n",
       " 'Rs. 9500',\n",
       " 'Rs. 7999']"
      ]
     },
     "execution_count": 274,
     "metadata": {},
     "output_type": "execute_result"
    }
   ],
   "source": [
    "price.extend(price1)\n",
    "price.extend(price2)\n",
    "price"
   ]
  },
  {
   "cell_type": "code",
   "execution_count": 275,
   "id": "e312dec4",
   "metadata": {},
   "outputs": [
    {
     "data": {
      "text/html": [
       "<div>\n",
       "<style scoped>\n",
       "    .dataframe tbody tr th:only-of-type {\n",
       "        vertical-align: middle;\n",
       "    }\n",
       "\n",
       "    .dataframe tbody tr th {\n",
       "        vertical-align: top;\n",
       "    }\n",
       "\n",
       "    .dataframe thead th {\n",
       "        text-align: right;\n",
       "    }\n",
       "</style>\n",
       "<table border=\"1\" class=\"dataframe\">\n",
       "  <thead>\n",
       "    <tr style=\"text-align: right;\">\n",
       "      <th></th>\n",
       "      <th>Shoes</th>\n",
       "      <th>Description</th>\n",
       "      <th>Price</th>\n",
       "    </tr>\n",
       "  </thead>\n",
       "  <tbody>\n",
       "    <tr>\n",
       "      <th>0</th>\n",
       "      <td>NIKE</td>\n",
       "      <td>Men Zoom Span 4 Running Shoes</td>\n",
       "      <td>Rs. 7195</td>\n",
       "    </tr>\n",
       "    <tr>\n",
       "      <th>1</th>\n",
       "      <td>EEKEN</td>\n",
       "      <td>Men Solid Leather Formal Slip-Ons</td>\n",
       "      <td>Rs. 8099Rs. 8999(10% OFF)</td>\n",
       "    </tr>\n",
       "    <tr>\n",
       "      <th>2</th>\n",
       "      <td>Numenzo</td>\n",
       "      <td>Men Jamming 2.0 Running Shoes</td>\n",
       "      <td>Rs. 11049Rs. 12999(15% OFF)</td>\n",
       "    </tr>\n",
       "    <tr>\n",
       "      <th>3</th>\n",
       "      <td>Kreverse</td>\n",
       "      <td>Men Deviate Nitro Running Shoe</td>\n",
       "      <td>Rs. 11249Rs. 14999(25% OFF)</td>\n",
       "    </tr>\n",
       "    <tr>\n",
       "      <th>4</th>\n",
       "      <td>BRUTON</td>\n",
       "      <td>Men Black Running Sports Shoes</td>\n",
       "      <td>Rs. 7999</td>\n",
       "    </tr>\n",
       "    <tr>\n",
       "      <th>...</th>\n",
       "      <td>...</td>\n",
       "      <td>...</td>\n",
       "      <td>...</td>\n",
       "    </tr>\n",
       "    <tr>\n",
       "      <th>95</th>\n",
       "      <td>Furo</td>\n",
       "      <td>Women Quilted Leather Pumps</td>\n",
       "      <td>Rs. 8999</td>\n",
       "    </tr>\n",
       "    <tr>\n",
       "      <th>96</th>\n",
       "      <td>KNIGHT WALKERS</td>\n",
       "      <td>Women Leather Heeled Boots</td>\n",
       "      <td>Rs. 8900</td>\n",
       "    </tr>\n",
       "    <tr>\n",
       "      <th>97</th>\n",
       "      <td>SPADE CLUB</td>\n",
       "      <td>Women Heeled Boots</td>\n",
       "      <td>Rs. 9500</td>\n",
       "    </tr>\n",
       "    <tr>\n",
       "      <th>98</th>\n",
       "      <td>ASIAN</td>\n",
       "      <td>Women Leather Heeled Boots</td>\n",
       "      <td>Rs. 9500</td>\n",
       "    </tr>\n",
       "    <tr>\n",
       "      <th>99</th>\n",
       "      <td>NIKE</td>\n",
       "      <td>Women Leather Pumps</td>\n",
       "      <td>Rs. 8999</td>\n",
       "    </tr>\n",
       "  </tbody>\n",
       "</table>\n",
       "<p>100 rows × 3 columns</p>\n",
       "</div>"
      ],
      "text/plain": [
       "             Shoes                        Description  \\\n",
       "0             NIKE      Men Zoom Span 4 Running Shoes   \n",
       "1            EEKEN  Men Solid Leather Formal Slip-Ons   \n",
       "2          Numenzo      Men Jamming 2.0 Running Shoes   \n",
       "3         Kreverse     Men Deviate Nitro Running Shoe   \n",
       "4           BRUTON     Men Black Running Sports Shoes   \n",
       "..             ...                                ...   \n",
       "95            Furo        Women Quilted Leather Pumps   \n",
       "96  KNIGHT WALKERS         Women Leather Heeled Boots   \n",
       "97      SPADE CLUB                 Women Heeled Boots   \n",
       "98           ASIAN         Women Leather Heeled Boots   \n",
       "99            NIKE                Women Leather Pumps   \n",
       "\n",
       "                          Price  \n",
       "0                      Rs. 7195  \n",
       "1     Rs. 8099Rs. 8999(10% OFF)  \n",
       "2   Rs. 11049Rs. 12999(15% OFF)  \n",
       "3   Rs. 11249Rs. 14999(25% OFF)  \n",
       "4                      Rs. 7999  \n",
       "..                          ...  \n",
       "95                     Rs. 8999  \n",
       "96                     Rs. 8900  \n",
       "97                     Rs. 9500  \n",
       "98                     Rs. 9500  \n",
       "99                     Rs. 8999  \n",
       "\n",
       "[100 rows x 3 columns]"
      ]
     },
     "execution_count": 275,
     "metadata": {},
     "output_type": "execute_result"
    }
   ],
   "source": [
    "data=list(zip(Name,Description,price))\n",
    "\n",
    "df=pd.DataFrame(data,columns=['Shoes','Description','Price'])\n",
    "\n",
    "df"
   ]
  },
  {
   "cell_type": "markdown",
   "id": "c04375a2",
   "metadata": {},
   "source": [
    "Q8: Go to webpage https://www.amazon.in/ \n",
    "Enter “Laptop” in the search field and then click the search icon. \n",
    "Then set CPU Type filter to “Intel Core i7” and “Intel Core i9”"
   ]
  },
  {
   "cell_type": "code",
   "execution_count": 7,
   "id": "74bbf314",
   "metadata": {},
   "outputs": [],
   "source": [
    "import selenium\n",
    "import pandas as pd\n",
    "from selenium import webdriver\n",
    "from selenium.webdriver.common.keys import Keys\n",
    "import warnings\n",
    "warnings.filterwarnings('ignore')"
   ]
  },
  {
   "cell_type": "code",
   "execution_count": 8,
   "id": "c955d8c2",
   "metadata": {},
   "outputs": [],
   "source": [
    "driver=webdriver.Chrome(r\"C:\\Users\\Grace Amirtham\\Downloads\\chromedriver_win32\\chromedriver.exe\")"
   ]
  },
  {
   "cell_type": "code",
   "execution_count": 9,
   "id": "9f042d4f",
   "metadata": {},
   "outputs": [],
   "source": [
    "driver.get(\"https://www.amazon.in/\")"
   ]
  },
  {
   "cell_type": "code",
   "execution_count": 10,
   "id": "12904e0b",
   "metadata": {},
   "outputs": [],
   "source": [
    "#Finding the product\n",
    "search_prod = driver.find_element_by_xpath(\"/html/body/div[1]/header/div/div[1]/div[2]/div/form/div[2]/div[1]/input\")\n",
    "\n",
    "search_prod.send_keys('Laptop')\n",
    "\n",
    "search_icon = driver.find_element_by_id(\"nav-search-submit-button\")\n",
    "\n",
    "search_icon.click()"
   ]
  },
  {
   "cell_type": "code",
   "execution_count": 11,
   "id": "c8cc9cc9",
   "metadata": {},
   "outputs": [],
   "source": [
    "#Filter to select i7 & Filter to select i9\n",
    "cpu_filteri7 = driver.find_element_by_xpath(\"//span[text()='Intel Core i7']\")\n",
    "cpu_filteri7.click()\n"
   ]
  },
  {
   "cell_type": "code",
   "execution_count": null,
   "id": "4b669499",
   "metadata": {},
   "outputs": [],
   "source": [
    "cpu_filteri9 = driver.find_element_by_xpath(\"//span[text()='Intel Core i9']\")\n",
    "cpu_filteri9.click()"
   ]
  },
  {
   "cell_type": "code",
   "execution_count": 285,
   "id": "be288e4b",
   "metadata": {},
   "outputs": [],
   "source": [
    "# scraping 3 attributes for laptops title Ratings Price\n",
    "\n",
    "#title_tag = driver.find_elements_by_xpath(\"span[@class='a-size-medium a-color-base a-text-normal']\")\n",
    "\n",
    "#rating_tag = driver.find_elements_by_xpath(\"//span[@class='a-icon-alt']\")\n",
    "\n",
    "#price_tag = driver.find_elements_by_xpath(\"//span[@class='a-price-whole']\")\n",
    "\n",
    "title =[]\n",
    "\n",
    "rating =[]\n",
    "\n",
    "price = []\n",
    "\n",
    "lap_url = []\n",
    "\n",
    "# scraping links for different laptops\n",
    "\n",
    "for i in driver.find_elements_by_xpath(\"//a[@class='a-link-normal a-text-normal']\"):\n",
    "\n",
    "    lap_url.append(i.get_attribute('href'))\n",
    "\n",
    "# fetching title, rating, price for every laptop\n",
    "\n",
    "for i in lap_url[:10]:\n",
    "    driver.get(i)\n",
    "      \n",
    "    try:\n",
    "        title_tag = driver.find_element_by_xpath(\"//span[@class='a-size-large product-title-word-break']\")\n",
    "        title.append(title_tag.text)\n",
    "\n",
    "    except:\n",
    "        title.append('-')\n",
    "\n",
    "    try:\n",
    "        price_tag = driver.find_element_by_xpath(\"//span[@id='priceblock_ourprice']\")\n",
    "        price.append(price_tag.text)\n",
    "\n",
    "    except:\n",
    "        price.append('-')\n",
    "\n",
    "    try:\n",
    "        rating_tag = driver.find_element_by_xpath(\"//span[@class='a-size-medium a-color-base']\")\n",
    "        rating.append(rating_tag.text)\n",
    "\n",
    "    except:\n",
    "        rating.append('-')\n",
    "\n",
    "len(title), len(price), len(rating)\n",
    "\n",
    "\n",
    "\n",
    "laptop_data = pd.DataFrame()\n",
    "\n",
    "laptop_data['Title'] =  title\n",
    "\n",
    "laptop_data['Rating'] =  rating\n",
    "\n",
    "laptop_data['Price'] = price\n"
   ]
  },
  {
   "cell_type": "code",
   "execution_count": 177,
   "id": "58b847cc",
   "metadata": {},
   "outputs": [
    {
     "data": {
      "text/plain": [
       "['₹1,06,057.00',\n",
       " '₹87,999.00',\n",
       " '-',\n",
       " '₹31,999.00',\n",
       " '₹44,125.00',\n",
       " '₹50,990.00',\n",
       " '-',\n",
       " '₹26,990.00',\n",
       " '₹27,490.00',\n",
       " '-']"
      ]
     },
     "execution_count": 177,
     "metadata": {},
     "output_type": "execute_result"
    }
   ],
   "source": [
    "price"
   ]
  },
  {
   "cell_type": "code",
   "execution_count": 176,
   "id": "75ca913c",
   "metadata": {},
   "outputs": [
    {
     "data": {
      "text/plain": [
       "['4.4 out of 5',\n",
       " '4 out of 5',\n",
       " '4.2 out of 5',\n",
       " '3.7 out of 5',\n",
       " '4.2 out of 5',\n",
       " '3.9 out of 5',\n",
       " '3.8 out of 5',\n",
       " '3.5 out of 5',\n",
       " '3.8 out of 5',\n",
       " '3.8 out of 5']"
      ]
     },
     "execution_count": 176,
     "metadata": {},
     "output_type": "execute_result"
    }
   ],
   "source": [
    "rating"
   ]
  },
  {
   "cell_type": "code",
   "execution_count": 175,
   "id": "07c3c500",
   "metadata": {},
   "outputs": [
    {
     "data": {
      "text/plain": [
       "['LG Gram 17 Ultra-Light Intel Evo 11th Gen Core i7,16 GB RAM, 512 GB SSD, Win-10, Iris Xe Graphics, 17-inches (43.18 cms), Thunderbolt 4, USC -C x 2 (with Power), 1.35 kg, 3 Yr Warranty (17Z90P, Black)',\n",
       " 'LG Gram 14 Ultralight Intel Evo 11th Gen Core i7,16 GB RAM, 512 GB SSD, Win-10, Iris Xe Graphics, 14-inches (35.56 cms), Thunderbolt 4, USC -Cx2 (with Power), 999 Grams, 3 Yr Warranty (14Z90P, Black)',\n",
       " 'ASUS VivoBook 15 (2020), 39.6 cm HD, Dual Core Intel Celeron N4020, Thin and Light Laptop (4GB RAM/256GB SSD/Integrated Graphics/Windows 10 Home/Transparent Silver/1.8 Kg), X515MA-BR002T',\n",
       " 'HP 15 db1069AU 15.6\" (39.62cms) ) Laptop (3rd Gen Ryzen 3 3200U/4GB/1TB HDD/Windows 10/MS Office/Radeon Vega 3 Graphics), Jet Black',\n",
       " 'Dell Inspiron 3502 15.6\" (39.62 cms) HD Display Laptop (Pentium Silver N5030 / 4GB / 256GB SSD / Integrated Graphics / Win 10 + MSO / Accent Black) D560427WIN9BE',\n",
       " 'ASUS VivoBook 14 (2020), Intel Core i5-1035G1 10th Gen, 14-inch (35.56 cm) FHD, Thin &Light Laptop (8GB/512GB SSD + 32GB Optane/Office 2019/Windows 10/Integrated Graphics/Silver/1.6 Kg) X415JA-EK562TS',\n",
       " 'Lenovo IdeaPad Slim 1 Intel Celeron N4020 11.6\" (29.46cm) HD Thin & Light Laptop (4GB/256 GB SSD/Windows 10/MS Office/Platinum Grey/1.2Kg), 81VT0071IN',\n",
       " 'ASUS Computer Notebook 14(2020) Intel Quad Core Pentium Silver N5030, 14-inch(35.56 cms) FHD Thin,Light Laptop (4GB RAM/1TB HDD/Windows 10/Integrated Graphics/Transparent Silver/1.5 Kg), X415MA-EK101T',\n",
       " 'HP Chromebook 14-inch (35.56 cms) Thin & Light Touchscreen Laptop (Celeron N4020/4GB/64GB eMMC + 256GB Expandable Storage/Chrome OS/1.46 kgs Light/ Mineral Silver), 14a-na0003TU',\n",
       " 'HP 15 (2021) Thin & Light 10th Gen Intel Core i3 Laptop, 8GB RAM, 512GB SSD, 15.6 inches (39.62 cm) FHD Screen, Windows 10, MS Office, Jet Black (15s-du1516TU)']"
      ]
     },
     "execution_count": 175,
     "metadata": {},
     "output_type": "execute_result"
    }
   ],
   "source": [
    "title"
   ]
  },
  {
   "cell_type": "code",
   "execution_count": 287,
   "id": "a21068b3",
   "metadata": {},
   "outputs": [
    {
     "data": {
      "text/html": [
       "<div>\n",
       "<style scoped>\n",
       "    .dataframe tbody tr th:only-of-type {\n",
       "        vertical-align: middle;\n",
       "    }\n",
       "\n",
       "    .dataframe tbody tr th {\n",
       "        vertical-align: top;\n",
       "    }\n",
       "\n",
       "    .dataframe thead th {\n",
       "        text-align: right;\n",
       "    }\n",
       "</style>\n",
       "<table border=\"1\" class=\"dataframe\">\n",
       "  <thead>\n",
       "    <tr style=\"text-align: right;\">\n",
       "      <th></th>\n",
       "      <th>Name</th>\n",
       "      <th>rating</th>\n",
       "      <th>Price</th>\n",
       "    </tr>\n",
       "  </thead>\n",
       "  <tbody>\n",
       "    <tr>\n",
       "      <th>0</th>\n",
       "      <td>NIKE</td>\n",
       "      <td>4.3 out of 5</td>\n",
       "      <td>-</td>\n",
       "    </tr>\n",
       "    <tr>\n",
       "      <th>1</th>\n",
       "      <td>EEKEN</td>\n",
       "      <td>3.9 out of 5</td>\n",
       "      <td>₹93,990.00</td>\n",
       "    </tr>\n",
       "    <tr>\n",
       "      <th>2</th>\n",
       "      <td>Numenzo</td>\n",
       "      <td>4.7 out of 5</td>\n",
       "      <td>₹1,13,990.00</td>\n",
       "    </tr>\n",
       "    <tr>\n",
       "      <th>3</th>\n",
       "      <td>Kreverse</td>\n",
       "      <td>4.3 out of 5</td>\n",
       "      <td>₹1,09,000.00</td>\n",
       "    </tr>\n",
       "    <tr>\n",
       "      <th>4</th>\n",
       "      <td>BRUTON</td>\n",
       "      <td>4.2 out of 5</td>\n",
       "      <td>-</td>\n",
       "    </tr>\n",
       "    <tr>\n",
       "      <th>5</th>\n",
       "      <td>URBANBOX</td>\n",
       "      <td>4.3 out of 5</td>\n",
       "      <td>₹84,990.00</td>\n",
       "    </tr>\n",
       "    <tr>\n",
       "      <th>6</th>\n",
       "      <td>SCATCHITE</td>\n",
       "      <td>4.3 out of 5</td>\n",
       "      <td>₹84,990.00</td>\n",
       "    </tr>\n",
       "    <tr>\n",
       "      <th>7</th>\n",
       "      <td>Extoes</td>\n",
       "      <td>4.6 out of 5</td>\n",
       "      <td>₹95,990.00</td>\n",
       "    </tr>\n",
       "    <tr>\n",
       "      <th>8</th>\n",
       "      <td>CALCADOS</td>\n",
       "      <td>4.3 out of 5</td>\n",
       "      <td>₹1,04,990.00</td>\n",
       "    </tr>\n",
       "    <tr>\n",
       "      <th>9</th>\n",
       "      <td>Magnolia</td>\n",
       "      <td>4 out of 5</td>\n",
       "      <td>₹3,73,999.00</td>\n",
       "    </tr>\n",
       "  </tbody>\n",
       "</table>\n",
       "</div>"
      ],
      "text/plain": [
       "        Name        rating         Price\n",
       "0       NIKE  4.3 out of 5             -\n",
       "1      EEKEN  3.9 out of 5    ₹93,990.00\n",
       "2    Numenzo  4.7 out of 5  ₹1,13,990.00\n",
       "3   Kreverse  4.3 out of 5  ₹1,09,000.00\n",
       "4     BRUTON  4.2 out of 5             -\n",
       "5   URBANBOX  4.3 out of 5    ₹84,990.00\n",
       "6  SCATCHITE  4.3 out of 5    ₹84,990.00\n",
       "7     Extoes  4.6 out of 5    ₹95,990.00\n",
       "8   CALCADOS  4.3 out of 5  ₹1,04,990.00\n",
       "9   Magnolia    4 out of 5  ₹3,73,999.00"
      ]
     },
     "execution_count": 287,
     "metadata": {},
     "output_type": "execute_result"
    }
   ],
   "source": [
    "data=list(zip(Name,rating,price))\n",
    "\n",
    "df=pd.DataFrame(data,columns=['Name','rating','Price'])\n",
    "\n",
    "df"
   ]
  },
  {
   "cell_type": "markdown",
   "id": "f95abe87",
   "metadata": {},
   "source": [
    "Q9: Write a python program to scrape data for first 10 job results for Data Scientist Designation in Noida \n",
    "location. You have to scrape company name, No. of days ago when job was posted, Rating of the company. "
   ]
  },
  {
   "cell_type": "code",
   "execution_count": 26,
   "id": "8ddb1bc4",
   "metadata": {},
   "outputs": [],
   "source": [
    "import selenium\n",
    "import pandas as pd\n",
    "from selenium import webdriver\n",
    "from selenium.webdriver.common.keys import Keys\n",
    "import warnings\n",
    "warnings.filterwarnings('ignore')"
   ]
  },
  {
   "cell_type": "code",
   "execution_count": 288,
   "id": "a857119d",
   "metadata": {},
   "outputs": [],
   "source": [
    "driver=webdriver.Chrome(r\"C:\\Users\\Grace Amirtham\\Downloads\\chromedriver_win32\\chromedriver.exe\")\n"
   ]
  },
  {
   "cell_type": "code",
   "execution_count": 289,
   "id": "da5a2c7d",
   "metadata": {},
   "outputs": [],
   "source": [
    "driver.get(\"https://www.ambitionbox.com/\")"
   ]
  },
  {
   "cell_type": "code",
   "execution_count": 290,
   "id": "10ef7c39",
   "metadata": {},
   "outputs": [],
   "source": [
    "#Click jobs\n",
    "\n",
    "job_option = driver.find_element_by_xpath(\"//a[@class='link jobs']\")\n",
    "\n",
    "job_option.click()\n"
   ]
  },
  {
   "cell_type": "code",
   "execution_count": 291,
   "id": "f0451d3e",
   "metadata": {},
   "outputs": [],
   "source": [
    "search_job = driver.find_element_by_xpath('/html/body/div/div/div/div[2]/div[1]/div/div/div/div/span/input')\n",
    "\n",
    "search_job.send_keys('Data Scientist')\n",
    "\n",
    "\n",
    "\n",
    "search_btn = driver.find_element_by_xpath(\"/html/body/div/div/div/div[2]/div[1]/div/div/div/button/span\")\n",
    "\n",
    "search_btn.click()"
   ]
  },
  {
   "cell_type": "code",
   "execution_count": 295,
   "id": "3d5cd5c8",
   "metadata": {},
   "outputs": [],
   "source": [
    "select_location = driver.find_element_by_xpath(\"/html/body/div/div/div/div[2]/div[2]/div[1]/div/div/div/div[2]/div[1]/p\")\n",
    "\n",
    "select_location.click()\n",
    "\n",
    "location = driver.find_element_by_xpath('/html/body/div/div/div/div[2]/div[2]/div[1]/div/div/div/div[2]/div[2]/div/div[2]/input')\n",
    "\n",
    "location.send_keys('Noida')\n",
    "\n",
    "\n",
    "select_Noida = driver.find_element_by_xpath(\"/html/body/div/div/div/div[2]/div[2]/div[1]/div/div/div/div[2]/div[2]/div/div[3]/div/div/div[1]/label\")\n",
    "\n",
    "select_Noida.click()"
   ]
  },
  {
   "cell_type": "code",
   "execution_count": 296,
   "id": "bffda18f",
   "metadata": {},
   "outputs": [],
   "source": [
    "Name = driver.find_elements_by_xpath(\"//P[@class='company body-medium']\")\n",
    "comp_Name=[]\n",
    "for i in Name[0:10]:\n",
    "    comp_Name.append(i.text)"
   ]
  },
  {
   "cell_type": "code",
   "execution_count": 303,
   "id": "e6842eff",
   "metadata": {},
   "outputs": [
    {
     "data": {
      "text/plain": [
       "['Optum Global Solutions (India) Private Limited',\n",
       " 'Steria India Ltd',\n",
       " 'Ameriprise Financial',\n",
       " 'Jubilant Foodworks Limited',\n",
       " 'Steria India Ltd',\n",
       " 'Steria India Ltd',\n",
       " 'HCL Technologies Limited',\n",
       " 'GI Group',\n",
       " 'Zyoin',\n",
       " 'GI Group']"
      ]
     },
     "execution_count": 303,
     "metadata": {},
     "output_type": "execute_result"
    }
   ],
   "source": [
    "comp_Name"
   ]
  },
  {
   "cell_type": "code",
   "execution_count": 298,
   "id": "8b243f7a",
   "metadata": {},
   "outputs": [],
   "source": [
    "Rate= driver.find_elements_by_xpath(\"//div[@class='rating-wrapper']\")\n",
    "Rating=[]\n",
    "for i in Rate[0:10]:\n",
    "    Rating.append(i.text)"
   ]
  },
  {
   "cell_type": "code",
   "execution_count": 299,
   "id": "8ee8164f",
   "metadata": {},
   "outputs": [
    {
     "data": {
      "text/plain": [
       "['',\n",
       " '4.1\\nbased on 1.4k Reviews',\n",
       " '4.1\\n(1.4k Reviews)',\n",
       " '4.1\\n(833 Reviews)',\n",
       " '4.1\\n(250 Reviews)',\n",
       " '3.9\\n(455 Reviews)',\n",
       " '4.1\\n(833 Reviews)',\n",
       " '4.1\\n(833 Reviews)',\n",
       " '3.8\\n(13.2k Reviews)',\n",
       " '3.9\\n(68 Reviews)']"
      ]
     },
     "execution_count": 299,
     "metadata": {},
     "output_type": "execute_result"
    }
   ],
   "source": [
    "Rating"
   ]
  },
  {
   "cell_type": "code",
   "execution_count": 300,
   "id": "b494ea4c",
   "metadata": {},
   "outputs": [],
   "source": [
    "Date = driver.find_elements_by_xpath(\"//span[@class='body-small-l']\")\n",
    "Posted_date=[]\n",
    "for i in Date:\n",
    "    Posted_date.append(i.text)"
   ]
  },
  {
   "cell_type": "code",
   "execution_count": 301,
   "id": "49218485",
   "metadata": {},
   "outputs": [
    {
     "data": {
      "text/plain": [
       "['12d ago',\n",
       " 'via naukri.com',\n",
       " '5d ago',\n",
       " 'via naukri.com',\n",
       " '7d ago',\n",
       " 'via naukri.com',\n",
       " '4d ago',\n",
       " 'via hirist.com',\n",
       " '24d ago',\n",
       " 'via naukri.com',\n",
       " '24d ago',\n",
       " 'via naukri.com',\n",
       " '1mon ago',\n",
       " 'via naukri.com',\n",
       " '20hr ago',\n",
       " 'via iimjobs.com',\n",
       " '6d ago',\n",
       " 'via hirist.com',\n",
       " '4d ago',\n",
       " 'via iimjobs.com']"
      ]
     },
     "execution_count": 301,
     "metadata": {},
     "output_type": "execute_result"
    }
   ],
   "source": [
    "Posted_date"
   ]
  },
  {
   "cell_type": "code",
   "execution_count": 309,
   "id": "ced861d1",
   "metadata": {},
   "outputs": [
    {
     "data": {
      "text/html": [
       "<div>\n",
       "<style scoped>\n",
       "    .dataframe tbody tr th:only-of-type {\n",
       "        vertical-align: middle;\n",
       "    }\n",
       "\n",
       "    .dataframe tbody tr th {\n",
       "        vertical-align: top;\n",
       "    }\n",
       "\n",
       "    .dataframe thead th {\n",
       "        text-align: right;\n",
       "    }\n",
       "</style>\n",
       "<table border=\"1\" class=\"dataframe\">\n",
       "  <thead>\n",
       "    <tr style=\"text-align: right;\">\n",
       "      <th></th>\n",
       "      <th>comp_Name</th>\n",
       "      <th>Rating</th>\n",
       "      <th>Posted_date</th>\n",
       "    </tr>\n",
       "  </thead>\n",
       "  <tbody>\n",
       "    <tr>\n",
       "      <th>0</th>\n",
       "      <td>Optum Global Solutions (India) Private Limited</td>\n",
       "      <td></td>\n",
       "      <td>12d ago</td>\n",
       "    </tr>\n",
       "    <tr>\n",
       "      <th>1</th>\n",
       "      <td>Steria India Ltd</td>\n",
       "      <td>4.1\\nbased on 1.4k Reviews</td>\n",
       "      <td>via naukri.com</td>\n",
       "    </tr>\n",
       "    <tr>\n",
       "      <th>2</th>\n",
       "      <td>Ameriprise Financial</td>\n",
       "      <td>4.1\\n(1.4k Reviews)</td>\n",
       "      <td>5d ago</td>\n",
       "    </tr>\n",
       "    <tr>\n",
       "      <th>3</th>\n",
       "      <td>Jubilant Foodworks Limited</td>\n",
       "      <td>4.1\\n(833 Reviews)</td>\n",
       "      <td>via naukri.com</td>\n",
       "    </tr>\n",
       "    <tr>\n",
       "      <th>4</th>\n",
       "      <td>Steria India Ltd</td>\n",
       "      <td>4.1\\n(250 Reviews)</td>\n",
       "      <td>7d ago</td>\n",
       "    </tr>\n",
       "    <tr>\n",
       "      <th>5</th>\n",
       "      <td>Steria India Ltd</td>\n",
       "      <td>3.9\\n(455 Reviews)</td>\n",
       "      <td>via naukri.com</td>\n",
       "    </tr>\n",
       "    <tr>\n",
       "      <th>6</th>\n",
       "      <td>HCL Technologies Limited</td>\n",
       "      <td>4.1\\n(833 Reviews)</td>\n",
       "      <td>4d ago</td>\n",
       "    </tr>\n",
       "    <tr>\n",
       "      <th>7</th>\n",
       "      <td>GI Group</td>\n",
       "      <td>4.1\\n(833 Reviews)</td>\n",
       "      <td>via hirist.com</td>\n",
       "    </tr>\n",
       "    <tr>\n",
       "      <th>8</th>\n",
       "      <td>Zyoin</td>\n",
       "      <td>3.8\\n(13.2k Reviews)</td>\n",
       "      <td>24d ago</td>\n",
       "    </tr>\n",
       "    <tr>\n",
       "      <th>9</th>\n",
       "      <td>GI Group</td>\n",
       "      <td>3.9\\n(68 Reviews)</td>\n",
       "      <td>via naukri.com</td>\n",
       "    </tr>\n",
       "  </tbody>\n",
       "</table>\n",
       "</div>"
      ],
      "text/plain": [
       "                                        comp_Name                      Rating  \\\n",
       "0  Optum Global Solutions (India) Private Limited                               \n",
       "1                                Steria India Ltd  4.1\\nbased on 1.4k Reviews   \n",
       "2                            Ameriprise Financial         4.1\\n(1.4k Reviews)   \n",
       "3                      Jubilant Foodworks Limited          4.1\\n(833 Reviews)   \n",
       "4                                Steria India Ltd          4.1\\n(250 Reviews)   \n",
       "5                                Steria India Ltd          3.9\\n(455 Reviews)   \n",
       "6                        HCL Technologies Limited          4.1\\n(833 Reviews)   \n",
       "7                                        GI Group          4.1\\n(833 Reviews)   \n",
       "8                                           Zyoin        3.8\\n(13.2k Reviews)   \n",
       "9                                        GI Group           3.9\\n(68 Reviews)   \n",
       "\n",
       "      Posted_date  \n",
       "0         12d ago  \n",
       "1  via naukri.com  \n",
       "2          5d ago  \n",
       "3  via naukri.com  \n",
       "4          7d ago  \n",
       "5  via naukri.com  \n",
       "6          4d ago  \n",
       "7  via hirist.com  \n",
       "8         24d ago  \n",
       "9  via naukri.com  "
      ]
     },
     "execution_count": 309,
     "metadata": {},
     "output_type": "execute_result"
    }
   ],
   "source": [
    "data=list(zip(comp_Name,Rating,Posted_date))\n",
    "\n",
    "df=pd.DataFrame(data,columns=['comp_Name','Rating','Posted_date'])\n",
    "\n",
    "df"
   ]
  },
  {
   "cell_type": "markdown",
   "id": "49447cae",
   "metadata": {},
   "source": [
    "Q10: Write a python program to scrape the salary data for Data Scientist designation. \n",
    "You have to scrape Company name, Number of salaries, Average salary, Min salary, Max Salary."
   ]
  },
  {
   "cell_type": "code",
   "execution_count": 1,
   "id": "ca5981fb",
   "metadata": {},
   "outputs": [],
   "source": [
    "import selenium\n",
    "import pandas as pd\n",
    "from selenium import webdriver\n",
    "from selenium.webdriver.common.keys import Keys\n",
    "import warnings\n",
    "warnings.filterwarnings('ignore')"
   ]
  },
  {
   "cell_type": "code",
   "execution_count": 13,
   "id": "1176ae68",
   "metadata": {},
   "outputs": [],
   "source": [
    "driver=webdriver.Chrome(r\"C:\\Users\\Grace Amirtham\\Downloads\\chromedriver_win32\\chromedriver.exe\")"
   ]
  },
  {
   "cell_type": "code",
   "execution_count": 14,
   "id": "31907fdf",
   "metadata": {},
   "outputs": [],
   "source": [
    "driver.get(\"https://www.ambitionbox.com/\")"
   ]
  },
  {
   "cell_type": "code",
   "execution_count": 15,
   "id": "eda7b8d7",
   "metadata": {},
   "outputs": [],
   "source": [
    "#Click salary\n",
    "\n",
    "Salary=driver.find_element_by_xpath(\"//a[@class='link salaries']\")\n",
    "\n",
    "Salary.click()\n"
   ]
  },
  {
   "cell_type": "code",
   "execution_count": 16,
   "id": "1211a83a",
   "metadata": {},
   "outputs": [],
   "source": [
    "search_job = driver.find_element_by_xpath('/html/body/div/div/div/main/section[1]/div[2]/div[1]/span/input')\n",
    "\n",
    "search_job.send_keys('Data Scientist')\n",
    "\n",
    "\n",
    "\n",
    "\n",
    "\n"
   ]
  },
  {
   "cell_type": "code",
   "execution_count": null,
   "id": "742249e7",
   "metadata": {},
   "outputs": [],
   "source": [
    "search_btn = driver.find_element_by_xpath(\"/html/body/div/div/div/main/section[1]/div[2]/div[1]/span/div/div/div[1]/div/div\")\n",
    "\n",
    "search_btn.click()"
   ]
  },
  {
   "cell_type": "code",
   "execution_count": 327,
   "id": "16885578",
   "metadata": {},
   "outputs": [],
   "source": [
    "Name = driver.find_elements_by_xpath(\"//div[@class='name']/a\")\n",
    "comp_Name=[]\n",
    "for i in Name[0:10]:\n",
    "    comp_Name.append(i.text) "
   ]
  },
  {
   "cell_type": "code",
   "execution_count": 64,
   "id": "420598b0",
   "metadata": {},
   "outputs": [
    {
     "data": {
      "text/plain": [
       "['Ab Inbev',\n",
       " 'Optum',\n",
       " 'Fractal Analytics',\n",
       " 'Tiger Analytics',\n",
       " 'UnitedHealth',\n",
       " 'Verizon',\n",
       " 'Ganit Business Solutions',\n",
       " 'Deloitte',\n",
       " 'Ernst & Young',\n",
       " 'Ericsson']"
      ]
     },
     "execution_count": 64,
     "metadata": {},
     "output_type": "execute_result"
    }
   ],
   "source": [
    "comp_Name"
   ]
  },
  {
   "cell_type": "code",
   "execution_count": 65,
   "id": "44d1c2e5",
   "metadata": {},
   "outputs": [],
   "source": [
    "Sal_Rec= driver.find_elements_by_xpath(\"//div[@class='name']/span\")\n",
    "Total_Sal=[]\n",
    "for i in Sal_Rec[0:10]:\n",
    "    Total_Sal.append(i.text) "
   ]
  },
  {
   "cell_type": "code",
   "execution_count": 66,
   "id": "a6bf6f84",
   "metadata": {},
   "outputs": [
    {
     "data": {
      "text/plain": [
       "['based on 10 salaries',\n",
       " 'based on 22 salaries',\n",
       " 'based on 60 salaries',\n",
       " 'based on 24 salaries',\n",
       " 'based on 45 salaries',\n",
       " 'based on 14 salaries',\n",
       " 'based on 12 salaries',\n",
       " 'based on 45 salaries',\n",
       " 'based on 26 salaries',\n",
       " 'based on 43 salaries']"
      ]
     },
     "execution_count": 66,
     "metadata": {},
     "output_type": "execute_result"
    }
   ],
   "source": [
    "Total_Sal"
   ]
  },
  {
   "cell_type": "code",
   "execution_count": 328,
   "id": "5b02daca",
   "metadata": {},
   "outputs": [],
   "source": [
    "Exp= driver.find_elements_by_xpath(\"//div[@class='salaries sbold-list-header']\")\n",
    "Total_Exp=[]\n",
    "for i in Exp[0:10]:\n",
    "    Total_Exp.append(i.text[19:29]) "
   ]
  },
  {
   "cell_type": "code",
   "execution_count": 329,
   "id": "a38bda73",
   "metadata": {},
   "outputs": [
    {
     "data": {
      "text/plain": [
       "['4 yrs exp',\n",
       " '3-4 yrs ex',\n",
       " '2-4 yrs ex',\n",
       " '3-4 yrs ex',\n",
       " '2-4 yrs ex',\n",
       " '4 yrs exp',\n",
       " '4 yrs exp',\n",
       " '2-4 yrs ex',\n",
       " '3-4 yrs ex',\n",
       " '3-4 yrs ex']"
      ]
     },
     "execution_count": 329,
     "metadata": {},
     "output_type": "execute_result"
    }
   ],
   "source": [
    "Total_Exp"
   ]
  },
  {
   "cell_type": "code",
   "execution_count": 69,
   "id": "0efed190",
   "metadata": {},
   "outputs": [],
   "source": [
    "Sal= driver.find_elements_by_xpath(\"//div[@class='average-indicator-wrapper']\")\n",
    "Avg_Sal=[]\n",
    "for i in Sal[0:10]:\n",
    "    Avg_Sal.append(i.text) "
   ]
  },
  {
   "cell_type": "code",
   "execution_count": 70,
   "id": "f4dd676d",
   "metadata": {},
   "outputs": [
    {
     "data": {
      "text/plain": [
       "['₹ 19.4L',\n",
       " '₹ 15.1L',\n",
       " '₹ 14.7L',\n",
       " '₹ 13.4L',\n",
       " '₹ 13.3L',\n",
       " '₹ 12.7L',\n",
       " '₹ 12.4L',\n",
       " '₹ 11.2L',\n",
       " '₹ 11.1L',\n",
       " '₹ 10.9L']"
      ]
     },
     "execution_count": 70,
     "metadata": {},
     "output_type": "execute_result"
    }
   ],
   "source": [
    "Avg_Sal"
   ]
  },
  {
   "cell_type": "code",
   "execution_count": 330,
   "id": "99841972",
   "metadata": {},
   "outputs": [],
   "source": [
    "MSal= driver.find_elements_by_xpath(\"//div[@class='salary-range-wrapper']\")\n",
    "Min_Sal=[]\n",
    "for i in MSal[0:10]:\n",
    "    Min_Sal.append(i.text[10:16]) "
   ]
  },
  {
   "cell_type": "code",
   "execution_count": 331,
   "id": "79ca8098",
   "metadata": {},
   "outputs": [
    {
     "data": {
      "text/plain": [
       "['15.0L\\n',\n",
       " '11.0L\\n',\n",
       " '9.0L\\n₹',\n",
       " '8.3L\\n₹',\n",
       " '7.2L\\n₹',\n",
       " '10.0L\\n',\n",
       " '8.5L\\n₹',\n",
       " '6.9L\\n₹',\n",
       " '6.0L\\n₹',\n",
       " '5.0L\\n₹']"
      ]
     },
     "execution_count": 331,
     "metadata": {},
     "output_type": "execute_result"
    }
   ],
   "source": [
    "Min_Sal"
   ]
  },
  {
   "cell_type": "code",
   "execution_count": 332,
   "id": "64939339",
   "metadata": {},
   "outputs": [],
   "source": [
    "MaSal= driver.find_elements_by_xpath(\"//div[@class='result-col salary-range']\")\n",
    "Max_Sal=[]\n",
    "for i in MaSal[0:10]:\n",
    "    Max_Sal.append(i.text[17:23]) "
   ]
  },
  {
   "cell_type": "code",
   "execution_count": 333,
   "id": "9f2f85dc",
   "metadata": {},
   "outputs": [
    {
     "data": {
      "text/plain": [
       "[' 23.0L',\n",
       " ' 21.3L',\n",
       " '20.8L',\n",
       " '18.5L',\n",
       " '20.5L',\n",
       " ' 21.0L',\n",
       " '15.0L',\n",
       " '20.5L',\n",
       " '20.0L',\n",
       " '21.5L']"
      ]
     },
     "execution_count": 333,
     "metadata": {},
     "output_type": "execute_result"
    }
   ],
   "source": [
    "Max_Sal"
   ]
  },
  {
   "cell_type": "code",
   "execution_count": 335,
   "id": "d6c375d9",
   "metadata": {},
   "outputs": [
    {
     "data": {
      "text/html": [
       "<div>\n",
       "<style scoped>\n",
       "    .dataframe tbody tr th:only-of-type {\n",
       "        vertical-align: middle;\n",
       "    }\n",
       "\n",
       "    .dataframe tbody tr th {\n",
       "        vertical-align: top;\n",
       "    }\n",
       "\n",
       "    .dataframe thead th {\n",
       "        text-align: right;\n",
       "    }\n",
       "</style>\n",
       "<table border=\"1\" class=\"dataframe\">\n",
       "  <thead>\n",
       "    <tr style=\"text-align: right;\">\n",
       "      <th></th>\n",
       "      <th>comp_Name</th>\n",
       "      <th>Total_Sal</th>\n",
       "      <th>Total_Exp</th>\n",
       "      <th>Avg_Sal</th>\n",
       "      <th>Min_Sal</th>\n",
       "      <th>Max_Sal</th>\n",
       "    </tr>\n",
       "  </thead>\n",
       "  <tbody>\n",
       "    <tr>\n",
       "      <th>0</th>\n",
       "      <td>Ab Inbev</td>\n",
       "      <td>based on 10 salaries</td>\n",
       "      <td>4 yrs exp</td>\n",
       "      <td>₹ 19.4L</td>\n",
       "      <td>15.0L\\n</td>\n",
       "      <td>23.0L</td>\n",
       "    </tr>\n",
       "    <tr>\n",
       "      <th>1</th>\n",
       "      <td>Optum</td>\n",
       "      <td>based on 22 salaries</td>\n",
       "      <td>3-4 yrs ex</td>\n",
       "      <td>₹ 15.1L</td>\n",
       "      <td>11.0L\\n</td>\n",
       "      <td>21.3L</td>\n",
       "    </tr>\n",
       "    <tr>\n",
       "      <th>2</th>\n",
       "      <td>Fractal Analytics</td>\n",
       "      <td>based on 60 salaries</td>\n",
       "      <td>2-4 yrs ex</td>\n",
       "      <td>₹ 14.7L</td>\n",
       "      <td>9.0L\\n₹</td>\n",
       "      <td>20.8L</td>\n",
       "    </tr>\n",
       "    <tr>\n",
       "      <th>3</th>\n",
       "      <td>Tiger Analytics</td>\n",
       "      <td>based on 24 salaries</td>\n",
       "      <td>3-4 yrs ex</td>\n",
       "      <td>₹ 13.4L</td>\n",
       "      <td>8.3L\\n₹</td>\n",
       "      <td>18.5L</td>\n",
       "    </tr>\n",
       "    <tr>\n",
       "      <th>4</th>\n",
       "      <td>UnitedHealth</td>\n",
       "      <td>based on 45 salaries</td>\n",
       "      <td>2-4 yrs ex</td>\n",
       "      <td>₹ 13.3L</td>\n",
       "      <td>7.2L\\n₹</td>\n",
       "      <td>20.5L</td>\n",
       "    </tr>\n",
       "    <tr>\n",
       "      <th>5</th>\n",
       "      <td>Verizon</td>\n",
       "      <td>based on 14 salaries</td>\n",
       "      <td>4 yrs exp</td>\n",
       "      <td>₹ 12.7L</td>\n",
       "      <td>10.0L\\n</td>\n",
       "      <td>21.0L</td>\n",
       "    </tr>\n",
       "    <tr>\n",
       "      <th>6</th>\n",
       "      <td>Ganit Business Solutions</td>\n",
       "      <td>based on 12 salaries</td>\n",
       "      <td>4 yrs exp</td>\n",
       "      <td>₹ 12.4L</td>\n",
       "      <td>8.5L\\n₹</td>\n",
       "      <td>15.0L</td>\n",
       "    </tr>\n",
       "    <tr>\n",
       "      <th>7</th>\n",
       "      <td>Deloitte</td>\n",
       "      <td>based on 45 salaries</td>\n",
       "      <td>2-4 yrs ex</td>\n",
       "      <td>₹ 11.2L</td>\n",
       "      <td>6.9L\\n₹</td>\n",
       "      <td>20.5L</td>\n",
       "    </tr>\n",
       "    <tr>\n",
       "      <th>8</th>\n",
       "      <td>Ernst &amp; Young</td>\n",
       "      <td>based on 26 salaries</td>\n",
       "      <td>3-4 yrs ex</td>\n",
       "      <td>₹ 11.1L</td>\n",
       "      <td>6.0L\\n₹</td>\n",
       "      <td>20.0L</td>\n",
       "    </tr>\n",
       "    <tr>\n",
       "      <th>9</th>\n",
       "      <td>Ericsson</td>\n",
       "      <td>based on 43 salaries</td>\n",
       "      <td>3-4 yrs ex</td>\n",
       "      <td>₹ 10.9L</td>\n",
       "      <td>5.0L\\n₹</td>\n",
       "      <td>21.5L</td>\n",
       "    </tr>\n",
       "  </tbody>\n",
       "</table>\n",
       "</div>"
      ],
      "text/plain": [
       "                  comp_Name             Total_Sal   Total_Exp  Avg_Sal  \\\n",
       "0                  Ab Inbev  based on 10 salaries   4 yrs exp  ₹ 19.4L   \n",
       "1                     Optum  based on 22 salaries  3-4 yrs ex  ₹ 15.1L   \n",
       "2         Fractal Analytics  based on 60 salaries  2-4 yrs ex  ₹ 14.7L   \n",
       "3           Tiger Analytics  based on 24 salaries  3-4 yrs ex  ₹ 13.4L   \n",
       "4              UnitedHealth  based on 45 salaries  2-4 yrs ex  ₹ 13.3L   \n",
       "5                   Verizon  based on 14 salaries   4 yrs exp  ₹ 12.7L   \n",
       "6  Ganit Business Solutions  based on 12 salaries   4 yrs exp  ₹ 12.4L   \n",
       "7                  Deloitte  based on 45 salaries  2-4 yrs ex  ₹ 11.2L   \n",
       "8             Ernst & Young  based on 26 salaries  3-4 yrs ex  ₹ 11.1L   \n",
       "9                  Ericsson  based on 43 salaries  3-4 yrs ex  ₹ 10.9L   \n",
       "\n",
       "   Min_Sal Max_Sal  \n",
       "0  15.0L\\n   23.0L  \n",
       "1  11.0L\\n   21.3L  \n",
       "2  9.0L\\n₹   20.8L  \n",
       "3  8.3L\\n₹   18.5L  \n",
       "4  7.2L\\n₹   20.5L  \n",
       "5  10.0L\\n   21.0L  \n",
       "6  8.5L\\n₹   15.0L  \n",
       "7  6.9L\\n₹   20.5L  \n",
       "8  6.0L\\n₹   20.0L  \n",
       "9  5.0L\\n₹   21.5L  "
      ]
     },
     "execution_count": 335,
     "metadata": {},
     "output_type": "execute_result"
    }
   ],
   "source": [
    "data=list(zip(comp_Name,Total_Sal,Total_Exp,Avg_Sal,Min_Sal,Max_Sal))\n",
    "\n",
    "df=pd.DataFrame(data,columns=['comp_Name','Total_Sal','Total_Exp','Avg_Sal','Min_Sal','Max_Sal'])\n",
    "\n",
    "df"
   ]
  },
  {
   "cell_type": "code",
   "execution_count": null,
   "id": "aac56e13",
   "metadata": {},
   "outputs": [],
   "source": []
  }
 ],
 "metadata": {
  "kernelspec": {
   "display_name": "Python 3",
   "language": "python",
   "name": "python3"
  },
  "language_info": {
   "codemirror_mode": {
    "name": "ipython",
    "version": 3
   },
   "file_extension": ".py",
   "mimetype": "text/x-python",
   "name": "python",
   "nbconvert_exporter": "python",
   "pygments_lexer": "ipython3",
   "version": "3.8.8"
  }
 },
 "nbformat": 4,
 "nbformat_minor": 5
}
