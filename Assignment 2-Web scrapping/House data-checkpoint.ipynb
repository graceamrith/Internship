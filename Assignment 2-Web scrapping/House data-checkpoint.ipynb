{
 "cells": [
  {
   "cell_type": "code",
   "execution_count": 4,
   "id": "d4f3ce76",
   "metadata": {},
   "outputs": [],
   "source": [
    "import pandas as pd\n",
    "import requests\n",
    "from bs4 import BeautifulSoup\n",
    " "
   ]
  },
  {
   "cell_type": "code",
   "execution_count": 5,
   "id": "08a2d8cf",
   "metadata": {},
   "outputs": [],
   "source": [
    "url='https://www.nobroker.in/property/sale/bangalore/Electronic City?type=BHK4&searchParam=W3sibGF0IjoxMi44NDUyMTQ1LCJsb24iOjc3LjY2MDE2OTUsInBsYWNlSWQiOiJDaElKdy1GUWQ0cHNyanNSSGZkYXpnXzhYRW8iLCJwbGFjZU5hbWUiOiJFbGVjdHJvbmljIENpdHkifV0=&propertyAge=0&radius=2.0'\n",
    "response=requests.get(url)\n",
    "soup=BeautifulSoup(response.content, 'html.parser')\n"
   ]
  },
  {
   "cell_type": "code",
   "execution_count": 6,
   "id": "8c56525c",
   "metadata": {},
   "outputs": [],
   "source": [
    "name=soup.find('a',class_='nb__3CnI6')\n",
    "house_name=[]\n",
    "for i in soup.findAll('a',class_='nb__3CnI6'):\n",
    "    house_name.append(i.text)\n"
   ]
  },
  {
   "cell_type": "code",
   "execution_count": 7,
   "id": "4772de70",
   "metadata": {},
   "outputs": [
    {
     "data": {
      "text/plain": [
       "['4 BHK In Independent House  For Sale  In Hebbagodi ',\n",
       " '4 BHK For Sale  In Daadys Garden In Electronic City ',\n",
       " '4 BHK Flat  For Sale  In , Electronic City ',\n",
       " '4 BHK Flat  For Sale  In Hosa Road, Parappana Agrahara ',\n",
       " '4 BHK In Independent House  For Sale  In Electronic City ',\n",
       " '4 BHK In Independent House  For Sale  In Electronic City ',\n",
       " '4 BHK Flat  For Sale  In Sobha Silicon Oasis  In Hosa Road ',\n",
       " '4 BHK Apartment  For Sale  In Gopalan Gardenia In Electronic City ',\n",
       " '4 BHK For Sale  In Gpr Royale In Gpr Royale ',\n",
       " '4 BHK Flat  For Sale  In Electronic City ']"
      ]
     },
     "execution_count": 7,
     "metadata": {},
     "output_type": "execute_result"
    }
   ],
   "source": [
    "house_name"
   ]
  },
  {
   "cell_type": "code",
   "execution_count": 8,
   "id": "26c88d06",
   "metadata": {},
   "outputs": [],
   "source": [
    "Loc=soup.find('div',class_='nb__2CMjv') \n",
    "location=[]\n",
    "for i in soup.findAll('div',class_='nb__2CMjv'):\n",
    "    location.append(i.text)\n"
   ]
  },
  {
   "cell_type": "code",
   "execution_count": 9,
   "id": "2d79cc87",
   "metadata": {},
   "outputs": [
    {
     "data": {
      "text/plain": [
       "['Independent House, Bangalore - Hosur Road, Near  National Public School',\n",
       " 'Daadys Garden\\xa0 Kammasandra Rd, Kammasandra, Electronic City, Bengaluru, Karnataka 560100, India',\n",
       " 'Standalone Building, 16th Cross Road Neeladri Nagar, near by brand factory',\n",
       " 'Standalone Building, 11th cross.anjanadri lay out',\n",
       " 'Independent House, surya nagar face 1',\n",
       " 'Independent House, Hosur Rd,Near Infosys Limited',\n",
       " 'Sobha Silicon Oasis Naganathapura, Rayasandra Bengaluru, Karnataka 560100 India',\n",
       " 'Gopalan Gardenia\\xa0 Gopalan gardenia, Veerasandra Main Rd, Veer Sandra, Electronic City, Bengaluru, Karnataka 560100, India',\n",
       " '6th Cross',\n",
       " 'Standalone Building, Shikaripalya near Shams School']"
      ]
     },
     "execution_count": 9,
     "metadata": {},
     "output_type": "execute_result"
    }
   ],
   "source": [
    "location"
   ]
  },
  {
   "cell_type": "code",
   "execution_count": 10,
   "id": "417ae4ca",
   "metadata": {},
   "outputs": [],
   "source": [
    "SQFT=soup.find('div',class_=\"nb__3oNyC\") \n",
    "Area=[]\n",
    "for i in soup.findAll('div',class_=\"nb__3oNyC\"):\n",
    "   Area.append(i.text)\n"
   ]
  },
  {
   "cell_type": "code",
   "execution_count": 11,
   "id": "c993e22e",
   "metadata": {},
   "outputs": [
    {
     "data": {
      "text/plain": [
       "['1,800 sqft',\n",
       " '2,600 sqft',\n",
       " '2,000 sqft',\n",
       " '3,000 sqft',\n",
       " '3,000 sqft',\n",
       " '1,200 sqft',\n",
       " '1,879 sqft',\n",
       " '2,650 sqft',\n",
       " '3,100 sqft',\n",
       " '1,400 sqft']"
      ]
     },
     "execution_count": 11,
     "metadata": {},
     "output_type": "execute_result"
    }
   ],
   "source": [
    "Area"
   ]
  },
  {
   "cell_type": "code",
   "execution_count": 12,
   "id": "d8d2989b",
   "metadata": {},
   "outputs": [],
   "source": [
    "EMI_Cost=soup.find('div',class_=\"nb__2NPHR\")\n",
    "EMI=[]\n",
    "for i in soup.findAll('div',class_=\"nb__2NPHR\"):\n",
    "    EMI.append(i.text)\n"
   ]
  },
  {
   "cell_type": "code",
   "execution_count": 13,
   "id": "5083c638",
   "metadata": {},
   "outputs": [
    {
     "data": {
      "text/plain": [
       "['Not under loan₹ ',\n",
       " '1,800 sqftBuiltup',\n",
       " '₹77,374/MonthEstimated EMI',\n",
       " '₹1.35 Crores₹7,500 per sq.ft.',\n",
       " 'Not under loan₹ ',\n",
       " '2,600 sqftBuiltup',\n",
       " '₹85,971/MonthEstimated EMI',\n",
       " '₹1.5 Crores₹5,769 per sq.ft.',\n",
       " 'Not under loan₹ ',\n",
       " '2,000 sqftBuiltup',\n",
       " '₹39,546/MonthEstimated EMI',\n",
       " '₹69 Lacs₹3,450 per sq.ft.',\n",
       " 'Under Loan₹ ',\n",
       " '3,000 sqftBuiltup',\n",
       " '₹71,643/MonthEstimated EMI',\n",
       " '₹1.25 Crores₹4,167 per sq.ft.',\n",
       " 'Not under loan₹ ',\n",
       " '3,000 sqftBuiltup',\n",
       " '₹1.43 Lacs/MonthEstimated EMI',\n",
       " '₹2.5 Crores₹8,333 per sq.ft.',\n",
       " 'Not under loan₹ ',\n",
       " '1,200 sqftBuiltup',\n",
       " '₹42,985/MonthEstimated EMI',\n",
       " '₹75 Lacs₹6,250 per sq.ft.',\n",
       " 'Under Loan₹ ',\n",
       " '1,879 sqftBuiltup',\n",
       " '₹88,837/MonthEstimated EMI',\n",
       " '₹1.55 Crores₹8,249 per sq.ft.',\n",
       " 'Under Loan₹ ',\n",
       " '2,650 sqftBuiltup',\n",
       " '₹68,777/MonthEstimated EMI',\n",
       " '₹1.2 Crores₹4,528 per sq.ft.',\n",
       " 'Not under loan₹ ',\n",
       " '3,100 sqftBuiltup',\n",
       " '₹85,971/MonthEstimated EMI',\n",
       " '₹1.5 Crores₹4,839 per sq.ft.',\n",
       " 'Under Loan₹ ',\n",
       " '1,400 sqftBuiltup',\n",
       " '₹20,060/MonthEstimated EMI',\n",
       " '₹35 Lacs₹2,500 per sq.ft.']"
      ]
     },
     "execution_count": 13,
     "metadata": {},
     "output_type": "execute_result"
    }
   ],
   "source": [
    "EMI"
   ]
  },
  {
   "cell_type": "code",
   "execution_count": 14,
   "id": "3088b046",
   "metadata": {},
   "outputs": [],
   "source": [
    "COST= soup.find('div',class_=\"font-semi-bold heading-6\")\n",
    "Price=[]\n",
    "for I in soup.findAll('div',class_=\"font-semi-bold heading-6\"):\n",
    "    Price.append(I.text)\n"
   ]
  },
  {
   "cell_type": "code",
   "execution_count": 15,
   "id": "d20cc6b5",
   "metadata": {},
   "outputs": [
    {
     "data": {
      "text/plain": [
       "['1,800 sqft',\n",
       " '₹77,374/Month',\n",
       " '₹1.35 Crores',\n",
       " '2,600 sqft',\n",
       " '₹85,971/Month',\n",
       " '₹1.5 Crores',\n",
       " '2,000 sqft',\n",
       " '₹39,546/Month',\n",
       " '₹69 Lacs',\n",
       " '3,000 sqft',\n",
       " '₹71,643/Month',\n",
       " '₹1.25 Crores',\n",
       " '3,000 sqft',\n",
       " '₹1.43 Lacs/Month',\n",
       " '₹2.5 Crores',\n",
       " '1,200 sqft',\n",
       " '₹42,985/Month',\n",
       " '₹75 Lacs',\n",
       " '1,879 sqft',\n",
       " '₹88,837/Month',\n",
       " '₹1.55 Crores',\n",
       " '2,650 sqft',\n",
       " '₹68,777/Month',\n",
       " '₹1.2 Crores',\n",
       " '3,100 sqft',\n",
       " '₹85,971/Month',\n",
       " '₹1.5 Crores',\n",
       " '1,400 sqft',\n",
       " '₹20,060/Month',\n",
       " '₹35 Lacs']"
      ]
     },
     "execution_count": 15,
     "metadata": {},
     "output_type": "execute_result"
    }
   ],
   "source": [
    "Price"
   ]
  },
  {
   "cell_type": "code",
   "execution_count": null,
   "id": "a7a50fe3",
   "metadata": {},
   "outputs": [],
   "source": []
  },
  {
   "cell_type": "code",
   "execution_count": null,
   "id": "4f439ef6",
   "metadata": {},
   "outputs": [],
   "source": []
  }
 ],
 "metadata": {
  "kernelspec": {
   "display_name": "Python 3",
   "language": "python",
   "name": "python3"
  },
  "language_info": {
   "codemirror_mode": {
    "name": "ipython",
    "version": 3
   },
   "file_extension": ".py",
   "mimetype": "text/x-python",
   "name": "python",
   "nbconvert_exporter": "python",
   "pygments_lexer": "ipython3",
   "version": "3.8.8"
  }
 },
 "nbformat": 4,
 "nbformat_minor": 5
}
