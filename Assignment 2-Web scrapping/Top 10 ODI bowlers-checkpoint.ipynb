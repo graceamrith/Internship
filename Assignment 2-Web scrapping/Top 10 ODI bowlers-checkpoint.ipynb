{
 "cells": [
  {
   "cell_type": "code",
   "execution_count": 1,
   "id": "fda5e9ff",
   "metadata": {},
   "outputs": [],
   "source": [
    "import pandas as pd\n",
    "import requests\n",
    "from bs4 import BeautifulSoup"
   ]
  },
  {
   "cell_type": "code",
   "execution_count": 6,
   "id": "11a1908e",
   "metadata": {},
   "outputs": [],
   "source": [
    "url='https://www.icc-cricket.com/rankings/mens/player-rankings/odi/bowling'\n",
    "response=requests.get(url)\n",
    "soup=BeautifulSoup(response.content, 'html.parser')"
   ]
  },
  {
   "cell_type": "code",
   "execution_count": 7,
   "id": "54d49883",
   "metadata": {},
   "outputs": [
    {
     "data": {
      "text/plain": [
       "'Trent Boult'"
      ]
     },
     "execution_count": 7,
     "metadata": {},
     "output_type": "execute_result"
    }
   ],
   "source": [
    "names=[]\n",
    "first_name=[]\n",
    "first_name_1=soup.find('div', class_=\"rankings-block__banner--name-large\").text\n",
    "\n",
    "first_name_1\n",
    "\n"
   ]
  },
  {
   "cell_type": "code",
   "execution_count": 8,
   "id": "05db3b7d",
   "metadata": {},
   "outputs": [],
   "source": [
    "names=[]\n",
    "team=soup.find_all('td', class_=\"table-body__cell rankings-table__name name\")\n",
    "for x in range(0,9):\n",
    "    names.append(team[x].get_text().replace(\"\\n\",\"\"))\n",
    "names.insert(0,first_name_1)  \n",
    "\n",
    "\n"
   ]
  },
  {
   "cell_type": "code",
   "execution_count": 9,
   "id": "f81389ac",
   "metadata": {},
   "outputs": [
    {
     "data": {
      "text/plain": [
       "['Trent Boult',\n",
       " 'Josh Hazlewood',\n",
       " 'Mujeeb Ur Rahman',\n",
       " 'Chris Woakes',\n",
       " 'Mehedi Hasan',\n",
       " 'Matt Henry',\n",
       " 'Jasprit Bumrah',\n",
       " 'Mitchell Starc',\n",
       " 'Shakib Al Hasan',\n",
       " 'Kagiso Rabada']"
      ]
     },
     "execution_count": 9,
     "metadata": {},
     "output_type": "execute_result"
    }
   ],
   "source": [
    "names"
   ]
  },
  {
   "cell_type": "code",
   "execution_count": 10,
   "id": "b019db36",
   "metadata": {},
   "outputs": [],
   "source": [
    "first_team=soup.find('div', class_=\"rankings-block__banner--nationality\").text\n",
    "Team=[]  \n",
    "\n",
    "team_name=soup.find_all('span', class_=\"table-body__logo-text\")\n",
    "for x in range(0,9):\n",
    "    Team.append(team_name[x].get_text().replace(\"\\n\",\"\"))\n",
    "Team.insert(0,first_team)\n",
    "\n"
   ]
  },
  {
   "cell_type": "code",
   "execution_count": 12,
   "id": "de2873b4",
   "metadata": {},
   "outputs": [
    {
     "data": {
      "text/plain": [
       "['\\n\\nNZ\\n', 'AUS', 'AFG', 'ENG', 'BAN', 'NZ', 'IND', 'AUS', 'BAN', 'SA']"
      ]
     },
     "execution_count": 12,
     "metadata": {},
     "output_type": "execute_result"
    }
   ],
   "source": [
    "Team"
   ]
  },
  {
   "cell_type": "code",
   "execution_count": 14,
   "id": "5d02906e",
   "metadata": {},
   "outputs": [],
   "source": [
    "rate_one=soup.find('div', class_=\"rankings-block__banner--rating\").text\n",
    "rating=[]\n",
    "\n",
    "\n",
    "Team_rating=soup.findAll('td', class_=\"table-body__cell rating\")\n",
    "for x in range(0,9):\n",
    "    rating.append(Team_rating[x].get_text().replace(\"\\n\",\"\"))\n",
    "rating.insert(0,rate_one)\n",
    "\n",
    "\n",
    "    "
   ]
  },
  {
   "cell_type": "code",
   "execution_count": 15,
   "id": "f6a118a5",
   "metadata": {},
   "outputs": [
    {
     "data": {
      "text/plain": [
       "['737', '709', '708', '700', '692', '691', '679', '652', '650', '646']"
      ]
     },
     "execution_count": 15,
     "metadata": {},
     "output_type": "execute_result"
    }
   ],
   "source": [
    "rating"
   ]
  },
  {
   "cell_type": "code",
   "execution_count": 20,
   "id": "3437c197",
   "metadata": {},
   "outputs": [],
   "source": [
    "pos_one=soup.find('td',class_='rankings-block__position').text\n",
    "rank=[]\n",
    "\n",
    "\n",
    "Team_rank=soup.findAll('td',class_='table-body__cell table-body__cell--position u-text-right')\n",
    "for x in range(0,9):\n",
    "    rank.append(Team_rank[x].get_text().replace(\"\\n\",\"\"))\n",
    "rank.insert(0,pos_one) \n",
    "\n"
   ]
  },
  {
   "cell_type": "code",
   "execution_count": 21,
   "id": "6e4b4a33",
   "metadata": {},
   "outputs": [
    {
     "data": {
      "text/plain": [
       "['1',\n",
       " '                            2        ',\n",
       " '                            3        ',\n",
       " '                            4        ',\n",
       " '                            5        ',\n",
       " '                            6        ',\n",
       " '                            7        ',\n",
       " '                            8        ',\n",
       " '                            9        ',\n",
       " '                            10        ']"
      ]
     },
     "execution_count": 21,
     "metadata": {},
     "output_type": "execute_result"
    }
   ],
   "source": [
    "rank"
   ]
  },
  {
   "cell_type": "code",
   "execution_count": 22,
   "id": "7e81d3f3",
   "metadata": {},
   "outputs": [],
   "source": [
    "data = list(zip(names,Team,rating,rank))"
   ]
  },
  {
   "cell_type": "code",
   "execution_count": 23,
   "id": "d330d5cb",
   "metadata": {},
   "outputs": [],
   "source": [
    "df = pd.DataFrame(data,columns=['names','Team','rating','rank'])"
   ]
  },
  {
   "cell_type": "code",
   "execution_count": 24,
   "id": "9bd12409",
   "metadata": {},
   "outputs": [
    {
     "data": {
      "text/html": [
       "<div>\n",
       "<style scoped>\n",
       "    .dataframe tbody tr th:only-of-type {\n",
       "        vertical-align: middle;\n",
       "    }\n",
       "\n",
       "    .dataframe tbody tr th {\n",
       "        vertical-align: top;\n",
       "    }\n",
       "\n",
       "    .dataframe thead th {\n",
       "        text-align: right;\n",
       "    }\n",
       "</style>\n",
       "<table border=\"1\" class=\"dataframe\">\n",
       "  <thead>\n",
       "    <tr style=\"text-align: right;\">\n",
       "      <th></th>\n",
       "      <th>names</th>\n",
       "      <th>Team</th>\n",
       "      <th>rating</th>\n",
       "      <th>rank</th>\n",
       "    </tr>\n",
       "  </thead>\n",
       "  <tbody>\n",
       "    <tr>\n",
       "      <th>0</th>\n",
       "      <td>Trent Boult</td>\n",
       "      <td>\\n\\nNZ\\n</td>\n",
       "      <td>737</td>\n",
       "      <td>1</td>\n",
       "    </tr>\n",
       "    <tr>\n",
       "      <th>1</th>\n",
       "      <td>Josh Hazlewood</td>\n",
       "      <td>AUS</td>\n",
       "      <td>709</td>\n",
       "      <td>2</td>\n",
       "    </tr>\n",
       "    <tr>\n",
       "      <th>2</th>\n",
       "      <td>Mujeeb Ur Rahman</td>\n",
       "      <td>AFG</td>\n",
       "      <td>708</td>\n",
       "      <td>3</td>\n",
       "    </tr>\n",
       "    <tr>\n",
       "      <th>3</th>\n",
       "      <td>Chris Woakes</td>\n",
       "      <td>ENG</td>\n",
       "      <td>700</td>\n",
       "      <td>4</td>\n",
       "    </tr>\n",
       "    <tr>\n",
       "      <th>4</th>\n",
       "      <td>Mehedi Hasan</td>\n",
       "      <td>BAN</td>\n",
       "      <td>692</td>\n",
       "      <td>5</td>\n",
       "    </tr>\n",
       "    <tr>\n",
       "      <th>5</th>\n",
       "      <td>Matt Henry</td>\n",
       "      <td>NZ</td>\n",
       "      <td>691</td>\n",
       "      <td>6</td>\n",
       "    </tr>\n",
       "    <tr>\n",
       "      <th>6</th>\n",
       "      <td>Jasprit Bumrah</td>\n",
       "      <td>IND</td>\n",
       "      <td>679</td>\n",
       "      <td>7</td>\n",
       "    </tr>\n",
       "    <tr>\n",
       "      <th>7</th>\n",
       "      <td>Mitchell Starc</td>\n",
       "      <td>AUS</td>\n",
       "      <td>652</td>\n",
       "      <td>8</td>\n",
       "    </tr>\n",
       "    <tr>\n",
       "      <th>8</th>\n",
       "      <td>Shakib Al Hasan</td>\n",
       "      <td>BAN</td>\n",
       "      <td>650</td>\n",
       "      <td>9</td>\n",
       "    </tr>\n",
       "    <tr>\n",
       "      <th>9</th>\n",
       "      <td>Kagiso Rabada</td>\n",
       "      <td>SA</td>\n",
       "      <td>646</td>\n",
       "      <td>10</td>\n",
       "    </tr>\n",
       "  </tbody>\n",
       "</table>\n",
       "</div>"
      ],
      "text/plain": [
       "              names      Team rating                                    rank\n",
       "0       Trent Boult  \\n\\nNZ\\n    737                                       1\n",
       "1    Josh Hazlewood       AUS    709                               2        \n",
       "2  Mujeeb Ur Rahman       AFG    708                               3        \n",
       "3      Chris Woakes       ENG    700                               4        \n",
       "4      Mehedi Hasan       BAN    692                               5        \n",
       "5        Matt Henry        NZ    691                               6        \n",
       "6    Jasprit Bumrah       IND    679                               7        \n",
       "7    Mitchell Starc       AUS    652                               8        \n",
       "8   Shakib Al Hasan       BAN    650                               9        \n",
       "9     Kagiso Rabada        SA    646                              10        "
      ]
     },
     "execution_count": 24,
     "metadata": {},
     "output_type": "execute_result"
    }
   ],
   "source": [
    "df"
   ]
  },
  {
   "cell_type": "code",
   "execution_count": null,
   "id": "a9783739",
   "metadata": {},
   "outputs": [],
   "source": []
  }
 ],
 "metadata": {
  "kernelspec": {
   "display_name": "Python 3",
   "language": "python",
   "name": "python3"
  },
  "language_info": {
   "codemirror_mode": {
    "name": "ipython",
    "version": 3
   },
   "file_extension": ".py",
   "mimetype": "text/x-python",
   "name": "python",
   "nbconvert_exporter": "python",
   "pygments_lexer": "ipython3",
   "version": "3.8.8"
  }
 },
 "nbformat": 4,
 "nbformat_minor": 5
}
