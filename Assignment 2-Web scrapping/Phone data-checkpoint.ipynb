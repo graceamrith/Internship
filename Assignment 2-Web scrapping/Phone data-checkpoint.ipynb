{
 "cells": [
  {
   "cell_type": "code",
   "execution_count": 39,
   "id": "1c258fe5",
   "metadata": {},
   "outputs": [],
   "source": [
    "import pandas as pd\n",
    "import requests\n",
    "from bs4 import BeautifulSoup\n"
   ]
  },
  {
   "cell_type": "code",
   "execution_count": 51,
   "id": "6f3da8bd",
   "metadata": {},
   "outputs": [],
   "source": [
    "url='https://www.amazon.in/Mobile-Phone-Under-20000-Rupees/s?k=Mobile+Phone+Under+20000+Rupees'"
   ]
  },
  {
   "cell_type": "code",
   "execution_count": 52,
   "id": "348cee5b",
   "metadata": {},
   "outputs": [],
   "source": [
    "response=requests.get(url)\n",
    "soup=BeautifulSoup(response.content, 'html.parser')\n",
    "\n"
   ]
  },
  {
   "cell_type": "code",
   "execution_count": 53,
   "id": "14fc5508",
   "metadata": {},
   "outputs": [
    {
     "data": {
      "text/plain": [
       "<Response [200]>"
      ]
     },
     "execution_count": 53,
     "metadata": {},
     "output_type": "execute_result"
    }
   ],
   "source": [
    "response"
   ]
  },
  {
   "cell_type": "code",
   "execution_count": 67,
   "id": "6b66ca95",
   "metadata": {},
   "outputs": [],
   "source": [
    "phone_name=[]\n",
    "for i in soup.find_all('span',class_=\"a-size-medium a-color-base a-text-normal\"):\n",
    "    phone_name.append(i.text)\n"
   ]
  },
  {
   "cell_type": "code",
   "execution_count": 68,
   "id": "7f5c7ac2",
   "metadata": {},
   "outputs": [
    {
     "data": {
      "text/plain": [
       "['Redmi 9A (Nature Green, 2GB RAM, 32GB Storage) | 2GHz Octa-core Helio G25 Processor | 5000 mAh Battery',\n",
       " 'OPPO A74 5G (Fantastic Purple,6GB RAM,128GB Storage) - 5G Android Smartphone | 5000 mAh Battery | 18W Fast Charge | 90Hz LCD Display',\n",
       " 'Redmi 9 (Sky Blue, 4GB RAM, 64GB Storage) | 2.3GHz Mediatek Helio G35 Octa core Processor',\n",
       " 'OPPO A31 (Fantasy White, 6GB RAM, 128GB Storage) with No Cost EMI/Additional Exchange Offers',\n",
       " 'Redmi Note 10S (Frost White, 6GB RAM, 64GB Storage) - Super Amoled Display | 64 MP Quad Camera | Alexa Built in',\n",
       " 'Tecno Spark 7T(Jewel Blue, 4GB RAM, 64GB Storage) 6000 mAh Battery| 48 MP AI Dual Rear Camera',\n",
       " 'OPPO A74 5G (Fluid Black,6GB RAM,128GB Storage) - 5G Android Smartphone | 5000 mAh Battery | 18W Fast Charge | 90Hz LCD Display',\n",
       " 'OPPO A31 (Mystery Black, 6GB RAM, 128GB Storage) with No Cost EMI/Additional Exchange Offers',\n",
       " 'Redmi 9A (Midnight Black, 2GB RAM, 32GB Storage) | 2GHz Octa-Core Helio G25 Processor',\n",
       " 'Samsung Galaxy M31 (Ocean Blue, 8GB RAM, 128GB Storage) 6 Months Free Screen Replacement for Prime',\n",
       " 'Samsung Galaxy M12 (Blue,4GB RAM, 64GB Storage) 6000 mAh with 8nm Processor | True 48 MP Quad Camera | 90Hz Refresh Rate',\n",
       " 'Redmi 9A (Nature Green, 3GB Ram, 32GB Storage) | 2GHz Octa-core Helio G25 Processor',\n",
       " 'Redmi 9A(Midnight Black 3GB RAM 32GB Storage) | 2GHz Octa-core Helio G25 Processor | 5000 mAh Battery',\n",
       " 'Samsung Galaxy M12 (White,4GB RAM, 64GB Storage) 6000 mAh with 8nm Processor | True 48 MP Quad Camera | 90Hz Refresh Rate',\n",
       " 'Samsung Galaxy M32 5G (Sky Blue, 6GB RAM, 128GB Storage)',\n",
       " 'Samsung Galaxy M12 (Black,4GB RAM, 64GB Storage) 6000 mAh with 8nm Processor | True 48 MP Quad Camera | 90Hz Refresh Rate']"
      ]
     },
     "execution_count": 68,
     "metadata": {},
     "output_type": "execute_result"
    }
   ],
   "source": [
    "phone_name"
   ]
  },
  {
   "cell_type": "code",
   "execution_count": 65,
   "id": "cc266732",
   "metadata": {},
   "outputs": [],
   "source": [
    "rate=soup.find('i',class_=\"a-icon a-icon-star-small a-star-small-4 aok-align-bottom\")\n",
    "rating=[]\n",
    "for x in soup.find_all('i',class_=\"a-icon a-icon-star-small a-star-small-4 aok-align-bottom\"):\n",
    "    rating.append(x.text)\n"
   ]
  },
  {
   "cell_type": "code",
   "execution_count": 66,
   "id": "9a09f481",
   "metadata": {},
   "outputs": [
    {
     "data": {
      "text/plain": [
       "['4.2 out of 5 stars',\n",
       " '4.2 out of 5 stars',\n",
       " '4.2 out of 5 stars',\n",
       " '4.2 out of 5 stars',\n",
       " '4.0 out of 5 stars',\n",
       " '4.0 out of 5 stars',\n",
       " '4.2 out of 5 stars',\n",
       " '4.2 out of 5 stars',\n",
       " '4.2 out of 5 stars',\n",
       " '4.2 out of 5 stars',\n",
       " '4.1 out of 5 stars',\n",
       " '4.2 out of 5 stars',\n",
       " '4.2 out of 5 stars',\n",
       " '4.1 out of 5 stars',\n",
       " '3.8 out of 5 stars',\n",
       " '4.1 out of 5 stars']"
      ]
     },
     "execution_count": 66,
     "metadata": {},
     "output_type": "execute_result"
    }
   ],
   "source": [
    "rating"
   ]
  },
  {
   "cell_type": "code",
   "execution_count": 69,
   "id": "4d1a84fc",
   "metadata": {},
   "outputs": [],
   "source": [
    "prices=soup.find('span',class_=\"a-price-whole\")\n",
    "price=[]\n",
    "for x in soup.find_all('span',class_=\"a-price-whole\"):\n",
    "    price.append(x.text)\n",
    "\n"
   ]
  },
  {
   "cell_type": "code",
   "execution_count": 70,
   "id": "4a76c3d7",
   "metadata": {},
   "outputs": [
    {
     "data": {
      "text/plain": [
       "['6,999',\n",
       " '15,990',\n",
       " '8,499',\n",
       " '11,490',\n",
       " '13,999',\n",
       " '8,499',\n",
       " '15,990',\n",
       " '11,490',\n",
       " '6,999',\n",
       " '16,999',\n",
       " '9,499',\n",
       " '7,999',\n",
       " '7,999',\n",
       " '9,499',\n",
       " '16,999',\n",
       " '9,499']"
      ]
     },
     "execution_count": 70,
     "metadata": {},
     "output_type": "execute_result"
    }
   ],
   "source": [
    "price"
   ]
  },
  {
   "cell_type": "code",
   "execution_count": 71,
   "id": "69e7d5f6",
   "metadata": {},
   "outputs": [
    {
     "name": "stdout",
     "output_type": "stream",
     "text": [
      "https://images-eu.ssl-images-amazon.com/images/G/31/gno/sprites/nav-sprite-global-1x-hm-dsk-reorg._CB405936311_.png\n",
      "https://images-eu.ssl-images-amazon.com/images/G/31/img20/Events/JupiterT1/phase2_SWM2._CB640205592_.jpg\n",
      "https://m.media-amazon.com/images/I/71sxlhYhKWL._AC_UY218_.jpg\n",
      "https://m.media-amazon.com/images/I/71geVdy6-OS._AC_UY218_.jpg\n",
      "https://m.media-amazon.com/images/I/71A9Vo1BatL._AC_UY218_.jpg\n",
      "https://m.media-amazon.com/images/I/61CnyJ-IbML._AC_UY218_.jpg\n",
      "https://m.media-amazon.com/images/I/81SJHWh-dfL._AC_UY218_.jpg\n",
      "https://m.media-amazon.com/images/I/81aWyRY67SS._AC_UY218_.jpg\n",
      "https://m.media-amazon.com/images/I/71sxlhYhKWL._AC_UY218_.jpg\n",
      "https://m.media-amazon.com/images/I/71geVdy6-OS._AC_UY218_.jpg\n",
      "https://m.media-amazon.com/images/I/71A9Vo1BatL._AC_UY218_.jpg\n",
      "https://m.media-amazon.com/images/I/61CnyJ-IbML._AC_UY218_.jpg\n",
      "https://m.media-amazon.com/images/I/81SJHWh-dfL._AC_UY218_.jpg\n",
      "https://m.media-amazon.com/images/I/81aWyRY67SS._AC_UY218_.jpg\n",
      "https://m.media-amazon.com/images/I/71poFSdDs5S._AC_UY218_.jpg\n",
      "https://m.media-amazon.com/images/I/71KCwNV6MuL._AC_UY218_.jpg\n",
      "https://m.media-amazon.com/images/I/71sxlhYhKWL._AC_UY218_.jpg\n",
      "https://m.media-amazon.com/images/I/71-Su4Wr0HL._AC_UY218_.jpg\n",
      "https://m.media-amazon.com/images/I/71r69Y7BSeL._AC_UY218_.jpg\n",
      "https://m.media-amazon.com/images/I/71sxlhYhKWL._AC_UY218_.jpg\n",
      "https://m.media-amazon.com/images/I/71sxlhYhKWL._AC_UY218_.jpg\n",
      "https://m.media-amazon.com/images/I/71Y8rH2cJiL._AC_UY218_.jpg\n",
      "https://m.media-amazon.com/images/I/71os5DRhuSL._AC_UY218_.jpg\n",
      "https://m.media-amazon.com/images/I/7162Y5fPdkL._AC_UY218_.jpg\n"
     ]
    }
   ],
   "source": [
    "Image_URL=[]\n",
    "image=soup.find_all('img')\n",
    "#for x in soup.findAll('img',class_='s-image'):\n",
    "   # Image_URL.append(x.text)\n",
    "    \n",
    "   \n",
    " \n",
    "for item in image:\n",
    "    print(item['src']) \n"
   ]
  },
  {
   "cell_type": "code",
   "execution_count": null,
   "id": "a2440825",
   "metadata": {},
   "outputs": [],
   "source": []
  },
  {
   "cell_type": "code",
   "execution_count": null,
   "id": "ff3fb381",
   "metadata": {},
   "outputs": [],
   "source": []
  },
  {
   "cell_type": "code",
   "execution_count": null,
   "id": "3c6cc241",
   "metadata": {},
   "outputs": [],
   "source": []
  }
 ],
 "metadata": {
  "kernelspec": {
   "display_name": "Python 3",
   "language": "python",
   "name": "python3"
  },
  "language_info": {
   "codemirror_mode": {
    "name": "ipython",
    "version": 3
   },
   "file_extension": ".py",
   "mimetype": "text/x-python",
   "name": "python",
   "nbconvert_exporter": "python",
   "pygments_lexer": "ipython3",
   "version": "3.8.8"
  }
 },
 "nbformat": 4,
 "nbformat_minor": 5
}
