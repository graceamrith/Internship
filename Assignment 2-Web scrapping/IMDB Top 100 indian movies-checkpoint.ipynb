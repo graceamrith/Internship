{
 "cells": [
  {
   "cell_type": "code",
   "execution_count": 4,
   "id": "9884900b",
   "metadata": {},
   "outputs": [],
   "source": [
    "import pandas as pd\n",
    "import requests\n",
    "from bs4 import BeautifulSoup as soup\n",
    "from requests import get"
   ]
  },
  {
   "cell_type": "code",
   "execution_count": 5,
   "id": "a43ec7c6",
   "metadata": {},
   "outputs": [],
   "source": [
    "url=get('https://www.imdb.com/list/ls009997493/')"
   ]
  },
  {
   "cell_type": "code",
   "execution_count": 6,
   "id": "111169fa",
   "metadata": {},
   "outputs": [],
   "source": [
    "request=url.text\n",
    "soup_data=soup(request,'html.parser')"
   ]
  },
  {
   "cell_type": "code",
   "execution_count": 7,
   "id": "476a9367",
   "metadata": {},
   "outputs": [
    {
     "data": {
      "text/plain": [
       "'IMDB Top 100 Hindi Movies - IMDb'"
      ]
     },
     "execution_count": 7,
     "metadata": {},
     "output_type": "execute_result"
    }
   ],
   "source": [
    "soup_data.title.text"
   ]
  },
  {
   "cell_type": "code",
   "execution_count": 14,
   "id": "f2ed8237",
   "metadata": {},
   "outputs": [],
   "source": [
    "movies=soup_data.findAll('div',{'class':'lister-item-content'})"
   ]
  },
  {
   "cell_type": "code",
   "execution_count": 16,
   "id": "1489e848",
   "metadata": {},
   "outputs": [],
   "source": [
    "first_movie=movies[0]"
   ]
  },
  {
   "cell_type": "code",
   "execution_count": 18,
   "id": "a7735535",
   "metadata": {},
   "outputs": [
    {
     "data": {
      "text/plain": [
       "'Rang De Basanti'"
      ]
     },
     "execution_count": 18,
     "metadata": {},
     "output_type": "execute_result"
    }
   ],
   "source": [
    "first_movie.h3.a.text"
   ]
  },
  {
   "cell_type": "code",
   "execution_count": 19,
   "id": "6d20ba45",
   "metadata": {},
   "outputs": [
    {
     "data": {
      "text/plain": [
       "<h3 class=\"lister-item-header\">\n",
       "<span class=\"lister-item-index unbold text-primary\">1.</span>\n",
       "<a href=\"/title/tt0405508/\">Rang De Basanti</a>\n",
       "<span class=\"lister-item-year text-muted unbold\">(2006)</span>\n",
       "</h3>"
      ]
     },
     "execution_count": 19,
     "metadata": {},
     "output_type": "execute_result"
    }
   ],
   "source": [
    "first_movie.h3"
   ]
  },
  {
   "cell_type": "code",
   "execution_count": 29,
   "id": "2e756dc9",
   "metadata": {},
   "outputs": [
    {
     "data": {
      "text/plain": [
       "'(2006)'"
      ]
     },
     "execution_count": 29,
     "metadata": {},
     "output_type": "execute_result"
    }
   ],
   "source": [
    "first_movie.find('span',{'class':\"lister-item-year text-muted unbold\"}).text"
   ]
  },
  {
   "cell_type": "code",
   "execution_count": 33,
   "id": "63abe091",
   "metadata": {},
   "outputs": [
    {
     "data": {
      "text/plain": [
       "<span class=\"ipl-rating-star__rating\">8.1</span>"
      ]
     },
     "execution_count": 33,
     "metadata": {},
     "output_type": "execute_result"
    }
   ],
   "source": [
    "first_movie.find('span',{'class':\"ipl-rating-star__rating\"})"
   ]
  },
  {
   "cell_type": "code",
   "execution_count": 34,
   "id": "06e0e769",
   "metadata": {},
   "outputs": [],
   "source": [
    "Name=[]\n",
    "Year=[]\n",
    "Rating=[]\n",
    "for i in movies:\n",
    "    Name.append(i.h3.a.text)\n",
    "    Year.append(i.find('span',{'class':\"lister-item-year text-muted unbold\"}).text)\n",
    "    Rating.append(i.find('span',{'class':\"ipl-rating-star__rating\"}))"
   ]
  },
  {
   "cell_type": "code",
   "execution_count": 35,
   "id": "8353bf93",
   "metadata": {},
   "outputs": [],
   "source": [
    "data=list(zip(Name,Year,Rating))"
   ]
  },
  {
   "cell_type": "code",
   "execution_count": 36,
   "id": "73da5518",
   "metadata": {},
   "outputs": [],
   "source": [
    "df=pd.DataFrame(data,columns=['Name','Year','Rating'])"
   ]
  },
  {
   "cell_type": "code",
   "execution_count": 37,
   "id": "2c360d33",
   "metadata": {},
   "outputs": [
    {
     "data": {
      "text/html": [
       "<div>\n",
       "<style scoped>\n",
       "    .dataframe tbody tr th:only-of-type {\n",
       "        vertical-align: middle;\n",
       "    }\n",
       "\n",
       "    .dataframe tbody tr th {\n",
       "        vertical-align: top;\n",
       "    }\n",
       "\n",
       "    .dataframe thead th {\n",
       "        text-align: right;\n",
       "    }\n",
       "</style>\n",
       "<table border=\"1\" class=\"dataframe\">\n",
       "  <thead>\n",
       "    <tr style=\"text-align: right;\">\n",
       "      <th></th>\n",
       "      <th>Name</th>\n",
       "      <th>Year</th>\n",
       "      <th>Rating</th>\n",
       "    </tr>\n",
       "  </thead>\n",
       "  <tbody>\n",
       "    <tr>\n",
       "      <th>0</th>\n",
       "      <td>Rang De Basanti</td>\n",
       "      <td>(2006)</td>\n",
       "      <td>[8.1]</td>\n",
       "    </tr>\n",
       "    <tr>\n",
       "      <th>1</th>\n",
       "      <td>3 Idiots</td>\n",
       "      <td>(2009)</td>\n",
       "      <td>[8.4]</td>\n",
       "    </tr>\n",
       "    <tr>\n",
       "      <th>2</th>\n",
       "      <td>Taare Zameen Par</td>\n",
       "      <td>(2007)</td>\n",
       "      <td>[8.4]</td>\n",
       "    </tr>\n",
       "    <tr>\n",
       "      <th>3</th>\n",
       "      <td>Dil Chahta Hai</td>\n",
       "      <td>(2001)</td>\n",
       "      <td>[8.1]</td>\n",
       "    </tr>\n",
       "    <tr>\n",
       "      <th>4</th>\n",
       "      <td>Swades: We, the People</td>\n",
       "      <td>(2004)</td>\n",
       "      <td>[8.2]</td>\n",
       "    </tr>\n",
       "    <tr>\n",
       "      <th>...</th>\n",
       "      <td>...</td>\n",
       "      <td>...</td>\n",
       "      <td>...</td>\n",
       "    </tr>\n",
       "    <tr>\n",
       "      <th>95</th>\n",
       "      <td>Wake Up Sid</td>\n",
       "      <td>(2009)</td>\n",
       "      <td>[7.6]</td>\n",
       "    </tr>\n",
       "    <tr>\n",
       "      <th>96</th>\n",
       "      <td>Rangeela</td>\n",
       "      <td>(1995)</td>\n",
       "      <td>[7.5]</td>\n",
       "    </tr>\n",
       "    <tr>\n",
       "      <th>97</th>\n",
       "      <td>Shatranj Ke Khilari</td>\n",
       "      <td>(1977)</td>\n",
       "      <td>[7.7]</td>\n",
       "    </tr>\n",
       "    <tr>\n",
       "      <th>98</th>\n",
       "      <td>Pyaar Ka Punchnama</td>\n",
       "      <td>(2011)</td>\n",
       "      <td>[7.6]</td>\n",
       "    </tr>\n",
       "    <tr>\n",
       "      <th>99</th>\n",
       "      <td>Ek Hasina Thi</td>\n",
       "      <td>(2004)</td>\n",
       "      <td>[7.5]</td>\n",
       "    </tr>\n",
       "  </tbody>\n",
       "</table>\n",
       "<p>100 rows × 3 columns</p>\n",
       "</div>"
      ],
      "text/plain": [
       "                      Name    Year Rating\n",
       "0          Rang De Basanti  (2006)  [8.1]\n",
       "1                 3 Idiots  (2009)  [8.4]\n",
       "2         Taare Zameen Par  (2007)  [8.4]\n",
       "3           Dil Chahta Hai  (2001)  [8.1]\n",
       "4   Swades: We, the People  (2004)  [8.2]\n",
       "..                     ...     ...    ...\n",
       "95             Wake Up Sid  (2009)  [7.6]\n",
       "96                Rangeela  (1995)  [7.5]\n",
       "97     Shatranj Ke Khilari  (1977)  [7.7]\n",
       "98      Pyaar Ka Punchnama  (2011)  [7.6]\n",
       "99           Ek Hasina Thi  (2004)  [7.5]\n",
       "\n",
       "[100 rows x 3 columns]"
      ]
     },
     "execution_count": 37,
     "metadata": {},
     "output_type": "execute_result"
    }
   ],
   "source": [
    "df"
   ]
  },
  {
   "cell_type": "code",
   "execution_count": null,
   "id": "6ee6706b",
   "metadata": {},
   "outputs": [],
   "source": []
  }
 ],
 "metadata": {
  "kernelspec": {
   "display_name": "Python 3",
   "language": "python",
   "name": "python3"
  },
  "language_info": {
   "codemirror_mode": {
    "name": "ipython",
    "version": 3
   },
   "file_extension": ".py",
   "mimetype": "text/x-python",
   "name": "python",
   "nbconvert_exporter": "python",
   "pygments_lexer": "ipython3",
   "version": "3.8.8"
  }
 },
 "nbformat": 4,
 "nbformat_minor": 5
}
