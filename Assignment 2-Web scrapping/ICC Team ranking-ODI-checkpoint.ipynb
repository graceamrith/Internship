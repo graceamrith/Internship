{
 "cells": [
  {
   "cell_type": "code",
   "execution_count": 21,
   "id": "e83e4c4c",
   "metadata": {},
   "outputs": [],
   "source": [
    "import pandas as pd\n",
    "import requests\n",
    "from bs4 import BeautifulSoup\n"
   ]
  },
  {
   "cell_type": "code",
   "execution_count": 22,
   "id": "41697965",
   "metadata": {},
   "outputs": [],
   "source": [
    "url='https://www.icc-cricket.com/rankings/mens/team-rankings/odi'\n",
    "response=requests.get(url)\n",
    "soup=BeautifulSoup(response.content, 'html.parser')\n"
   ]
  },
  {
   "cell_type": "code",
   "execution_count": 85,
   "id": "4de4bb26",
   "metadata": {},
   "outputs": [
    {
     "data": {
      "text/plain": [
       "['New Zealand',\n",
       " 'England',\n",
       " 'Australia',\n",
       " 'India',\n",
       " 'South Africa',\n",
       " 'Pakistan',\n",
       " 'Bangladesh',\n",
       " 'West Indies',\n",
       " 'Sri Lanka',\n",
       " 'Afghanistan']"
      ]
     },
     "execution_count": 85,
     "metadata": {},
     "output_type": "execute_result"
    }
   ],
   "source": [
    "team = soup.find_all('span', class_='u-hide-phablet')\n",
    "ODI_team = []\n",
    "for i in range(0,10):\n",
    "    ODI_team.append(team[i].get_text().replace(\"\\n\",\"\"))\n",
    "ODI_team\n",
    "    \n"
   ]
  },
  {
   "cell_type": "code",
   "execution_count": 29,
   "id": "beb5c947",
   "metadata": {},
   "outputs": [
    {
     "data": {
      "text/plain": [
       "'2,054'"
      ]
     },
     "execution_count": 29,
     "metadata": {},
     "output_type": "execute_result"
    }
   ],
   "source": [
    "team1_points = soup.find('td', class_='rankings-block__banner--points').text\n",
    "team1_points"
   ]
  },
  {
   "cell_type": "code",
   "execution_count": 30,
   "id": "e80cf60a",
   "metadata": {},
   "outputs": [
    {
     "data": {
      "text/plain": [
       "'121'"
      ]
     },
     "execution_count": 30,
     "metadata": {},
     "output_type": "execute_result"
    }
   ],
   "source": [
    "team1_rating = soup.find('td', class_='rankings-block__banner--rating u-text-right').text.replace('\\n',\" \").strip(' ')\n",
    "team1_rating"
   ]
  },
  {
   "cell_type": "code",
   "execution_count": 31,
   "id": "638c0950",
   "metadata": {},
   "outputs": [
    {
     "data": {
      "text/plain": [
       "'17'"
      ]
     },
     "execution_count": 31,
     "metadata": {},
     "output_type": "execute_result"
    }
   ],
   "source": [
    "team1_matches = soup.find('td', class_='rankings-block__banner--matches').text\n",
    "team1_matches"
   ]
  },
  {
   "cell_type": "code",
   "execution_count": 44,
   "id": "1091bd60",
   "metadata": {},
   "outputs": [
    {
     "data": {
      "text/plain": [
       "'1'"
      ]
     },
     "execution_count": 44,
     "metadata": {},
     "output_type": "execute_result"
    }
   ],
   "source": [
    "team1_rank=soup.find('td', class_='rankings-block__banner--pos').text\n",
    "team1_rank"
   ]
  },
  {
   "cell_type": "code",
   "execution_count": 33,
   "id": "32124e08",
   "metadata": {},
   "outputs": [],
   "source": [
    "aditional_info = soup.find_all('td', class_='table-body__cell u-center-text')"
   ]
  },
  {
   "cell_type": "code",
   "execution_count": 35,
   "id": "7cb3d61a",
   "metadata": {},
   "outputs": [
    {
     "data": {
      "text/plain": [
       "['17', '32', '28', '32', '25', '27', '30', '30', '32', '17']"
      ]
     },
     "execution_count": 35,
     "metadata": {},
     "output_type": "execute_result"
    }
   ],
   "source": [
    "ODI_match = []\n",
    "for i in range(0,18,2):\n",
    "    ODI_match.append(aditional_info[i].get_text().replace(\"\\n\",\"\"))\n",
    "ODI_match\n",
    "ODI_match.insert(0, \"17\")\n",
    "ODI_match"
   ]
  },
  {
   "cell_type": "code",
   "execution_count": 36,
   "id": "92ef42e8",
   "metadata": {},
   "outputs": [
    {
     "data": {
      "text/plain": [
       "['2,054',\n",
       " '3,793',\n",
       " '3,244',\n",
       " '3,624',\n",
       " '2,459',\n",
       " '2,524',\n",
       " '2,740',\n",
       " '2,523',\n",
       " '2,657',\n",
       " '1,054']"
      ]
     },
     "execution_count": 36,
     "metadata": {},
     "output_type": "execute_result"
    }
   ],
   "source": [
    "ODI_points = []\n",
    "for i in range(1,18,2):\n",
    "    ODI_points.append(aditional_info[i].get_text().replace(\"\\n\",\"\"))\n",
    "ODI_points.insert(0, \"2,054\")\n",
    "ODI_points"
   ]
  },
  {
   "cell_type": "code",
   "execution_count": 57,
   "id": "51c2a9a7",
   "metadata": {},
   "outputs": [
    {
     "data": {
      "text/plain": [
       "['121', '119', '116', '113', '98', '93', '91', '84', '83', '62']"
      ]
     },
     "execution_count": 57,
     "metadata": {},
     "output_type": "execute_result"
    }
   ],
   "source": [
    "rating = soup.find_all('td', class_='table-body__cell u-text-right rating')\n",
    "ODI_rating = []\n",
    "for i in range(0,9):\n",
    "    ODI_rating.append(rating[i].get_text().replace(\"\\n\",\"\"))\n",
    "ODI_rating\n",
    "ODI_rating.insert(0, \"121\")\n",
    "ODI_rating"
   ]
  },
  {
   "cell_type": "code",
   "execution_count": 58,
   "id": "00f11ac6",
   "metadata": {},
   "outputs": [
    {
     "data": {
      "text/plain": [
       "['119', '116', '113', '98', '93', '91', '84', '83', '62', '62']"
      ]
     },
     "execution_count": 58,
     "metadata": {},
     "output_type": "execute_result"
    }
   ],
   "source": [
    "ODI_rating = []\n",
    "for i in range(0,9):\n",
    "    ODI_rating.append(rating[i].get_text().replace(\"\\n\",\"\"))\n",
    "ODI_rating.append(rating[i].get_text().replace(\"\\n\",\"\"))\n",
    "ODI_rating"
   ]
  },
  {
   "cell_type": "code",
   "execution_count": 84,
   "id": "7465d104",
   "metadata": {},
   "outputs": [
    {
     "data": {
      "text/plain": [
       "['1', '2', '3', '4', '5', '6', '7', '8', '9', '10']"
      ]
     },
     "execution_count": 84,
     "metadata": {},
     "output_type": "execute_result"
    }
   ],
   "source": [
    "rank = soup.find_all('td', class_='table-body__cell table-body__cell--position u-text-right')\n",
    "ODI_rank = []\n",
    "for i in range(0,9):\n",
    "    ODI_rank.append(rank[i].get_text().replace(\"\\n\",\"\"))\n",
    "ODI_rank.insert(0, \"1\")\n",
    "ODI_rank\n"
   ]
  },
  {
   "cell_type": "markdown",
   "id": "720a4c9a",
   "metadata": {},
   "source": [
    "data = list(zip(ODI_team,ODI_match,ODI_points,ODI_rating,ODI_rank))"
   ]
  },
  {
   "cell_type": "code",
   "execution_count": 96,
   "id": "9a79e9e4",
   "metadata": {},
   "outputs": [],
   "source": [
    "data = list(zip(ODI_team,ODI_match,ODI_points,ODI_rating,ODI_rank))"
   ]
  },
  {
   "cell_type": "code",
   "execution_count": 97,
   "id": "90884690",
   "metadata": {},
   "outputs": [],
   "source": [
    "df = pd.DataFrame(data,columns=['ODI_team','ODI_match','ODI_points','ODI_rating','ODI_rank'])"
   ]
  },
  {
   "cell_type": "code",
   "execution_count": 98,
   "id": "399a8346",
   "metadata": {},
   "outputs": [
    {
     "data": {
      "text/html": [
       "<div>\n",
       "<style scoped>\n",
       "    .dataframe tbody tr th:only-of-type {\n",
       "        vertical-align: middle;\n",
       "    }\n",
       "\n",
       "    .dataframe tbody tr th {\n",
       "        vertical-align: top;\n",
       "    }\n",
       "\n",
       "    .dataframe thead th {\n",
       "        text-align: right;\n",
       "    }\n",
       "</style>\n",
       "<table border=\"1\" class=\"dataframe\">\n",
       "  <thead>\n",
       "    <tr style=\"text-align: right;\">\n",
       "      <th></th>\n",
       "      <th>ODI_team</th>\n",
       "      <th>ODI_match</th>\n",
       "      <th>ODI_points</th>\n",
       "      <th>ODI_rating</th>\n",
       "      <th>ODI_rank</th>\n",
       "    </tr>\n",
       "  </thead>\n",
       "  <tbody>\n",
       "    <tr>\n",
       "      <th>0</th>\n",
       "      <td>New Zealand</td>\n",
       "      <td>17</td>\n",
       "      <td>2,054</td>\n",
       "      <td>119</td>\n",
       "      <td>1</td>\n",
       "    </tr>\n",
       "    <tr>\n",
       "      <th>1</th>\n",
       "      <td>England</td>\n",
       "      <td>32</td>\n",
       "      <td>3,793</td>\n",
       "      <td>116</td>\n",
       "      <td>2</td>\n",
       "    </tr>\n",
       "    <tr>\n",
       "      <th>2</th>\n",
       "      <td>Australia</td>\n",
       "      <td>28</td>\n",
       "      <td>3,244</td>\n",
       "      <td>113</td>\n",
       "      <td>3</td>\n",
       "    </tr>\n",
       "    <tr>\n",
       "      <th>3</th>\n",
       "      <td>India</td>\n",
       "      <td>32</td>\n",
       "      <td>3,624</td>\n",
       "      <td>98</td>\n",
       "      <td>4</td>\n",
       "    </tr>\n",
       "    <tr>\n",
       "      <th>4</th>\n",
       "      <td>South Africa</td>\n",
       "      <td>25</td>\n",
       "      <td>2,459</td>\n",
       "      <td>93</td>\n",
       "      <td>5</td>\n",
       "    </tr>\n",
       "    <tr>\n",
       "      <th>5</th>\n",
       "      <td>Pakistan</td>\n",
       "      <td>27</td>\n",
       "      <td>2,524</td>\n",
       "      <td>91</td>\n",
       "      <td>6</td>\n",
       "    </tr>\n",
       "    <tr>\n",
       "      <th>6</th>\n",
       "      <td>Bangladesh</td>\n",
       "      <td>30</td>\n",
       "      <td>2,740</td>\n",
       "      <td>84</td>\n",
       "      <td>7</td>\n",
       "    </tr>\n",
       "    <tr>\n",
       "      <th>7</th>\n",
       "      <td>West Indies</td>\n",
       "      <td>30</td>\n",
       "      <td>2,523</td>\n",
       "      <td>83</td>\n",
       "      <td>8</td>\n",
       "    </tr>\n",
       "    <tr>\n",
       "      <th>8</th>\n",
       "      <td>Sri Lanka</td>\n",
       "      <td>32</td>\n",
       "      <td>2,657</td>\n",
       "      <td>62</td>\n",
       "      <td>9</td>\n",
       "    </tr>\n",
       "    <tr>\n",
       "      <th>9</th>\n",
       "      <td>Afghanistan</td>\n",
       "      <td>17</td>\n",
       "      <td>1,054</td>\n",
       "      <td>62</td>\n",
       "      <td>10</td>\n",
       "    </tr>\n",
       "  </tbody>\n",
       "</table>\n",
       "</div>"
      ],
      "text/plain": [
       "       ODI_team ODI_match ODI_points ODI_rating ODI_rank\n",
       "0   New Zealand        17      2,054        119        1\n",
       "1       England        32      3,793        116        2\n",
       "2     Australia        28      3,244        113        3\n",
       "3         India        32      3,624         98        4\n",
       "4  South Africa        25      2,459         93        5\n",
       "5      Pakistan        27      2,524         91        6\n",
       "6    Bangladesh        30      2,740         84        7\n",
       "7   West Indies        30      2,523         83        8\n",
       "8     Sri Lanka        32      2,657         62        9\n",
       "9   Afghanistan        17      1,054         62       10"
      ]
     },
     "execution_count": 98,
     "metadata": {},
     "output_type": "execute_result"
    }
   ],
   "source": [
    "df"
   ]
  },
  {
   "cell_type": "code",
   "execution_count": null,
   "id": "2cbf17f6",
   "metadata": {},
   "outputs": [],
   "source": []
  },
  {
   "cell_type": "code",
   "execution_count": null,
   "id": "b445b394",
   "metadata": {},
   "outputs": [],
   "source": []
  }
 ],
 "metadata": {
  "kernelspec": {
   "display_name": "Python 3",
   "language": "python",
   "name": "python3"
  },
  "language_info": {
   "codemirror_mode": {
    "name": "ipython",
    "version": 3
   },
   "file_extension": ".py",
   "mimetype": "text/x-python",
   "name": "python",
   "nbconvert_exporter": "python",
   "pygments_lexer": "ipython3",
   "version": "3.8.8"
  }
 },
 "nbformat": 4,
 "nbformat_minor": 5
}
