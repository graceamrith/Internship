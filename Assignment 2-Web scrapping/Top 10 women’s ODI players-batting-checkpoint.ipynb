{
 "cells": [
  {
   "cell_type": "code",
   "execution_count": 1,
   "id": "b1a53a7e",
   "metadata": {},
   "outputs": [],
   "source": [
    "import pandas as pd\n",
    "import requests\n",
    "from bs4 import BeautifulSoup"
   ]
  },
  {
   "cell_type": "code",
   "execution_count": 2,
   "id": "1388a733",
   "metadata": {},
   "outputs": [],
   "source": [
    "url='https://www.icc-cricket.com/rankings/womens/player-rankings/odi/batting'\n",
    "response=requests.get(url)\n",
    "soup=BeautifulSoup(response.content, 'html.parser')"
   ]
  },
  {
   "cell_type": "code",
   "execution_count": 3,
   "id": "49f68e67",
   "metadata": {},
   "outputs": [
    {
     "data": {
      "text/plain": [
       "'Lizelle Lee'"
      ]
     },
     "execution_count": 3,
     "metadata": {},
     "output_type": "execute_result"
    }
   ],
   "source": [
    "names=[]\n",
    "first_name=[]\n",
    "first_name_1=soup.find('div', class_=\"rankings-block__banner--name-large\").text\n",
    "\n",
    "first_name_1\n",
    "\n"
   ]
  },
  {
   "cell_type": "code",
   "execution_count": 4,
   "id": "42d5b11a",
   "metadata": {},
   "outputs": [],
   "source": [
    "names=[]\n",
    "team=soup.find_all('td', class_=\"table-body__cell rankings-table__name name\")\n",
    "for x in range(0,9):\n",
    "    names.append(team[x].get_text().replace(\"\\n\",\"\"))\n",
    "names.insert(0,first_name_1)  \n",
    "\n"
   ]
  },
  {
   "cell_type": "code",
   "execution_count": 5,
   "id": "552ce717",
   "metadata": {},
   "outputs": [
    {
     "data": {
      "text/plain": [
       "['Lizelle Lee',\n",
       " 'Alyssa Healy',\n",
       " 'Mithali Raj',\n",
       " 'Tammy Beaumont',\n",
       " 'Amy Satterthwaite',\n",
       " 'Smriti Mandhana',\n",
       " 'Meg Lanning',\n",
       " 'Beth Mooney',\n",
       " 'Heather Knight',\n",
       " 'Laura Wolvaardt']"
      ]
     },
     "execution_count": 5,
     "metadata": {},
     "output_type": "execute_result"
    }
   ],
   "source": [
    "names"
   ]
  },
  {
   "cell_type": "code",
   "execution_count": 6,
   "id": "26fb9fe5",
   "metadata": {},
   "outputs": [],
   "source": [
    "first_team=soup.find('div', class_=\"rankings-block__banner--nationality\").text\n",
    "Team=[]  \n",
    "\n",
    "\n",
    "team_name=soup.find_all('span', class_=\"table-body__logo-text\")\n",
    "for x in range(0,9):\n",
    "    Team.append(team_name[x].get_text().replace(\"\\n\",\"\"))\n",
    "Team.insert(0,first_team)\n",
    "\n",
    "\n",
    "    "
   ]
  },
  {
   "cell_type": "code",
   "execution_count": 10,
   "id": "f14e107d",
   "metadata": {},
   "outputs": [
    {
     "data": {
      "text/plain": [
       "['\\n\\nSA\\n', 'AUS', 'IND', 'ENG', 'NZ', 'IND', 'AUS', 'AUS', 'ENG', 'SA']"
      ]
     },
     "execution_count": 10,
     "metadata": {},
     "output_type": "execute_result"
    }
   ],
   "source": [
    "Team"
   ]
  },
  {
   "cell_type": "code",
   "execution_count": 12,
   "id": "4238bc8e",
   "metadata": {},
   "outputs": [],
   "source": [
    "rate_one=soup.find('div', class_=\"rankings-block__banner--rating\").text\n",
    "rating=[]\n",
    "\n",
    "\n",
    "Team_rating=soup.findAll('td', class_=\"table-body__cell rating\")\n",
    "for x in range(0,9):\n",
    "    rating.append(Team_rating[x].get_text().replace(\"\\n\",\"\"))\n",
    "rating.insert(0,rate_one)\n",
    "\n",
    "\n",
    "    "
   ]
  },
  {
   "cell_type": "code",
   "execution_count": 13,
   "id": "1292485c",
   "metadata": {},
   "outputs": [
    {
     "data": {
      "text/plain": [
       "['761', '750', '738', '728', '717', '710', '699', '690', '674', '672']"
      ]
     },
     "execution_count": 13,
     "metadata": {},
     "output_type": "execute_result"
    }
   ],
   "source": [
    "rating"
   ]
  },
  {
   "cell_type": "code",
   "execution_count": 16,
   "id": "7d1fd13d",
   "metadata": {},
   "outputs": [],
   "source": [
    "pos_one=soup.find('td',class_='rankings-block__position').text\n",
    "rank=[]\n",
    "\n",
    "\n",
    "Team_rank=soup.findAll('td',class_='table-body__cell table-body__cell--position u-text-right')\n",
    "for x in range(0,9):\n",
    "    rank.append(Team_rank[x].get_text().replace(\"\\n\",\"\"))\n",
    "rank.insert(0,pos_one)  \n",
    "\n",
    "\n",
    "    "
   ]
  },
  {
   "cell_type": "code",
   "execution_count": 17,
   "id": "80204a5a",
   "metadata": {},
   "outputs": [
    {
     "data": {
      "text/plain": [
       "['1',\n",
       " '                            2        ',\n",
       " '                            3        ',\n",
       " '                            4        ',\n",
       " '                            5        ',\n",
       " '                            6        ',\n",
       " '                            7        ',\n",
       " '                            8        ',\n",
       " '                            9        ',\n",
       " '                            10        ']"
      ]
     },
     "execution_count": 17,
     "metadata": {},
     "output_type": "execute_result"
    }
   ],
   "source": [
    "rank"
   ]
  },
  {
   "cell_type": "code",
   "execution_count": 18,
   "id": "a17f7bde",
   "metadata": {},
   "outputs": [],
   "source": [
    "data = list(zip(names,Team,rating,rank))"
   ]
  },
  {
   "cell_type": "code",
   "execution_count": 19,
   "id": "af5cd24e",
   "metadata": {},
   "outputs": [],
   "source": [
    "df = pd.DataFrame(data,columns=['names','Team','rating','rank'])"
   ]
  },
  {
   "cell_type": "code",
   "execution_count": 20,
   "id": "4c47dd69",
   "metadata": {},
   "outputs": [
    {
     "data": {
      "text/html": [
       "<div>\n",
       "<style scoped>\n",
       "    .dataframe tbody tr th:only-of-type {\n",
       "        vertical-align: middle;\n",
       "    }\n",
       "\n",
       "    .dataframe tbody tr th {\n",
       "        vertical-align: top;\n",
       "    }\n",
       "\n",
       "    .dataframe thead th {\n",
       "        text-align: right;\n",
       "    }\n",
       "</style>\n",
       "<table border=\"1\" class=\"dataframe\">\n",
       "  <thead>\n",
       "    <tr style=\"text-align: right;\">\n",
       "      <th></th>\n",
       "      <th>names</th>\n",
       "      <th>Team</th>\n",
       "      <th>rating</th>\n",
       "      <th>rank</th>\n",
       "    </tr>\n",
       "  </thead>\n",
       "  <tbody>\n",
       "    <tr>\n",
       "      <th>0</th>\n",
       "      <td>Lizelle Lee</td>\n",
       "      <td>\\n\\nSA\\n</td>\n",
       "      <td>761</td>\n",
       "      <td>1</td>\n",
       "    </tr>\n",
       "    <tr>\n",
       "      <th>1</th>\n",
       "      <td>Alyssa Healy</td>\n",
       "      <td>AUS</td>\n",
       "      <td>750</td>\n",
       "      <td>2</td>\n",
       "    </tr>\n",
       "    <tr>\n",
       "      <th>2</th>\n",
       "      <td>Mithali Raj</td>\n",
       "      <td>IND</td>\n",
       "      <td>738</td>\n",
       "      <td>3</td>\n",
       "    </tr>\n",
       "    <tr>\n",
       "      <th>3</th>\n",
       "      <td>Tammy Beaumont</td>\n",
       "      <td>ENG</td>\n",
       "      <td>728</td>\n",
       "      <td>4</td>\n",
       "    </tr>\n",
       "    <tr>\n",
       "      <th>4</th>\n",
       "      <td>Amy Satterthwaite</td>\n",
       "      <td>NZ</td>\n",
       "      <td>717</td>\n",
       "      <td>5</td>\n",
       "    </tr>\n",
       "    <tr>\n",
       "      <th>5</th>\n",
       "      <td>Smriti Mandhana</td>\n",
       "      <td>IND</td>\n",
       "      <td>710</td>\n",
       "      <td>6</td>\n",
       "    </tr>\n",
       "    <tr>\n",
       "      <th>6</th>\n",
       "      <td>Meg Lanning</td>\n",
       "      <td>AUS</td>\n",
       "      <td>699</td>\n",
       "      <td>7</td>\n",
       "    </tr>\n",
       "    <tr>\n",
       "      <th>7</th>\n",
       "      <td>Beth Mooney</td>\n",
       "      <td>AUS</td>\n",
       "      <td>690</td>\n",
       "      <td>8</td>\n",
       "    </tr>\n",
       "    <tr>\n",
       "      <th>8</th>\n",
       "      <td>Heather Knight</td>\n",
       "      <td>ENG</td>\n",
       "      <td>674</td>\n",
       "      <td>9</td>\n",
       "    </tr>\n",
       "    <tr>\n",
       "      <th>9</th>\n",
       "      <td>Laura Wolvaardt</td>\n",
       "      <td>SA</td>\n",
       "      <td>672</td>\n",
       "      <td>10</td>\n",
       "    </tr>\n",
       "  </tbody>\n",
       "</table>\n",
       "</div>"
      ],
      "text/plain": [
       "               names      Team rating                                    rank\n",
       "0        Lizelle Lee  \\n\\nSA\\n    761                                       1\n",
       "1       Alyssa Healy       AUS    750                               2        \n",
       "2        Mithali Raj       IND    738                               3        \n",
       "3     Tammy Beaumont       ENG    728                               4        \n",
       "4  Amy Satterthwaite        NZ    717                               5        \n",
       "5    Smriti Mandhana       IND    710                               6        \n",
       "6        Meg Lanning       AUS    699                               7        \n",
       "7        Beth Mooney       AUS    690                               8        \n",
       "8     Heather Knight       ENG    674                               9        \n",
       "9    Laura Wolvaardt        SA    672                              10        "
      ]
     },
     "execution_count": 20,
     "metadata": {},
     "output_type": "execute_result"
    }
   ],
   "source": [
    "df"
   ]
  },
  {
   "cell_type": "code",
   "execution_count": null,
   "id": "ea16e40c",
   "metadata": {},
   "outputs": [],
   "source": []
  }
 ],
 "metadata": {
  "kernelspec": {
   "display_name": "Python 3",
   "language": "python",
   "name": "python3"
  },
  "language_info": {
   "codemirror_mode": {
    "name": "ipython",
    "version": 3
   },
   "file_extension": ".py",
   "mimetype": "text/x-python",
   "name": "python",
   "nbconvert_exporter": "python",
   "pygments_lexer": "ipython3",
   "version": "3.8.8"
  }
 },
 "nbformat": 4,
 "nbformat_minor": 5
}
