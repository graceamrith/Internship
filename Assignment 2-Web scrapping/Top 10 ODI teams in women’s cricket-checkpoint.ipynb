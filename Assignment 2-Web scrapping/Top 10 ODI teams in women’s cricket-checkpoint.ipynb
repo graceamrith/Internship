{
 "cells": [
  {
   "cell_type": "code",
   "execution_count": 1,
   "id": "063fd2a8",
   "metadata": {},
   "outputs": [],
   "source": [
    "import pandas as pd\n",
    "import requests\n",
    "from bs4 import BeautifulSoup\n"
   ]
  },
  {
   "cell_type": "code",
   "execution_count": 30,
   "id": "29df5ce5",
   "metadata": {},
   "outputs": [],
   "source": [
    "url='https://www.icc-cricket.com/rankings/womens/team-rankings/odi'\n",
    "response=requests.get(url)\n",
    "soup=BeautifulSoup(response.content, 'html.parser')"
   ]
  },
  {
   "cell_type": "code",
   "execution_count": 31,
   "id": "28c77ab8",
   "metadata": {},
   "outputs": [
    {
     "data": {
      "text/plain": [
       "<Response [200]>"
      ]
     },
     "execution_count": 31,
     "metadata": {},
     "output_type": "execute_result"
    }
   ],
   "source": [
    "response"
   ]
  },
  {
   "cell_type": "code",
   "execution_count": 33,
   "id": "89d368b6",
   "metadata": {},
   "outputs": [],
   "source": [
    "team = soup.find_all('span', class_='u-hide-phablet')\n",
    "ODI_team = []\n",
    "for i in range(0,10):\n",
    "    ODI_team.append(team[i].get_text().replace(\"\\n\",\"\"))\n",
    "    \n",
    "   \n",
    "\n"
   ]
  },
  {
   "cell_type": "code",
   "execution_count": 34,
   "id": "49e9bbc9",
   "metadata": {},
   "outputs": [
    {
     "data": {
      "text/plain": [
       "['Australia',\n",
       " 'England',\n",
       " 'South Africa',\n",
       " 'India',\n",
       " 'New Zealand',\n",
       " 'West Indies',\n",
       " 'Pakistan',\n",
       " 'Bangladesh',\n",
       " 'Sri Lanka',\n",
       " 'Ireland']"
      ]
     },
     "execution_count": 34,
     "metadata": {},
     "output_type": "execute_result"
    }
   ],
   "source": [
    "ODI_team"
   ]
  },
  {
   "cell_type": "code",
   "execution_count": 35,
   "id": "5be34ee3",
   "metadata": {},
   "outputs": [
    {
     "data": {
      "text/plain": [
       "'3,379'"
      ]
     },
     "execution_count": 35,
     "metadata": {},
     "output_type": "execute_result"
    }
   ],
   "source": [
    "team1_points = soup.find('td', class_='rankings-block__banner--points').text\n",
    "team1_points"
   ]
  },
  {
   "cell_type": "code",
   "execution_count": 36,
   "id": "c8cc6f88",
   "metadata": {},
   "outputs": [
    {
     "data": {
      "text/plain": [
       "'161'"
      ]
     },
     "execution_count": 36,
     "metadata": {},
     "output_type": "execute_result"
    }
   ],
   "source": [
    "team1_rating = soup.find('td', class_='rankings-block__banner--rating u-text-right').text.replace('\\n',\" \").strip(' ')\n",
    "team1_rating"
   ]
  },
  {
   "cell_type": "code",
   "execution_count": 37,
   "id": "cbadd8ed",
   "metadata": {},
   "outputs": [
    {
     "data": {
      "text/plain": [
       "'21'"
      ]
     },
     "execution_count": 37,
     "metadata": {},
     "output_type": "execute_result"
    }
   ],
   "source": [
    "team1_matches = soup.find('td', class_='rankings-block__banner--matches').text\n",
    "team1_matches"
   ]
  },
  {
   "cell_type": "code",
   "execution_count": 38,
   "id": "40eec707",
   "metadata": {},
   "outputs": [
    {
     "data": {
      "text/plain": [
       "'1'"
      ]
     },
     "execution_count": 38,
     "metadata": {},
     "output_type": "execute_result"
    }
   ],
   "source": [
    "team1_rank=soup.find('td', class_='rankings-block__banner--pos').text\n",
    "team1_rank"
   ]
  },
  {
   "cell_type": "code",
   "execution_count": 39,
   "id": "fdcbbfa7",
   "metadata": {},
   "outputs": [],
   "source": [
    "aditional_info = soup.find_all('td', class_='table-body__cell u-center-text')\n",
    "\n"
   ]
  },
  {
   "cell_type": "code",
   "execution_count": 41,
   "id": "9ba179bf",
   "metadata": {},
   "outputs": [
    {
     "data": {
      "text/plain": [
       "['21', '25', '29', '26', '26', '22', '20', '5', '11', '2']"
      ]
     },
     "execution_count": 41,
     "metadata": {},
     "output_type": "execute_result"
    }
   ],
   "source": [
    "ODI_match = []\n",
    "for i in range(0,18,2):\n",
    "    ODI_match.append(aditional_info[i].get_text().replace(\"\\n\",\"\"))\n",
    "ODI_match\n",
    "ODI_match.insert(0, \"21\")\n",
    "ODI_match"
   ]
  },
  {
   "cell_type": "code",
   "execution_count": 42,
   "id": "19ed2708",
   "metadata": {},
   "outputs": [
    {
     "data": {
      "text/plain": [
       "['3,379',\n",
       " '2,983',\n",
       " '3,390',\n",
       " '2,934',\n",
       " '2,392',\n",
       " '1,872',\n",
       " '1,496',\n",
       " '306',\n",
       " '519',\n",
       " '25']"
      ]
     },
     "execution_count": 42,
     "metadata": {},
     "output_type": "execute_result"
    }
   ],
   "source": [
    "ODI_points = []\n",
    "for i in range(1,18,2):\n",
    "    ODI_points.append(aditional_info[i].get_text().replace(\"\\n\",\"\"))\n",
    "ODI_points.insert(0, \"3,379\")\n",
    "ODI_points"
   ]
  },
  {
   "cell_type": "code",
   "execution_count": 43,
   "id": "dacdc115",
   "metadata": {},
   "outputs": [
    {
     "data": {
      "text/plain": [
       "['161', '119', '117', '113', '92', '85', '75', '61', '47', '13']"
      ]
     },
     "execution_count": 43,
     "metadata": {},
     "output_type": "execute_result"
    }
   ],
   "source": [
    "rating = soup.find_all('td', class_='table-body__cell u-text-right rating')\n",
    "ODI_rating = []\n",
    "for i in range(0,9):\n",
    "    ODI_rating.append(rating[i].get_text().replace(\"\\n\",\"\"))\n",
    "ODI_rating\n",
    "ODI_rating.insert(0, \"161\")\n",
    "ODI_rating"
   ]
  },
  {
   "cell_type": "code",
   "execution_count": 44,
   "id": "32530b22",
   "metadata": {},
   "outputs": [
    {
     "data": {
      "text/plain": [
       "['1', '2', '3', '4', '5', '6', '7', '8', '9', '10']"
      ]
     },
     "execution_count": 44,
     "metadata": {},
     "output_type": "execute_result"
    }
   ],
   "source": [
    "rank = soup.find_all('td', class_='table-body__cell table-body__cell--position u-text-right')\n",
    "ODI_rank = []\n",
    "for i in range(0,9):\n",
    "    ODI_rank.append(rank[i].get_text().replace(\"\\n\",\"\"))\n",
    "ODI_rank.insert(0, \"1\")\n",
    "ODI_rank\n"
   ]
  },
  {
   "cell_type": "code",
   "execution_count": 45,
   "id": "23689984",
   "metadata": {},
   "outputs": [],
   "source": [
    "data = list(zip(ODI_team,ODI_match,ODI_points,ODI_rating,ODI_rank))"
   ]
  },
  {
   "cell_type": "code",
   "execution_count": 50,
   "id": "3046fe9d",
   "metadata": {},
   "outputs": [],
   "source": [
    "df = pd.DataFrame(data,columns=['ODI_team','ODI_match','ODI_points','ODI_rating','ODI_rank'])"
   ]
  },
  {
   "cell_type": "code",
   "execution_count": 51,
   "id": "f56d932a",
   "metadata": {},
   "outputs": [
    {
     "data": {
      "text/html": [
       "<div>\n",
       "<style scoped>\n",
       "    .dataframe tbody tr th:only-of-type {\n",
       "        vertical-align: middle;\n",
       "    }\n",
       "\n",
       "    .dataframe tbody tr th {\n",
       "        vertical-align: top;\n",
       "    }\n",
       "\n",
       "    .dataframe thead th {\n",
       "        text-align: right;\n",
       "    }\n",
       "</style>\n",
       "<table border=\"1\" class=\"dataframe\">\n",
       "  <thead>\n",
       "    <tr style=\"text-align: right;\">\n",
       "      <th></th>\n",
       "      <th>ODI_team</th>\n",
       "      <th>ODI_match</th>\n",
       "      <th>ODI_points</th>\n",
       "      <th>ODI_rating</th>\n",
       "      <th>ODI_rank</th>\n",
       "    </tr>\n",
       "  </thead>\n",
       "  <tbody>\n",
       "    <tr>\n",
       "      <th>0</th>\n",
       "      <td>Australia</td>\n",
       "      <td>21</td>\n",
       "      <td>3,379</td>\n",
       "      <td>161</td>\n",
       "      <td>1</td>\n",
       "    </tr>\n",
       "    <tr>\n",
       "      <th>1</th>\n",
       "      <td>England</td>\n",
       "      <td>25</td>\n",
       "      <td>2,983</td>\n",
       "      <td>119</td>\n",
       "      <td>2</td>\n",
       "    </tr>\n",
       "    <tr>\n",
       "      <th>2</th>\n",
       "      <td>South Africa</td>\n",
       "      <td>29</td>\n",
       "      <td>3,390</td>\n",
       "      <td>117</td>\n",
       "      <td>3</td>\n",
       "    </tr>\n",
       "    <tr>\n",
       "      <th>3</th>\n",
       "      <td>India</td>\n",
       "      <td>26</td>\n",
       "      <td>2,934</td>\n",
       "      <td>113</td>\n",
       "      <td>4</td>\n",
       "    </tr>\n",
       "    <tr>\n",
       "      <th>4</th>\n",
       "      <td>New Zealand</td>\n",
       "      <td>26</td>\n",
       "      <td>2,392</td>\n",
       "      <td>92</td>\n",
       "      <td>5</td>\n",
       "    </tr>\n",
       "    <tr>\n",
       "      <th>5</th>\n",
       "      <td>West Indies</td>\n",
       "      <td>22</td>\n",
       "      <td>1,872</td>\n",
       "      <td>85</td>\n",
       "      <td>6</td>\n",
       "    </tr>\n",
       "    <tr>\n",
       "      <th>6</th>\n",
       "      <td>Pakistan</td>\n",
       "      <td>20</td>\n",
       "      <td>1,496</td>\n",
       "      <td>75</td>\n",
       "      <td>7</td>\n",
       "    </tr>\n",
       "    <tr>\n",
       "      <th>7</th>\n",
       "      <td>Bangladesh</td>\n",
       "      <td>5</td>\n",
       "      <td>306</td>\n",
       "      <td>61</td>\n",
       "      <td>8</td>\n",
       "    </tr>\n",
       "    <tr>\n",
       "      <th>8</th>\n",
       "      <td>Sri Lanka</td>\n",
       "      <td>11</td>\n",
       "      <td>519</td>\n",
       "      <td>47</td>\n",
       "      <td>9</td>\n",
       "    </tr>\n",
       "    <tr>\n",
       "      <th>9</th>\n",
       "      <td>Ireland</td>\n",
       "      <td>2</td>\n",
       "      <td>25</td>\n",
       "      <td>13</td>\n",
       "      <td>10</td>\n",
       "    </tr>\n",
       "  </tbody>\n",
       "</table>\n",
       "</div>"
      ],
      "text/plain": [
       "       ODI_team ODI_match ODI_points ODI_rating ODI_rank\n",
       "0     Australia        21      3,379        161        1\n",
       "1       England        25      2,983        119        2\n",
       "2  South Africa        29      3,390        117        3\n",
       "3         India        26      2,934        113        4\n",
       "4   New Zealand        26      2,392         92        5\n",
       "5   West Indies        22      1,872         85        6\n",
       "6      Pakistan        20      1,496         75        7\n",
       "7    Bangladesh         5        306         61        8\n",
       "8     Sri Lanka        11        519         47        9\n",
       "9       Ireland         2         25         13       10"
      ]
     },
     "execution_count": 51,
     "metadata": {},
     "output_type": "execute_result"
    }
   ],
   "source": [
    "df"
   ]
  },
  {
   "cell_type": "code",
   "execution_count": null,
   "id": "8778803f",
   "metadata": {},
   "outputs": [],
   "source": []
  }
 ],
 "metadata": {
  "kernelspec": {
   "display_name": "Python 3",
   "language": "python",
   "name": "python3"
  },
  "language_info": {
   "codemirror_mode": {
    "name": "ipython",
    "version": 3
   },
   "file_extension": ".py",
   "mimetype": "text/x-python",
   "name": "python",
   "nbconvert_exporter": "python",
   "pygments_lexer": "ipython3",
   "version": "3.8.8"
  }
 },
 "nbformat": 4,
 "nbformat_minor": 5
}
