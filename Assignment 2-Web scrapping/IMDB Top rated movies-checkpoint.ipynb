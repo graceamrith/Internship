{
 "cells": [
  {
   "cell_type": "code",
   "execution_count": 1,
   "id": "b8462358",
   "metadata": {},
   "outputs": [],
   "source": [
    "import pandas as pd\n",
    "import requests\n",
    "from bs4 import BeautifulSoup as soup\n",
    "from requests import get\n"
   ]
  },
  {
   "cell_type": "code",
   "execution_count": 2,
   "id": "5890f175",
   "metadata": {},
   "outputs": [],
   "source": [
    "url=get('https://www.imdb.com/list/ls091520106/')\n"
   ]
  },
  {
   "cell_type": "code",
   "execution_count": 3,
   "id": "d42b9da3",
   "metadata": {},
   "outputs": [],
   "source": [
    "request=url.text\n",
    "soup_data=soup(request,'html.parser')"
   ]
  },
  {
   "cell_type": "code",
   "execution_count": 4,
   "id": "9b984671",
   "metadata": {},
   "outputs": [
    {
     "data": {
      "text/plain": [
       "'Top 100 Movies Bucket List - IMDb'"
      ]
     },
     "execution_count": 4,
     "metadata": {},
     "output_type": "execute_result"
    }
   ],
   "source": [
    "soup_data.title.text"
   ]
  },
  {
   "cell_type": "code",
   "execution_count": 6,
   "id": "4d5dc345",
   "metadata": {},
   "outputs": [],
   "source": [
    "movies=soup_data.findAll('div',{'class':'lister-item-content'})"
   ]
  },
  {
   "cell_type": "code",
   "execution_count": 9,
   "id": "2182aacf",
   "metadata": {},
   "outputs": [],
   "source": [
    "first_movie=movies[0]\n"
   ]
  },
  {
   "cell_type": "code",
   "execution_count": 10,
   "id": "6330d216",
   "metadata": {},
   "outputs": [
    {
     "data": {
      "text/plain": [
       "'The Shawshank Redemption'"
      ]
     },
     "execution_count": 10,
     "metadata": {},
     "output_type": "execute_result"
    }
   ],
   "source": [
    "first_movie.h3.a.text"
   ]
  },
  {
   "cell_type": "code",
   "execution_count": 11,
   "id": "4f9d1e9f",
   "metadata": {},
   "outputs": [
    {
     "data": {
      "text/plain": [
       "<h3 class=\"lister-item-header\">\n",
       "<span class=\"lister-item-index unbold text-primary\">1.</span>\n",
       "<a href=\"/title/tt0111161/\">The Shawshank Redemption</a>\n",
       "<span class=\"lister-item-year text-muted unbold\">(1994)</span>\n",
       "</h3>"
      ]
     },
     "execution_count": 11,
     "metadata": {},
     "output_type": "execute_result"
    }
   ],
   "source": [
    "  first_movie.h3 "
   ]
  },
  {
   "cell_type": "code",
   "execution_count": 12,
   "id": "026dc639",
   "metadata": {},
   "outputs": [
    {
     "data": {
      "text/plain": [
       "'(1994)'"
      ]
     },
     "execution_count": 12,
     "metadata": {},
     "output_type": "execute_result"
    }
   ],
   "source": [
    "first_movie.find('span',{'class':\"lister-item-year text-muted unbold\"}).text"
   ]
  },
  {
   "cell_type": "code",
   "execution_count": 13,
   "id": "9cd18f7d",
   "metadata": {},
   "outputs": [
    {
     "data": {
      "text/plain": [
       "<span class=\"ipl-rating-star__rating\">9.3</span>"
      ]
     },
     "execution_count": 13,
     "metadata": {},
     "output_type": "execute_result"
    }
   ],
   "source": [
    "first_movie.find('span',{'class':\"ipl-rating-star__rating\"})"
   ]
  },
  {
   "cell_type": "code",
   "execution_count": 14,
   "id": "b62eb067",
   "metadata": {},
   "outputs": [],
   "source": [
    "Name=[]\n",
    "Year=[]\n",
    "Rating=[]\n",
    "for i in movies:\n",
    "    Name.append(i.h3.a.text)\n",
    "    Year.append(i.find('span',{'class':\"lister-item-year text-muted unbold\"}).text)\n",
    "    Rating.append(i.find('span',{'class':\"ipl-rating-star__rating\"}))"
   ]
  },
  {
   "cell_type": "code",
   "execution_count": 15,
   "id": "eef4e7b3",
   "metadata": {},
   "outputs": [],
   "source": [
    "data=list(zip(Name,Year,Rating))"
   ]
  },
  {
   "cell_type": "code",
   "execution_count": 16,
   "id": "c516586a",
   "metadata": {},
   "outputs": [],
   "source": [
    "df=pd.DataFrame(data,columns=['Name','Year','Rating'])"
   ]
  },
  {
   "cell_type": "code",
   "execution_count": 17,
   "id": "05f43475",
   "metadata": {},
   "outputs": [
    {
     "data": {
      "text/html": [
       "<div>\n",
       "<style scoped>\n",
       "    .dataframe tbody tr th:only-of-type {\n",
       "        vertical-align: middle;\n",
       "    }\n",
       "\n",
       "    .dataframe tbody tr th {\n",
       "        vertical-align: top;\n",
       "    }\n",
       "\n",
       "    .dataframe thead th {\n",
       "        text-align: right;\n",
       "    }\n",
       "</style>\n",
       "<table border=\"1\" class=\"dataframe\">\n",
       "  <thead>\n",
       "    <tr style=\"text-align: right;\">\n",
       "      <th></th>\n",
       "      <th>Name</th>\n",
       "      <th>Year</th>\n",
       "      <th>Rating</th>\n",
       "    </tr>\n",
       "  </thead>\n",
       "  <tbody>\n",
       "    <tr>\n",
       "      <th>0</th>\n",
       "      <td>The Shawshank Redemption</td>\n",
       "      <td>(1994)</td>\n",
       "      <td>[9.3]</td>\n",
       "    </tr>\n",
       "    <tr>\n",
       "      <th>1</th>\n",
       "      <td>The Godfather</td>\n",
       "      <td>(1972)</td>\n",
       "      <td>[9.2]</td>\n",
       "    </tr>\n",
       "    <tr>\n",
       "      <th>2</th>\n",
       "      <td>The Godfather: Part II</td>\n",
       "      <td>(1974)</td>\n",
       "      <td>[9]</td>\n",
       "    </tr>\n",
       "    <tr>\n",
       "      <th>3</th>\n",
       "      <td>The Dark Knight</td>\n",
       "      <td>(2008)</td>\n",
       "      <td>[9]</td>\n",
       "    </tr>\n",
       "    <tr>\n",
       "      <th>4</th>\n",
       "      <td>12 Angry Men</td>\n",
       "      <td>(1957)</td>\n",
       "      <td>[9]</td>\n",
       "    </tr>\n",
       "    <tr>\n",
       "      <th>...</th>\n",
       "      <td>...</td>\n",
       "      <td>...</td>\n",
       "      <td>...</td>\n",
       "    </tr>\n",
       "    <tr>\n",
       "      <th>95</th>\n",
       "      <td>North by Northwest</td>\n",
       "      <td>(1959)</td>\n",
       "      <td>[8.3]</td>\n",
       "    </tr>\n",
       "    <tr>\n",
       "      <th>96</th>\n",
       "      <td>A Clockwork Orange</td>\n",
       "      <td>(1971)</td>\n",
       "      <td>[8.3]</td>\n",
       "    </tr>\n",
       "    <tr>\n",
       "      <th>97</th>\n",
       "      <td>Snatch</td>\n",
       "      <td>(2000)</td>\n",
       "      <td>[8.3]</td>\n",
       "    </tr>\n",
       "    <tr>\n",
       "      <th>98</th>\n",
       "      <td>Le fabuleux destin d'Amélie Poulain</td>\n",
       "      <td>(2001)</td>\n",
       "      <td>[8.3]</td>\n",
       "    </tr>\n",
       "    <tr>\n",
       "      <th>99</th>\n",
       "      <td>The Kid</td>\n",
       "      <td>(1921)</td>\n",
       "      <td>[8.3]</td>\n",
       "    </tr>\n",
       "  </tbody>\n",
       "</table>\n",
       "<p>100 rows × 3 columns</p>\n",
       "</div>"
      ],
      "text/plain": [
       "                                   Name    Year Rating\n",
       "0              The Shawshank Redemption  (1994)  [9.3]\n",
       "1                         The Godfather  (1972)  [9.2]\n",
       "2                The Godfather: Part II  (1974)    [9]\n",
       "3                       The Dark Knight  (2008)    [9]\n",
       "4                          12 Angry Men  (1957)    [9]\n",
       "..                                  ...     ...    ...\n",
       "95                   North by Northwest  (1959)  [8.3]\n",
       "96                   A Clockwork Orange  (1971)  [8.3]\n",
       "97                               Snatch  (2000)  [8.3]\n",
       "98  Le fabuleux destin d'Amélie Poulain  (2001)  [8.3]\n",
       "99                              The Kid  (1921)  [8.3]\n",
       "\n",
       "[100 rows x 3 columns]"
      ]
     },
     "execution_count": 17,
     "metadata": {},
     "output_type": "execute_result"
    }
   ],
   "source": [
    "df"
   ]
  },
  {
   "cell_type": "code",
   "execution_count": null,
   "id": "7aa99d9f",
   "metadata": {},
   "outputs": [],
   "source": []
  }
 ],
 "metadata": {
  "kernelspec": {
   "display_name": "Python 3",
   "language": "python",
   "name": "python3"
  },
  "language_info": {
   "codemirror_mode": {
    "name": "ipython",
    "version": 3
   },
   "file_extension": ".py",
   "mimetype": "text/x-python",
   "name": "python",
   "nbconvert_exporter": "python",
   "pygments_lexer": "ipython3",
   "version": "3.8.8"
  }
 },
 "nbformat": 4,
 "nbformat_minor": 5
}
