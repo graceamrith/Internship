{
 "cells": [
  {
   "cell_type": "code",
   "execution_count": 44,
   "id": "c3f053ef",
   "metadata": {},
   "outputs": [],
   "source": [
    "import pandas as pd\n",
    "import requests\n",
    "from bs4 import BeautifulSoup\n",
    "\n"
   ]
  },
  {
   "cell_type": "code",
   "execution_count": 45,
   "id": "3d3e7427",
   "metadata": {},
   "outputs": [],
   "source": [
    "url='https://www.dineout.co.in/delhi-restaurants/buffet-special'\n",
    "response=requests.get(url)\n",
    "soup=BeautifulSoup(response.content)\n"
   ]
  },
  {
   "cell_type": "code",
   "execution_count": 46,
   "id": "6be33a11",
   "metadata": {},
   "outputs": [],
   "source": [
    "name=soup.find('div',class_='restnt-info cursor').text\n",
    "names=[]\n",
    "for i in soup.findAll('div',class_='restnt-info cursor'):\n",
    "    names.append(i.text)\n"
   ]
  },
  {
   "cell_type": "code",
   "execution_count": 47,
   "id": "aa7adfa7",
   "metadata": {},
   "outputs": [
    {
     "data": {
      "text/plain": [
       "['Castle BarbequeConnaught Place, Central Delhi',\n",
       " 'Jungle Jamboree3CS Mall,Lajpat Nagar - 3, South Delhi',\n",
       " 'Castle BarbequePacific Mall,Tagore Garden, West Delhi',\n",
       " 'Cafe KnoshThe Leela Ambience Convention Hotel,Shahdara, East Delhi',\n",
       " 'The Barbeque CompanyGardens Galleria,Sector 38A, Noida',\n",
       " 'India GrillHilton Garden Inn,Saket, South Delhi',\n",
       " 'Delhi BarbequeTaurus Sarovar Portico,Mahipalpur, South Delhi',\n",
       " 'The Monarch - Bar Be Que VillageIndirapuram Habitat Centre,Indirapuram, Ghaziabad',\n",
       " 'World CafeVibe by The Lalit Traveller,Sector 35, Faridabad',\n",
       " 'Indian Grill RoomSuncity Business Tower,Golf Course Road, Gurgaon',\n",
       " 'Mad 4 Bar B QueSector 29, Faridabad',\n",
       " 'Barbeque 29NIT, Faridabad',\n",
       " 'GlasshouseDoubleTree By Hilton Gurugram Baani Square,Sector 50, Gurgaon']"
      ]
     },
     "execution_count": 47,
     "metadata": {},
     "output_type": "execute_result"
    }
   ],
   "source": [
    "names"
   ]
  },
  {
   "cell_type": "code",
   "execution_count": 48,
   "id": "c1f80d8d",
   "metadata": {},
   "outputs": [],
   "source": [
    "location=soup.find('div',class_='restnt-loc ellipsis').text\n",
    "locations=[]\n",
    "for i in soup.findAll('div',class_='restnt-loc ellipsis'):\n",
    "    locations.append(i.text)\n"
   ]
  },
  {
   "cell_type": "code",
   "execution_count": 49,
   "id": "8ff523a6",
   "metadata": {},
   "outputs": [
    {
     "data": {
      "text/plain": [
       "['Connaught Place, Central Delhi',\n",
       " '3CS Mall,Lajpat Nagar - 3, South Delhi',\n",
       " 'Pacific Mall,Tagore Garden, West Delhi',\n",
       " 'The Leela Ambience Convention Hotel,Shahdara, East Delhi',\n",
       " 'Gardens Galleria,Sector 38A, Noida',\n",
       " 'Hilton Garden Inn,Saket, South Delhi',\n",
       " 'Taurus Sarovar Portico,Mahipalpur, South Delhi',\n",
       " 'Indirapuram Habitat Centre,Indirapuram, Ghaziabad',\n",
       " 'Vibe by The Lalit Traveller,Sector 35, Faridabad',\n",
       " 'Suncity Business Tower,Golf Course Road, Gurgaon',\n",
       " 'Sector 29, Faridabad',\n",
       " 'NIT, Faridabad',\n",
       " 'DoubleTree By Hilton Gurugram Baani Square,Sector 50, Gurgaon']"
      ]
     },
     "execution_count": 49,
     "metadata": {},
     "output_type": "execute_result"
    }
   ],
   "source": [
    "locations"
   ]
  },
  {
   "cell_type": "code",
   "execution_count": null,
   "id": "12a2cb83",
   "metadata": {},
   "outputs": [],
   "source": [
    "\n"
   ]
  },
  {
   "cell_type": "code",
   "execution_count": 55,
   "id": "5633b04a",
   "metadata": {},
   "outputs": [
    {
     "data": {
      "text/plain": [
       "['3.4',\n",
       " '3.9',\n",
       " '4',\n",
       " '4.3',\n",
       " '4.1',\n",
       " '3.9',\n",
       " '3.7',\n",
       " '4',\n",
       " '4.4',\n",
       " '4.3',\n",
       " '3.8',\n",
       " '4.3',\n",
       " '4']"
      ]
     },
     "execution_count": 55,
     "metadata": {},
     "output_type": "execute_result"
    }
   ],
   "source": [
    "rating=[]\n",
    "\n",
    "for i in soup.find_all(\"div\", class_=\"restnt-rating rating-3\"):\n",
    "\n",
    "    rating.append(i.text)\n",
    "\n",
    "for i in soup.find_all(\"div\", class_=\"restnt-rating rating-4\"):\n",
    "\n",
    "    rating.append(i.text)\n",
    "\n",
    "rating"
   ]
  },
  {
   "cell_type": "code",
   "execution_count": 51,
   "id": "5ecd1e04",
   "metadata": {},
   "outputs": [
    {
     "data": {
      "text/plain": [
       "[]"
      ]
     },
     "execution_count": 51,
     "metadata": {},
     "output_type": "execute_result"
    }
   ],
   "source": [
    "ratings"
   ]
  },
  {
   "cell_type": "code",
   "execution_count": 52,
   "id": "2b501c30",
   "metadata": {},
   "outputs": [],
   "source": [
    "cuisine=soup.find('div',class_='detail-info')\n",
    "cuisine.text.split('|')[1]\n",
    "cuisines=[]\n",
    "for i in soup.findAll('div',class_='detail-info'):\n",
    "    cuisines.append(i.text)\n"
   ]
  },
  {
   "cell_type": "code",
   "execution_count": 53,
   "id": "342e208f",
   "metadata": {},
   "outputs": [
    {
     "data": {
      "text/plain": [
       "['₹ 2,000 for 2 (approx) | Chinese, North Indian',\n",
       " '₹ 1,400 for 2 (approx) | North Indian, Barbecue, Italian, Asian',\n",
       " '₹ 2,000 for 2 (approx) | North Indian, Chinese',\n",
       " '₹ 3,000 for 2 (approx) | Multi-Cuisine, North Indian, Italian, Continental, Mediterranean1 offer available',\n",
       " '₹ 1,800 for 2 (approx) | Barbecue, Chinese, Mughlai, North Indian',\n",
       " '₹ 2,400 for 2 (approx) | North Indian, Italian, Oriental 1 offer available',\n",
       " '₹ 1,500 for 2 (approx) | Barbecue, North Indian1 offer available',\n",
       " '₹ 1,600 for 2 (approx) | North Indian, Chinese, Fast Food1 offer available',\n",
       " '₹ 900 for 2 (approx) | North Indian, Chinese, Continental1 offer available',\n",
       " '₹ 2,200 for 2 (approx) | North Indian, Mughlai, Barbecue',\n",
       " '₹ 800 for 2 (approx) | North Indian, Mughlai',\n",
       " '₹ 1,500 for 2 (approx) | Barbecue, Chinese, North Indian',\n",
       " '₹ 3,400 for 2 (approx) | Multi-Cuisine, Asian, European, Italian, North Indian1 offer available']"
      ]
     },
     "execution_count": 53,
     "metadata": {},
     "output_type": "execute_result"
    }
   ],
   "source": [
    "cuisines"
   ]
  },
  {
   "cell_type": "code",
   "execution_count": 54,
   "id": "8cf189af",
   "metadata": {},
   "outputs": [
    {
     "data": {
      "text/plain": [
       "['https://im1.dineout.co.in/images/uploads/restaurant/sharpen/8/k/b/p86792-16062953735fbe1f4d3fb7e.jpg?tr=tr:n-medium',\n",
       " 'https://im1.dineout.co.in/images/uploads/restaurant/sharpen/5/a/k/p59633-16046474755fa4fa33c0e92.jpg?tr=tr:n-medium',\n",
       " 'https://im1.dineout.co.in/images/uploads/restaurant/sharpen/3/j/o/p38113-15959192065f1fcb666130c.jpg?tr=tr:n-medium',\n",
       " 'https://im1.dineout.co.in/images/uploads/restaurant/sharpen/4/j/v/p406-163401663361651d79326d0.jpg?tr=tr:n-medium',\n",
       " 'https://im1.dineout.co.in/images/uploads/restaurant/sharpen/7/q/d/p79307-16051787075fad15532bd7c.jpg?tr=tr:n-medium',\n",
       " 'https://im1.dineout.co.in/images/uploads/restaurant/sharpen/2/v/t/p2687-1482477169585cce712b90f.jpg?tr=tr:n-medium',\n",
       " 'https://im1.dineout.co.in/images/uploads/restaurant/sharpen/5/v/f/p52501-16006856545f68865616659.jpg?tr=tr:n-medium',\n",
       " 'https://im1.dineout.co.in/images/uploads/restaurant/sharpen/3/n/o/p34822-15599107305cfa594a13c24.jpg?tr=tr:n-medium',\n",
       " 'https://im1.dineout.co.in/images/uploads/restaurant/sharpen/1/p/y/p12366-1466935020576fa6ecdc359.jpg?tr=tr:n-medium',\n",
       " 'https://im1.dineout.co.in/images/uploads/restaurant/sharpen/5/y/y/p549-15143767525a438e30b3e19.jpg?tr=tr:n-medium',\n",
       " 'https://im1.dineout.co.in/images/uploads/restaurant/sharpen/4/j/e/p43488-15295778165b2b8158ceeef.jpg?tr=tr:n-medium',\n",
       " 'https://im1.dineout.co.in/images/uploads/restaurant/sharpen/5/w/r/p58842-15624171585d209806d9143.jpg?tr=tr:n-medium',\n",
       " 'https://im1.dineout.co.in/images/uploads/restaurant/sharpen/9/m/f/p9875-16057921085fb6716cc44f8.jpg?tr=tr:n-medium']"
      ]
     },
     "execution_count": 54,
     "metadata": {},
     "output_type": "execute_result"
    }
   ],
   "source": [
    "images = []\n",
    "\n",
    "for i in soup.find_all(\"img\", class_=\"no-img\"):\n",
    "\n",
    "    images.append(i['data-src'])\n",
    "\n",
    "images\n"
   ]
  },
  {
   "cell_type": "code",
   "execution_count": 57,
   "id": "292bff28",
   "metadata": {},
   "outputs": [],
   "source": [
    "Weather_df=pd.DataFrame({'Name':names,'location':locations,'rating':rating,'cuisine':cuisines,'Image':images})"
   ]
  },
  {
   "cell_type": "code",
   "execution_count": 58,
   "id": "da20b983",
   "metadata": {},
   "outputs": [
    {
     "data": {
      "text/html": [
       "<div>\n",
       "<style scoped>\n",
       "    .dataframe tbody tr th:only-of-type {\n",
       "        vertical-align: middle;\n",
       "    }\n",
       "\n",
       "    .dataframe tbody tr th {\n",
       "        vertical-align: top;\n",
       "    }\n",
       "\n",
       "    .dataframe thead th {\n",
       "        text-align: right;\n",
       "    }\n",
       "</style>\n",
       "<table border=\"1\" class=\"dataframe\">\n",
       "  <thead>\n",
       "    <tr style=\"text-align: right;\">\n",
       "      <th></th>\n",
       "      <th>Name</th>\n",
       "      <th>location</th>\n",
       "      <th>rating</th>\n",
       "      <th>cuisine</th>\n",
       "      <th>Image</th>\n",
       "    </tr>\n",
       "  </thead>\n",
       "  <tbody>\n",
       "    <tr>\n",
       "      <th>0</th>\n",
       "      <td>Castle BarbequeConnaught Place, Central Delhi</td>\n",
       "      <td>Connaught Place, Central Delhi</td>\n",
       "      <td>3.4</td>\n",
       "      <td>₹ 2,000 for 2 (approx) | Chinese, North Indian</td>\n",
       "      <td>https://im1.dineout.co.in/images/uploads/resta...</td>\n",
       "    </tr>\n",
       "    <tr>\n",
       "      <th>1</th>\n",
       "      <td>Jungle Jamboree3CS Mall,Lajpat Nagar - 3, Sout...</td>\n",
       "      <td>3CS Mall,Lajpat Nagar - 3, South Delhi</td>\n",
       "      <td>3.9</td>\n",
       "      <td>₹ 1,400 for 2 (approx) | North Indian, Barbecu...</td>\n",
       "      <td>https://im1.dineout.co.in/images/uploads/resta...</td>\n",
       "    </tr>\n",
       "    <tr>\n",
       "      <th>2</th>\n",
       "      <td>Castle BarbequePacific Mall,Tagore Garden, Wes...</td>\n",
       "      <td>Pacific Mall,Tagore Garden, West Delhi</td>\n",
       "      <td>4</td>\n",
       "      <td>₹ 2,000 for 2 (approx) | North Indian, Chinese</td>\n",
       "      <td>https://im1.dineout.co.in/images/uploads/resta...</td>\n",
       "    </tr>\n",
       "    <tr>\n",
       "      <th>3</th>\n",
       "      <td>Cafe KnoshThe Leela Ambience Convention Hotel,...</td>\n",
       "      <td>The Leela Ambience Convention Hotel,Shahdara, ...</td>\n",
       "      <td>4.3</td>\n",
       "      <td>₹ 3,000 for 2 (approx) | Multi-Cuisine, North ...</td>\n",
       "      <td>https://im1.dineout.co.in/images/uploads/resta...</td>\n",
       "    </tr>\n",
       "    <tr>\n",
       "      <th>4</th>\n",
       "      <td>The Barbeque CompanyGardens Galleria,Sector 38...</td>\n",
       "      <td>Gardens Galleria,Sector 38A, Noida</td>\n",
       "      <td>4.1</td>\n",
       "      <td>₹ 1,800 for 2 (approx) | Barbecue, Chinese, Mu...</td>\n",
       "      <td>https://im1.dineout.co.in/images/uploads/resta...</td>\n",
       "    </tr>\n",
       "    <tr>\n",
       "      <th>5</th>\n",
       "      <td>India GrillHilton Garden Inn,Saket, South Delhi</td>\n",
       "      <td>Hilton Garden Inn,Saket, South Delhi</td>\n",
       "      <td>3.9</td>\n",
       "      <td>₹ 2,400 for 2 (approx) | North Indian, Italian...</td>\n",
       "      <td>https://im1.dineout.co.in/images/uploads/resta...</td>\n",
       "    </tr>\n",
       "    <tr>\n",
       "      <th>6</th>\n",
       "      <td>Delhi BarbequeTaurus Sarovar Portico,Mahipalpu...</td>\n",
       "      <td>Taurus Sarovar Portico,Mahipalpur, South Delhi</td>\n",
       "      <td>3.7</td>\n",
       "      <td>₹ 1,500 for 2 (approx) | Barbecue, North India...</td>\n",
       "      <td>https://im1.dineout.co.in/images/uploads/resta...</td>\n",
       "    </tr>\n",
       "    <tr>\n",
       "      <th>7</th>\n",
       "      <td>The Monarch - Bar Be Que VillageIndirapuram Ha...</td>\n",
       "      <td>Indirapuram Habitat Centre,Indirapuram, Ghaziabad</td>\n",
       "      <td>4</td>\n",
       "      <td>₹ 1,600 for 2 (approx) | North Indian, Chinese...</td>\n",
       "      <td>https://im1.dineout.co.in/images/uploads/resta...</td>\n",
       "    </tr>\n",
       "    <tr>\n",
       "      <th>8</th>\n",
       "      <td>World CafeVibe by The Lalit Traveller,Sector 3...</td>\n",
       "      <td>Vibe by The Lalit Traveller,Sector 35, Faridabad</td>\n",
       "      <td>4.4</td>\n",
       "      <td>₹ 900 for 2 (approx) | North Indian, Chinese, ...</td>\n",
       "      <td>https://im1.dineout.co.in/images/uploads/resta...</td>\n",
       "    </tr>\n",
       "    <tr>\n",
       "      <th>9</th>\n",
       "      <td>Indian Grill RoomSuncity Business Tower,Golf C...</td>\n",
       "      <td>Suncity Business Tower,Golf Course Road, Gurgaon</td>\n",
       "      <td>4.3</td>\n",
       "      <td>₹ 2,200 for 2 (approx) | North Indian, Mughlai...</td>\n",
       "      <td>https://im1.dineout.co.in/images/uploads/resta...</td>\n",
       "    </tr>\n",
       "    <tr>\n",
       "      <th>10</th>\n",
       "      <td>Mad 4 Bar B QueSector 29, Faridabad</td>\n",
       "      <td>Sector 29, Faridabad</td>\n",
       "      <td>3.8</td>\n",
       "      <td>₹ 800 for 2 (approx) | North Indian, Mughlai</td>\n",
       "      <td>https://im1.dineout.co.in/images/uploads/resta...</td>\n",
       "    </tr>\n",
       "    <tr>\n",
       "      <th>11</th>\n",
       "      <td>Barbeque 29NIT, Faridabad</td>\n",
       "      <td>NIT, Faridabad</td>\n",
       "      <td>4.3</td>\n",
       "      <td>₹ 1,500 for 2 (approx) | Barbecue, Chinese, No...</td>\n",
       "      <td>https://im1.dineout.co.in/images/uploads/resta...</td>\n",
       "    </tr>\n",
       "    <tr>\n",
       "      <th>12</th>\n",
       "      <td>GlasshouseDoubleTree By Hilton Gurugram Baani ...</td>\n",
       "      <td>DoubleTree By Hilton Gurugram Baani Square,Sec...</td>\n",
       "      <td>4</td>\n",
       "      <td>₹ 3,400 for 2 (approx) | Multi-Cuisine, Asian,...</td>\n",
       "      <td>https://im1.dineout.co.in/images/uploads/resta...</td>\n",
       "    </tr>\n",
       "  </tbody>\n",
       "</table>\n",
       "</div>"
      ],
      "text/plain": [
       "                                                 Name  \\\n",
       "0       Castle BarbequeConnaught Place, Central Delhi   \n",
       "1   Jungle Jamboree3CS Mall,Lajpat Nagar - 3, Sout...   \n",
       "2   Castle BarbequePacific Mall,Tagore Garden, Wes...   \n",
       "3   Cafe KnoshThe Leela Ambience Convention Hotel,...   \n",
       "4   The Barbeque CompanyGardens Galleria,Sector 38...   \n",
       "5     India GrillHilton Garden Inn,Saket, South Delhi   \n",
       "6   Delhi BarbequeTaurus Sarovar Portico,Mahipalpu...   \n",
       "7   The Monarch - Bar Be Que VillageIndirapuram Ha...   \n",
       "8   World CafeVibe by The Lalit Traveller,Sector 3...   \n",
       "9   Indian Grill RoomSuncity Business Tower,Golf C...   \n",
       "10                Mad 4 Bar B QueSector 29, Faridabad   \n",
       "11                          Barbeque 29NIT, Faridabad   \n",
       "12  GlasshouseDoubleTree By Hilton Gurugram Baani ...   \n",
       "\n",
       "                                             location rating  \\\n",
       "0                      Connaught Place, Central Delhi    3.4   \n",
       "1              3CS Mall,Lajpat Nagar - 3, South Delhi    3.9   \n",
       "2              Pacific Mall,Tagore Garden, West Delhi      4   \n",
       "3   The Leela Ambience Convention Hotel,Shahdara, ...    4.3   \n",
       "4                  Gardens Galleria,Sector 38A, Noida    4.1   \n",
       "5                Hilton Garden Inn,Saket, South Delhi    3.9   \n",
       "6      Taurus Sarovar Portico,Mahipalpur, South Delhi    3.7   \n",
       "7   Indirapuram Habitat Centre,Indirapuram, Ghaziabad      4   \n",
       "8    Vibe by The Lalit Traveller,Sector 35, Faridabad    4.4   \n",
       "9    Suncity Business Tower,Golf Course Road, Gurgaon    4.3   \n",
       "10                               Sector 29, Faridabad    3.8   \n",
       "11                                     NIT, Faridabad    4.3   \n",
       "12  DoubleTree By Hilton Gurugram Baani Square,Sec...      4   \n",
       "\n",
       "                                              cuisine  \\\n",
       "0      ₹ 2,000 for 2 (approx) | Chinese, North Indian   \n",
       "1   ₹ 1,400 for 2 (approx) | North Indian, Barbecu...   \n",
       "2      ₹ 2,000 for 2 (approx) | North Indian, Chinese   \n",
       "3   ₹ 3,000 for 2 (approx) | Multi-Cuisine, North ...   \n",
       "4   ₹ 1,800 for 2 (approx) | Barbecue, Chinese, Mu...   \n",
       "5   ₹ 2,400 for 2 (approx) | North Indian, Italian...   \n",
       "6   ₹ 1,500 for 2 (approx) | Barbecue, North India...   \n",
       "7   ₹ 1,600 for 2 (approx) | North Indian, Chinese...   \n",
       "8   ₹ 900 for 2 (approx) | North Indian, Chinese, ...   \n",
       "9   ₹ 2,200 for 2 (approx) | North Indian, Mughlai...   \n",
       "10       ₹ 800 for 2 (approx) | North Indian, Mughlai   \n",
       "11  ₹ 1,500 for 2 (approx) | Barbecue, Chinese, No...   \n",
       "12  ₹ 3,400 for 2 (approx) | Multi-Cuisine, Asian,...   \n",
       "\n",
       "                                                Image  \n",
       "0   https://im1.dineout.co.in/images/uploads/resta...  \n",
       "1   https://im1.dineout.co.in/images/uploads/resta...  \n",
       "2   https://im1.dineout.co.in/images/uploads/resta...  \n",
       "3   https://im1.dineout.co.in/images/uploads/resta...  \n",
       "4   https://im1.dineout.co.in/images/uploads/resta...  \n",
       "5   https://im1.dineout.co.in/images/uploads/resta...  \n",
       "6   https://im1.dineout.co.in/images/uploads/resta...  \n",
       "7   https://im1.dineout.co.in/images/uploads/resta...  \n",
       "8   https://im1.dineout.co.in/images/uploads/resta...  \n",
       "9   https://im1.dineout.co.in/images/uploads/resta...  \n",
       "10  https://im1.dineout.co.in/images/uploads/resta...  \n",
       "11  https://im1.dineout.co.in/images/uploads/resta...  \n",
       "12  https://im1.dineout.co.in/images/uploads/resta...  "
      ]
     },
     "execution_count": 58,
     "metadata": {},
     "output_type": "execute_result"
    }
   ],
   "source": [
    "Weather_df"
   ]
  },
  {
   "cell_type": "code",
   "execution_count": null,
   "id": "359ad927",
   "metadata": {},
   "outputs": [],
   "source": []
  }
 ],
 "metadata": {
  "kernelspec": {
   "display_name": "Python 3",
   "language": "python",
   "name": "python3"
  },
  "language_info": {
   "codemirror_mode": {
    "name": "ipython",
    "version": 3
   },
   "file_extension": ".py",
   "mimetype": "text/x-python",
   "name": "python",
   "nbconvert_exporter": "python",
   "pygments_lexer": "ipython3",
   "version": "3.8.8"
  }
 },
 "nbformat": 4,
 "nbformat_minor": 5
}
