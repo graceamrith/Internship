{
 "cells": [
  {
   "cell_type": "code",
   "execution_count": 24,
   "id": "a54fdd2b",
   "metadata": {},
   "outputs": [],
   "source": [
    "import pandas as pd\n",
    "import requests\n",
    "from bs4 import BeautifulSoup\n",
    "\n"
   ]
  },
  {
   "cell_type": "code",
   "execution_count": 25,
   "id": "afaf69ab",
   "metadata": {},
   "outputs": [],
   "source": [
    "url='https://en.tutiempo.net/delhi.html?data=last-24-hours'\n",
    "response=requests.get(url)\n",
    "soup=BeautifulSoup(response.content)\n"
   ]
  },
  {
   "cell_type": "code",
   "execution_count": 26,
   "id": "af1079fd",
   "metadata": {},
   "outputs": [],
   "source": [
    "#time=soup.find('td',class_='07:00')\n",
    "Hour=[]\n",
    "#for i in soup.findAll('td',class_='07:00'):\n",
    " #   hour.append(i.text)\n",
    "    \n",
    "for i in soup.find_all ('td',class_='t Temp')[0:24]:\n",
    "    if i.previous_sibling.previous_sibling is not None:\n",
    "\n",
    "        Hour.append(i.previous_sibling.previous_sibling.text)\n",
    "\n",
    "    else:\n",
    "\n",
    "        Hour.append(' ')\n"
   ]
  },
  {
   "cell_type": "code",
   "execution_count": 41,
   "id": "16295ed5",
   "metadata": {},
   "outputs": [
    {
     "data": {
      "text/plain": [
       "['16:00',\n",
       " '15:30',\n",
       " '15:00',\n",
       " '14:30',\n",
       " '14:00',\n",
       " '13:30',\n",
       " '13:00',\n",
       " '12:30',\n",
       " '12:00',\n",
       " '11:30',\n",
       " '11:00',\n",
       " '10:30',\n",
       " '10:00',\n",
       " '09:30',\n",
       " '09:00',\n",
       " '08:30',\n",
       " '08:00',\n",
       " '07:30',\n",
       " '07:00',\n",
       " '06:30',\n",
       " '06:00',\n",
       " '05:30',\n",
       " '05:00',\n",
       " '04:30']"
      ]
     },
     "execution_count": 41,
     "metadata": {},
     "output_type": "execute_result"
    }
   ],
   "source": [
    "Hour"
   ]
  },
  {
   "cell_type": "code",
   "execution_count": 51,
   "id": "264e5f2b",
   "metadata": {},
   "outputs": [],
   "source": [
    "temp=soup.find('div',class_='restnt-loc ellipsis')\n",
    "temperature=[]\n",
    "for i in soup.find_all('td',class_='t Temp'):\n",
    "   temperature.append(i.text)\n",
    "\n"
   ]
  },
  {
   "cell_type": "code",
   "execution_count": 40,
   "id": "1a52a732",
   "metadata": {},
   "outputs": [
    {
     "data": {
      "text/plain": [
       "['29°C',\n",
       " '30°C',\n",
       " '30°C',\n",
       " '30°C',\n",
       " '30°C',\n",
       " '29°C',\n",
       " '29°C',\n",
       " '29°C',\n",
       " '28°C',\n",
       " '28°C',\n",
       " '28°C',\n",
       " '28°C',\n",
       " '27°C',\n",
       " '26°C',\n",
       " '25°C',\n",
       " '24°C',\n",
       " '23°C',\n",
       " '21°C',\n",
       " '20°C',\n",
       " '20°C',\n",
       " '20°C',\n",
       " '20°C',\n",
       " '20°C',\n",
       " '21°C',\n",
       " '21°C',\n",
       " '22°C',\n",
       " '22°C',\n",
       " '22°C',\n",
       " '22°C',\n",
       " '22°C',\n",
       " '22°C',\n",
       " '22°C',\n",
       " '22°C',\n",
       " '22°C',\n",
       " '23°C',\n",
       " '24°C',\n",
       " '24°C',\n",
       " '24°C',\n",
       " '25°C',\n",
       " '25°C',\n",
       " '27°C',\n",
       " '28°C',\n",
       " '28°C',\n",
       " '29°C',\n",
       " '29°C',\n",
       " '30°C',\n",
       " '31°C',\n",
       " '31°C',\n",
       " '31°C',\n",
       " '31°C']"
      ]
     },
     "execution_count": 40,
     "metadata": {},
     "output_type": "execute_result"
    }
   ],
   "source": [
    "temperature"
   ]
  },
  {
   "cell_type": "code",
   "execution_count": 42,
   "id": "736b12ea",
   "metadata": {},
   "outputs": [],
   "source": [
    "speed=soup.find('td',class_='wind')\n",
    "winds=[]\n",
    "for i in soup.find_all('td',class_='wind'):\n",
    "    winds.append(i.text)\n"
   ]
  },
  {
   "cell_type": "code",
   "execution_count": 43,
   "id": "59518430",
   "metadata": {},
   "outputs": [
    {
     "data": {
      "text/plain": [
       "['9 km/h',\n",
       " '11 km/h',\n",
       " '13 km/h',\n",
       " '9 km/h',\n",
       " '11 km/h',\n",
       " '13 km/h',\n",
       " '9 km/h',\n",
       " '7 km/h',\n",
       " '7 km/h',\n",
       " '7 km/h',\n",
       " '7 km/h',\n",
       " '7 km/h',\n",
       " '6 km/h',\n",
       " '6 km/h',\n",
       " 'Calm',\n",
       " 'Calm',\n",
       " 'Calm',\n",
       " 'Calm',\n",
       " 'Calm',\n",
       " 'Calm',\n",
       " 'Calm',\n",
       " 'Calm',\n",
       " 'Calm',\n",
       " 'Calm',\n",
       " 'Calm',\n",
       " 'Calm',\n",
       " 'Calm',\n",
       " 'Calm',\n",
       " 'Calm',\n",
       " 'Calm',\n",
       " 'Calm',\n",
       " 'Calm',\n",
       " 'Calm',\n",
       " 'Calm',\n",
       " 'Calm',\n",
       " 'Calm',\n",
       " 'Calm',\n",
       " 'Calm',\n",
       " 'Calm',\n",
       " 'Calm',\n",
       " 'Calm',\n",
       " 'Calm',\n",
       " 'Calm',\n",
       " 'Calm',\n",
       " 'Calm',\n",
       " '6 km/h',\n",
       " '6 km/h',\n",
       " '11 km/h',\n",
       " '11 km/h',\n",
       " '11 km/h']"
      ]
     },
     "execution_count": 43,
     "metadata": {},
     "output_type": "execute_result"
    }
   ],
   "source": [
    "winds"
   ]
  },
  {
   "cell_type": "code",
   "execution_count": 44,
   "id": "16e6d7bd",
   "metadata": {},
   "outputs": [],
   "source": [
    "WC=soup.find('span',class_='thhip ico i0530 u303')\n",
    "weather=[]\n",
    "for i in soup.find_all('span',class_='thhip ico i0530 u303'):\n",
    "    weather.append(i.text)\n"
   ]
  },
  {
   "cell_type": "code",
   "execution_count": 45,
   "id": "bed91792",
   "metadata": {},
   "outputs": [
    {
     "data": {
      "text/plain": [
       "['Mist',\n",
       " 'Mist',\n",
       " 'Mist',\n",
       " 'Mist',\n",
       " 'Mist',\n",
       " 'Mist',\n",
       " 'Mist',\n",
       " 'Mist',\n",
       " 'Mist',\n",
       " 'Mist',\n",
       " 'Mist',\n",
       " 'Mist',\n",
       " 'Mist',\n",
       " 'Mist',\n",
       " 'Mist']"
      ]
     },
     "execution_count": 45,
     "metadata": {},
     "output_type": "execute_result"
    }
   ],
   "source": [
    "weather"
   ]
  },
  {
   "cell_type": "code",
   "execution_count": 46,
   "id": "4982957d",
   "metadata": {},
   "outputs": [],
   "source": [
    "Hum=soup.find('td',class_='hr')\n",
    "humidity=[]\n",
    "for i in soup.find_all('td',class_='hr'):\n",
    "    humidity.append(i.text)\n"
   ]
  },
  {
   "cell_type": "code",
   "execution_count": 47,
   "id": "9cf4cd32",
   "metadata": {},
   "outputs": [
    {
     "data": {
      "text/plain": [
       "['40%',\n",
       " '35%',\n",
       " '38%',\n",
       " '38%',\n",
       " '38%',\n",
       " '40%',\n",
       " '40%',\n",
       " '43%',\n",
       " '45%',\n",
       " '48%',\n",
       " '48%',\n",
       " '42%',\n",
       " '51%',\n",
       " '54%',\n",
       " '61%',\n",
       " '69%',\n",
       " '78%',\n",
       " '88%',\n",
       " '88%',\n",
       " '88%',\n",
       " '88%',\n",
       " '88%',\n",
       " '88%',\n",
       " '88%',\n",
       " '88%',\n",
       " '88%',\n",
       " '88%',\n",
       " '88%',\n",
       " '88%',\n",
       " '88%',\n",
       " '88%',\n",
       " '88%',\n",
       " '88%',\n",
       " '88%',\n",
       " '73%',\n",
       " '69%',\n",
       " '69%',\n",
       " '69%',\n",
       " '65%',\n",
       " '65%',\n",
       " '62%',\n",
       " '58%',\n",
       " '58%',\n",
       " '52%',\n",
       " '52%',\n",
       " '46%',\n",
       " '43%',\n",
       " '43%',\n",
       " '43%',\n",
       " '43%']"
      ]
     },
     "execution_count": 47,
     "metadata": {},
     "output_type": "execute_result"
    }
   ],
   "source": [
    "humidity"
   ]
  },
  {
   "cell_type": "code",
   "execution_count": 48,
   "id": "c8f71e90",
   "metadata": {},
   "outputs": [],
   "source": [
    "pre=soup.find('td',class_='prob')\n",
    "pressure=[]\n",
    "for i in soup.find_all('td',class_='prob'):\n",
    "    pressure.append(i)\n",
    "\n",
    "\n"
   ]
  },
  {
   "cell_type": "code",
   "execution_count": 49,
   "id": "5007b410",
   "metadata": {},
   "outputs": [
    {
     "data": {
      "text/plain": [
       "[<td class=\"prob\">1012 hPa</td>,\n",
       " <td class=\"prob\">1012 hPa</td>,\n",
       " <td class=\"prob\">1012 hPa</td>,\n",
       " <td class=\"prob\">1012 hPa</td>,\n",
       " <td class=\"prob\">1012 hPa</td>,\n",
       " <td class=\"prob\">1013 hPa</td>,\n",
       " <td class=\"prob\">1013 hPa</td>,\n",
       " <td class=\"prob\">1013 hPa</td>,\n",
       " <td class=\"prob\">1014 hPa</td>,\n",
       " <td class=\"prob\">1015 hPa</td>,\n",
       " <td class=\"prob\">1015 hPa</td>,\n",
       " <td class=\"prob\">1015 hPa</td>,\n",
       " <td class=\"prob\">1015 hPa</td>,\n",
       " <td class=\"prob\">1015 hPa</td>,\n",
       " <td class=\"prob\">1015 hPa</td>,\n",
       " <td class=\"prob\">1014 hPa</td>,\n",
       " <td class=\"prob\">1014 hPa</td>,\n",
       " <td class=\"prob\">1013 hPa</td>,\n",
       " <td class=\"prob\">1013 hPa</td>,\n",
       " <td class=\"prob\">1012 hPa</td>,\n",
       " <td class=\"prob\">1012 hPa</td>,\n",
       " <td class=\"prob\">1012 hPa</td>,\n",
       " <td class=\"prob\">1011 hPa</td>,\n",
       " <td class=\"prob\">1011 hPa</td>,\n",
       " <td class=\"prob\">1011 hPa</td>,\n",
       " <td class=\"prob\">1011 hPa</td>,\n",
       " <td class=\"prob\">1011 hPa</td>,\n",
       " <td class=\"prob\">1011 hPa</td>,\n",
       " <td class=\"prob\">1012 hPa</td>,\n",
       " <td class=\"prob\">1012 hPa</td>,\n",
       " <td class=\"prob\">1012 hPa</td>,\n",
       " <td class=\"prob\">1012 hPa</td>,\n",
       " <td class=\"prob\">1012 hPa</td>,\n",
       " <td class=\"prob\">1012 hPa</td>,\n",
       " <td class=\"prob\">1012 hPa</td>,\n",
       " <td class=\"prob\">1012 hPa</td>,\n",
       " <td class=\"prob\">1012 hPa</td>,\n",
       " <td class=\"prob\">1012 hPa</td>,\n",
       " <td class=\"prob\">1012 hPa</td>,\n",
       " <td class=\"prob\">1011 hPa</td>,\n",
       " <td class=\"prob\">1011 hPa</td>,\n",
       " <td class=\"prob\">1011 hPa</td>,\n",
       " <td class=\"prob\">1011 hPa</td>,\n",
       " <td class=\"prob\">1010 hPa</td>,\n",
       " <td class=\"prob\">1010 hPa</td>,\n",
       " <td class=\"prob\">1010 hPa</td>,\n",
       " <td class=\"prob\">1010 hPa</td>,\n",
       " <td class=\"prob\">1010 hPa</td>,\n",
       " <td class=\"prob\">1010 hPa</td>,\n",
       " <td class=\"prob\">1010 hPa</td>]"
      ]
     },
     "execution_count": 49,
     "metadata": {},
     "output_type": "execute_result"
    }
   ],
   "source": [
    "pressure"
   ]
  },
  {
   "cell_type": "code",
   "execution_count": null,
   "id": "8bccf0ca",
   "metadata": {},
   "outputs": [],
   "source": []
  },
  {
   "cell_type": "code",
   "execution_count": null,
   "id": "780b50f6",
   "metadata": {},
   "outputs": [],
   "source": []
  }
 ],
 "metadata": {
  "kernelspec": {
   "display_name": "Python 3",
   "language": "python",
   "name": "python3"
  },
  "language_info": {
   "codemirror_mode": {
    "name": "ipython",
    "version": 3
   },
   "file_extension": ".py",
   "mimetype": "text/x-python",
   "name": "python",
   "nbconvert_exporter": "python",
   "pygments_lexer": "ipython3",
   "version": "3.8.8"
  }
 },
 "nbformat": 4,
 "nbformat_minor": 5
}
