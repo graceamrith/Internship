{
 "cells": [
  {
   "cell_type": "code",
   "execution_count": 3,
   "id": "c7188eeb",
   "metadata": {},
   "outputs": [],
   "source": [
    "import pandas as pd\n",
    "import requests\n",
    "from bs4 import BeautifulSoup\n",
    "\n",
    "\n"
   ]
  },
  {
   "cell_type": "code",
   "execution_count": 4,
   "id": "ff857404",
   "metadata": {},
   "outputs": [],
   "source": [
    "url='https://www.icc-cricket.com/rankings/womens/player-rankings/odi/all-rounder'\n",
    "response=requests.get(url)\n",
    "soup=BeautifulSoup(response.content, 'html.parser')"
   ]
  },
  {
   "cell_type": "code",
   "execution_count": 5,
   "id": "8e7ff89e",
   "metadata": {},
   "outputs": [
    {
     "data": {
      "text/plain": [
       "'Marizanne Kapp'"
      ]
     },
     "execution_count": 5,
     "metadata": {},
     "output_type": "execute_result"
    }
   ],
   "source": [
    "names=[]\n",
    "first_name=[]\n",
    "first_name_1=soup.find('div', class_=\"rankings-block__banner--name-large\").text\n",
    "\n",
    "first_name_1\n"
   ]
  },
  {
   "cell_type": "code",
   "execution_count": 6,
   "id": "c6752ae3",
   "metadata": {},
   "outputs": [],
   "source": [
    "names=[]\n",
    "team=soup.find_all('td', class_=\"table-body__cell rankings-table__name name\")\n",
    "for x in range(0,9):\n",
    "    names.append(team[x].get_text().replace(\"\\n\",\"\"))\n",
    "names.insert(0,first_name_1)  "
   ]
  },
  {
   "cell_type": "code",
   "execution_count": 7,
   "id": "0caf493d",
   "metadata": {},
   "outputs": [
    {
     "data": {
      "text/plain": [
       "['Marizanne Kapp',\n",
       " 'Natalie Sciver',\n",
       " 'Ellyse Perry',\n",
       " 'Stafanie Taylor',\n",
       " 'Deepti Sharma',\n",
       " 'Ashleigh Gardner',\n",
       " 'Dane van Niekerk',\n",
       " 'Jess Jonassen',\n",
       " 'Katherine Brunt',\n",
       " 'Jhulan Goswami']"
      ]
     },
     "execution_count": 7,
     "metadata": {},
     "output_type": "execute_result"
    }
   ],
   "source": [
    "names"
   ]
  },
  {
   "cell_type": "code",
   "execution_count": 8,
   "id": "54c47216",
   "metadata": {},
   "outputs": [],
   "source": [
    "first_team=soup.find('div', class_=\"rankings-block__banner--nationality\").text\n",
    "Team=[]  \n",
    "\n",
    "\n",
    "team_name=soup.find_all('span', class_=\"table-body__logo-text\")\n",
    "for x in range(0,9):\n",
    "    Team.append(team_name[x].get_text().replace(\"\\n\",\"\"))\n",
    "Team.insert(0,first_team)"
   ]
  },
  {
   "cell_type": "code",
   "execution_count": 9,
   "id": "083e1b99",
   "metadata": {},
   "outputs": [
    {
     "data": {
      "text/plain": [
       "['\\n\\nSA\\n', 'ENG', 'AUS', 'WI', 'IND', 'AUS', 'SA', 'AUS', 'ENG', 'IND']"
      ]
     },
     "execution_count": 9,
     "metadata": {},
     "output_type": "execute_result"
    }
   ],
   "source": [
    "Team"
   ]
  },
  {
   "cell_type": "code",
   "execution_count": 10,
   "id": "eace4414",
   "metadata": {},
   "outputs": [],
   "source": [
    "rate_one=soup.find('div', class_=\"rankings-block__banner--rating\").text\n",
    "rating=[]\n",
    "\n",
    "\n",
    "Team_rating=soup.findAll('td', class_=\"table-body__cell rating\")\n",
    "for x in range(0,9):\n",
    "    rating.append(Team_rating[x].get_text().replace(\"\\n\",\"\"))\n",
    "rating.insert(0,rate_one)"
   ]
  },
  {
   "cell_type": "code",
   "execution_count": 11,
   "id": "54437613",
   "metadata": {},
   "outputs": [
    {
     "data": {
      "text/plain": [
       "['384', '372', '365', '322', '299', '275', '274', '272', '272', '251']"
      ]
     },
     "execution_count": 11,
     "metadata": {},
     "output_type": "execute_result"
    }
   ],
   "source": [
    "rating"
   ]
  },
  {
   "cell_type": "code",
   "execution_count": 12,
   "id": "ba2cde89",
   "metadata": {},
   "outputs": [],
   "source": [
    "pos_one=soup.find('td',class_='rankings-block__position').text\n",
    "rank=[]\n",
    "\n",
    "\n",
    "Team_rank=soup.findAll('td',class_='table-body__cell table-body__cell--position u-text-right')\n",
    "for x in range(0,9):\n",
    "    rank.append(Team_rank[x].get_text().replace(\"\\n\",\"\"))\n",
    "rank.insert(0,pos_one)  \n"
   ]
  },
  {
   "cell_type": "code",
   "execution_count": 13,
   "id": "52662fe8",
   "metadata": {},
   "outputs": [
    {
     "data": {
      "text/plain": [
       "['1',\n",
       " '                            2        ',\n",
       " '                            3        ',\n",
       " '                            4        ',\n",
       " '                            5        ',\n",
       " '                            6        ',\n",
       " '                            7        ',\n",
       " '                            8        ',\n",
       " '',\n",
       " '                            10        ']"
      ]
     },
     "execution_count": 13,
     "metadata": {},
     "output_type": "execute_result"
    }
   ],
   "source": [
    "rank"
   ]
  },
  {
   "cell_type": "code",
   "execution_count": 14,
   "id": "f795f42f",
   "metadata": {},
   "outputs": [],
   "source": [
    "data = list(zip(names,Team,rating,rank))"
   ]
  },
  {
   "cell_type": "code",
   "execution_count": 15,
   "id": "44021201",
   "metadata": {},
   "outputs": [],
   "source": [
    "df = pd.DataFrame(data,columns=['names','Team','rating','rank'])"
   ]
  },
  {
   "cell_type": "code",
   "execution_count": 16,
   "id": "5dc87001",
   "metadata": {},
   "outputs": [
    {
     "data": {
      "text/html": [
       "<div>\n",
       "<style scoped>\n",
       "    .dataframe tbody tr th:only-of-type {\n",
       "        vertical-align: middle;\n",
       "    }\n",
       "\n",
       "    .dataframe tbody tr th {\n",
       "        vertical-align: top;\n",
       "    }\n",
       "\n",
       "    .dataframe thead th {\n",
       "        text-align: right;\n",
       "    }\n",
       "</style>\n",
       "<table border=\"1\" class=\"dataframe\">\n",
       "  <thead>\n",
       "    <tr style=\"text-align: right;\">\n",
       "      <th></th>\n",
       "      <th>names</th>\n",
       "      <th>Team</th>\n",
       "      <th>rating</th>\n",
       "      <th>rank</th>\n",
       "    </tr>\n",
       "  </thead>\n",
       "  <tbody>\n",
       "    <tr>\n",
       "      <th>0</th>\n",
       "      <td>Marizanne Kapp</td>\n",
       "      <td>\\n\\nSA\\n</td>\n",
       "      <td>384</td>\n",
       "      <td>1</td>\n",
       "    </tr>\n",
       "    <tr>\n",
       "      <th>1</th>\n",
       "      <td>Natalie Sciver</td>\n",
       "      <td>ENG</td>\n",
       "      <td>372</td>\n",
       "      <td>2</td>\n",
       "    </tr>\n",
       "    <tr>\n",
       "      <th>2</th>\n",
       "      <td>Ellyse Perry</td>\n",
       "      <td>AUS</td>\n",
       "      <td>365</td>\n",
       "      <td>3</td>\n",
       "    </tr>\n",
       "    <tr>\n",
       "      <th>3</th>\n",
       "      <td>Stafanie Taylor</td>\n",
       "      <td>WI</td>\n",
       "      <td>322</td>\n",
       "      <td>4</td>\n",
       "    </tr>\n",
       "    <tr>\n",
       "      <th>4</th>\n",
       "      <td>Deepti Sharma</td>\n",
       "      <td>IND</td>\n",
       "      <td>299</td>\n",
       "      <td>5</td>\n",
       "    </tr>\n",
       "    <tr>\n",
       "      <th>5</th>\n",
       "      <td>Ashleigh Gardner</td>\n",
       "      <td>AUS</td>\n",
       "      <td>275</td>\n",
       "      <td>6</td>\n",
       "    </tr>\n",
       "    <tr>\n",
       "      <th>6</th>\n",
       "      <td>Dane van Niekerk</td>\n",
       "      <td>SA</td>\n",
       "      <td>274</td>\n",
       "      <td>7</td>\n",
       "    </tr>\n",
       "    <tr>\n",
       "      <th>7</th>\n",
       "      <td>Jess Jonassen</td>\n",
       "      <td>AUS</td>\n",
       "      <td>272</td>\n",
       "      <td>8</td>\n",
       "    </tr>\n",
       "    <tr>\n",
       "      <th>8</th>\n",
       "      <td>Katherine Brunt</td>\n",
       "      <td>ENG</td>\n",
       "      <td>272</td>\n",
       "      <td></td>\n",
       "    </tr>\n",
       "    <tr>\n",
       "      <th>9</th>\n",
       "      <td>Jhulan Goswami</td>\n",
       "      <td>IND</td>\n",
       "      <td>251</td>\n",
       "      <td>10</td>\n",
       "    </tr>\n",
       "  </tbody>\n",
       "</table>\n",
       "</div>"
      ],
      "text/plain": [
       "              names      Team rating                                    rank\n",
       "0    Marizanne Kapp  \\n\\nSA\\n    384                                       1\n",
       "1    Natalie Sciver       ENG    372                               2        \n",
       "2      Ellyse Perry       AUS    365                               3        \n",
       "3   Stafanie Taylor        WI    322                               4        \n",
       "4     Deepti Sharma       IND    299                               5        \n",
       "5  Ashleigh Gardner       AUS    275                               6        \n",
       "6  Dane van Niekerk        SA    274                               7        \n",
       "7     Jess Jonassen       AUS    272                               8        \n",
       "8   Katherine Brunt       ENG    272                                        \n",
       "9    Jhulan Goswami       IND    251                              10        "
      ]
     },
     "execution_count": 16,
     "metadata": {},
     "output_type": "execute_result"
    }
   ],
   "source": [
    "df"
   ]
  },
  {
   "cell_type": "code",
   "execution_count": null,
   "id": "badb1ee8",
   "metadata": {},
   "outputs": [],
   "source": []
  }
 ],
 "metadata": {
  "kernelspec": {
   "display_name": "Python 3",
   "language": "python",
   "name": "python3"
  },
  "language_info": {
   "codemirror_mode": {
    "name": "ipython",
    "version": 3
   },
   "file_extension": ".py",
   "mimetype": "text/x-python",
   "name": "python",
   "nbconvert_exporter": "python",
   "pygments_lexer": "ipython3",
   "version": "3.8.8"
  }
 },
 "nbformat": 4,
 "nbformat_minor": 5
}
