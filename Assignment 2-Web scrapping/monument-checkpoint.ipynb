{
 "cells": [
  {
   "cell_type": "code",
   "execution_count": 80,
   "id": "6a37a80f",
   "metadata": {},
   "outputs": [],
   "source": [
    "import pandas as pd\n",
    "import requests\n",
    "from bs4 import BeautifulSoup\n"
   ]
  },
  {
   "cell_type": "code",
   "execution_count": 81,
   "id": "c6081f19",
   "metadata": {},
   "outputs": [],
   "source": [
    "url='https://www.puredestinations.co.uk/top-10-famous-monuments-to-visit-in-india/'\n",
    "response=requests.get(url)\n",
    "soup=BeautifulSoup(response.content)\n"
   ]
  },
  {
   "cell_type": "code",
   "execution_count": 82,
   "id": "d5718c70",
   "metadata": {},
   "outputs": [],
   "source": [
    "data = soup.find_all('div', class_=\"blog--single__content column--3-4 u-spacing-third\")\n",
    "\n",
    "temp=[]\n",
    "\n",
    "for i in data:\n",
    "\n",
    "    for j in i.find_all('p'):\n",
    "\n",
    "        t = j.text.replace('\\n', '') # only extracting data\n",
    "\n",
    "        temp.append(t)\n",
    "       \n",
    "    \n",
    "            \n",
    "    \n",
    "    "
   ]
  },
  {
   "cell_type": "code",
   "execution_count": 83,
   "id": "41de21c5",
   "metadata": {},
   "outputs": [],
   "source": [
    "name=[]\n",
    "\n",
    "for i in range(1,30,3):\n",
    "\n",
    "    name.append(temp[i])\n",
    "\n"
   ]
  },
  {
   "cell_type": "code",
   "execution_count": 75,
   "id": "8b8fa909",
   "metadata": {},
   "outputs": [
    {
     "data": {
      "text/plain": [
       "['Taj Mahal, Agra',\n",
       " 'Golden Temple (Harmandir Sahib), Amritsar ',\n",
       " 'Meenakshi Temple, Madurai',\n",
       " 'Mysore Palace, Mysore',\n",
       " 'Gateway of India, Mumbai',\n",
       " 'Red Fort, New Delhi',\n",
       " 'Hawa Mahal, Jaipur',\n",
       " 'Qutub Minar, New Delhi',\n",
       " 'Sanchi Stupa, Sanchi',\n",
       " 'Charminar, Hyderabad']"
      ]
     },
     "execution_count": 75,
     "metadata": {},
     "output_type": "execute_result"
    }
   ],
   "source": [
    "name"
   ]
  },
  {
   "cell_type": "code",
   "execution_count": 84,
   "id": "bf5aa343",
   "metadata": {},
   "outputs": [],
   "source": [
    "name=[]\n",
    "\n",
    "for i in range(0,30,2):\n",
    "\n",
    "    name.append(temp[i])"
   ]
  },
  {
   "cell_type": "code",
   "execution_count": 85,
   "id": "e6691310",
   "metadata": {},
   "outputs": [
    {
     "data": {
      "text/plain": [
       "['Rich in culture and diversity, India is home to some of the finest historical monuments in the world. Most recognised by the UNESCO World Heritage Site, the famous Indian monuments include the beautiful Taj Mahal, the sacred Golden Temple and the cultural site, Hawa Mahal. Discover and experience the magnificent insights into India’s rich heritage and ancient architecture. Read on for our list of the top must see historical monuments in India below.',\n",
       " 'Enlisted in the Seven Wonders of the World, The Taj Mahal is one of the most beautiful and famous buildings located in the city of Agra. This white marble monument was built by a Mughal Emperor called Shahajahan in memory of his beloved wife. Due to its amazing architecture and the history behind it, this world heritage site has become very popular to visit by all travellers and romantics from all over the world.',\n",
       " 'Golden Temple (Harmandir Sahib), Amritsar ',\n",
       " '',\n",
       " 'Meenakshi Temple is situated on the Southern banks of Vaigai River in the temple city Madurai. This temple is dedicated to Parvati and her consort, Shiva and is visited by most Hindu and Tamil devotees and architectural lovers throughout the world. It is believed that this shrine houses 33,000 sculptures in its 14 gopurams. It’s no doubt one place to visit if you are impressed with art and cultural history.',\n",
       " 'Mysore Palace, Mysore',\n",
       " '',\n",
       " 'Even though Mumbai is famous for its Bollywood actors and movies, the most famous attraction in Mumbai is The Gateway of India. It is a popular gathering spot for locals, travellers, street vendors and photographers and is known as the Taj Mahal of Mumbai. The majestic monument was built to commemorate the visit of King George V and Queen Mary to Bombay. With so much fun and excitement this place is not to be missed with family or on your tour of India.',\n",
       " 'Red Fort, New Delhi',\n",
       " '',\n",
       " 'Explore a blend of beauty and Rajasthan culture, the Hawa Mahal also known as Palace of Winds is situated in the capital of Rajasthan, Jaipur. Built from red and pink sandstones by the Maharaja Sawi Pratap Singh in 1799, this unique five storey structure is one of the most prominent tourist attractions in the Jaipur city.',\n",
       " 'Qutub Minar, New Delhi',\n",
       " '',\n",
       " 'The beautiful and massive dome, Sanchi Stupa also known as the Great Stupa is a world renowned Buddhist monument in Sanchi, India. It was constructed by Emperor Ashoka, and is one of the oldest stone structures in the heart of India. Experience the Indian culture by visiting these major attractions in Sanchi including a number of Buddhist Stupas, monasteries and temples.',\n",
       " 'Charminar, Hyderabad']"
      ]
     },
     "execution_count": 85,
     "metadata": {},
     "output_type": "execute_result"
    }
   ],
   "source": [
    "name"
   ]
  },
  {
   "cell_type": "code",
   "execution_count": 86,
   "id": "af5798e5",
   "metadata": {},
   "outputs": [],
   "source": [
    "\n",
    "img=soup.find('img',class_='img.alignnone.size-full.wp-image-36626.lazyloaded')"
   ]
  },
  {
   "cell_type": "code",
   "execution_count": 89,
   "id": "e0694e39",
   "metadata": {},
   "outputs": [],
   "source": [
    "img"
   ]
  },
  {
   "cell_type": "code",
   "execution_count": null,
   "id": "253c99d8",
   "metadata": {},
   "outputs": [],
   "source": []
  },
  {
   "cell_type": "code",
   "execution_count": null,
   "id": "21d57209",
   "metadata": {},
   "outputs": [],
   "source": []
  },
  {
   "cell_type": "code",
   "execution_count": 7,
   "id": "30e13813",
   "metadata": {},
   "outputs": [],
   "source": []
  },
  {
   "cell_type": "code",
   "execution_count": null,
   "id": "62df7196",
   "metadata": {},
   "outputs": [],
   "source": []
  },
  {
   "cell_type": "code",
   "execution_count": null,
   "id": "c7d39755",
   "metadata": {},
   "outputs": [],
   "source": []
  }
 ],
 "metadata": {
  "kernelspec": {
   "display_name": "Python 3",
   "language": "python",
   "name": "python3"
  },
  "language_info": {
   "codemirror_mode": {
    "name": "ipython",
    "version": 3
   },
   "file_extension": ".py",
   "mimetype": "text/x-python",
   "name": "python",
   "nbconvert_exporter": "python",
   "pygments_lexer": "ipython3",
   "version": "3.8.8"
  }
 },
 "nbformat": 4,
 "nbformat_minor": 5
}
