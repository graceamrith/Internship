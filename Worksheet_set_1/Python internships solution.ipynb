{
 "cells": [
  {
   "cell_type": "code",
   "execution_count": null,
   "id": "a9454d22",
   "metadata": {},
   "outputs": [],
   "source": [
    "Program to get the third side of right-angled triangle from two given sides"
   ]
  },
  {
   "cell_type": "code",
   "execution_count": 12,
   "id": "d177c4b6",
   "metadata": {},
   "outputs": [
    {
     "name": "stdout",
     "output_type": "stream",
     "text": [
      "enter base5.5\n",
      "enter height10\n",
      "enter angle45\n",
      "Hypotenuse= 11.412712210513327\n"
     ]
    }
   ],
   "source": [
    "import math\n",
    "a=float(input(\"enter base\"))\n",
    "b=float(input(\"enter height\"))\n",
    "c=float(input(\"enter angle\"))\n",
    "d=math.sqrt(a**2 + b**2)\n",
    "print(\"Hypotenuse=\",d)"
   ]
  },
  {
   "cell_type": "markdown",
   "id": "c7deafde",
   "metadata": {},
   "source": [
    "Program to find if a string is a Palindrome or not"
   ]
  },
  {
   "cell_type": "code",
   "execution_count": 37,
   "id": "021a675a",
   "metadata": {},
   "outputs": [
    {
     "name": "stdout",
     "output_type": "stream",
     "text": [
      " enter a string TOOT\n",
      "Palindrome\n"
     ]
    }
   ],
   "source": [
    "s=input(\" enter a string \")\n",
    "s1=s.casefold()\n",
    "s2=reversed(s1)\n",
    "if list(s1)==list(s2):\n",
    "    print(\"Palindrome\")\n",
    "else:\n",
    "    print(\"Not a Palindrome\")"
   ]
  },
  {
   "cell_type": "markdown",
   "id": "d0f6de5f",
   "metadata": {},
   "source": [
    " Program to print the frequency of each of the characters present in a given strin"
   ]
  },
  {
   "cell_type": "code",
   "execution_count": 38,
   "id": "1e681b32",
   "metadata": {},
   "outputs": [
    {
     "name": "stdout",
     "output_type": "stream",
     "text": [
      "string DATASCIENCE\n",
      "count is  {'D': 1, 'A': 2, 'T': 1, 'S': 1, 'C': 2, 'I': 1, 'E': 2, 'N': 1}\n"
     ]
    }
   ],
   "source": [
    "s=input(\"string \")\n",
    "test={}\n",
    "for i in s:\n",
    "    if i in test:\n",
    "        test[i]+=1\n",
    "    else:\n",
    "        test[i]=1\n",
    "print(\"count is \",test )\n",
    "        "
   ]
  },
  {
   "cell_type": "markdown",
   "id": "90b90acf",
   "metadata": {},
   "source": [
    "Code to find if a number is a Prime or a composite number"
   ]
  },
  {
   "cell_type": "code",
   "execution_count": 40,
   "id": "cca75fed",
   "metadata": {},
   "outputs": [
    {
     "name": "stdout",
     "output_type": "stream",
     "text": [
      "enter a number30\n",
      "Not a prime number\n"
     ]
    }
   ],
   "source": [
    "n=int(input('enter a number'))\n",
    "if n>1:\n",
    "    for i in range(2,n):\n",
    "        if n%i==0:\n",
    "            print(\"Not a prime number\")\n",
    "            break\n",
    "    else:\n",
    "        print(\"Prime number\")\n",
    "elif n==0 or n==1:\n",
    "    print(\"Neither prime nor composite number\")\n",
    "else:\n",
    "    print(\"It is a prime number\")\n",
    "            "
   ]
  },
  {
   "cell_type": "markdown",
   "id": "7c6841b4",
   "metadata": {},
   "source": [
    "Code to find factorial of a number"
   ]
  },
  {
   "cell_type": "code",
   "execution_count": 42,
   "id": "b8327be5",
   "metadata": {},
   "outputs": [
    {
     "name": "stdout",
     "output_type": "stream",
     "text": [
      "enter a number12\n",
      "1\n",
      "2\n",
      "6\n",
      "24\n",
      "120\n",
      "720\n",
      "5040\n",
      "40320\n",
      "362880\n",
      "3628800\n",
      "39916800\n",
      "479001600\n"
     ]
    }
   ],
   "source": [
    "n=int(input('enter a number'))\n",
    "factorial=1\n",
    "if n<0:\n",
    "    Print('Number is negative')\n",
    "elif n==0:\n",
    "    print('Factorial is 1')\n",
    "else:\n",
    "    for i in range(1,n+1):\n",
    "        factorial=factorial*i\n",
    "        print(factorial)"
   ]
  },
  {
   "cell_type": "code",
   "execution_count": null,
   "id": "59e0ffc7",
   "metadata": {},
   "outputs": [],
   "source": []
  }
 ],
 "metadata": {
  "kernelspec": {
   "display_name": "Python 3",
   "language": "python",
   "name": "python3"
  },
  "language_info": {
   "codemirror_mode": {
    "name": "ipython",
    "version": 3
   },
   "file_extension": ".py",
   "mimetype": "text/x-python",
   "name": "python",
   "nbconvert_exporter": "python",
   "pygments_lexer": "ipython3",
   "version": "3.8.8"
  }
 },
 "nbformat": 4,
 "nbformat_minor": 5
}
